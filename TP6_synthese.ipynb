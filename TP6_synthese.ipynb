{
  "nbformat": 4,
  "nbformat_minor": 0,
  "metadata": {
    "kernelspec": {
      "display_name": "Python 3",
      "language": "python",
      "name": "python3"
    },
    "language_info": {
      "codemirror_mode": {
        "name": "ipython",
        "version": 3
      },
      "file_extension": ".py",
      "mimetype": "text/x-python",
      "name": "python",
      "nbconvert_exporter": "python",
      "pygments_lexer": "ipython3",
      "version": "3.8.8"
    },
    "colab": {
      "name": "TP6_synthese.ipynb",
      "provenance": [],
      "include_colab_link": true
    }
  },
  "cells": [
    {
      "cell_type": "markdown",
      "metadata": {
        "id": "view-in-github",
        "colab_type": "text"
      },
      "source": [
        "<a href=\"https://colab.research.google.com/github/yanisamrouche/data_science/blob/main/TP6_synthese.ipynb\" target=\"_parent\"><img src=\"https://colab.research.google.com/assets/colab-badge.svg\" alt=\"Open In Colab\"/></a>"
      ]
    },
    {
      "cell_type": "markdown",
      "metadata": {
        "id": "5hHSPNzP2GPd"
      },
      "source": [
        "# Master Informatique AMU, ISD, exercice de synthèse (TP6)\n",
        "# Binome \n",
        "\n",
        "\n",
        "*   AMROUCHE Yanis\n",
        "*   AGUENI Farouk\n",
        "\n",
        "\n",
        "\n",
        "Voici un exercice vous permettant de synthétiser quelques unes de vos connaissances expérimentales en matière de classification à partir de données. Le code python doit être le plus concis possible.\n",
        "\n",
        "Etant donné le no-free-lunch theorem, nous vous confions la tâche de déterminer le meilleur modèle pour réaliser une tâche de régression transformée en tâche de classification, avec le test statistique qui garantit ce choix avec grande confiance.\n",
        "\n",
        "Remettre ce fichier ipynb complété. \n"
      ]
    },
    {
      "cell_type": "markdown",
      "metadata": {
        "id": "B3gNCyp12GPi"
      },
      "source": [
        "### Préparation des données\n",
        "Nous allons utiliser un jeu de données réel - tiré de *Tsanas & Xifara : Accurate quantitative estimation of energy performance of residential buildings using statistical machine learning tools, Energy and Buildings, Vol. 49, pp. 560-567, 2012* - disponible sur Ametice (dataenergy.csv)."
      ]
    },
    {
      "cell_type": "markdown",
      "metadata": {
        "id": "4HkFb1_y2GPk"
      },
      "source": [
        "Les 8 premières colonnes correspondent aux attributs descriptifs et les deux dernières, aux charges de chauffage et de climatisation (dans cet ordre).\n",
        "Pour les utiliser en Python, vous pourrez vous servir du code suivant :"
      ]
    },
    {
      "cell_type": "code",
      "metadata": {
        "id": "_x6-Ayvg2GPm"
      },
      "source": [
        "import numpy as np\n",
        "data = np.loadtxt(\"./dataenergy.csv\")\n",
        "X = data[:,:-2]\n",
        "Y = data[:,-2:]\n",
        "Yheat = Y[:,0]\n",
        "Ycool = Y[:,1]"
      ],
      "execution_count": 3,
      "outputs": []
    },
    {
      "cell_type": "markdown",
      "metadata": {
        "id": "pRZbBbHA2GPo"
      },
      "source": [
        "Le problème initial, tel que présenté ici, est un problème de régression multi-tâches. Nous allons le simplifier en le transformant en un problème de classification dont la classe sera le niveau de charge de chauffage : par une méthode de clustering, on veut répartir les charges de chauffage en 3 classes : faibles, moyennes, élevées."
      ]
    },
    {
      "cell_type": "markdown",
      "metadata": {
        "id": "iXKrTZ1v2GPq"
      },
      "source": [
        "A vous de jouer :"
      ]
    },
    {
      "cell_type": "code",
      "metadata": {
        "colab": {
          "base_uri": "https://localhost:8080/"
        },
        "id": "AY-RhBdv2GPr",
        "outputId": "c416f588-9374-4a1b-83cd-f87d175926d6"
      },
      "source": [
        "from sklearn.cluster import KMeans\n",
        "# La suite ? il s'agit de définir un classifieur du k-means avec k=3 \n",
        "# et d'utiliser la méthode 'fit' sur lensemble des etiquettes de chauffage Yheat\n",
        "# Attention : les Y sont des vecteurs et les classifieurs sklearn ont besoin d'array :\n",
        "# il faut les reshaper : Yheat_vector = Yheat.reshape(-1,1)\n",
        "# Après apprentissage du kmeans, les classes des données utilisées sont stockées dans mon_classifieur.labels_\n",
        "Yheat_vector = Yheat.reshape(-1,1)\n",
        "kmeans = KMeans(n_clusters=3, random_state=0).fit(Yheat_vector)\n",
        "y = kmeans.labels_\n",
        "print(y)"
      ],
      "execution_count": 11,
      "outputs": [
        {
          "output_type": "stream",
          "name": "stdout",
          "text": [
            "[1 1 1 1 2 2 2 1 1 1 1 1 1 1 1 1 2 2 2 2 2 2 2 2 1 1 1 1 1 1 1 1 1 1 1 1 1\n",
            " 1 1 1 1 1 1 1 1 1 1 1 2 2 2 2 2 2 2 2 2 2 2 2 2 2 2 2 0 0 0 0 0 0 0 0 1 1\n",
            " 1 1 1 1 1 1 1 1 1 1 1 1 1 1 1 1 1 1 1 1 1 1 2 2 2 2 2 2 2 2 2 2 2 2 2 2 2\n",
            " 2 0 0 0 0 0 0 0 0 1 1 1 1 1 1 1 1 1 1 1 1 1 1 1 1 1 1 1 1 1 1 1 1 2 2 2 2\n",
            " 2 2 2 2 2 2 2 2 2 2 2 2 0 0 0 0 0 0 0 0 1 1 1 1 1 1 1 1 1 1 1 1 1 1 1 1 1\n",
            " 1 1 1 1 1 1 1 2 2 2 2 2 2 2 2 2 2 2 2 2 2 2 2 0 0 0 0 0 0 0 0 1 1 1 1 1 1\n",
            " 1 1 1 1 1 1 1 1 1 1 1 1 1 1 1 1 1 1 2 2 2 2 2 2 2 2 2 2 2 2 2 2 2 2 0 0 0\n",
            " 0 0 0 0 0 1 1 1 1 1 1 1 1 1 1 1 1 1 1 1 1 1 1 1 1 1 1 1 1 2 2 2 2 0 0 0 0\n",
            " 2 2 2 2 2 2 2 2 0 0 0 0 0 0 0 0 1 1 1 1 1 1 1 1 1 1 1 1 1 1 1 1 1 1 1 1 1\n",
            " 1 1 1 2 2 2 2 0 0 0 0 2 2 2 2 2 2 2 2 0 0 0 0 0 0 0 0 1 1 1 1 1 1 1 1 1 1\n",
            " 1 1 1 1 1 1 1 1 1 1 1 1 1 1 2 2 2 2 0 0 0 0 2 2 2 2 2 2 2 2 0 0 0 0 0 0 0\n",
            " 0 1 1 1 1 1 1 1 1 1 1 1 1 1 1 1 1 1 1 1 1 1 1 1 1 2 2 2 2 0 0 0 0 2 2 2 2\n",
            " 2 2 2 2 0 0 0 0 0 0 0 0 1 1 1 1 1 1 1 1 1 1 1 1 1 1 1 1 1 1 1 1 1 1 1 1 2\n",
            " 2 2 2 0 0 0 0 2 2 2 2 2 2 2 2 0 0 0 0 0 0 0 0 1 1 1 1 1 1 1 1 1 1 1 1 1 1\n",
            " 1 1 1 1 1 1 1 1 1 1 0 0 0 0 0 0 0 0 0 0 0 2 2 2 2 2 0 0 0 0 0 0 0 0 1 1 1\n",
            " 1 1 1 1 1 1 1 1 1 1 1 1 1 1 1 1 1 1 1 1 1 0 0 0 0 0 0 0 0 0 0 0 0 2 2 2 2\n",
            " 0 0 0 0 0 0 0 0 1 1 1 1 1 1 1 1 1 1 1 1 1 1 1 1 1 1 1 1 1 1 1 1 0 0 0 0 0\n",
            " 0 0 0 2 0 0 0 2 2 2 2 0 0 0 0 0 0 0 0 1 1 1 1 1 1 1 1 1 1 1 1 1 1 1 1 1 1\n",
            " 1 1 1 1 1 1 0 0 0 0 0 0 0 0 0 0 0 0 2 2 2 2 0 0 0 0 0 0 0 0 1 1 1 1 1 1 1\n",
            " 1 1 1 1 1 1 1 1 1 1 1 1 1 1 1 1 1 0 0 0 0 0 0 0 0 0 0 2 0 2 2 2 2 0 0 0 0\n",
            " 0 0 0 0 1 1 1 1 1 1 1 1 1 1 1 1 1 1 1 1 1 1 1 1 1 1 1 1]\n"
          ]
        }
      ]
    },
    {
      "cell_type": "markdown",
      "metadata": {
        "id": "VBXXcYKy2GPs"
      },
      "source": [
        "### Apprentissage des modèles\n",
        "Nous voulons comparer deux méthodes de classification supervisée :\n",
        "1. Les k-plus proches voisins (*KNeighborsClassifier* de la classe *sklearn.neighbors*, hyperparamètre à régler : *n_neighbors*)\n",
        "2. Les arbres de décision  (*DecisionTreeClassifier* de la classe *sklearn.tree*, hyperparamètre à régler : *max_depth*)\n",
        "\n",
        "Ecrivez le code permettant de :\n",
        "1. Séparer les données en un échantillon d'apprentissage et un échantillon de test (60/40)\n",
        "2. Sélectionner les meilleurs valeurs des hyper-paramètres sur l'échantillon d'apprentissage par validation croisée en utilisant 10 folders (pour optimisation de l'erreur)"
      ]
    },
    {
      "cell_type": "code",
      "metadata": {
        "colab": {
          "base_uri": "https://localhost:8080/"
        },
        "id": "q_I697As2GPu",
        "outputId": "f3d4d2b2-864c-46d6-db14-632509547530"
      },
      "source": [
        "from sklearn.model_selection import train_test_split\n",
        "from sklearn.model_selection import GridSearchCV\n",
        "from sklearn.neighbors import KNeighborsClassifier\n",
        "X_train, X_test, y_train, y_test = train_test_split(X,y, test_size=0.40)\n",
        "dic_param = {'n_neighbors':[3, 5, 7, 9, 11, 13, 15,20]}\n",
        "score = 'accuracy'\n",
        "select_hppmt = GridSearchCV(KNeighborsClassifier(), dic_param, cv=10, scoring=score)\n",
        "select_hppmt.fit(X_train, y_train)\n",
        "# Afficher le(s) hyperparamètre(s) optimaux\n",
        "print(\"Meilleur(s) hyperparamètre(s) sur le jeu d'entraînement:\")\n",
        "print(select_hppmt.best_params_)\n"
      ],
      "execution_count": 12,
      "outputs": [
        {
          "output_type": "stream",
          "name": "stdout",
          "text": [
            "Meilleur(s) hyperparamètre(s) sur le jeu d'entraînement:\n",
            "{'n_neighbors': 3}\n"
          ]
        }
      ]
    },
    {
      "cell_type": "code",
      "metadata": {
        "colab": {
          "base_uri": "https://localhost:8080/"
        },
        "id": "DxHILx8kdhrI",
        "outputId": "ef570e92-79d6-4c94-a129-2843893e1a0a"
      },
      "source": [
        "from sklearn.model_selection import train_test_split\n",
        "from sklearn.model_selection import GridSearchCV\n",
        "from sklearn.tree import DecisionTreeClassifier\n",
        "X_train, X_test, y_train, y_test = train_test_split(X,y, test_size=0.40)\n",
        "dic_param2 = {'max_depth' : [i for i in range(1,21)]}\n",
        "score = 'accuracy'\n",
        "select_hppmt2 = GridSearchCV(DecisionTreeClassifier(), dic_param2, cv=10, scoring=score)\n",
        "select_hppmt2.fit(X_train, y_train)\n",
        "# Afficher le(s) hyperparamètre(s) optimaux\n",
        "print(\"Meilleur(s) hyperparamètre(s) sur le jeu d'entraînement:\")\n",
        "print(select_hppmt2.best_params_)"
      ],
      "execution_count": 15,
      "outputs": [
        {
          "output_type": "stream",
          "name": "stdout",
          "text": [
            "Meilleur(s) hyperparamètre(s) sur le jeu d'entraînement:\n",
            "{'max_depth': 7}\n",
            "accuracy\n"
          ]
        }
      ]
    },
    {
      "cell_type": "markdown",
      "metadata": {
        "id": "2wRXauDJ2GPv"
      },
      "source": [
        "### Analyse des résultats\n",
        "Afficher sur une courbe les scores de chacun des algorithmes avec la meilleure valeur d'hyperparamètre possible sur l'échantillon de **test**."
      ]
    },
    {
      "cell_type": "code",
      "metadata": {
        "id": "0oM8woPj2GPw",
        "outputId": "77c27477-b128-4338-ad91-3987dab998b5",
        "colab": {
          "base_uri": "https://localhost:8080/",
          "height": 573
        }
      },
      "source": [
        "import matplotlib.pyplot as plt\n",
        "scores_knn = []\n",
        "for i in dic_param['n_neighbors']:\n",
        "  knn = KNeighborsClassifier(n_neighbors=i)\n",
        "  knn.fit(X_train,y_train)\n",
        "  scores_knn.append(knn.score(X_test,y_test))\n",
        "plt.plot(dic_param['n_neighbors'],scores_knn)\n",
        "plt.xlabel('voisins')\n",
        "plt.ylabel('scores')\n",
        "plt.title('les scores avec les k plus proche voisins')\n",
        "plt.show()\n",
        "scores_dtree = []\n",
        "for i in dic_param2['max_depth']:\n",
        "  dtc = DecisionTreeClassifier(max_depth=i)\n",
        "  dtc.fit(X_train,y_train)\n",
        "  scores_dtree.append(dtc.score(X_test,y_test))\n",
        "plt.plot(dic_param2['max_depth'],scores_dtree)\n",
        "plt.xlabel('max depth')\n",
        "plt.ylabel('scores')\n",
        "plt.title('les scores avec arbre de decision')\n",
        "plt.show()\n"
      ],
      "execution_count": 20,
      "outputs": [
        {
          "output_type": "display_data",
          "data": {
            "image/png": "[encoded data removed]",
            "text/plain": [
              "<Figure size 432x288 with 1 Axes>"
            ]
          },
          "metadata": {
            "needs_background": "light"
          }
        },
        {
          "output_type": "display_data",
          "data": {
            "image/png": "[encoded data removed]",
            "text/plain": [
              "<Figure size 432x288 with 1 Axes>"
            ]
          },
          "metadata": {
            "needs_background": "light"
          }
        }
      ]
    },
    {
      "cell_type": "markdown",
      "metadata": {
        "id": "sr78-_hJ2GPx"
      },
      "source": [
        "Pour chacune des méthodes, pour chaque meilleur hyperparamètre, effectuer le test de McNemar sur l'échantillon test pour décider finalement quel est la meilleure solution pour la prédiction de la charge de chauffage, avec 95% de confiance. "
      ]
    },
    {
      "cell_type": "code",
      "metadata": {
        "id": "qdCm7R1R2GPz",
        "outputId": "2d3390ea-f188-4ae6-b4b3-d62af5436cb7",
        "colab": {
          "base_uri": "https://localhost:8080/"
        }
      },
      "source": [
        "# k plus proche voisins avec k = 3 \n",
        "knn_classifieur = KNeighborsClassifier(n_neighbors=3)\n",
        "knn_classifieur.fit(X_train,y_train)\n",
        "score = knn_classifieur.score(X_test, y_test)\n",
        "print(score)\n",
        "y_pred = knn_classifieur.predict(X_test)\n",
        "\n",
        "print(\"les classes prédites par knn : \\n\",y_pred)"
      ],
      "execution_count": 36,
      "outputs": [
        {
          "output_type": "stream",
          "name": "stdout",
          "text": [
            "0.9383116883116883\n",
            "les classes prédites par knn : \n",
            " [1 2 0 2 1 1 2 2 0 0 1 2 1 0 2 1 1 0 1 1 1 0 2 0 2 1 0 0 1 0 0 1 2 1 0 1 1\n",
            " 0 1 1 2 0 0 1 1 0 1 2 0 1 0 2 2 2 1 0 1 1 1 1 1 2 0 1 1 0 1 2 1 2 1 1 1 1\n",
            " 1 2 1 1 2 1 2 1 2 2 2 1 1 1 1 2 2 1 1 0 0 0 2 0 0 0 0 2 1 1 0 1 1 2 2 1 2\n",
            " 2 0 2 1 0 1 2 2 2 1 1 1 1 1 1 1 0 2 1 2 1 0 1 1 2 2 2 0 1 2 1 0 1 2 0 2 1\n",
            " 1 1 2 2 1 1 2 0 0 2 0 0 1 0 2 2 1 0 1 0 0 1 1 1 0 0 1 1 2 1 0 1 1 1 1 1 0\n",
            " 2 0 2 2 1 2 1 1 1 1 1 0 2 2 1 1 1 1 1 1 0 1 2 0 1 0 2 1 2 1 1 1 2 1 1 2 1\n",
            " 1 2 1 2 0 1 1 1 0 1 2 1 1 2 2 0 2 1 0 1 2 2 1 1 1 2 0 1 1 1 1 0 0 1 1 2 1\n",
            " 1 2 1 1 2 0 2 0 2 1 2 2 1 1 1 0 2 1 1 1 1 1 1 1 1 1 0 0 1 2 1 0 1 1 2 1 1\n",
            " 1 1 2 0 0 1 0 0 2 0 1 0]\n"
          ]
        }
      ]
    },
    {
      "cell_type": "code",
      "metadata": {
        "id": "50sBOS5JU7wg",
        "outputId": "1bf27448-e068-476c-ea73-27303e3ad5b1",
        "colab": {
          "base_uri": "https://localhost:8080/"
        }
      },
      "source": [
        "# arbre de decision avec max_depth = 7 \n",
        "tree_classifieur = DecisionTreeClassifier(max_depth=7)\n",
        "tree_classifieur.fit(X_train, y_train)\n",
        "score2 = tree_classifieur.score(X_test, y_test)\n",
        "print(score2)\n",
        "y_pred2 = tree_classifieur.predict(X_test)\n",
        "print(y_pred2)"
      ],
      "execution_count": 35,
      "outputs": [
        {
          "output_type": "stream",
          "name": "stdout",
          "text": [
            "0.9935064935064936\n",
            "[1 2 0 0 1 1 2 2 0 0 1 2 1 0 2 1 1 0 1 1 1 0 2 0 2 1 0 0 1 0 0 1 0 1 0 1 1\n",
            " 0 1 1 2 0 0 1 1 0 1 2 0 1 0 2 2 2 1 0 1 1 1 1 1 2 0 1 1 0 1 2 1 2 1 1 1 1\n",
            " 1 0 1 1 2 1 2 1 2 2 2 1 1 1 1 0 2 1 1 0 0 0 2 0 0 0 0 2 1 1 0 1 1 2 2 1 2\n",
            " 2 2 2 1 0 1 2 2 2 1 1 1 1 1 1 1 0 2 1 2 1 0 1 1 2 2 2 0 1 2 1 0 1 2 2 2 1\n",
            " 1 1 2 2 1 1 2 0 0 2 0 0 1 0 2 2 1 0 1 0 0 1 1 1 0 0 1 1 0 1 0 1 1 1 1 1 2\n",
            " 2 0 0 2 1 2 1 1 1 1 1 0 2 2 1 1 1 1 1 1 0 1 2 0 1 0 2 1 2 1 1 1 2 1 1 2 1\n",
            " 1 2 1 0 0 1 1 1 0 1 2 1 1 2 2 0 0 1 0 1 2 2 1 1 1 1 2 1 1 1 1 2 0 1 1 2 1\n",
            " 1 2 1 1 2 0 2 0 2 1 1 2 1 1 1 0 2 1 1 1 1 1 1 1 1 1 0 0 1 2 1 0 1 1 2 1 1\n",
            " 1 1 2 0 0 1 2 0 2 0 1 2]\n"
          ]
        }
      ]
    },
    {
      "cell_type": "code",
      "metadata": {
        "id": "7K3izMorVp8x",
        "outputId": "74713114-421c-4fd3-9af5-6258d212be49",
        "colab": {
          "base_uri": "https://localhost:8080/"
        }
      },
      "source": [
        "print('les vrais classes : \\n', y_test)"
      ],
      "execution_count": 27,
      "outputs": [
        {
          "output_type": "stream",
          "name": "stdout",
          "text": [
            "les vrais classes : \n",
            " [1 2 0 0 1 1 2 2 0 0 1 2 1 0 2 1 1 0 1 1 1 0 2 0 2 1 0 0 1 0 0 1 0 1 0 1 1\n",
            " 0 1 1 2 2 0 1 1 0 1 2 0 1 0 2 2 2 1 0 1 1 1 1 1 2 0 1 1 0 1 2 1 2 1 1 1 1\n",
            " 1 0 1 1 2 1 2 1 2 2 2 1 1 1 1 0 2 1 1 0 0 0 2 0 0 0 0 2 1 1 0 1 1 2 2 1 2\n",
            " 2 2 2 1 0 1 2 2 2 1 1 1 1 1 1 1 0 2 1 2 1 0 1 1 2 2 2 0 1 2 1 0 1 2 2 2 1\n",
            " 1 1 2 2 1 1 2 0 0 2 0 0 1 0 2 2 1 0 1 0 0 1 1 1 0 0 1 1 0 1 0 1 1 1 1 1 2\n",
            " 2 2 0 2 1 2 1 1 1 1 1 0 2 2 1 1 1 1 1 1 0 1 2 0 1 0 2 1 2 1 1 1 2 1 1 2 1\n",
            " 1 2 1 0 0 1 1 1 0 1 2 1 1 2 2 0 0 1 0 1 2 2 1 1 1 1 2 1 1 1 1 2 0 1 1 2 1\n",
            " 1 2 1 1 2 0 2 0 2 1 1 2 1 1 1 0 2 1 1 1 1 1 1 1 1 1 0 0 1 2 1 0 1 1 2 1 1\n",
            " 1 1 2 0 0 1 2 0 2 0 1 2]\n"
          ]
        }
      ]
    },
    {
      "cell_type": "code",
      "metadata": {
        "id": "NJDcAFLbV2p6",
        "outputId": "155ad4b4-aa12-4279-fb22-7d7569f84239",
        "colab": {
          "base_uri": "https://localhost:8080/"
        }
      },
      "source": [
        "#test de McNemar \n",
        "from math import *\n",
        "n00, n11, n10, n01 = 0,0,0,0\n",
        "for i in range(len(y_test)):\n",
        "  if(y_test[i] != y_pred[i] or y_test[i] != y_pred2[i]):\n",
        "    n00 += 1\n",
        "  if(y_test[i] == y_pred[i] or y_test[i] == y_pred2[i]):\n",
        "    n11 += 1\n",
        "  if(y_test[i] == y_pred[i] and y_test[i] != y_pred2[i]):\n",
        "    n10 += 1\n",
        "  if(y_test[i] != y_pred[i] and y_test[i] == y_pred2[i]):\n",
        "    n01 += 1\n",
        "print(\"( n00 =\",n00,\", n11 =\", n11,\", n01 =\", n01,\", n10 =\", n10,\" )\")\n",
        "somme = n01 + n10\n",
        "puissance = pow((abs(n01-n10) - 1),2)\n",
        "resultat = puissance/somme\n",
        "print(resultat)\n"
      ],
      "execution_count": 43,
      "outputs": [
        {
          "output_type": "stream",
          "name": "stdout",
          "text": [
            "( n00 = 19 , n11 = 306 , n01 = 17 , n10 = 0  )\n",
            "15.058823529411764\n"
          ]
        }
      ]
    },
    {
      "cell_type": "markdown",
      "metadata": {
        "id": "TyXLW8tScdXh"
      },
      "source": [
        "\n",
        "```\n",
        "(|n01 −n10|−1)²/(n01 + n10) > 3.841459 \n",
        "15.0588235 > 3 \n",
        "on peut en déduire avec une confiance supérieure `a 95% que l’un des deux classifieurs est meilleur\n",
        "que l’autre.\n",
        "\n",
        "```\n",
        "\n",
        "\n"
      ]
    },
    {
      "cell_type": "markdown",
      "metadata": {
        "id": "XaLuQMsb2GPz"
      },
      "source": [
        "### Remise du résultat"
      ]
    },
    {
      "cell_type": "markdown",
      "metadata": {
        "id": "_TVRNydF2GP0"
      },
      "source": [
        "Alors, quelle est la meilleure solution (algorithme et hyper-paramètres ) ? \n",
        "\n",
        "Et enfin, pour cette solution, quelle est le taux réel de bonne classification, estimé par validation croisée 10 folds ? "
      ]
    },
    {
      "cell_type": "code",
      "metadata": {
        "id": "ujc5Fdzq2GP0",
        "outputId": "d7354ba1-5a17-47ee-face-b1908dcfd2e7",
        "colab": {
          "base_uri": "https://localhost:8080/"
        }
      },
      "source": [
        "# la meilleure solution est : \n",
        "# l'algorithme avec l'arbre de decision avec hyper-paramètre max_depth = 7\n",
        "from sklearn.model_selection import cross_val_score\n",
        "scores = cross_val_score(tree_classifieur, X, y, cv=10)\n",
        "print(\"le taux réel de bonne classification, estimé par validation croisée 10 folds :\",scores.mean())"
      ],
      "execution_count": 47,
      "outputs": [
        {
          "output_type": "stream",
          "name": "stdout",
          "text": [
            "le taux réel de bonne classification, estimé par validation croisée 10 folds : 0.9544941900205057\n"
          ]
        }
      ]
    }
  ]
}