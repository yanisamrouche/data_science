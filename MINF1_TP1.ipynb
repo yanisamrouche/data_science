{
  "nbformat": 4,
  "nbformat_minor": 0,
  "metadata": {
    "colab": {
      "name": "MINF1_TP1.ipynb",
      "provenance": [],
      "collapsed_sections": [],
      "include_colab_link": true
    },
    "kernelspec": {
      "display_name": "Python 3",
      "language": "python",
      "name": "python3"
    },
    "language_info": {
      "codemirror_mode": {
        "name": "ipython",
        "version": 3
      },
      "file_extension": ".py",
      "mimetype": "text/x-python",
      "name": "python",
      "nbconvert_exporter": "python",
      "pygments_lexer": "ipython3",
      "version": "3.8.8"
    }
  },
  "cells": [
    {
      "cell_type": "markdown",
      "metadata": {
        "id": "view-in-github",
        "colab_type": "text"
      },
      "source": [
        "<a href=\"https://colab.research.google.com/github/yanisamrouche/data_science/blob/main/MINF1_TP1.ipynb\" target=\"_parent\"><img src=\"https://colab.research.google.com/assets/colab-badge.svg\" alt=\"Open In Colab\"/></a>"
      ]
    },
    {
      "cell_type": "markdown",
      "metadata": {
        "id": "7HDpECWMH0tB"
      },
      "source": [
        "# Introduction à la Science de Données M1 Informatique AMU 2021/22\n",
        "# TP1 - Prise en main de python, pandas, et de Scikit-Learn\n",
        "\n",
        "## 1. Python\n",
        "\n",
        "Python est un langage de programmation simple, qui peut être interprété dans un shell (terminal) ou via une interface comme celle-ci (on peut même éventuellement compiler du code python). Le plus souvent, nous allons travailler avec des Jupyter Notebook comme celui-ci dans ce cours. Le principe est le suivant : il y a des cellules dans lequel on tape du code (ou du texte, comme ici - double-clicker ici pour voir le code de cette cellule). Un fois le code écrit, on lance la cellule avec le bouton \"Exécuter\" (ou \"Run\"), en haut au milieu, et le code s'exécute ! Top, non ? \n",
        "\n",
        "On essaie ? *Exécuter* cette cellule pour lui redonner son apparence initiale si vous avez double-clické dessus, puis exécuter la suivante."
      ]
    },
    {
      "cell_type": "code",
      "metadata": {
        "id": "-zuNGqREH0tM",
        "colab": {
          "base_uri": "https://localhost:8080/"
        },
        "outputId": "494be512-e15e-4058-ec43-add937087faf"
      },
      "source": [
        "print(\"Hello world!\")"
      ],
      "execution_count": null,
      "outputs": [
        {
          "output_type": "stream",
          "name": "stdout",
          "text": [
            "Hello world!\n",
            "4\n"
          ]
        }
      ]
    },
    {
      "cell_type": "markdown",
      "metadata": {
        "id": "k5pwGwCJH0tg"
      },
      "source": [
        "### Variables et types\n",
        "Vous devez donc avoir compris que *exécuter* une cellule de code affiche le résultat en dessous.\n",
        "\n",
        "On peut écrire du code python comme si on utilisait une calculette (avec des variables). Même si on fera rapidement des choses plus évoluées, on commence par ça (vous pouvez modifier le contenu des cellule et les exécuter autant de fois que vous voulez) :"
      ]
    },
    {
      "cell_type": "code",
      "metadata": {
        "id": "zWIKwVrKH0tj",
        "colab": {
          "base_uri": "https://localhost:8080/"
        },
        "outputId": "c2c78663-50ef-40e9-ce80-4f05362d79ce"
      },
      "source": [
        "2"
      ],
      "execution_count": null,
      "outputs": [
        {
          "output_type": "execute_result",
          "data": {
            "text/plain": [
              "2"
            ]
          },
          "metadata": {},
          "execution_count": 3
        }
      ]
    },
    {
      "cell_type": "code",
      "metadata": {
        "id": "-Ic0fUiDH0ts",
        "colab": {
          "base_uri": "https://localhost:8080/"
        },
        "outputId": "3e3fd8e0-7729-4948-bc09-fe3a164fb155"
      },
      "source": [
        "2*2"
      ],
      "execution_count": null,
      "outputs": [
        {
          "output_type": "execute_result",
          "data": {
            "text/plain": [
              "4"
            ]
          },
          "metadata": {},
          "execution_count": 4
        }
      ]
    },
    {
      "cell_type": "code",
      "metadata": {
        "id": "60MSgLvUH0t2"
      },
      "source": [
        "a = 2"
      ],
      "execution_count": null,
      "outputs": []
    },
    {
      "cell_type": "code",
      "metadata": {
        "id": "QPLcgb-bH0t8",
        "colab": {
          "base_uri": "https://localhost:8080/"
        },
        "outputId": "9262c542-1a17-4aeb-92ad-c0288198cc6c"
      },
      "source": [
        "a*3"
      ],
      "execution_count": null,
      "outputs": [
        {
          "output_type": "execute_result",
          "data": {
            "text/plain": [
              "6"
            ]
          },
          "metadata": {},
          "execution_count": 8
        }
      ]
    },
    {
      "cell_type": "code",
      "metadata": {
        "id": "R_xhR0ZNH0uB",
        "colab": {
          "base_uri": "https://localhost:8080/"
        },
        "outputId": "01dde3b2-b90d-4552-ac26-4a813c17dd1e"
      },
      "source": [
        "type(a)"
      ],
      "execution_count": null,
      "outputs": [
        {
          "output_type": "execute_result",
          "data": {
            "text/plain": [
              "int"
            ]
          },
          "metadata": {},
          "execution_count": 9
        }
      ]
    },
    {
      "cell_type": "code",
      "metadata": {
        "id": "vQEUCdX3H0uH",
        "colab": {
          "base_uri": "https://localhost:8080/"
        },
        "outputId": "d59931b1-a994-437d-ec81-299781fbb1b6"
      },
      "source": [
        "type(a*0.5)"
      ],
      "execution_count": null,
      "outputs": [
        {
          "output_type": "execute_result",
          "data": {
            "text/plain": [
              "float"
            ]
          },
          "metadata": {},
          "execution_count": 10
        }
      ]
    },
    {
      "cell_type": "code",
      "metadata": {
        "id": "upv0QMflH0uR"
      },
      "source": [
        "b = a*3"
      ],
      "execution_count": null,
      "outputs": []
    },
    {
      "cell_type": "code",
      "metadata": {
        "id": "irMp9BEYH0ud",
        "colab": {
          "base_uri": "https://localhost:8080/"
        },
        "outputId": "550a86a6-383f-4f15-fbdc-3f41200feafa"
      },
      "source": [
        "b"
      ],
      "execution_count": null,
      "outputs": [
        {
          "output_type": "execute_result",
          "data": {
            "text/plain": [
              "6"
            ]
          },
          "metadata": {},
          "execution_count": 12
        }
      ]
    },
    {
      "cell_type": "code",
      "metadata": {
        "id": "TUTZnND_H0up",
        "colab": {
          "base_uri": "https://localhost:8080/"
        },
        "outputId": "13ec9a5e-5d17-408b-f96c-650b7b6d1acc"
      },
      "source": [
        "print(b)"
      ],
      "execution_count": null,
      "outputs": [
        {
          "output_type": "stream",
          "name": "stdout",
          "text": [
            "6\n"
          ]
        }
      ]
    },
    {
      "cell_type": "code",
      "metadata": {
        "id": "stbBh87OH0uw",
        "colab": {
          "base_uri": "https://localhost:8080/"
        },
        "outputId": "5621b35b-017a-4c70-a9c8-370ff850d744"
      },
      "source": [
        "c, d = 3, 4\n",
        "b = 4*c\n",
        "print(a, b, c, d, b/4, \"Vous suivez ?\")"
      ],
      "execution_count": null,
      "outputs": [
        {
          "output_type": "stream",
          "name": "stdout",
          "text": [
            "2 12 3 4 3.0 Vous suivez ?\n"
          ]
        }
      ]
    },
    {
      "cell_type": "code",
      "metadata": {
        "id": "hOBBV_QQH0u5",
        "colab": {
          "base_uri": "https://localhost:8080/"
        },
        "outputId": "1ce33055-906f-404c-dde7-51e2dbfcc1a0"
      },
      "source": [
        "print(\"Avant : \", a)\n",
        "a += 1\n",
        "print(\"Après : \", a)"
      ],
      "execution_count": null,
      "outputs": [
        {
          "output_type": "stream",
          "name": "stdout",
          "text": [
            "Avant :  3\n",
            "Après :  4\n"
          ]
        }
      ]
    },
    {
      "cell_type": "code",
      "metadata": {
        "id": "Cu6afqmFH0vB",
        "colab": {
          "base_uri": "https://localhost:8080/"
        },
        "outputId": "41a2f03e-d65e-481d-9974-2079e8d7b70f"
      },
      "source": [
        "print(2+2)\n",
        "print(\"2\"+\"2\")"
      ],
      "execution_count": null,
      "outputs": [
        {
          "output_type": "stream",
          "name": "stdout",
          "text": [
            "4\n",
            "22\n"
          ]
        }
      ]
    },
    {
      "cell_type": "code",
      "metadata": {
        "id": "0d6Dh7LmH0vH",
        "colab": {
          "base_uri": "https://localhost:8080/",
          "height": 167
        },
        "outputId": "95d7a2cc-ae74-462c-8eaa-6d5641e8b442"
      },
      "source": [
        "print(2+\"2\")"
      ],
      "execution_count": null,
      "outputs": [
        {
          "output_type": "error",
          "ename": "TypeError",
          "evalue": "ignored",
          "traceback": [
            "\u001b[0;31m---------------------------------------------------------------------------\u001b[0m",
            "\u001b[0;31mTypeError\u001b[0m                                 Traceback (most recent call last)",
            "\u001b[0;32m<ipython-input-20-db53bd892eed>\u001b[0m in \u001b[0;36m<module>\u001b[0;34m()\u001b[0m\n\u001b[0;32m----> 1\u001b[0;31m \u001b[0mprint\u001b[0m\u001b[0;34m(\u001b[0m\u001b[0;36m2\u001b[0m\u001b[0;34m+\u001b[0m\u001b[0;34m\"2\"\u001b[0m\u001b[0;34m)\u001b[0m\u001b[0;34m\u001b[0m\u001b[0;34m\u001b[0m\u001b[0m\n\u001b[0m",
            "\u001b[0;31mTypeError\u001b[0m: unsupported operand type(s) for +: 'int' and 'str'"
          ]
        }
      ]
    },
    {
      "cell_type": "markdown",
      "metadata": {
        "id": "d0KS6mhdH0vN"
      },
      "source": [
        "Un type particulier (et central) : les **listes**"
      ]
    },
    {
      "cell_type": "code",
      "metadata": {
        "id": "HKx5S9dWH0vP",
        "colab": {
          "base_uri": "https://localhost:8080/"
        },
        "outputId": "ada5674b-6c2e-42ab-ad3b-731321712708"
      },
      "source": [
        "li = [0, 1, 2]    # Definition d'une liste en extension\n",
        "\n",
        "print(type(li))\n",
        "print(len(li))\n",
        "print(li[0])\n",
        "\n",
        "print(\"Plus technique :\")\n",
        "print(li[-1])  # En partant de la fin\n",
        "print(li[len(li)-1])\n",
        "print(li[:2])  # Un morceau contenant le début jusqu'à l'élément indexé par 2 NON inclus\n",
        "print(li[1:])  # Un morceau contenant la fin à partir de l'élément indexé par 1 inclus\n",
        "print(li[:])\n",
        "print(li)"
      ],
      "execution_count": null,
      "outputs": [
        {
          "output_type": "stream",
          "name": "stdout",
          "text": [
            "<class 'list'>\n",
            "3\n",
            "0\n",
            "Plus technique :\n",
            "2\n",
            "2\n",
            "[0, 1]\n",
            "[1, 2]\n",
            "[0, 1, 2]\n",
            "[0, 1, 2]\n"
          ]
        }
      ]
    },
    {
      "cell_type": "code",
      "metadata": {
        "id": "VzoIFKBkH0vU",
        "colab": {
          "base_uri": "https://localhost:8080/"
        },
        "outputId": "c1aa4fd0-de15-4ecc-a734-e67d34c05d3f"
      },
      "source": [
        "print(li)\n",
        "li[0] = 42\n",
        "li.append(\"éléments de différent types\")\n",
        "print(li)"
      ],
      "execution_count": null,
      "outputs": [
        {
          "output_type": "stream",
          "name": "stdout",
          "text": [
            "[0, 1, 2]\n",
            "[42, 1, 2, 'éléments de différent types']\n"
          ]
        }
      ]
    },
    {
      "cell_type": "markdown",
      "metadata": {
        "id": "r9cAzqLMH0ve"
      },
      "source": [
        "### Structures de controle\n",
        "Comme tout langage de programmation, on peut utiliser des structures de controle en python, comme des boucles ou des conditionnelles. Et comme les autres langages, cela fonctionne par blocs : qu'est-ce qui s'exécute si le *if* est vrai ? Qu'est-ce qui s'exécute de toute façon ? Qu'est-ce qui est dans la boucle ? etc.\n",
        "\n",
        "La plupart des langages de programmation que vous connaissez matérialisent les blocs par des caractères spéciaux, souvent une accolade *{* pour le commencer et une autre *}* pour le fermer. Ce n'est pas le cas de python : ce langage matérialise les blocs graphiquement, par des espaces. Il faut 4 espaces pour marquer un bloc:"
      ]
    },
    {
      "cell_type": "code",
      "metadata": {
        "id": "Apuv2F5DH0vi",
        "colab": {
          "base_uri": "https://localhost:8080/"
        },
        "outputId": "38a5438d-6a2f-4d3b-c443-5f7d7bea60a4"
      },
      "source": [
        "print(\"On n'est pas dans le if\")     # Ceci est un commentaire\n",
        "if True:\n",
        "    print(\"On est dans le if\")\n",
        "    print(\"Là encore\")\n",
        "print(\"Là on n'y est plus\")"
      ],
      "execution_count": null,
      "outputs": [
        {
          "output_type": "stream",
          "name": "stdout",
          "text": [
            "On n'est pas dans le if\n",
            "On est dans le if\n",
            "Là encore\n",
            "Là on n'y est plus\n"
          ]
        }
      ]
    },
    {
      "cell_type": "markdown",
      "metadata": {
        "id": "Jh7HcIYpH0vp"
      },
      "source": [
        "Et c'est pareil pour les boucles:"
      ]
    },
    {
      "cell_type": "code",
      "metadata": {
        "id": "ws6gZyCrH0vq",
        "colab": {
          "base_uri": "https://localhost:8080/"
        },
        "outputId": "8b08475e-3803-46e5-fdc8-7afc8b501ea1"
      },
      "source": [
        "print(\"Avant la boucle\")\n",
        "for i in range(0, 11):\n",
        "    print(\"Tour de boucle numéro\", i)\n",
        "print(\"Après la boucle\")"
      ],
      "execution_count": null,
      "outputs": [
        {
          "output_type": "stream",
          "name": "stdout",
          "text": [
            "Avant la boucle\n",
            "Tour de boucle numéro 0\n",
            "Tour de boucle numéro 1\n",
            "Tour de boucle numéro 2\n",
            "Tour de boucle numéro 3\n",
            "Tour de boucle numéro 4\n",
            "Tour de boucle numéro 5\n",
            "Tour de boucle numéro 6\n",
            "Tour de boucle numéro 7\n",
            "Tour de boucle numéro 8\n",
            "Tour de boucle numéro 9\n",
            "Tour de boucle numéro 10\n",
            "Après la boucle\n"
          ]
        }
      ]
    },
    {
      "cell_type": "markdown",
      "metadata": {
        "id": "vX6wRT3jH0v2"
      },
      "source": [
        "##### Boucle et liste\n",
        "On peut remplir des listes avec des boucles:"
      ]
    },
    {
      "cell_type": "code",
      "metadata": {
        "id": "xMuf3fqjH0v3",
        "colab": {
          "base_uri": "https://localhost:8080/"
        },
        "outputId": "0b10ca6e-a102-4b56-c2df-7e428666bf8d"
      },
      "source": [
        "li = []\n",
        "for i in range(10):\n",
        "    li.append(i)\n",
        "print(li)"
      ],
      "execution_count": null,
      "outputs": [
        {
          "output_type": "stream",
          "name": "stdout",
          "text": [
            "[0, 1, 2, 3, 4, 5, 6, 7, 8, 9]\n"
          ]
        }
      ]
    },
    {
      "cell_type": "markdown",
      "metadata": {
        "id": "FEob5PvDH0v-"
      },
      "source": [
        "(Mais en fait on n'a même pas besoin de boucle explicite !!!!!) :"
      ]
    },
    {
      "cell_type": "code",
      "metadata": {
        "id": "iFf_JCXUH0wC",
        "colab": {
          "base_uri": "https://localhost:8080/"
        },
        "outputId": "b0fe9b22-8763-4bab-9a90-54bcfa55a0ee"
      },
      "source": [
        "li = [i*2 for i in range(10)]\n",
        "print(li)"
      ],
      "execution_count": null,
      "outputs": [
        {
          "output_type": "stream",
          "name": "stdout",
          "text": [
            "[0, 1, 2, 3, 4, 5, 6, 7, 8, 9]\n"
          ]
        }
      ]
    },
    {
      "cell_type": "markdown",
      "metadata": {
        "id": "UwxQAlndH0wL"
      },
      "source": [
        "##### Combinaison\n",
        "Bien entendu, c'est récursif : on peut mettre des blocs dans des blocs qui contiennent des blocks, etc.\n",
        "\n",
        "**Question** Alors, que fait le code ci-dessous ? Que valent a et b à la fin ? "
      ]
    },
    {
      "cell_type": "code",
      "metadata": {
        "id": "fHOiyJpwH0wN",
        "colab": {
          "base_uri": "https://localhost:8080/"
        },
        "outputId": "09cf846a-69b1-45c4-deaf-6e8a5b30555c"
      },
      "source": [
        "a, b = 0, 0\n",
        "for i in range(10):\n",
        "    if a % 2 == 0:\n",
        "        a+=i\n",
        "        print(a)\n",
        "        if b < 5:\n",
        "            a-=i\n",
        "        else:\n",
        "            b+=i\n",
        "    else:\n",
        "        b-=i\n",
        "print(a,b)"
      ],
      "execution_count": null,
      "outputs": [
        {
          "output_type": "stream",
          "name": "stdout",
          "text": [
            "0\n",
            "1\n",
            "2\n",
            "3\n",
            "4\n",
            "5\n",
            "6\n",
            "7\n",
            "8\n",
            "9\n",
            "0 0\n"
          ]
        }
      ]
    },
    {
      "cell_type": "markdown",
      "metadata": {
        "id": "fW4gf7YnH0wY"
      },
      "source": [
        "#### A vous !\n",
        "**Question** Insérez 1 cellule ci-dessous (cliquez ici puis utilisez le menu du haut...). Puis écrivez y le code qui calcule et affiche la somme des 10 premiers entiers au carré."
      ]
    },
    {
      "cell_type": "code",
      "metadata": {
        "colab": {
          "base_uri": "https://localhost:8080/"
        },
        "id": "Rzo75GuA_cCl",
        "outputId": "47d454da-5b07-43f9-ef03-e039cfc1304d"
      },
      "source": [
        "s = 0\n",
        "for i in range(1,11):\n",
        "  c = i*i\n",
        "  print(c)\n",
        "  s+= c\n",
        "print(\"la somme des 10 premiers entiers au carré :\", s)\n"
      ],
      "execution_count": null,
      "outputs": [
        {
          "output_type": "stream",
          "name": "stdout",
          "text": [
            "1\n",
            "4\n",
            "9\n",
            "16\n",
            "25\n",
            "36\n",
            "49\n",
            "64\n",
            "81\n",
            "100\n",
            "la somme des 10 premiers entiers au carré : 385\n"
          ]
        }
      ]
    },
    {
      "cell_type": "markdown",
      "metadata": {
        "id": "Db5MLZ_TH0wZ"
      },
      "source": [
        "**Question** Dans la cellule suivante, écrire un code comprenant 1 boucle et 1 conditionelle qui tire un nombre au hasard entre 1 et 100 et qui laisse 10 chances à l'utilisateur pour trouver ce nombre. On utilisera une bibliothèque (on dit *module* en python) qui génère des nombres aléatoires en l'important:"
      ]
    },
    {
      "cell_type": "code",
      "metadata": {
        "id": "wi2Qfar_H0wa",
        "colab": {
          "base_uri": "https://localhost:8080/"
        },
        "outputId": "2e86d295-0c3f-47f4-dd5c-5d5b1c0d403a"
      },
      "source": [
        "import random   # On importe la librairie\n",
        "a_trouver = random.randint(0,100)    # On on génère alétoirement un nombre\n",
        "\n",
        "print(\"chance num : \", 1)\n",
        "mon_nombre = input(\"Entrer un nombre: \") # On demande à rentrer un nombre\n",
        "for i in range(9):\n",
        "  if(int(mon_nombre) == a_trouver):\n",
        "    print(\"Bravo ! ! !\")\n",
        "    break\n",
        "  else:\n",
        "    if(int(mon_nombre) > a_trouver):\n",
        "      print(\"plus grand\")\n",
        "    else:\n",
        "      print(\"plus petit\")\n",
        "    print(\"chance num : \",i+2)\n",
        "    mon_nombre = input(\"Entrer un nombre: \")\n",
        "\n",
        "print(a_trouver, mon_nombre)\n",
        "# A vous de jouer !"
      ],
      "execution_count": null,
      "outputs": [
        {
          "output_type": "stream",
          "name": "stdout",
          "text": [
            "chance num :  1\n",
            "Entrer un nombre: 50\n",
            "plus grand\n",
            "chance num :  2\n",
            "Entrer un nombre: 30\n",
            "plus petit\n",
            "chance num :  3\n",
            "Entrer un nombre: 40\n",
            "plus grand\n",
            "chance num :  4\n",
            "Entrer un nombre: 35\n",
            "plus grand\n",
            "chance num :  5\n",
            "Entrer un nombre: 33\n",
            "plus grand\n",
            "chance num :  6\n",
            "Entrer un nombre: 32\n",
            "plus grand\n",
            "chance num :  7\n",
            "Entrer un nombre: 31\n",
            "Bravo ! ! !\n",
            "31 31\n"
          ]
        }
      ]
    },
    {
      "cell_type": "markdown",
      "metadata": {
        "id": "QQ5qhjrkH0wi"
      },
      "source": [
        "### Fonctions\n",
        "Bien entendu, il est possible de définir et d'utiliser des fonctions en python:"
      ]
    },
    {
      "cell_type": "code",
      "metadata": {
        "id": "jLKlsxU9H0wj"
      },
      "source": [
        "def carre(x):\n",
        "    return x*x"
      ],
      "execution_count": null,
      "outputs": []
    },
    {
      "cell_type": "code",
      "metadata": {
        "id": "K7BKTsPvH0wr",
        "colab": {
          "base_uri": "https://localhost:8080/"
        },
        "outputId": "93937c7f-44c4-4c0f-b1f8-2b628e57b7ff"
      },
      "source": [
        "carre(2)"
      ],
      "execution_count": null,
      "outputs": [
        {
          "output_type": "execute_result",
          "data": {
            "text/plain": [
              "4"
            ]
          },
          "metadata": {},
          "execution_count": 62
        }
      ]
    },
    {
      "cell_type": "markdown",
      "metadata": {
        "id": "6irEAB32H0wv"
      },
      "source": [
        "Et on peut même renvoyer plusieurs valeurs:"
      ]
    },
    {
      "cell_type": "code",
      "metadata": {
        "id": "Fu0XSRNzH0wx",
        "colab": {
          "base_uri": "https://localhost:8080/"
        },
        "outputId": "5d94e246-eeaa-4790-d1d5-3529523e744f"
      },
      "source": [
        "def trois_suivants(x):\n",
        "    return (x+1, x+2, x+3)\n",
        "S = trois_suivants(5)\n",
        "print(S)\n",
        "print(S[1])"
      ],
      "execution_count": null,
      "outputs": [
        {
          "output_type": "stream",
          "name": "stdout",
          "text": [
            "(6, 7, 8)\n",
            "7\n"
          ]
        }
      ]
    },
    {
      "cell_type": "markdown",
      "metadata": {
        "id": "09xb5GHBH0w6"
      },
      "source": [
        "Attention, un tuple (comme le triplet que retourne cette fonction) n'est pas mutable: il contient une ou des valeurs qui ne sont pas modifiables. "
      ]
    },
    {
      "cell_type": "code",
      "metadata": {
        "id": "UftmCrHPH0w7",
        "colab": {
          "base_uri": "https://localhost:8080/",
          "height": 167
        },
        "outputId": "98ce48b8-6ac9-46f7-85b1-3abecb9a4446"
      },
      "source": [
        "S[1]=3   # Ceci va donc donner un erreur !"
      ],
      "execution_count": null,
      "outputs": [
        {
          "output_type": "error",
          "ename": "TypeError",
          "evalue": "ignored",
          "traceback": [
            "\u001b[0;31m---------------------------------------------------------------------------\u001b[0m",
            "\u001b[0;31mTypeError\u001b[0m                                 Traceback (most recent call last)",
            "\u001b[0;32m<ipython-input-64-3b221297ced0>\u001b[0m in \u001b[0;36m<module>\u001b[0;34m()\u001b[0m\n\u001b[0;32m----> 1\u001b[0;31m \u001b[0mS\u001b[0m\u001b[0;34m[\u001b[0m\u001b[0;36m1\u001b[0m\u001b[0;34m]\u001b[0m\u001b[0;34m=\u001b[0m\u001b[0;36m3\u001b[0m   \u001b[0;31m# Ceci va donc donner un erreur !\u001b[0m\u001b[0;34m\u001b[0m\u001b[0;34m\u001b[0m\u001b[0m\n\u001b[0m",
            "\u001b[0;31mTypeError\u001b[0m: 'tuple' object does not support item assignment"
          ]
        }
      ]
    },
    {
      "cell_type": "markdown",
      "metadata": {
        "id": "7W_gAjnNH0xG"
      },
      "source": [
        "Si vous voulez modifier les valeurs, il faut faire une liste:"
      ]
    },
    {
      "cell_type": "code",
      "metadata": {
        "id": "bIhbEqbvH0xH",
        "colab": {
          "base_uri": "https://localhost:8080/"
        },
        "outputId": "2343e883-43d6-4426-d7b0-503050fe279a"
      },
      "source": [
        "L = list(S)\n",
        "print(L)\n",
        "L[1] = 3\n",
        "print(L)\n",
        "print(S)"
      ],
      "execution_count": null,
      "outputs": [
        {
          "output_type": "stream",
          "name": "stdout",
          "text": [
            "[6, 7, 8]\n",
            "[6, 3, 8]\n",
            "(6, 7, 8)\n"
          ]
        }
      ]
    },
    {
      "cell_type": "markdown",
      "metadata": {
        "id": "BOesqxEpH0xK"
      },
      "source": [
        "Ou alors, vous récuperez les valeurs de la fonction dans des variables séparées :"
      ]
    },
    {
      "cell_type": "code",
      "metadata": {
        "id": "6NRZCj-5H0xL",
        "colab": {
          "base_uri": "https://localhost:8080/"
        },
        "outputId": "b0686d99-dfa9-4f2c-8ed5-82c24bd3ca96"
      },
      "source": [
        "x_1, x_2, x_3 = trois_suivants(42)\n",
        "print(x_1, x_2, x_3)\n",
        "x_1 = 24\n",
        "print(x_1)"
      ],
      "execution_count": null,
      "outputs": [
        {
          "output_type": "stream",
          "name": "stdout",
          "text": [
            "43 44 45\n",
            "24\n"
          ]
        }
      ]
    },
    {
      "cell_type": "markdown",
      "metadata": {
        "id": "FMjdW9AqH0xN"
      },
      "source": [
        "## 2. Scikit-Learn\n",
        "Scikit-learn est un logiciel écrit en Python, qui nécessite l'installation préalable du langage  Python et des librairies  *NumPy* et  *SciPy* (pour le calcul scientifique), dans des versions qui doivent vérifier certaines contraintes de compatibilité. Sur votre machine personnelle, le plus simple est d'installer une distribution de Python complète, comme Anaconda (https://docs.anaconda.com/anaconda/install/), qui comprend la plupart des librairies courantes développées en Python, dont les trois citées plus haut. Sur les PC de la salle, tout est normalement installé...\n",
        "\n",
        "Le site officiel du logiciel  Scikit-learn est :  http://scikit-learn.org/stable/index.html \n",
        "\n",
        "La documentation en ligne est complète, et devra être consultée chaque fois que nécessaire :\n",
        " \thttp://scikit-learn.org/stable/documentation.html \n",
        "    \n",
        "Des tutoriaux sont disponibles a l'adresse suivante :\n",
        " \thttp://scikit-learn.org/stable/tutorial/index.html\n",
        "\n",
        "### Jeux de données en Scikit-Learn\n",
        "\n",
        "Un certain nombre de jeux de données sont disponibles dans scikit-learn. Il est également possible de générer des données artificielles ou de récupérer des données externes (on fera ça dans les prochains TPs).\n",
        "\n",
        "Documentation relative au chargement de jeux de données :\n",
        "\thttp://scikit-learn.org/stable/datasets/ \n",
        "\n",
        "Les jeux de données disponibles dans scikit-learn sont : iris, boston, diabetes, digits, linnerud, sample images, 20newsgroups.\n",
        "Chacun de ces jeux de données se récupère à l'aide de la commande load_nom-jeu qu'il faut dans un premier temps charger. Par exemple, pour récupérer le jeu iris :"
      ]
    },
    {
      "cell_type": "code",
      "metadata": {
        "id": "KGE3DxB1H0xO",
        "colab": {
          "base_uri": "https://localhost:8080/"
        },
        "outputId": "aed45c65-438f-414e-c4d2-be50ff2671a9"
      },
      "source": [
        "from sklearn.datasets import load_iris  #importation de la commande\n",
        "irisData = load_iris()\n",
        "print(irisData.DESCR)"
      ],
      "execution_count": null,
      "outputs": [
        {
          "output_type": "stream",
          "name": "stdout",
          "text": [
            ".. _iris_dataset:\n",
            "\n",
            "Iris plants dataset\n",
            "--------------------\n",
            "\n",
            "**Data Set Characteristics:**\n",
            "\n",
            "    :Number of Instances: 150 (50 in each of three classes)\n",
            "    :Number of Attributes: 4 numeric, predictive attributes and the class\n",
            "    :Attribute Information:\n",
            "        - sepal length in cm\n",
            "        - sepal width in cm\n",
            "        - petal length in cm\n",
            "        - petal width in cm\n",
            "        - class:\n",
            "                - Iris-Setosa\n",
            "                - Iris-Versicolour\n",
            "                - Iris-Virginica\n",
            "                \n",
            "    :Summary Statistics:\n",
            "\n",
            "    ============== ==== ==== ======= ===== ====================\n",
            "                    Min  Max   Mean    SD   Class Correlation\n",
            "    ============== ==== ==== ======= ===== ====================\n",
            "    sepal length:   4.3  7.9   5.84   0.83    0.7826\n",
            "    sepal width:    2.0  4.4   3.05   0.43   -0.4194\n",
            "    petal length:   1.0  6.9   3.76   1.76    0.9490  (high!)\n",
            "    petal width:    0.1  2.5   1.20   0.76    0.9565  (high!)\n",
            "    ============== ==== ==== ======= ===== ====================\n",
            "\n",
            "    :Missing Attribute Values: None\n",
            "    :Class Distribution: 33.3% for each of 3 classes.\n",
            "    :Creator: R.A. Fisher\n",
            "    :Donor: Michael Marshall (MARSHALL%PLU@io.arc.nasa.gov)\n",
            "    :Date: July, 1988\n",
            "\n",
            "The famous Iris database, first used by Sir R.A. Fisher. The dataset is taken\n",
            "from Fisher's paper. Note that it's the same as in R, but not as in the UCI\n",
            "Machine Learning Repository, which has two wrong data points.\n",
            "\n",
            "This is perhaps the best known database to be found in the\n",
            "pattern recognition literature.  Fisher's paper is a classic in the field and\n",
            "is referenced frequently to this day.  (See Duda & Hart, for example.)  The\n",
            "data set contains 3 classes of 50 instances each, where each class refers to a\n",
            "type of iris plant.  One class is linearly separable from the other 2; the\n",
            "latter are NOT linearly separable from each other.\n",
            "\n",
            ".. topic:: References\n",
            "\n",
            "   - Fisher, R.A. \"The use of multiple measurements in taxonomic problems\"\n",
            "     Annual Eugenics, 7, Part II, 179-188 (1936); also in \"Contributions to\n",
            "     Mathematical Statistics\" (John Wiley, NY, 1950).\n",
            "   - Duda, R.O., & Hart, P.E. (1973) Pattern Classification and Scene Analysis.\n",
            "     (Q327.D83) John Wiley & Sons.  ISBN 0-471-22361-1.  See page 218.\n",
            "   - Dasarathy, B.V. (1980) \"Nosing Around the Neighborhood: A New System\n",
            "     Structure and Classification Rule for Recognition in Partially Exposed\n",
            "     Environments\".  IEEE Transactions on Pattern Analysis and Machine\n",
            "     Intelligence, Vol. PAMI-2, No. 1, 67-71.\n",
            "   - Gates, G.W. (1972) \"The Reduced Nearest Neighbor Rule\".  IEEE Transactions\n",
            "     on Information Theory, May 1972, 431-433.\n",
            "   - See also: 1988 MLC Proceedings, 54-64.  Cheeseman et al\"s AUTOCLASS II\n",
            "     conceptual clustering system finds 3 classes in the data.\n",
            "   - Many, many more ...\n"
          ]
        }
      ]
    },
    {
      "cell_type": "markdown",
      "metadata": {
        "id": "qhM6j0I2H0xQ"
      },
      "source": [
        "On se retrouve alors avec une variable qui contient le jeu de données (ici on l'a appelé *irisData*)\n",
        "\n",
        "Les variables des jeux de données comprennent un certain nombres d'attributs parmi (tous ne sont pas toujours définis) : data, target, target_names, feature_names, DESCR :\n",
        "- *.data* est un tableau de dimensions *(n,m)*. Chacune des *n* lignes correspond à une donnée, chacune des *m* colonnes à un attribut \n",
        "- *.target* stocke les classes (étiquettes/label) de chaque instance (dans le cas supervisé) : c'est un vecteur de taille *n* dont la première valeur est la classe de la donnée de la première ligne de la matrice .data, la deuxième valeur est la classe de la deuxième ligne, etc.\n",
        "- *.target_names* contient le nom des classes\n",
        "- *.feature_names* contient le nom des attributs\n",
        "- *.DESCR* est un texte décrivant le jeu de données."
      ]
    },
    {
      "cell_type": "code",
      "metadata": {
        "id": "TdZWSqHiH0xT",
        "colab": {
          "base_uri": "https://localhost:8080/"
        },
        "outputId": "2261d04f-01b1-4dde-d94f-1bd9200da631"
      },
      "source": [
        "irisData.data"
      ],
      "execution_count": null,
      "outputs": [
        {
          "output_type": "execute_result",
          "data": {
            "text/plain": [
              "array([[5.1, 3.5, 1.4, 0.2],\n",
              "       [4.9, 3. , 1.4, 0.2],\n",
              "       [4.7, 3.2, 1.3, 0.2],\n",
              "       [4.6, 3.1, 1.5, 0.2],\n",
              "       [5. , 3.6, 1.4, 0.2],\n",
              "       [5.4, 3.9, 1.7, 0.4],\n",
              "       [4.6, 3.4, 1.4, 0.3],\n",
              "       [5. , 3.4, 1.5, 0.2],\n",
              "       [4.4, 2.9, 1.4, 0.2],\n",
              "       [4.9, 3.1, 1.5, 0.1],\n",
              "       [5.4, 3.7, 1.5, 0.2],\n",
              "       [4.8, 3.4, 1.6, 0.2],\n",
              "       [4.8, 3. , 1.4, 0.1],\n",
              "       [4.3, 3. , 1.1, 0.1],\n",
              "       [5.8, 4. , 1.2, 0.2],\n",
              "       [5.7, 4.4, 1.5, 0.4],\n",
              "       [5.4, 3.9, 1.3, 0.4],\n",
              "       [5.1, 3.5, 1.4, 0.3],\n",
              "       [5.7, 3.8, 1.7, 0.3],\n",
              "       [5.1, 3.8, 1.5, 0.3],\n",
              "       [5.4, 3.4, 1.7, 0.2],\n",
              "       [5.1, 3.7, 1.5, 0.4],\n",
              "       [4.6, 3.6, 1. , 0.2],\n",
              "       [5.1, 3.3, 1.7, 0.5],\n",
              "       [4.8, 3.4, 1.9, 0.2],\n",
              "       [5. , 3. , 1.6, 0.2],\n",
              "       [5. , 3.4, 1.6, 0.4],\n",
              "       [5.2, 3.5, 1.5, 0.2],\n",
              "       [5.2, 3.4, 1.4, 0.2],\n",
              "       [4.7, 3.2, 1.6, 0.2],\n",
              "       [4.8, 3.1, 1.6, 0.2],\n",
              "       [5.4, 3.4, 1.5, 0.4],\n",
              "       [5.2, 4.1, 1.5, 0.1],\n",
              "       [5.5, 4.2, 1.4, 0.2],\n",
              "       [4.9, 3.1, 1.5, 0.2],\n",
              "       [5. , 3.2, 1.2, 0.2],\n",
              "       [5.5, 3.5, 1.3, 0.2],\n",
              "       [4.9, 3.6, 1.4, 0.1],\n",
              "       [4.4, 3. , 1.3, 0.2],\n",
              "       [5.1, 3.4, 1.5, 0.2],\n",
              "       [5. , 3.5, 1.3, 0.3],\n",
              "       [4.5, 2.3, 1.3, 0.3],\n",
              "       [4.4, 3.2, 1.3, 0.2],\n",
              "       [5. , 3.5, 1.6, 0.6],\n",
              "       [5.1, 3.8, 1.9, 0.4],\n",
              "       [4.8, 3. , 1.4, 0.3],\n",
              "       [5.1, 3.8, 1.6, 0.2],\n",
              "       [4.6, 3.2, 1.4, 0.2],\n",
              "       [5.3, 3.7, 1.5, 0.2],\n",
              "       [5. , 3.3, 1.4, 0.2],\n",
              "       [7. , 3.2, 4.7, 1.4],\n",
              "       [6.4, 3.2, 4.5, 1.5],\n",
              "       [6.9, 3.1, 4.9, 1.5],\n",
              "       [5.5, 2.3, 4. , 1.3],\n",
              "       [6.5, 2.8, 4.6, 1.5],\n",
              "       [5.7, 2.8, 4.5, 1.3],\n",
              "       [6.3, 3.3, 4.7, 1.6],\n",
              "       [4.9, 2.4, 3.3, 1. ],\n",
              "       [6.6, 2.9, 4.6, 1.3],\n",
              "       [5.2, 2.7, 3.9, 1.4],\n",
              "       [5. , 2. , 3.5, 1. ],\n",
              "       [5.9, 3. , 4.2, 1.5],\n",
              "       [6. , 2.2, 4. , 1. ],\n",
              "       [6.1, 2.9, 4.7, 1.4],\n",
              "       [5.6, 2.9, 3.6, 1.3],\n",
              "       [6.7, 3.1, 4.4, 1.4],\n",
              "       [5.6, 3. , 4.5, 1.5],\n",
              "       [5.8, 2.7, 4.1, 1. ],\n",
              "       [6.2, 2.2, 4.5, 1.5],\n",
              "       [5.6, 2.5, 3.9, 1.1],\n",
              "       [5.9, 3.2, 4.8, 1.8],\n",
              "       [6.1, 2.8, 4. , 1.3],\n",
              "       [6.3, 2.5, 4.9, 1.5],\n",
              "       [6.1, 2.8, 4.7, 1.2],\n",
              "       [6.4, 2.9, 4.3, 1.3],\n",
              "       [6.6, 3. , 4.4, 1.4],\n",
              "       [6.8, 2.8, 4.8, 1.4],\n",
              "       [6.7, 3. , 5. , 1.7],\n",
              "       [6. , 2.9, 4.5, 1.5],\n",
              "       [5.7, 2.6, 3.5, 1. ],\n",
              "       [5.5, 2.4, 3.8, 1.1],\n",
              "       [5.5, 2.4, 3.7, 1. ],\n",
              "       [5.8, 2.7, 3.9, 1.2],\n",
              "       [6. , 2.7, 5.1, 1.6],\n",
              "       [5.4, 3. , 4.5, 1.5],\n",
              "       [6. , 3.4, 4.5, 1.6],\n",
              "       [6.7, 3.1, 4.7, 1.5],\n",
              "       [6.3, 2.3, 4.4, 1.3],\n",
              "       [5.6, 3. , 4.1, 1.3],\n",
              "       [5.5, 2.5, 4. , 1.3],\n",
              "       [5.5, 2.6, 4.4, 1.2],\n",
              "       [6.1, 3. , 4.6, 1.4],\n",
              "       [5.8, 2.6, 4. , 1.2],\n",
              "       [5. , 2.3, 3.3, 1. ],\n",
              "       [5.6, 2.7, 4.2, 1.3],\n",
              "       [5.7, 3. , 4.2, 1.2],\n",
              "       [5.7, 2.9, 4.2, 1.3],\n",
              "       [6.2, 2.9, 4.3, 1.3],\n",
              "       [5.1, 2.5, 3. , 1.1],\n",
              "       [5.7, 2.8, 4.1, 1.3],\n",
              "       [6.3, 3.3, 6. , 2.5],\n",
              "       [5.8, 2.7, 5.1, 1.9],\n",
              "       [7.1, 3. , 5.9, 2.1],\n",
              "       [6.3, 2.9, 5.6, 1.8],\n",
              "       [6.5, 3. , 5.8, 2.2],\n",
              "       [7.6, 3. , 6.6, 2.1],\n",
              "       [4.9, 2.5, 4.5, 1.7],\n",
              "       [7.3, 2.9, 6.3, 1.8],\n",
              "       [6.7, 2.5, 5.8, 1.8],\n",
              "       [7.2, 3.6, 6.1, 2.5],\n",
              "       [6.5, 3.2, 5.1, 2. ],\n",
              "       [6.4, 2.7, 5.3, 1.9],\n",
              "       [6.8, 3. , 5.5, 2.1],\n",
              "       [5.7, 2.5, 5. , 2. ],\n",
              "       [5.8, 2.8, 5.1, 2.4],\n",
              "       [6.4, 3.2, 5.3, 2.3],\n",
              "       [6.5, 3. , 5.5, 1.8],\n",
              "       [7.7, 3.8, 6.7, 2.2],\n",
              "       [7.7, 2.6, 6.9, 2.3],\n",
              "       [6. , 2.2, 5. , 1.5],\n",
              "       [6.9, 3.2, 5.7, 2.3],\n",
              "       [5.6, 2.8, 4.9, 2. ],\n",
              "       [7.7, 2.8, 6.7, 2. ],\n",
              "       [6.3, 2.7, 4.9, 1.8],\n",
              "       [6.7, 3.3, 5.7, 2.1],\n",
              "       [7.2, 3.2, 6. , 1.8],\n",
              "       [6.2, 2.8, 4.8, 1.8],\n",
              "       [6.1, 3. , 4.9, 1.8],\n",
              "       [6.4, 2.8, 5.6, 2.1],\n",
              "       [7.2, 3. , 5.8, 1.6],\n",
              "       [7.4, 2.8, 6.1, 1.9],\n",
              "       [7.9, 3.8, 6.4, 2. ],\n",
              "       [6.4, 2.8, 5.6, 2.2],\n",
              "       [6.3, 2.8, 5.1, 1.5],\n",
              "       [6.1, 2.6, 5.6, 1.4],\n",
              "       [7.7, 3. , 6.1, 2.3],\n",
              "       [6.3, 3.4, 5.6, 2.4],\n",
              "       [6.4, 3.1, 5.5, 1.8],\n",
              "       [6. , 3. , 4.8, 1.8],\n",
              "       [6.9, 3.1, 5.4, 2.1],\n",
              "       [6.7, 3.1, 5.6, 2.4],\n",
              "       [6.9, 3.1, 5.1, 2.3],\n",
              "       [5.8, 2.7, 5.1, 1.9],\n",
              "       [6.8, 3.2, 5.9, 2.3],\n",
              "       [6.7, 3.3, 5.7, 2.5],\n",
              "       [6.7, 3. , 5.2, 2.3],\n",
              "       [6.3, 2.5, 5. , 1.9],\n",
              "       [6.5, 3. , 5.2, 2. ],\n",
              "       [6.2, 3.4, 5.4, 2.3],\n",
              "       [5.9, 3. , 5.1, 1.8]])"
            ]
          },
          "metadata": {},
          "execution_count": 3
        }
      ]
    },
    {
      "cell_type": "code",
      "metadata": {
        "id": "OXkitLY6H0xU",
        "colab": {
          "base_uri": "https://localhost:8080/"
        },
        "outputId": "e2c332a5-546f-4c24-b5bd-f0f28894519b"
      },
      "source": [
        "irisData.target"
      ],
      "execution_count": null,
      "outputs": [
        {
          "output_type": "execute_result",
          "data": {
            "text/plain": [
              "array([0, 0, 0, 0, 0, 0, 0, 0, 0, 0, 0, 0, 0, 0, 0, 0, 0, 0, 0, 0, 0, 0,\n",
              "       0, 0, 0, 0, 0, 0, 0, 0, 0, 0, 0, 0, 0, 0, 0, 0, 0, 0, 0, 0, 0, 0,\n",
              "       0, 0, 0, 0, 0, 0, 1, 1, 1, 1, 1, 1, 1, 1, 1, 1, 1, 1, 1, 1, 1, 1,\n",
              "       1, 1, 1, 1, 1, 1, 1, 1, 1, 1, 1, 1, 1, 1, 1, 1, 1, 1, 1, 1, 1, 1,\n",
              "       1, 1, 1, 1, 1, 1, 1, 1, 1, 1, 1, 1, 2, 2, 2, 2, 2, 2, 2, 2, 2, 2,\n",
              "       2, 2, 2, 2, 2, 2, 2, 2, 2, 2, 2, 2, 2, 2, 2, 2, 2, 2, 2, 2, 2, 2,\n",
              "       2, 2, 2, 2, 2, 2, 2, 2, 2, 2, 2, 2, 2, 2, 2, 2, 2, 2])"
            ]
          },
          "metadata": {},
          "execution_count": 4
        }
      ]
    },
    {
      "cell_type": "code",
      "metadata": {
        "id": "ZwU_r-XwH0xZ",
        "colab": {
          "base_uri": "https://localhost:8080/"
        },
        "outputId": "00b38f22-408a-4a9f-ec23-0e136b933dd8"
      },
      "source": [
        "print(irisData.target_names)\n",
        "print(irisData.feature_names)"
      ],
      "execution_count": null,
      "outputs": [
        {
          "output_type": "stream",
          "name": "stdout",
          "text": [
            "['setosa' 'versicolor' 'virginica']\n",
            "['sepal length (cm)', 'sepal width (cm)', 'petal length (cm)', 'petal width (cm)']\n"
          ]
        }
      ]
    },
    {
      "cell_type": "markdown",
      "metadata": {
        "id": "G0IU_jmpH0xc"
      },
      "source": [
        "Noter que le type de tous ces éléments est *array*, un type très utile et central en python pour nous (en fait, le vrai type est s'appelle *ndarray* qui est un type propre à numpy : faites type(irisData.target) par exemple pour vous en assurer : il ne faut pas toujours croire ce que le notebook affiche !)"
      ]
    },
    {
      "cell_type": "markdown",
      "metadata": {
        "id": "Safe4zN-H0xd"
      },
      "source": [
        "##### Le jeu de données Iris (Fisher, 1936)\n",
        "Iris est un ensemble (=jeu) de données introduit en 1936 par R. Fisher comme un exemple d'analyse discriminante. Cet ensemble contient 150 exemples de critères observés sur 3 espèces différentes d'iris de Gaspésie (Setosa, Versicolor, Verginica). Chaque exemple est composé de quatre attributs (longueur et largeur des sépales en cm, longueur et largeur des pétales en cm) et d'une classe (l'espèce).\n",
        "\n",
        "**Question.** Exécutez **une à une** les commandes suivantes et comprenez ce qu'elles réalisent (vous aurez à les réutiliser)."
      ]
    },
    {
      "cell_type": "code",
      "metadata": {
        "id": "FHIaHRZKH0xi",
        "colab": {
          "base_uri": "https://localhost:8080/"
        },
        "outputId": "ccd8075e-f4b7-44a7-813c-92feab261225"
      },
      "source": [
        "print(len(irisData.data))\n",
        "print(\"-------------------------------\")\n",
        "print(irisData.target_names[0])\n",
        "print(\"-------------------------------\")\n",
        "print(irisData.target_names[2])\n",
        "print(\"-------------------------------\")\n",
        "print(irisData.target_names[-1])\n",
        "print(\"-------------------------------\")\n",
        "print(irisData.target_names[len(irisData.target_names)-1])\n",
        "print(\"-------------------------------\")\n",
        "print(irisData.data.shape)\n",
        "print(\"-------------------------------\")\n",
        "print(irisData.data[0])\n",
        "print(\"-------------------------------\")\n",
        "print(irisData.data[0][1])\n",
        "print(irisData.data[0,1])\n",
        "print(\"-------------------------------\")\n",
        "print(irisData.data[:,1])    # Celle-ci, il faut vraiment la comprendre !\n",
        "print(\"-------------------------------\")\n",
        "print(irisData.data[irisData.target==0])    # Et celle-ci aussi !!!\n",
        "print(\"-------------------------------\")\n",
        "print(irisData.data[:][1])  # pourquoi n'a-t-on pas le même résultat qu'avec [:,1] ?\n",
        "print(\"-------------------------------\")\n",
        "print(irisData.data[:,1])    # Celle-ci, il faut vraiment la comprendre !\n"
      ],
      "execution_count": null,
      "outputs": [
        {
          "output_type": "stream",
          "name": "stdout",
          "text": [
            "150\n",
            "-------------------------------\n",
            "setosa\n",
            "-------------------------------\n",
            "virginica\n",
            "-------------------------------\n",
            "virginica\n",
            "-------------------------------\n",
            "virginica\n",
            "-------------------------------\n",
            "(150, 4)\n",
            "-------------------------------\n",
            "[5.1 3.5 1.4 0.2]\n",
            "-------------------------------\n",
            "3.5\n",
            "3.5\n",
            "-------------------------------\n",
            "[3.5 3.  3.2 3.1 3.6 3.9 3.4 3.4 2.9 3.1 3.7 3.4 3.  3.  4.  4.4 3.9 3.5\n",
            " 3.8 3.8 3.4 3.7 3.6 3.3 3.4 3.  3.4 3.5 3.4 3.2 3.1 3.4 4.1 4.2 3.1 3.2\n",
            " 3.5 3.6 3.  3.4 3.5 2.3 3.2 3.5 3.8 3.  3.8 3.2 3.7 3.3 3.2 3.2 3.1 2.3\n",
            " 2.8 2.8 3.3 2.4 2.9 2.7 2.  3.  2.2 2.9 2.9 3.1 3.  2.7 2.2 2.5 3.2 2.8\n",
            " 2.5 2.8 2.9 3.  2.8 3.  2.9 2.6 2.4 2.4 2.7 2.7 3.  3.4 3.1 2.3 3.  2.5\n",
            " 2.6 3.  2.6 2.3 2.7 3.  2.9 2.9 2.5 2.8 3.3 2.7 3.  2.9 3.  3.  2.5 2.9\n",
            " 2.5 3.6 3.2 2.7 3.  2.5 2.8 3.2 3.  3.8 2.6 2.2 3.2 2.8 2.8 2.7 3.3 3.2\n",
            " 2.8 3.  2.8 3.  2.8 3.8 2.8 2.8 2.6 3.  3.4 3.1 3.  3.1 3.1 3.1 2.7 3.2\n",
            " 3.3 3.  2.5 3.  3.4 3. ]\n",
            "-------------------------------\n",
            "[[5.1 3.5 1.4 0.2]\n",
            " [4.9 3.  1.4 0.2]\n",
            " [4.7 3.2 1.3 0.2]\n",
            " [4.6 3.1 1.5 0.2]\n",
            " [5.  3.6 1.4 0.2]\n",
            " [5.4 3.9 1.7 0.4]\n",
            " [4.6 3.4 1.4 0.3]\n",
            " [5.  3.4 1.5 0.2]\n",
            " [4.4 2.9 1.4 0.2]\n",
            " [4.9 3.1 1.5 0.1]\n",
            " [5.4 3.7 1.5 0.2]\n",
            " [4.8 3.4 1.6 0.2]\n",
            " [4.8 3.  1.4 0.1]\n",
            " [4.3 3.  1.1 0.1]\n",
            " [5.8 4.  1.2 0.2]\n",
            " [5.7 4.4 1.5 0.4]\n",
            " [5.4 3.9 1.3 0.4]\n",
            " [5.1 3.5 1.4 0.3]\n",
            " [5.7 3.8 1.7 0.3]\n",
            " [5.1 3.8 1.5 0.3]\n",
            " [5.4 3.4 1.7 0.2]\n",
            " [5.1 3.7 1.5 0.4]\n",
            " [4.6 3.6 1.  0.2]\n",
            " [5.1 3.3 1.7 0.5]\n",
            " [4.8 3.4 1.9 0.2]\n",
            " [5.  3.  1.6 0.2]\n",
            " [5.  3.4 1.6 0.4]\n",
            " [5.2 3.5 1.5 0.2]\n",
            " [5.2 3.4 1.4 0.2]\n",
            " [4.7 3.2 1.6 0.2]\n",
            " [4.8 3.1 1.6 0.2]\n",
            " [5.4 3.4 1.5 0.4]\n",
            " [5.2 4.1 1.5 0.1]\n",
            " [5.5 4.2 1.4 0.2]\n",
            " [4.9 3.1 1.5 0.2]\n",
            " [5.  3.2 1.2 0.2]\n",
            " [5.5 3.5 1.3 0.2]\n",
            " [4.9 3.6 1.4 0.1]\n",
            " [4.4 3.  1.3 0.2]\n",
            " [5.1 3.4 1.5 0.2]\n",
            " [5.  3.5 1.3 0.3]\n",
            " [4.5 2.3 1.3 0.3]\n",
            " [4.4 3.2 1.3 0.2]\n",
            " [5.  3.5 1.6 0.6]\n",
            " [5.1 3.8 1.9 0.4]\n",
            " [4.8 3.  1.4 0.3]\n",
            " [5.1 3.8 1.6 0.2]\n",
            " [4.6 3.2 1.4 0.2]\n",
            " [5.3 3.7 1.5 0.2]\n",
            " [5.  3.3 1.4 0.2]]\n",
            "-------------------------------\n",
            "[4.9 3.  1.4 0.2]\n",
            "-------------------------------\n",
            "[3.5 3.  3.2 3.1 3.6 3.9 3.4 3.4 2.9 3.1 3.7 3.4 3.  3.  4.  4.4 3.9 3.5\n",
            " 3.8 3.8 3.4 3.7 3.6 3.3 3.4 3.  3.4 3.5 3.4 3.2 3.1 3.4 4.1 4.2 3.1 3.2\n",
            " 3.5 3.6 3.  3.4 3.5 2.3 3.2 3.5 3.8 3.  3.8 3.2 3.7 3.3 3.2 3.2 3.1 2.3\n",
            " 2.8 2.8 3.3 2.4 2.9 2.7 2.  3.  2.2 2.9 2.9 3.1 3.  2.7 2.2 2.5 3.2 2.8\n",
            " 2.5 2.8 2.9 3.  2.8 3.  2.9 2.6 2.4 2.4 2.7 2.7 3.  3.4 3.1 2.3 3.  2.5\n",
            " 2.6 3.  2.6 2.3 2.7 3.  2.9 2.9 2.5 2.8 3.3 2.7 3.  2.9 3.  3.  2.5 2.9\n",
            " 2.5 3.6 3.2 2.7 3.  2.5 2.8 3.2 3.  3.8 2.6 2.2 3.2 2.8 2.8 2.7 3.3 3.2\n",
            " 2.8 3.  2.8 3.  2.8 3.8 2.8 2.8 2.6 3.  3.4 3.1 3.  3.1 3.1 3.1 2.7 3.2\n",
            " 3.3 3.  2.5 3.  3.4 3. ]\n"
          ]
        }
      ]
    },
    {
      "cell_type": "markdown",
      "metadata": {
        "id": "0yI3SusIH0xn"
      },
      "source": [
        "Vous avez eu une erreur ? Pourquoi ? Refléchissez...\n",
        "\n",
        "Et assurez vous de tester toutes les lignes, quite à créer de nouvelles cellules (ou à mettre en commentaire les lignes déjà testées, ou qui génèrent des erreurs)"
      ]
    },
    {
      "cell_type": "markdown",
      "metadata": {
        "id": "SEFjsCJUH0xo"
      },
      "source": [
        "##### Visualiser les données\n",
        "Scikit-Learn  intègre la librairie matplotlib  (http://matplotlib.org/) qui propose de très nombreuses primitives permettant de faire des dessins, et la librairie pylab, qui intègre les librairies NumPy, SciPy  et Matplotlib .\n",
        "\n",
        "Exécutez les commandes suivantes et comprenez ce qu'elles réalisent :"
      ]
    },
    {
      "cell_type": "code",
      "metadata": {
        "id": "6DGx0G1SH0xq",
        "colab": {
          "base_uri": "https://localhost:8080/",
          "height": 268
        },
        "outputId": "14ffe560-1f65-43f5-ddc4-30ff606beb8b"
      },
      "source": [
        "%matplotlib inline     \n",
        "# Commande uniquement Notebook : permet l'affichage des courbes\n",
        "import matplotlib.pyplot as plt        \n",
        "#permet d'importer 'pyplot' et de remplacer son nom par 'plt'\n",
        "X = irisData.data\n",
        "Color = irisData.target\n",
        "abscisse = 0\n",
        "ordonnee = 1\n",
        "\n",
        "plt.scatter(X[:, abscisse], X[:, ordonnee], c=Color)   \n",
        "# Définition des abscisses et des ordonnées, ainsi que de la couleur\n",
        "plt.show()    \n",
        "# Affichage de la courbe"
      ],
      "execution_count": null,
      "outputs": [
        {
          "output_type": "display_data",
          "data": {
            "image/png": "[encoded data removed]",
            "text/plain": [
              "<Figure size 432x288 with 1 Axes>"
            ]
          },
          "metadata": {
            "needs_background": "light"
          }
        }
      ]
    },
    {
      "cell_type": "markdown",
      "metadata": {
        "id": "knCEqH8DH0x1"
      },
      "source": [
        "C'est bien mais pas super : il manque de l'information pour être une vraie courbe. On améliore :"
      ]
    },
    {
      "cell_type": "code",
      "metadata": {
        "id": "MieZPNfeH0x2",
        "colab": {
          "base_uri": "https://localhost:8080/",
          "height": 295
        },
        "outputId": "3cbaad9b-4462-4683-8101-729a84f824b9"
      },
      "source": [
        "plt.xlabel(irisData.feature_names[abscisse])    # Nomage de l'axe des abscisses\n",
        "plt.ylabel(irisData.feature_names[ordonnee])    # Nomage de l'axe des ordonnées   \n",
        "plt.title(\"Données Iris - Dimensions des sépales uniquement\") # Et il faut un tritre\n",
        "\n",
        "plt.scatter(X[:, abscisse], X[:, ordonnee], c=Color)   # Re-éfinition des abscisses, ordonnées, et couleurs\n",
        "plt.show()\n"
      ],
      "execution_count": null,
      "outputs": [
        {
          "output_type": "display_data",
          "data": {
            "image/png": "[encoded data removed]",
            "text/plain": [
              "<Figure size 432x288 with 1 Axes>"
            ]
          },
          "metadata": {
            "needs_background": "light"
          }
        }
      ]
    },
    {
      "cell_type": "markdown",
      "metadata": {
        "id": "LyVDdnW1H0x8"
      },
      "source": [
        "ça commence à ressembler à quelque chose, non ? Reste 2 petits problèmes : il manque la légende pour expliquer le code couleur, et les couleurs ne sont pas très belles (ça c'est une question de goût, mais quand même). Voilà un façon (un peu différente) d'y remédier :"
      ]
    },
    {
      "cell_type": "code",
      "metadata": {
        "id": "u-7semNOH0x9",
        "colab": {
          "base_uri": "https://localhost:8080/",
          "height": 295
        },
        "outputId": "2f9d0509-4fbd-4129-d76c-7548ca2d1dbc"
      },
      "source": [
        "y = irisData.target\n",
        "colors=[\"red\",\"green\",\"blue\"]\n",
        "differentes_target = set(irisData.target)    # Enlève les doublons\n",
        "for i in differentes_target:\n",
        "\tplt.scatter(X[y==i][:, abscisse],X[y==i][:,ordonnee],color=colors[i], label=irisData.target_names[i])\n",
        "plt.legend()\n",
        "plt.xlabel(irisData.feature_names[abscisse])\n",
        "plt.ylabel(irisData.feature_names[ordonnee])\n",
        "plt.title(\"Données Iris - dimensions des sépales uniquement\")\n",
        "plt.show()"
      ],
      "execution_count": null,
      "outputs": [
        {
          "output_type": "display_data",
          "data": {
            "image/png": "[encoded data removed]",
            "text/plain": [
              "<Figure size 432x288 with 1 Axes>"
            ]
          },
          "metadata": {
            "needs_background": "light"
          }
        }
      ]
    },
    {
      "cell_type": "markdown",
      "metadata": {
        "id": "PHKRGAP0H0yB"
      },
      "source": [
        "**Question.** Les données iris sont décrites par 4 attributs. Il y a 6 en 2 dimensions manières d'en regarder 2. En modifiant le code ci-dessus, déterminez visuellement le couple d'attributs qui semble le mieux a même de séparer clairement les exemples des 3 classes d'iris."
      ]
    },
    {
      "cell_type": "code",
      "metadata": {
        "id": "nDRnfz_vH0yD",
        "colab": {
          "base_uri": "https://localhost:8080/",
          "height": 295
        },
        "outputId": "be33993d-1e2d-4114-abfb-9a1ed05679b9"
      },
      "source": [
        "# A vous\n",
        "y = irisData.target\n",
        "colors=[\"red\",\"green\",\"blue\"]\n",
        "differentes_target = set(irisData.target)    # Enlève les doublons\n",
        "for i in differentes_target:\n",
        "\t#plt.scatter(X[y==i][:, abscisse],X[y==i][:,ordonnee],color=colors[i], label=irisData.target_names[i])\n",
        "  plt.scatter(X[y==i][:, 2],X[y==i][:, 3],color=colors[i], label=irisData.target_names[i])\n",
        "plt.legend()\n",
        "plt.xlabel(irisData.feature_names[2])\n",
        "plt.ylabel(irisData.feature_names[3])\n",
        "plt.title(\"Données Iris - dimensions des pétales uniquement\")\n",
        "plt.show()\n"
      ],
      "execution_count": null,
      "outputs": [
        {
          "output_type": "display_data",
          "data": {
            "image/png": "[encoded data removed]",
            "text/plain": [
              "<Figure size 432x288 with 1 Axes>"
            ]
          },
          "metadata": {
            "needs_background": "light"
          }
        }
      ]
    },
    {
      "cell_type": "markdown",
      "metadata": {
        "id": "tIRdxF14H0yF"
      },
      "source": [
        "##### Extraire des statistiques des données\n",
        "Un autre type de données est très utile : les dictionnaires. Alors qu'une liste est indéxée par des entiers positifs, un dictionnaire peut être indexé par (presque) tout :"
      ]
    },
    {
      "cell_type": "code",
      "metadata": {
        "id": "nkHo1lzjH0yH",
        "colab": {
          "base_uri": "https://localhost:8080/"
        },
        "outputId": "31cb60a1-25f5-4f45-b99b-4c61b7b3ae98"
      },
      "source": [
        "d = {}    # Création d'un dictionnaire vide\n",
        "d = {\"film\":[\"Ready Player One\", \"Magnolia\"], \"duree\": [120, 90], 42:[\"et\", \"oui\"] }\n",
        "print(d[\"film\"])\n",
        "print(\"Les clés : \", d.keys())\n",
        "print(\"Les clés : \", len(d.keys()))\n",
        "print(\"Les valeurs : \", d.values())\n",
        "d[\"film\"].append(\"Les valseuses\")\n",
        "d[\"Annee\"]=2018\n",
        "print(\"A la fin : \", d)"
      ],
      "execution_count": null,
      "outputs": [
        {
          "output_type": "stream",
          "name": "stdout",
          "text": [
            "['Ready Player One', 'Magnolia']\n",
            "Les clés :  dict_keys(['film', 'duree', 42])\n",
            "Les clés :  3\n",
            "Les valeurs :  dict_values([['Ready Player One', 'Magnolia'], [120, 90], ['et', 'oui']])\n",
            "A la fin :  {'film': ['Ready Player One', 'Magnolia', 'Les valseuses'], 'duree': [120, 90], 42: ['et', 'oui'], 'Annee': 2018}\n"
          ]
        }
      ]
    },
    {
      "cell_type": "markdown",
      "metadata": {
        "id": "uBFz8-O-H0yI"
      },
      "source": [
        "**Question.** En lisant les données une par une, remplir un dictionnaire *dico* dont les clés sont : \"petal_length\", \"petal_width\", \"sepal_length\", \"sepal_width\""
      ]
    },
    {
      "cell_type": "code",
      "metadata": {
        "id": "HJCiePktH0yJ",
        "colab": {
          "base_uri": "https://localhost:8080/"
        },
        "outputId": "0e08b41f-9a89-40ed-b71f-a5d02209d6c3"
      },
      "source": [
        "# A vous\n",
        "dico = {}\n",
        "sepal_length_value = irisData.data[:,0]\n",
        "sepal_width_value = irisData.data[:,1]\n",
        "petal_length_value = irisData.data[:,2]\n",
        "petal_width_value = irisData.data[:,3]\n",
        "dico = {\"sepal_length\": sepal_length_value , \"sepal_width\": sepal_width_value,\"petal_length\": petal_length_value, \"petal_width\":petal_width_value}\n",
        "print(dico)"
      ],
      "execution_count": null,
      "outputs": [
        {
          "output_type": "stream",
          "name": "stdout",
          "text": [
            "{'sepal_length': array([5.1, 4.9, 4.7, 4.6, 5. , 5.4, 4.6, 5. , 4.4, 4.9, 5.4, 4.8, 4.8,\n",
            "       4.3, 5.8, 5.7, 5.4, 5.1, 5.7, 5.1, 5.4, 5.1, 4.6, 5.1, 4.8, 5. ,\n",
            "       5. , 5.2, 5.2, 4.7, 4.8, 5.4, 5.2, 5.5, 4.9, 5. , 5.5, 4.9, 4.4,\n",
            "       5.1, 5. , 4.5, 4.4, 5. , 5.1, 4.8, 5.1, 4.6, 5.3, 5. , 7. , 6.4,\n",
            "       6.9, 5.5, 6.5, 5.7, 6.3, 4.9, 6.6, 5.2, 5. , 5.9, 6. , 6.1, 5.6,\n",
            "       6.7, 5.6, 5.8, 6.2, 5.6, 5.9, 6.1, 6.3, 6.1, 6.4, 6.6, 6.8, 6.7,\n",
            "       6. , 5.7, 5.5, 5.5, 5.8, 6. , 5.4, 6. , 6.7, 6.3, 5.6, 5.5, 5.5,\n",
            "       6.1, 5.8, 5. , 5.6, 5.7, 5.7, 6.2, 5.1, 5.7, 6.3, 5.8, 7.1, 6.3,\n",
            "       6.5, 7.6, 4.9, 7.3, 6.7, 7.2, 6.5, 6.4, 6.8, 5.7, 5.8, 6.4, 6.5,\n",
            "       7.7, 7.7, 6. , 6.9, 5.6, 7.7, 6.3, 6.7, 7.2, 6.2, 6.1, 6.4, 7.2,\n",
            "       7.4, 7.9, 6.4, 6.3, 6.1, 7.7, 6.3, 6.4, 6. , 6.9, 6.7, 6.9, 5.8,\n",
            "       6.8, 6.7, 6.7, 6.3, 6.5, 6.2, 5.9]), 'sepal_width': array([3.5, 3. , 3.2, 3.1, 3.6, 3.9, 3.4, 3.4, 2.9, 3.1, 3.7, 3.4, 3. ,\n",
            "       3. , 4. , 4.4, 3.9, 3.5, 3.8, 3.8, 3.4, 3.7, 3.6, 3.3, 3.4, 3. ,\n",
            "       3.4, 3.5, 3.4, 3.2, 3.1, 3.4, 4.1, 4.2, 3.1, 3.2, 3.5, 3.6, 3. ,\n",
            "       3.4, 3.5, 2.3, 3.2, 3.5, 3.8, 3. , 3.8, 3.2, 3.7, 3.3, 3.2, 3.2,\n",
            "       3.1, 2.3, 2.8, 2.8, 3.3, 2.4, 2.9, 2.7, 2. , 3. , 2.2, 2.9, 2.9,\n",
            "       3.1, 3. , 2.7, 2.2, 2.5, 3.2, 2.8, 2.5, 2.8, 2.9, 3. , 2.8, 3. ,\n",
            "       2.9, 2.6, 2.4, 2.4, 2.7, 2.7, 3. , 3.4, 3.1, 2.3, 3. , 2.5, 2.6,\n",
            "       3. , 2.6, 2.3, 2.7, 3. , 2.9, 2.9, 2.5, 2.8, 3.3, 2.7, 3. , 2.9,\n",
            "       3. , 3. , 2.5, 2.9, 2.5, 3.6, 3.2, 2.7, 3. , 2.5, 2.8, 3.2, 3. ,\n",
            "       3.8, 2.6, 2.2, 3.2, 2.8, 2.8, 2.7, 3.3, 3.2, 2.8, 3. , 2.8, 3. ,\n",
            "       2.8, 3.8, 2.8, 2.8, 2.6, 3. , 3.4, 3.1, 3. , 3.1, 3.1, 3.1, 2.7,\n",
            "       3.2, 3.3, 3. , 2.5, 3. , 3.4, 3. ]), 'petal_length': array([1.4, 1.4, 1.3, 1.5, 1.4, 1.7, 1.4, 1.5, 1.4, 1.5, 1.5, 1.6, 1.4,\n",
            "       1.1, 1.2, 1.5, 1.3, 1.4, 1.7, 1.5, 1.7, 1.5, 1. , 1.7, 1.9, 1.6,\n",
            "       1.6, 1.5, 1.4, 1.6, 1.6, 1.5, 1.5, 1.4, 1.5, 1.2, 1.3, 1.4, 1.3,\n",
            "       1.5, 1.3, 1.3, 1.3, 1.6, 1.9, 1.4, 1.6, 1.4, 1.5, 1.4, 4.7, 4.5,\n",
            "       4.9, 4. , 4.6, 4.5, 4.7, 3.3, 4.6, 3.9, 3.5, 4.2, 4. , 4.7, 3.6,\n",
            "       4.4, 4.5, 4.1, 4.5, 3.9, 4.8, 4. , 4.9, 4.7, 4.3, 4.4, 4.8, 5. ,\n",
            "       4.5, 3.5, 3.8, 3.7, 3.9, 5.1, 4.5, 4.5, 4.7, 4.4, 4.1, 4. , 4.4,\n",
            "       4.6, 4. , 3.3, 4.2, 4.2, 4.2, 4.3, 3. , 4.1, 6. , 5.1, 5.9, 5.6,\n",
            "       5.8, 6.6, 4.5, 6.3, 5.8, 6.1, 5.1, 5.3, 5.5, 5. , 5.1, 5.3, 5.5,\n",
            "       6.7, 6.9, 5. , 5.7, 4.9, 6.7, 4.9, 5.7, 6. , 4.8, 4.9, 5.6, 5.8,\n",
            "       6.1, 6.4, 5.6, 5.1, 5.6, 6.1, 5.6, 5.5, 4.8, 5.4, 5.6, 5.1, 5.1,\n",
            "       5.9, 5.7, 5.2, 5. , 5.2, 5.4, 5.1]), 'petal_width': array([0.2, 0.2, 0.2, 0.2, 0.2, 0.4, 0.3, 0.2, 0.2, 0.1, 0.2, 0.2, 0.1,\n",
            "       0.1, 0.2, 0.4, 0.4, 0.3, 0.3, 0.3, 0.2, 0.4, 0.2, 0.5, 0.2, 0.2,\n",
            "       0.4, 0.2, 0.2, 0.2, 0.2, 0.4, 0.1, 0.2, 0.2, 0.2, 0.2, 0.1, 0.2,\n",
            "       0.2, 0.3, 0.3, 0.2, 0.6, 0.4, 0.3, 0.2, 0.2, 0.2, 0.2, 1.4, 1.5,\n",
            "       1.5, 1.3, 1.5, 1.3, 1.6, 1. , 1.3, 1.4, 1. , 1.5, 1. , 1.4, 1.3,\n",
            "       1.4, 1.5, 1. , 1.5, 1.1, 1.8, 1.3, 1.5, 1.2, 1.3, 1.4, 1.4, 1.7,\n",
            "       1.5, 1. , 1.1, 1. , 1.2, 1.6, 1.5, 1.6, 1.5, 1.3, 1.3, 1.3, 1.2,\n",
            "       1.4, 1.2, 1. , 1.3, 1.2, 1.3, 1.3, 1.1, 1.3, 2.5, 1.9, 2.1, 1.8,\n",
            "       2.2, 2.1, 1.7, 1.8, 1.8, 2.5, 2. , 1.9, 2.1, 2. , 2.4, 2.3, 1.8,\n",
            "       2.2, 2.3, 1.5, 2.3, 2. , 2. , 1.8, 2.1, 1.8, 1.8, 1.8, 2.1, 1.6,\n",
            "       1.9, 2. , 2.2, 1.5, 1.4, 2.3, 2.4, 1.8, 1.8, 2.1, 2.4, 2.3, 1.9,\n",
            "       2.3, 2.5, 2.3, 1.9, 2. , 2.3, 1.8])}\n"
          ]
        }
      ]
    },
    {
      "cell_type": "markdown",
      "metadata": {
        "id": "-cRc9ADcH0yL"
      },
      "source": [
        "**Question.** Ecrire une fonction display_stat qui prend en entrée un dictionnaire avec les clés de la question précédente et renvoie les statistiques 'moyenne', 'valeur max', 'valeur min', et 'déviation standard' pour chacun des 4 attributs. Ces fonctions sont toutes déjà définies dans le module numpy. Le résultat pourra se présenter sous la forme d'un tableau (pas aussi beau, là c'est du markdown):\n",
        "\n",
        "| Attribut | min | max | moyenne | std |\n",
        "| --- | --- | --- | --- | --- |\n",
        "| sepal_length | 4.30 | 7.90 | 5.84 | 0.83 |\n",
        "| sepal_width | 2.00 |4.40 | 3.05 | 0.43 |\n",
        "| petal_length | 1.00 | 6.90 | 3.76 | 1.76 |\n",
        "| petal_width | 0.10 | 1.20 | 0.76 | 1.00 |\n",
        "\n",
        "   sepal length: 4.3  7.9   5.84  0.83    0.7826   \n",
        "    sepal width: 2.0  4.4   3.05  0.43   -0.4194\n",
        "   petal length: 1.0  6.9   3.76  1.76    0.9490  (high!)\n",
        "    petal width: 0.1  2.5   1.20  0.76    0.9565  (high!)\n"
      ]
    },
    {
      "cell_type": "code",
      "metadata": {
        "id": "gq6BaF8UH0yM",
        "colab": {
          "base_uri": "https://localhost:8080/"
        },
        "outputId": "66126e7a-3f69-4e42-c75d-df0f68cae6a8"
      },
      "source": [
        "import numpy as np\n",
        "# A vous (sans utiliser pandas vu en cours!)\n",
        "def display_stat(dico):\n",
        "  matrice = np.ndarray(shape=(4,4))\n",
        "  i = 0\n",
        "  for attribut in dico.keys():\n",
        "    matrice[i] = [dico[attribut].min(), dico[attribut].max(), dico[attribut].mean(), dico[attribut].std()]\n",
        "    i = i + 1\n",
        "  return matrice\n",
        "display_stat(dico) \n"
      ],
      "execution_count": null,
      "outputs": [
        {
          "output_type": "execute_result",
          "data": {
            "text/plain": [
              "array([[4.3       , 7.9       , 5.84333333, 0.82530129],\n",
              "       [2.        , 4.4       , 3.05733333, 0.43441097],\n",
              "       [1.        , 6.9       , 3.758     , 1.75940407],\n",
              "       [0.1       , 2.5       , 1.19933333, 0.75969263]])"
            ]
          },
          "metadata": {},
          "execution_count": 13
        }
      ]
    },
    {
      "cell_type": "markdown",
      "metadata": {
        "id": "Klbj_dFtH0yP"
      },
      "source": [
        "**Question.** Utiliser cette fonction sur les données pour chacune des classes. Pour cela, il pourrait être utile de créer un dictionnaire par classe..."
      ]
    },
    {
      "cell_type": "code",
      "metadata": {
        "id": "8zS6moYdH0yQ",
        "colab": {
          "base_uri": "https://localhost:8080/"
        },
        "outputId": "04d247dc-1d98-48e1-e8e4-525c4d01aeb4"
      },
      "source": [
        "# A vous\n",
        "data_class0 = irisData.data[irisData.target==0]\n",
        "data_class1 = irisData.data[irisData.target==1]\n",
        "data_class2 = irisData.data[irisData.target==2]\n",
        "dico_0 = {\"sepal_length\": data_class0[0], \"sepal_width\":data_class0[1],\"petal_length\": data_class0[2], \"petal_width\":data_class0[3]}\n",
        "dico_1 = {\"sepal_length\": data_class1[0], \"sepal_width\":data_class1[1],\"petal_length\": data_class1[2], \"petal_width\":data_class1[3]}\n",
        "dico_2 = {\"sepal_length\": data_class2[0], \"sepal_width\":data_class2[1],\"petal_length\": data_class2[2], \"petal_width\":data_class2[3]}\n",
        "print(display_stat(dico_0))\n",
        "print(display_stat(dico_1))\n",
        "print(display_stat(dico_2))"
      ],
      "execution_count": null,
      "outputs": [
        {
          "output_type": "stream",
          "name": "stdout",
          "text": [
            "[[0.2        5.1        2.55       1.88745861]\n",
            " [0.2        4.9        2.375      1.76405074]\n",
            " [0.2        4.7        2.35       1.72988439]\n",
            " [0.2        4.6        2.35       1.65604952]]\n",
            "[[1.4        7.         4.075      2.0535031 ]\n",
            " [1.5        6.4        3.9        1.79304211]\n",
            " [1.5        6.9        4.1        2.01494417]\n",
            " [1.3        5.5        3.275      1.6068214 ]]\n",
            "[[2.5        6.3        4.525      1.65283847]\n",
            " [1.9        5.8        3.875      1.61922049]\n",
            " [2.1        7.1        4.525      2.04496332]\n",
            " [1.8        6.3        4.15       1.85809042]]\n"
          ]
        }
      ]
    },
    {
      "cell_type": "markdown",
      "metadata": {
        "id": "6ZRpkMLe7LJn"
      },
      "source": [
        "## 3. sklearn et Pandas fonctionnent ensemble"
      ]
    },
    {
      "cell_type": "markdown",
      "metadata": {
        "id": "qJz9rIZX7LJn"
      },
      "source": [
        "En réalité, les quelques lignes de code données en cours utilisent la librairie pandas, compatible avec numpy. Pandas est un outil de référence en science des données, et doit être connu en sciences des données. \n",
        "Nous allons voir rapidement ici, comment passer de l'un à l'autre.\n",
        "\n",
        "Un DataFrame pandas est la structure de base pour stocker tout ce qui est nécessaire dans un jeu de données. La différence majeure avec un jeu de données sklearn est que target et features de sklearn sont toutes des séries dans pandas (des colonnes, des variables). Cela provient du fait que pandas est plus issu de la science statistique des données que par l'apprentissage automatique. A part cela, ces structures utilisent largement les structures classes/objets et dictionnaires.\n",
        "\n",
        "Voyons comment passer d'un jeu de données sklearn à un jeu de données pandas."
      ]
    },
    {
      "cell_type": "code",
      "metadata": {
        "id": "CHpkdCDp7LJo",
        "colab": {
          "base_uri": "https://localhost:8080/",
          "height": 424
        },
        "outputId": "261170cb-1f78-4087-c48e-eb97285e05e9"
      },
      "source": [
        "import pandas as pd\n",
        "irisData = load_iris()\n",
        "irisdf = pd.DataFrame(data = np.c_[irisData['data'], irisData['target']],\n",
        "                      columns = irisData['feature_names'] + ['target'])\n",
        "irisdf"
      ],
      "execution_count": null,
      "outputs": [
        {
          "output_type": "execute_result",
          "data": {
            "text/html": [
              "<div>\n",
              "<style scoped>\n",
              "    .dataframe tbody tr th:only-of-type {\n",
              "        vertical-align: middle;\n",
              "    }\n",
              "\n",
              "    .dataframe tbody tr th {\n",
              "        vertical-align: top;\n",
              "    }\n",
              "\n",
              "    .dataframe thead th {\n",
              "        text-align: right;\n",
              "    }\n",
              "</style>\n",
              "<table border=\"1\" class=\"dataframe\">\n",
              "  <thead>\n",
              "    <tr style=\"text-align: right;\">\n",
              "      <th></th>\n",
              "      <th>sepal length (cm)</th>\n",
              "      <th>sepal width (cm)</th>\n",
              "      <th>petal length (cm)</th>\n",
              "      <th>petal width (cm)</th>\n",
              "      <th>target</th>\n",
              "    </tr>\n",
              "  </thead>\n",
              "  <tbody>\n",
              "    <tr>\n",
              "      <th>0</th>\n",
              "      <td>5.1</td>\n",
              "      <td>3.5</td>\n",
              "      <td>1.4</td>\n",
              "      <td>0.2</td>\n",
              "      <td>0.0</td>\n",
              "    </tr>\n",
              "    <tr>\n",
              "      <th>1</th>\n",
              "      <td>4.9</td>\n",
              "      <td>3.0</td>\n",
              "      <td>1.4</td>\n",
              "      <td>0.2</td>\n",
              "      <td>0.0</td>\n",
              "    </tr>\n",
              "    <tr>\n",
              "      <th>2</th>\n",
              "      <td>4.7</td>\n",
              "      <td>3.2</td>\n",
              "      <td>1.3</td>\n",
              "      <td>0.2</td>\n",
              "      <td>0.0</td>\n",
              "    </tr>\n",
              "    <tr>\n",
              "      <th>3</th>\n",
              "      <td>4.6</td>\n",
              "      <td>3.1</td>\n",
              "      <td>1.5</td>\n",
              "      <td>0.2</td>\n",
              "      <td>0.0</td>\n",
              "    </tr>\n",
              "    <tr>\n",
              "      <th>4</th>\n",
              "      <td>5.0</td>\n",
              "      <td>3.6</td>\n",
              "      <td>1.4</td>\n",
              "      <td>0.2</td>\n",
              "      <td>0.0</td>\n",
              "    </tr>\n",
              "    <tr>\n",
              "      <th>...</th>\n",
              "      <td>...</td>\n",
              "      <td>...</td>\n",
              "      <td>...</td>\n",
              "      <td>...</td>\n",
              "      <td>...</td>\n",
              "    </tr>\n",
              "    <tr>\n",
              "      <th>145</th>\n",
              "      <td>6.7</td>\n",
              "      <td>3.0</td>\n",
              "      <td>5.2</td>\n",
              "      <td>2.3</td>\n",
              "      <td>2.0</td>\n",
              "    </tr>\n",
              "    <tr>\n",
              "      <th>146</th>\n",
              "      <td>6.3</td>\n",
              "      <td>2.5</td>\n",
              "      <td>5.0</td>\n",
              "      <td>1.9</td>\n",
              "      <td>2.0</td>\n",
              "    </tr>\n",
              "    <tr>\n",
              "      <th>147</th>\n",
              "      <td>6.5</td>\n",
              "      <td>3.0</td>\n",
              "      <td>5.2</td>\n",
              "      <td>2.0</td>\n",
              "      <td>2.0</td>\n",
              "    </tr>\n",
              "    <tr>\n",
              "      <th>148</th>\n",
              "      <td>6.2</td>\n",
              "      <td>3.4</td>\n",
              "      <td>5.4</td>\n",
              "      <td>2.3</td>\n",
              "      <td>2.0</td>\n",
              "    </tr>\n",
              "    <tr>\n",
              "      <th>149</th>\n",
              "      <td>5.9</td>\n",
              "      <td>3.0</td>\n",
              "      <td>5.1</td>\n",
              "      <td>1.8</td>\n",
              "      <td>2.0</td>\n",
              "    </tr>\n",
              "  </tbody>\n",
              "</table>\n",
              "<p>150 rows × 5 columns</p>\n",
              "</div>"
            ],
            "text/plain": [
              "     sepal length (cm)  sepal width (cm)  ...  petal width (cm)  target\n",
              "0                  5.1               3.5  ...               0.2     0.0\n",
              "1                  4.9               3.0  ...               0.2     0.0\n",
              "2                  4.7               3.2  ...               0.2     0.0\n",
              "3                  4.6               3.1  ...               0.2     0.0\n",
              "4                  5.0               3.6  ...               0.2     0.0\n",
              "..                 ...               ...  ...               ...     ...\n",
              "145                6.7               3.0  ...               2.3     2.0\n",
              "146                6.3               2.5  ...               1.9     2.0\n",
              "147                6.5               3.0  ...               2.0     2.0\n",
              "148                6.2               3.4  ...               2.3     2.0\n",
              "149                5.9               3.0  ...               1.8     2.0\n",
              "\n",
              "[150 rows x 5 columns]"
            ]
          },
          "metadata": {},
          "execution_count": 15
        }
      ]
    },
    {
      "cell_type": "code",
      "metadata": {
        "colab": {
          "base_uri": "https://localhost:8080/",
          "height": 206
        },
        "id": "CMQ8m5kv994R",
        "outputId": "eda3808b-a35a-42b2-de00-25dabd7fc692"
      },
      "source": [
        "import pandas as pd\n",
        "\n",
        "iris_data = load_iris()\n",
        "df_iris = pd.DataFrame(iris_data.data,columns=iris_data.feature_names)\n",
        "df_iris['target'] = pd.Series(iris_data.target)\n",
        "df_iris.head()"
      ],
      "execution_count": null,
      "outputs": [
        {
          "output_type": "execute_result",
          "data": {
            "text/html": [
              "<div>\n",
              "<style scoped>\n",
              "    .dataframe tbody tr th:only-of-type {\n",
              "        vertical-align: middle;\n",
              "    }\n",
              "\n",
              "    .dataframe tbody tr th {\n",
              "        vertical-align: top;\n",
              "    }\n",
              "\n",
              "    .dataframe thead th {\n",
              "        text-align: right;\n",
              "    }\n",
              "</style>\n",
              "<table border=\"1\" class=\"dataframe\">\n",
              "  <thead>\n",
              "    <tr style=\"text-align: right;\">\n",
              "      <th></th>\n",
              "      <th>sepal length (cm)</th>\n",
              "      <th>sepal width (cm)</th>\n",
              "      <th>petal length (cm)</th>\n",
              "      <th>petal width (cm)</th>\n",
              "      <th>target</th>\n",
              "    </tr>\n",
              "  </thead>\n",
              "  <tbody>\n",
              "    <tr>\n",
              "      <th>0</th>\n",
              "      <td>5.1</td>\n",
              "      <td>3.5</td>\n",
              "      <td>1.4</td>\n",
              "      <td>0.2</td>\n",
              "      <td>0</td>\n",
              "    </tr>\n",
              "    <tr>\n",
              "      <th>1</th>\n",
              "      <td>4.9</td>\n",
              "      <td>3.0</td>\n",
              "      <td>1.4</td>\n",
              "      <td>0.2</td>\n",
              "      <td>0</td>\n",
              "    </tr>\n",
              "    <tr>\n",
              "      <th>2</th>\n",
              "      <td>4.7</td>\n",
              "      <td>3.2</td>\n",
              "      <td>1.3</td>\n",
              "      <td>0.2</td>\n",
              "      <td>0</td>\n",
              "    </tr>\n",
              "    <tr>\n",
              "      <th>3</th>\n",
              "      <td>4.6</td>\n",
              "      <td>3.1</td>\n",
              "      <td>1.5</td>\n",
              "      <td>0.2</td>\n",
              "      <td>0</td>\n",
              "    </tr>\n",
              "    <tr>\n",
              "      <th>4</th>\n",
              "      <td>5.0</td>\n",
              "      <td>3.6</td>\n",
              "      <td>1.4</td>\n",
              "      <td>0.2</td>\n",
              "      <td>0</td>\n",
              "    </tr>\n",
              "  </tbody>\n",
              "</table>\n",
              "</div>"
            ],
            "text/plain": [
              "   sepal length (cm)  sepal width (cm)  ...  petal width (cm)  target\n",
              "0                5.1               3.5  ...               0.2       0\n",
              "1                4.9               3.0  ...               0.2       0\n",
              "2                4.7               3.2  ...               0.2       0\n",
              "3                4.6               3.1  ...               0.2       0\n",
              "4                5.0               3.6  ...               0.2       0\n",
              "\n",
              "[5 rows x 5 columns]"
            ]
          },
          "metadata": {},
          "execution_count": 23
        }
      ]
    },
    {
      "cell_type": "markdown",
      "metadata": {
        "id": "EOmLZluj7LJo"
      },
      "source": [
        "La conversion inverse est plus délicate, car nous devons identifier et spécifier la target d'un dataset sklearn."
      ]
    },
    {
      "cell_type": "code",
      "metadata": {
        "id": "dzuPbAN57LJo",
        "colab": {
          "base_uri": "https://localhost:8080/"
        },
        "outputId": "8504aa25-e384-49a5-f94c-e53e2880ea25"
      },
      "source": [
        "# A vous\n",
        "df = irisdf\n",
        "print(df.to_numpy())"
      ],
      "execution_count": null,
      "outputs": [
        {
          "output_type": "stream",
          "name": "stdout",
          "text": [
            "[[5.1 3.5 1.4 0.2 0. ]\n",
            " [4.9 3.  1.4 0.2 0. ]\n",
            " [4.7 3.2 1.3 0.2 0. ]\n",
            " [4.6 3.1 1.5 0.2 0. ]\n",
            " [5.  3.6 1.4 0.2 0. ]\n",
            " [5.4 3.9 1.7 0.4 0. ]\n",
            " [4.6 3.4 1.4 0.3 0. ]\n",
            " [5.  3.4 1.5 0.2 0. ]\n",
            " [4.4 2.9 1.4 0.2 0. ]\n",
            " [4.9 3.1 1.5 0.1 0. ]\n",
            " [5.4 3.7 1.5 0.2 0. ]\n",
            " [4.8 3.4 1.6 0.2 0. ]\n",
            " [4.8 3.  1.4 0.1 0. ]\n",
            " [4.3 3.  1.1 0.1 0. ]\n",
            " [5.8 4.  1.2 0.2 0. ]\n",
            " [5.7 4.4 1.5 0.4 0. ]\n",
            " [5.4 3.9 1.3 0.4 0. ]\n",
            " [5.1 3.5 1.4 0.3 0. ]\n",
            " [5.7 3.8 1.7 0.3 0. ]\n",
            " [5.1 3.8 1.5 0.3 0. ]\n",
            " [5.4 3.4 1.7 0.2 0. ]\n",
            " [5.1 3.7 1.5 0.4 0. ]\n",
            " [4.6 3.6 1.  0.2 0. ]\n",
            " [5.1 3.3 1.7 0.5 0. ]\n",
            " [4.8 3.4 1.9 0.2 0. ]\n",
            " [5.  3.  1.6 0.2 0. ]\n",
            " [5.  3.4 1.6 0.4 0. ]\n",
            " [5.2 3.5 1.5 0.2 0. ]\n",
            " [5.2 3.4 1.4 0.2 0. ]\n",
            " [4.7 3.2 1.6 0.2 0. ]\n",
            " [4.8 3.1 1.6 0.2 0. ]\n",
            " [5.4 3.4 1.5 0.4 0. ]\n",
            " [5.2 4.1 1.5 0.1 0. ]\n",
            " [5.5 4.2 1.4 0.2 0. ]\n",
            " [4.9 3.1 1.5 0.2 0. ]\n",
            " [5.  3.2 1.2 0.2 0. ]\n",
            " [5.5 3.5 1.3 0.2 0. ]\n",
            " [4.9 3.6 1.4 0.1 0. ]\n",
            " [4.4 3.  1.3 0.2 0. ]\n",
            " [5.1 3.4 1.5 0.2 0. ]\n",
            " [5.  3.5 1.3 0.3 0. ]\n",
            " [4.5 2.3 1.3 0.3 0. ]\n",
            " [4.4 3.2 1.3 0.2 0. ]\n",
            " [5.  3.5 1.6 0.6 0. ]\n",
            " [5.1 3.8 1.9 0.4 0. ]\n",
            " [4.8 3.  1.4 0.3 0. ]\n",
            " [5.1 3.8 1.6 0.2 0. ]\n",
            " [4.6 3.2 1.4 0.2 0. ]\n",
            " [5.3 3.7 1.5 0.2 0. ]\n",
            " [5.  3.3 1.4 0.2 0. ]\n",
            " [7.  3.2 4.7 1.4 1. ]\n",
            " [6.4 3.2 4.5 1.5 1. ]\n",
            " [6.9 3.1 4.9 1.5 1. ]\n",
            " [5.5 2.3 4.  1.3 1. ]\n",
            " [6.5 2.8 4.6 1.5 1. ]\n",
            " [5.7 2.8 4.5 1.3 1. ]\n",
            " [6.3 3.3 4.7 1.6 1. ]\n",
            " [4.9 2.4 3.3 1.  1. ]\n",
            " [6.6 2.9 4.6 1.3 1. ]\n",
            " [5.2 2.7 3.9 1.4 1. ]\n",
            " [5.  2.  3.5 1.  1. ]\n",
            " [5.9 3.  4.2 1.5 1. ]\n",
            " [6.  2.2 4.  1.  1. ]\n",
            " [6.1 2.9 4.7 1.4 1. ]\n",
            " [5.6 2.9 3.6 1.3 1. ]\n",
            " [6.7 3.1 4.4 1.4 1. ]\n",
            " [5.6 3.  4.5 1.5 1. ]\n",
            " [5.8 2.7 4.1 1.  1. ]\n",
            " [6.2 2.2 4.5 1.5 1. ]\n",
            " [5.6 2.5 3.9 1.1 1. ]\n",
            " [5.9 3.2 4.8 1.8 1. ]\n",
            " [6.1 2.8 4.  1.3 1. ]\n",
            " [6.3 2.5 4.9 1.5 1. ]\n",
            " [6.1 2.8 4.7 1.2 1. ]\n",
            " [6.4 2.9 4.3 1.3 1. ]\n",
            " [6.6 3.  4.4 1.4 1. ]\n",
            " [6.8 2.8 4.8 1.4 1. ]\n",
            " [6.7 3.  5.  1.7 1. ]\n",
            " [6.  2.9 4.5 1.5 1. ]\n",
            " [5.7 2.6 3.5 1.  1. ]\n",
            " [5.5 2.4 3.8 1.1 1. ]\n",
            " [5.5 2.4 3.7 1.  1. ]\n",
            " [5.8 2.7 3.9 1.2 1. ]\n",
            " [6.  2.7 5.1 1.6 1. ]\n",
            " [5.4 3.  4.5 1.5 1. ]\n",
            " [6.  3.4 4.5 1.6 1. ]\n",
            " [6.7 3.1 4.7 1.5 1. ]\n",
            " [6.3 2.3 4.4 1.3 1. ]\n",
            " [5.6 3.  4.1 1.3 1. ]\n",
            " [5.5 2.5 4.  1.3 1. ]\n",
            " [5.5 2.6 4.4 1.2 1. ]\n",
            " [6.1 3.  4.6 1.4 1. ]\n",
            " [5.8 2.6 4.  1.2 1. ]\n",
            " [5.  2.3 3.3 1.  1. ]\n",
            " [5.6 2.7 4.2 1.3 1. ]\n",
            " [5.7 3.  4.2 1.2 1. ]\n",
            " [5.7 2.9 4.2 1.3 1. ]\n",
            " [6.2 2.9 4.3 1.3 1. ]\n",
            " [5.1 2.5 3.  1.1 1. ]\n",
            " [5.7 2.8 4.1 1.3 1. ]\n",
            " [6.3 3.3 6.  2.5 2. ]\n",
            " [5.8 2.7 5.1 1.9 2. ]\n",
            " [7.1 3.  5.9 2.1 2. ]\n",
            " [6.3 2.9 5.6 1.8 2. ]\n",
            " [6.5 3.  5.8 2.2 2. ]\n",
            " [7.6 3.  6.6 2.1 2. ]\n",
            " [4.9 2.5 4.5 1.7 2. ]\n",
            " [7.3 2.9 6.3 1.8 2. ]\n",
            " [6.7 2.5 5.8 1.8 2. ]\n",
            " [7.2 3.6 6.1 2.5 2. ]\n",
            " [6.5 3.2 5.1 2.  2. ]\n",
            " [6.4 2.7 5.3 1.9 2. ]\n",
            " [6.8 3.  5.5 2.1 2. ]\n",
            " [5.7 2.5 5.  2.  2. ]\n",
            " [5.8 2.8 5.1 2.4 2. ]\n",
            " [6.4 3.2 5.3 2.3 2. ]\n",
            " [6.5 3.  5.5 1.8 2. ]\n",
            " [7.7 3.8 6.7 2.2 2. ]\n",
            " [7.7 2.6 6.9 2.3 2. ]\n",
            " [6.  2.2 5.  1.5 2. ]\n",
            " [6.9 3.2 5.7 2.3 2. ]\n",
            " [5.6 2.8 4.9 2.  2. ]\n",
            " [7.7 2.8 6.7 2.  2. ]\n",
            " [6.3 2.7 4.9 1.8 2. ]\n",
            " [6.7 3.3 5.7 2.1 2. ]\n",
            " [7.2 3.2 6.  1.8 2. ]\n",
            " [6.2 2.8 4.8 1.8 2. ]\n",
            " [6.1 3.  4.9 1.8 2. ]\n",
            " [6.4 2.8 5.6 2.1 2. ]\n",
            " [7.2 3.  5.8 1.6 2. ]\n",
            " [7.4 2.8 6.1 1.9 2. ]\n",
            " [7.9 3.8 6.4 2.  2. ]\n",
            " [6.4 2.8 5.6 2.2 2. ]\n",
            " [6.3 2.8 5.1 1.5 2. ]\n",
            " [6.1 2.6 5.6 1.4 2. ]\n",
            " [7.7 3.  6.1 2.3 2. ]\n",
            " [6.3 3.4 5.6 2.4 2. ]\n",
            " [6.4 3.1 5.5 1.8 2. ]\n",
            " [6.  3.  4.8 1.8 2. ]\n",
            " [6.9 3.1 5.4 2.1 2. ]\n",
            " [6.7 3.1 5.6 2.4 2. ]\n",
            " [6.9 3.1 5.1 2.3 2. ]\n",
            " [5.8 2.7 5.1 1.9 2. ]\n",
            " [6.8 3.2 5.9 2.3 2. ]\n",
            " [6.7 3.3 5.7 2.5 2. ]\n",
            " [6.7 3.  5.2 2.3 2. ]\n",
            " [6.3 2.5 5.  1.9 2. ]\n",
            " [6.5 3.  5.2 2.  2. ]\n",
            " [6.2 3.4 5.4 2.3 2. ]\n",
            " [5.9 3.  5.1 1.8 2. ]]\n"
          ]
        }
      ]
    },
    {
      "cell_type": "markdown",
      "metadata": {
        "id": "WXkhXIZCl8YW"
      },
      "source": [
        "## 4. ACP\n",
        "\n",
        "Nous allons maintenant s'intéresser à la méthode ACP pour la réduction de dimension et la visualisation. Pour cela, nous allons utiliser le jeu de données de chiffrs manuscriptes `digits`.\n",
        "\n",
        " ![img](https://www.tensorflow.org/images/MNIST.png)"
      ]
    },
    {
      "cell_type": "markdown",
      "metadata": {
        "id": "KlbXp2fcrDUc"
      },
      "source": [
        "Le jeu de données `digits` est aussi disponible dans scikit-learn. Téléchargez le jeu de données `digits`.\n",
        "\n"
      ]
    },
    {
      "cell_type": "code",
      "metadata": {
        "id": "3Uy4ii_kl_uB"
      },
      "source": [
        "from sklearn.datasets import load_digits\n",
        "digits = load_digits()\n"
      ],
      "execution_count": null,
      "outputs": []
    },
    {
      "cell_type": "markdown",
      "metadata": {
        "id": "0eg7c94Ms7iY"
      },
      "source": [
        "Affichez la taille du jeu de données."
      ]
    },
    {
      "cell_type": "code",
      "metadata": {
        "id": "aKN8PZbutDZZ",
        "colab": {
          "base_uri": "https://localhost:8080/"
        },
        "outputId": "87a369fc-889d-4ebd-a582-08cb6679a612"
      },
      "source": [
        "digits.data.shape"
      ],
      "execution_count": null,
      "outputs": [
        {
          "output_type": "execute_result",
          "data": {
            "text/plain": [
              "(1797, 64)"
            ]
          },
          "metadata": {},
          "execution_count": 28
        }
      ]
    },
    {
      "cell_type": "markdown",
      "metadata": {
        "id": "1Rd34e16tKHV"
      },
      "source": [
        "Le jeu de données contient 1797 données. Chaque donnée est un vecteur de 64 valeurs. Ces valeurs correspondent aux pixels d'une image de taille $8 \\times 8$. Affichons quelques données."
      ]
    },
    {
      "cell_type": "code",
      "metadata": {
        "id": "ay3Ojdf1uFBv",
        "colab": {
          "base_uri": "https://localhost:8080/",
          "height": 591
        },
        "outputId": "c82c5376-f1fc-4c07-e913-bd8231653f54"
      },
      "source": [
        "import matplotlib.pyplot as plt\n",
        "from itertools import product\n",
        "\n",
        "images = digits.images.astype(np.int_)\n",
        "print(images.shape)\n",
        "\n",
        "n_rows = 8\n",
        "n_cols = 8\n",
        "\n",
        "fig, ax = plt.subplots(nrows=n_rows, ncols=n_cols, figsize=(10, 10))\n",
        "for i, j in product(range(n_rows), range(n_cols)):\n",
        "    k = n_cols * i + j\n",
        "    image = images[k,0:8,0:8]\n",
        "    ax[i, j].imshow(image, cmap='binary', interpolation='none')\n",
        "    ax[i, j].axis('off')\n",
        "    \n",
        "\n",
        "plt.show()\n",
        "plt.close()\n"
      ],
      "execution_count": null,
      "outputs": [
        {
          "output_type": "stream",
          "name": "stdout",
          "text": [
            "(1797, 8, 8)\n"
          ]
        },
        {
          "output_type": "display_data",
          "data": {
            "image/png": "[encoded data removed]",
            "text/plain": [
              "<Figure size 720x720 with 64 Axes>"
            ]
          },
          "metadata": {
            "needs_background": "light"
          }
        }
      ]
    },
    {
      "cell_type": "markdown",
      "metadata": {
        "id": "y5hV_XyuyKIi"
      },
      "source": [
        "Nous allons maintenant projeter les données dans un espace dans un espace de plus petite dimension utilisant l'ACP. Nous pouvons par exemple les projeter dans un espace de dimension 2. C'est à dire que nous allons transformer chaque donnée de dimension 64 en une donnée de dimension 2."
      ]
    },
    {
      "cell_type": "code",
      "metadata": {
        "id": "iE5JqZzTynhr",
        "colab": {
          "base_uri": "https://localhost:8080/"
        },
        "outputId": "5ae81a2a-5a4a-4fd8-bc5d-1ac69615ae38"
      },
      "source": [
        "from sklearn import decomposition\n",
        "pca = decomposition.PCA(2)  # projection de dim 64 à dim 2\n",
        "donnees_projetes = pca.fit_transform(digits.data)\n",
        "print(digits.data.shape)\n",
        "print(digits.data)\n",
        "\n",
        "print(donnees_projetes.shape)\n",
        "print(donnees_projetes)"
      ],
      "execution_count": null,
      "outputs": [
        {
          "output_type": "stream",
          "name": "stdout",
          "text": [
            "(1797, 64)\n",
            "[[ 0.  0.  5. ...  0.  0.  0.]\n",
            " [ 0.  0.  0. ... 10.  0.  0.]\n",
            " [ 0.  0.  0. ... 16.  9.  0.]\n",
            " ...\n",
            " [ 0.  0.  1. ...  6.  0.  0.]\n",
            " [ 0.  0.  2. ... 12.  0.  0.]\n",
            " [ 0.  0. 10. ... 12.  1.  0.]]\n",
            "(1797, 2)\n",
            "[[ -1.25946587  21.27487869]\n",
            " [  7.95761236 -20.76870509]\n",
            " [  6.9919222   -9.95598035]\n",
            " ...\n",
            " [ 10.80128296  -6.96025147]\n",
            " [ -4.87209905  12.42395324]\n",
            " [ -0.34439137   6.36555765]]\n"
          ]
        }
      ]
    },
    {
      "cell_type": "markdown",
      "metadata": {
        "id": "h0EIsyEUzQJq"
      },
      "source": [
        "Nous pouvons donc afficher les données projetées dans un graphique 2D."
      ]
    },
    {
      "cell_type": "code",
      "metadata": {
        "id": "YC0L1auwzbvV",
        "colab": {
          "base_uri": "https://localhost:8080/",
          "height": 392
        },
        "outputId": "f1cd511d-d7fb-4bd0-fc5c-628d8c2fb0d3"
      },
      "source": [
        "plt.figure(figsize=(10, 6))\n",
        "plt.scatter(donnees_projetes[:, 0], donnees_projetes[:, 1], c=digits.target, edgecolor='none', alpha=0.5,\n",
        "            cmap=plt.cm.get_cmap('nipy_spectral', 10))\n",
        "plt.xlabel('composante 1')\n",
        "plt.ylabel('composante 2')\n",
        "plt.colorbar();"
      ],
      "execution_count": null,
      "outputs": [
        {
          "output_type": "display_data",
          "data": {
            "image/png": "[encoded data removed]",
            "text/plain": [
              "<Figure size 720x432 with 2 Axes>"
            ]
          },
          "metadata": {
            "needs_background": "light"
          }
        }
      ]
    },
    {
      "cell_type": "markdown",
      "metadata": {
        "id": "jyBus-8k1HFS"
      },
      "source": [
        "Analyser librement le résultat obtenu au regard d'une tâche de classification. Par exemple, est-il possible d'identifier les frontières entre les 10 classes de chiffres ? Quelles sont les plus grosses confusions entre chiffres ?"
      ]
    },
    {
      "cell_type": "markdown",
      "metadata": {
        "id": "7XBvAOHS7LJt"
      },
      "source": [
        "Refaire cette ACP mais en ne conservant les 3 premières composantes principales, et visualiser la transformation des données dans le nouvel espace obtenu. Commenter au regard de l'espace 2D précédent."
      ]
    },
    {
      "cell_type": "code",
      "metadata": {
        "id": "Gyvs8MD97LJt",
        "colab": {
          "base_uri": "https://localhost:8080/",
          "height": 427
        },
        "outputId": "fff79123-101c-42a1-a96a-6bf7452c482f"
      },
      "source": [
        "# a vous\n",
        "from sklearn import decomposition\n",
        "pca = decomposition.PCA(3)  # projection de dim 64 à dim 2\n",
        "donnees_p = pca.fit_transform(digits.data)\n",
        "plt.figure(figsize=(10, 6))\n",
        "plt.scatter(donnees_p[:, 0], donnees_p[:, 1],donnees_p[:, 2], c=digits.target, edgecolor='none', alpha=0.5,\n",
        "            cmap=plt.cm.get_cmap('nipy_spectral', 10))\n",
        "plt.xlabel('composante 1')\n",
        "plt.ylabel('composante 2')\n",
        "plt.colorbar();\n"
      ],
      "execution_count": null,
      "outputs": [
        {
          "output_type": "stream",
          "name": "stderr",
          "text": [
            "/usr/local/lib/python3.7/dist-packages/matplotlib/collections.py:885: RuntimeWarning: invalid value encountered in sqrt\n",
            "  scale = np.sqrt(self._sizes) * dpi / 72.0 * self._factor\n"
          ]
        },
        {
          "output_type": "display_data",
          "data": {
            "image/png": "[encoded data removed]",
            "text/plain": [
              "<Figure size 720x432 with 2 Axes>"
            ]
          },
          "metadata": {
            "needs_background": "light"
          }
        }
      ]
    },
    {
      "cell_type": "markdown",
      "metadata": {
        "id": "IxxMJ6xz7LJu"
      },
      "source": [
        "## 5. Données manquantes"
      ]
    },
    {
      "cell_type": "markdown",
      "metadata": {
        "id": "TVxTI_n17LJu"
      },
      "source": [
        "Ci-après, nous modifions le jeu de données digits en éliminant de façon aléatoire des valeurs de colonnes pour certaines valeurs de colonnes dans certains exemples. Cette élimination revient à changer la valeur concernée vers la valeur \"Not a Number\" (`math.nan`)"
      ]
    },
    {
      "cell_type": "code",
      "metadata": {
        "id": "S1aG76UE7LJu",
        "colab": {
          "base_uri": "https://localhost:8080/"
        },
        "outputId": "bedea00c-d722-44e0-d10a-02bd166d1b88"
      },
      "source": [
        "import numpy as np\n",
        "from sklearn.datasets import load_digits\n",
        "import random\n",
        "import math\n",
        "digits = load_digits()\n",
        "miss_digits = load_digits()\n",
        "nbmissingvalues = random.randint(1000,2000)\n",
        "for imissingvalue in range(nbmissingvalues):\n",
        "    lig = random.randint(0,1763)\n",
        "    col = random.randint(0,63)\n",
        "    miss_digits.data[lig,col] = math.nan\n",
        "print(miss_digits) "
      ],
      "execution_count": null,
      "outputs": [
        {
          "output_type": "stream",
          "name": "stdout",
          "text": [
            "{'data': array([[ 0.,  0.,  5., ...,  0.,  0.,  0.],\n",
            "       [ 0.,  0.,  0., ..., 10.,  0.,  0.],\n",
            "       [ 0.,  0.,  0., ..., 16.,  9.,  0.],\n",
            "       ...,\n",
            "       [ 0.,  0.,  1., ...,  6.,  0.,  0.],\n",
            "       [ 0.,  0.,  2., ..., 12.,  0.,  0.],\n",
            "       [ 0.,  0., 10., ..., 12.,  1.,  0.]]), 'target': array([0, 1, 2, ..., 8, 9, 8]), 'target_names': array([0, 1, 2, 3, 4, 5, 6, 7, 8, 9]), 'images': array([[[ 0.,  0.,  5., ...,  1.,  0.,  0.],\n",
            "        [ 0.,  0., 13., ..., 15.,  5.,  0.],\n",
            "        [ 0.,  3., 15., ..., 11.,  8.,  0.],\n",
            "        ...,\n",
            "        [ 0.,  4., 11., ..., 12.,  7.,  0.],\n",
            "        [ 0.,  2., 14., ..., 12.,  0.,  0.],\n",
            "        [ 0.,  0.,  6., ...,  0.,  0.,  0.]],\n",
            "\n",
            "       [[ 0.,  0.,  0., ...,  5.,  0.,  0.],\n",
            "        [ 0.,  0.,  0., ...,  9.,  0.,  0.],\n",
            "        [ 0.,  0.,  3., ...,  6.,  0.,  0.],\n",
            "        ...,\n",
            "        [ 0., nan,  1., ...,  6.,  0.,  0.],\n",
            "        [ 0.,  0.,  1., ...,  6.,  0.,  0.],\n",
            "        [ 0.,  0.,  0., ..., 10.,  0.,  0.]],\n",
            "\n",
            "       [[ 0.,  0.,  0., ..., 12.,  0.,  0.],\n",
            "        [ 0.,  0.,  3., ..., 14., nan,  0.],\n",
            "        [ 0.,  0.,  8., ..., 16.,  0.,  0.],\n",
            "        ...,\n",
            "        [ 0.,  9., 16., ...,  0.,  0.,  0.],\n",
            "        [ 0.,  3., 13., ..., 11.,  5.,  0.],\n",
            "        [ 0.,  0.,  0., ..., 16.,  9.,  0.]],\n",
            "\n",
            "       ...,\n",
            "\n",
            "       [[ 0.,  0.,  1., ...,  1.,  0.,  0.],\n",
            "        [ 0.,  0., 13., ...,  2.,  1.,  0.],\n",
            "        [ 0.,  0., 16., ..., 16.,  5.,  0.],\n",
            "        ...,\n",
            "        [ 0.,  0., 16., ..., 15.,  0.,  0.],\n",
            "        [ 0.,  0., 15., ..., 16.,  0.,  0.],\n",
            "        [ 0.,  0.,  2., ...,  6.,  0.,  0.]],\n",
            "\n",
            "       [[ 0.,  0.,  2., ...,  0.,  0.,  0.],\n",
            "        [ 0.,  0., 14., ..., 15.,  1.,  0.],\n",
            "        [ 0.,  4., 16., ..., 16.,  7.,  0.],\n",
            "        ...,\n",
            "        [ 0.,  0.,  0., ..., 16.,  2.,  0.],\n",
            "        [ 0.,  0.,  4., ..., 16.,  2.,  0.],\n",
            "        [ 0.,  0.,  5., ..., 12.,  0.,  0.]],\n",
            "\n",
            "       [[ 0.,  0., 10., ...,  1.,  0.,  0.],\n",
            "        [ 0.,  2., 16., ...,  1.,  0.,  0.],\n",
            "        [ 0.,  0., 15., ..., 15.,  0.,  0.],\n",
            "        ...,\n",
            "        [ 0.,  4., 16., ..., 16.,  6.,  0.],\n",
            "        [ 0.,  8., 16., ..., 16.,  8.,  0.],\n",
            "        [ 0.,  1.,  8., ..., 12.,  1.,  0.]]]), 'DESCR': \".. _digits_dataset:\\n\\nOptical recognition of handwritten digits dataset\\n--------------------------------------------------\\n\\n**Data Set Characteristics:**\\n\\n    :Number of Instances: 5620\\n    :Number of Attributes: 64\\n    :Attribute Information: 8x8 image of integer pixels in the range 0..16.\\n    :Missing Attribute Values: None\\n    :Creator: E. Alpaydin (alpaydin '@' boun.edu.tr)\\n    :Date: July; 1998\\n\\nThis is a copy of the test set of the UCI ML hand-written digits datasets\\nhttps://archive.ics.uci.edu/ml/datasets/Optical+Recognition+of+Handwritten+Digits\\n\\nThe data set contains images of hand-written digits: 10 classes where\\neach class refers to a digit.\\n\\nPreprocessing programs made available by NIST were used to extract\\nnormalized bitmaps of handwritten digits from a preprinted form. From a\\ntotal of 43 people, 30 contributed to the training set and different 13\\nto the test set. 32x32 bitmaps are divided into nonoverlapping blocks of\\n4x4 and the number of on pixels are counted in each block. This generates\\nan input matrix of 8x8 where each element is an integer in the range\\n0..16. This reduces dimensionality and gives invariance to small\\ndistortions.\\n\\nFor info on NIST preprocessing routines, see M. D. Garris, J. L. Blue, G.\\nT. Candela, D. L. Dimmick, J. Geist, P. J. Grother, S. A. Janet, and C.\\nL. Wilson, NIST Form-Based Handprint Recognition System, NISTIR 5469,\\n1994.\\n\\n.. topic:: References\\n\\n  - C. Kaynak (1995) Methods of Combining Multiple Classifiers and Their\\n    Applications to Handwritten Digit Recognition, MSc Thesis, Institute of\\n    Graduate Studies in Science and Engineering, Bogazici University.\\n  - E. Alpaydin, C. Kaynak (1998) Cascading Classifiers, Kybernetika.\\n  - Ken Tang and Ponnuthurai N. Suganthan and Xi Yao and A. Kai Qin.\\n    Linear dimensionalityreduction using relevance weighted LDA. School of\\n    Electrical and Electronic Engineering Nanyang Technological University.\\n    2005.\\n  - Claudio Gentile. A New Approximate Maximal Margin Classification\\n    Algorithm. NIPS. 2000.\"}\n"
          ]
        }
      ]
    },
    {
      "cell_type": "markdown",
      "metadata": {
        "id": "WRERPAAM7LJv"
      },
      "source": [
        "Combien de valeurs sont manquantes globalement ? Combien de valeurs sont manquantes, colonne par colonne~? "
      ]
    },
    {
      "cell_type": "code",
      "metadata": {
        "id": "ou3lIp337LJv",
        "colab": {
          "base_uri": "https://localhost:8080/"
        },
        "outputId": "540bdbcb-f422-4ed8-9430-34b01f3e4f30"
      },
      "source": [
        "# a vous\n",
        "count = 0\n",
        "for array in miss_digits.data:\n",
        "  for num in array:\n",
        "    if(str(num) == str(math.nan)):\n",
        "      count = count + 1\n",
        "print(\"Il y'a\",count,\"valeurs manquantes globalement\")  \n",
        "total = 0 \n",
        "for i in range(miss_digits.data.shape[1]):\n",
        "  c = 0\n",
        "  for j in range(len(miss_digits.data)):\n",
        "    if(str(miss_digits.data[j][i]) == str(math.nan)):\n",
        "      c = c + 1\n",
        "  total = total + c   \n",
        "  print(\"le nombre de valeurs manquantes dans la colonne \",i,\"  : \",c)\n",
        "print(total)\n",
        "print(miss_digits.data)"
      ],
      "execution_count": null,
      "outputs": [
        {
          "output_type": "stream",
          "name": "stdout",
          "text": [
            "Il y'a 1741 valeurs manquantes globalement\n",
            "le nombre de valeurs manquantes dans la colonne  0   :  26\n",
            "le nombre de valeurs manquantes dans la colonne  1   :  31\n",
            "le nombre de valeurs manquantes dans la colonne  2   :  26\n",
            "le nombre de valeurs manquantes dans la colonne  3   :  40\n",
            "le nombre de valeurs manquantes dans la colonne  4   :  32\n",
            "le nombre de valeurs manquantes dans la colonne  5   :  26\n",
            "le nombre de valeurs manquantes dans la colonne  6   :  31\n",
            "le nombre de valeurs manquantes dans la colonne  7   :  27\n",
            "le nombre de valeurs manquantes dans la colonne  8   :  25\n",
            "le nombre de valeurs manquantes dans la colonne  9   :  27\n",
            "le nombre de valeurs manquantes dans la colonne  10   :  22\n",
            "le nombre de valeurs manquantes dans la colonne  11   :  29\n",
            "le nombre de valeurs manquantes dans la colonne  12   :  14\n",
            "le nombre de valeurs manquantes dans la colonne  13   :  30\n",
            "le nombre de valeurs manquantes dans la colonne  14   :  29\n",
            "le nombre de valeurs manquantes dans la colonne  15   :  28\n",
            "le nombre de valeurs manquantes dans la colonne  16   :  27\n",
            "le nombre de valeurs manquantes dans la colonne  17   :  30\n",
            "le nombre de valeurs manquantes dans la colonne  18   :  19\n",
            "le nombre de valeurs manquantes dans la colonne  19   :  23\n",
            "le nombre de valeurs manquantes dans la colonne  20   :  35\n",
            "le nombre de valeurs manquantes dans la colonne  21   :  27\n",
            "le nombre de valeurs manquantes dans la colonne  22   :  25\n",
            "le nombre de valeurs manquantes dans la colonne  23   :  30\n",
            "le nombre de valeurs manquantes dans la colonne  24   :  26\n",
            "le nombre de valeurs manquantes dans la colonne  25   :  28\n",
            "le nombre de valeurs manquantes dans la colonne  26   :  17\n",
            "le nombre de valeurs manquantes dans la colonne  27   :  24\n",
            "le nombre de valeurs manquantes dans la colonne  28   :  20\n",
            "le nombre de valeurs manquantes dans la colonne  29   :  27\n",
            "le nombre de valeurs manquantes dans la colonne  30   :  21\n",
            "le nombre de valeurs manquantes dans la colonne  31   :  29\n",
            "le nombre de valeurs manquantes dans la colonne  32   :  24\n",
            "le nombre de valeurs manquantes dans la colonne  33   :  33\n",
            "le nombre de valeurs manquantes dans la colonne  34   :  28\n",
            "le nombre de valeurs manquantes dans la colonne  35   :  26\n",
            "le nombre de valeurs manquantes dans la colonne  36   :  31\n",
            "le nombre de valeurs manquantes dans la colonne  37   :  29\n",
            "le nombre de valeurs manquantes dans la colonne  38   :  26\n",
            "le nombre de valeurs manquantes dans la colonne  39   :  24\n",
            "le nombre de valeurs manquantes dans la colonne  40   :  20\n",
            "le nombre de valeurs manquantes dans la colonne  41   :  33\n",
            "le nombre de valeurs manquantes dans la colonne  42   :  32\n",
            "le nombre de valeurs manquantes dans la colonne  43   :  36\n",
            "le nombre de valeurs manquantes dans la colonne  44   :  26\n",
            "le nombre de valeurs manquantes dans la colonne  45   :  30\n",
            "le nombre de valeurs manquantes dans la colonne  46   :  27\n",
            "le nombre de valeurs manquantes dans la colonne  47   :  26\n",
            "le nombre de valeurs manquantes dans la colonne  48   :  29\n",
            "le nombre de valeurs manquantes dans la colonne  49   :  26\n",
            "le nombre de valeurs manquantes dans la colonne  50   :  20\n",
            "le nombre de valeurs manquantes dans la colonne  51   :  31\n",
            "le nombre de valeurs manquantes dans la colonne  52   :  15\n",
            "le nombre de valeurs manquantes dans la colonne  53   :  26\n",
            "le nombre de valeurs manquantes dans la colonne  54   :  24\n",
            "le nombre de valeurs manquantes dans la colonne  55   :  26\n",
            "le nombre de valeurs manquantes dans la colonne  56   :  26\n",
            "le nombre de valeurs manquantes dans la colonne  57   :  30\n",
            "le nombre de valeurs manquantes dans la colonne  58   :  24\n",
            "le nombre de valeurs manquantes dans la colonne  59   :  30\n",
            "le nombre de valeurs manquantes dans la colonne  60   :  31\n",
            "le nombre de valeurs manquantes dans la colonne  61   :  32\n",
            "le nombre de valeurs manquantes dans la colonne  62   :  35\n",
            "le nombre de valeurs manquantes dans la colonne  63   :  34\n",
            "1741\n",
            "[[ 0.  0.  5. ...  0.  0.  0.]\n",
            " [ 0.  0.  0. ... 10.  0.  0.]\n",
            " [ 0.  0.  0. ... 16.  9.  0.]\n",
            " ...\n",
            " [ 0.  0.  1. ...  6.  0.  0.]\n",
            " [ 0.  0.  2. ... 12.  0.  0.]\n",
            " [ 0.  0. 10. ... 12.  1.  0.]]\n"
          ]
        }
      ]
    },
    {
      "cell_type": "markdown",
      "metadata": {
        "id": "PwGLFuI87LJv"
      },
      "source": [
        "On veut maintenant comparer trois méthodes pour compléter ces valeurs manquantes:\n",
        "\n",
        "1. Complétion stationnaire (valeur la plus fréquante pour cette colonne)\n",
        "2. Complétion par combinaison linéaire (moyenne des valeurs de cette colonne pour la classe de l'exemple concerné)\n",
        "3. Complétion par l'algorithme des $k$ plus proches voisins\n",
        "\n",
        "Pour mesurer la qualité de chaque méthode, nous calculons le score d'écart moyen au carré $e_m$ pour chaque méthode $m$. Pour chaque ligne $i$ et colonne $j$, soit $\\acute{x_{i,j}}$ la valeur imputée par $m$  à la variable $x_{i,j}$ qui était manquante. Alors nous avons $$e_m = \\sum_{i,j} (x_{i,j}-\\acute{x_{i,j}})^2$$\n",
        "Plus $e_m$ est petit, meilleure est la méthode $m$.\n",
        "\n",
        "(Notons que dans le cas de cet exercice, nous avons dans `digits` les vraies valeurs qui manquent dans `miss\\_digits`, mais en général nous ne pouvons pas puisque les valeurs manquent. Ici, l'objectif est de comparer lmes méthodes. Nous verrons dans d'autres TPs comment choisir la meilleure méthode dans le cas général).\n",
        "\n",
        "L'objectif de cet exercice est de réaliser ces trois méthodes, soit en les codant, soit en récupérant ce qui existe dans `sklearn` ou dans `pandas` (mais alors il faut être capable de lire la documentation). \n",
        "\n",
        "Indiquer le(s) programme(s) permettant de compléter les valeurs manquantes selon les trois méthodes ci-dessus, et les ordonner de la meilleure à la moins bonne. "
      ]
    },
    {
      "cell_type": "code",
      "metadata": {
        "id": "Ti8ySwwy7LJv",
        "colab": {
          "base_uri": "https://localhost:8080/"
        },
        "outputId": "fa4c79cd-3d13-41d3-bdbf-564a1967b8a3"
      },
      "source": [
        "# methode 01 : Complétion stationnaire (valeur la plus fréquante pour cette colonne)\n",
        "def most_frequent_value(array):\n",
        "  occ_max = 0;\n",
        "  for i in range(len(array)):\n",
        "      a = array[i]\n",
        "      occ = 0;\n",
        "      for n in array:\n",
        "        if(n == a):\n",
        "          occ = occ + 1 \n",
        "      if(occ > occ_max ): \n",
        "        occ_max = occ\n",
        "        most_frequent_value = array[i]\n",
        "  return most_frequent_value\n",
        "def comp_stationnaire(miss_digits):\n",
        "  for i in range(miss_digits.shape[1]):\n",
        "    for j in range(len(miss_digits)):\n",
        "      if(str(miss_digits[j][i]) == str(math.nan)):\n",
        "        mfv = most_frequent_value(miss_digits[:,i])\n",
        "        miss_digits[j][i] = mfv\n",
        "  return miss_digits\n",
        "comp_stationnaire(miss_digits.data)\n"
      ],
      "execution_count": null,
      "outputs": [
        {
          "output_type": "execute_result",
          "data": {
            "text/plain": [
              "array([[ 0.,  0.,  5., ...,  0.,  0.,  0.],\n",
              "       [ 0.,  0.,  0., ..., 10.,  0.,  0.],\n",
              "       [ 0.,  0.,  0., ..., 16.,  9.,  0.],\n",
              "       ...,\n",
              "       [ 0.,  0.,  1., ...,  6.,  0.,  0.],\n",
              "       [ 0.,  0.,  2., ..., 12.,  0.,  0.],\n",
              "       [ 0.,  0., 10., ..., 12.,  1.,  0.]])"
            ]
          },
          "metadata": {},
          "execution_count": 51
        }
      ]
    },
    {
      "cell_type": "code",
      "metadata": {
        "colab": {
          "base_uri": "https://localhost:8080/"
        },
        "id": "EpSa0XRGaX_r",
        "outputId": "11f7c22f-9d58-4726-84b4-2d18eb8de705"
      },
      "source": [
        "#test méthode 01 sur une matrice simple avec des valeurs manquantes\n",
        "mat = np.array([[1,2,8,5],\n",
        "                 [3,2,8,5],\n",
        "                 [1,2,2,5],\n",
        "                 [7,3,8,5],\n",
        "                 [5,2,8,math.nan],\n",
        "                 [6,9,7,5],\n",
        "                 [math.nan,2,8,5],\n",
        "                 [1,math.nan,8,5],\n",
        "                 [1,2,5,5],\n",
        "                 [math.nan,2,8,5],\n",
        "                 [1,8,math.nan,math.nan],\n",
        "                 [1,2,1,5]])\n",
        "comp_stationnaire(mat)"
      ],
      "execution_count": null,
      "outputs": [
        {
          "output_type": "execute_result",
          "data": {
            "text/plain": [
              "array([[1., 2., 8., 5.],\n",
              "       [3., 2., 8., 5.],\n",
              "       [1., 2., 2., 5.],\n",
              "       [7., 3., 8., 5.],\n",
              "       [5., 2., 8., 5.],\n",
              "       [6., 9., 7., 5.],\n",
              "       [1., 2., 8., 5.],\n",
              "       [1., 2., 8., 5.],\n",
              "       [1., 2., 5., 5.],\n",
              "       [1., 2., 8., 5.],\n",
              "       [1., 8., 8., 5.],\n",
              "       [1., 2., 1., 5.]])"
            ]
          },
          "metadata": {},
          "execution_count": 52
        }
      ]
    },
    {
      "cell_type": "code",
      "metadata": {
        "id": "aQKzQAcSilHt",
        "colab": {
          "base_uri": "https://localhost:8080/"
        },
        "outputId": "6ee14ba9-ca51-46f0-94a5-646a0710137c"
      },
      "source": [
        "# methode 02 : Complétion par combinaison linéaire (moyenne des valeurs de cette colonne pour la classe de l'exemple concerné)\n",
        "def mean_col(array, col, num_class):\n",
        "  class_arr = array.data[array.target==num_class]\n",
        "  mean = class_arr[:, col].mean()\n",
        "  return mean\n",
        "def comp_par_combinaison_lineaire(miss_digits):\n",
        "  for col in range(miss_digits.data.shape[1]):\n",
        "    for row in range(len(miss_digits.data)):\n",
        "      if(str(miss_digits.data[row][col]) == str(math.nan)):\n",
        "        mean = mean_col(miss_digits,col,miss_digits.data[row][miss_digits.shape[1]])\n",
        "        miss_digits.data[row][col] = mean\n",
        "  return miss_digits.data\n",
        "comp_par_combinaison_lineaire(miss_digits)"
      ],
      "execution_count": null,
      "outputs": [
        {
          "output_type": "execute_result",
          "data": {
            "text/plain": [
              "array([[ 0.,  0.,  5., ...,  0.,  0.,  0.],\n",
              "       [ 0.,  0.,  0., ..., 10.,  0.,  0.],\n",
              "       [ 0.,  0.,  0., ..., 16.,  9.,  0.],\n",
              "       ...,\n",
              "       [ 0.,  0.,  1., ...,  6.,  0.,  0.],\n",
              "       [ 0.,  0.,  2., ..., 12.,  0.,  0.],\n",
              "       [ 0.,  0., 10., ..., 12.,  1.,  0.]])"
            ]
          },
          "metadata": {},
          "execution_count": 69
        }
      ]
    },
    {
      "cell_type": "code",
      "metadata": {
        "colab": {
          "base_uri": "https://localhost:8080/",
          "height": 444
        },
        "id": "-WKDdHFFsuYu",
        "outputId": "01227c2e-1e20-4a83-9f96-1790c4f4d395"
      },
      "source": [
        "import pandas as pd\n",
        "df = pd.DataFrame(miss_digits.data)\n",
        "df['target'] = pd.Series(miss_digits.target)\n",
        "df\n"
      ],
      "execution_count": 70,
      "outputs": [
        {
          "output_type": "execute_result",
          "data": {
            "text/html": [
              "<div>\n",
              "<style scoped>\n",
              "    .dataframe tbody tr th:only-of-type {\n",
              "        vertical-align: middle;\n",
              "    }\n",
              "\n",
              "    .dataframe tbody tr th {\n",
              "        vertical-align: top;\n",
              "    }\n",
              "\n",
              "    .dataframe thead th {\n",
              "        text-align: right;\n",
              "    }\n",
              "</style>\n",
              "<table border=\"1\" class=\"dataframe\">\n",
              "  <thead>\n",
              "    <tr style=\"text-align: right;\">\n",
              "      <th></th>\n",
              "      <th>0</th>\n",
              "      <th>1</th>\n",
              "      <th>2</th>\n",
              "      <th>3</th>\n",
              "      <th>4</th>\n",
              "      <th>5</th>\n",
              "      <th>6</th>\n",
              "      <th>7</th>\n",
              "      <th>8</th>\n",
              "      <th>9</th>\n",
              "      <th>10</th>\n",
              "      <th>11</th>\n",
              "      <th>12</th>\n",
              "      <th>13</th>\n",
              "      <th>14</th>\n",
              "      <th>15</th>\n",
              "      <th>16</th>\n",
              "      <th>17</th>\n",
              "      <th>18</th>\n",
              "      <th>19</th>\n",
              "      <th>20</th>\n",
              "      <th>21</th>\n",
              "      <th>22</th>\n",
              "      <th>23</th>\n",
              "      <th>24</th>\n",
              "      <th>25</th>\n",
              "      <th>26</th>\n",
              "      <th>27</th>\n",
              "      <th>28</th>\n",
              "      <th>29</th>\n",
              "      <th>30</th>\n",
              "      <th>31</th>\n",
              "      <th>32</th>\n",
              "      <th>33</th>\n",
              "      <th>34</th>\n",
              "      <th>35</th>\n",
              "      <th>36</th>\n",
              "      <th>37</th>\n",
              "      <th>38</th>\n",
              "      <th>39</th>\n",
              "      <th>40</th>\n",
              "      <th>41</th>\n",
              "      <th>42</th>\n",
              "      <th>43</th>\n",
              "      <th>44</th>\n",
              "      <th>45</th>\n",
              "      <th>46</th>\n",
              "      <th>47</th>\n",
              "      <th>48</th>\n",
              "      <th>49</th>\n",
              "      <th>50</th>\n",
              "      <th>51</th>\n",
              "      <th>52</th>\n",
              "      <th>53</th>\n",
              "      <th>54</th>\n",
              "      <th>55</th>\n",
              "      <th>56</th>\n",
              "      <th>57</th>\n",
              "      <th>58</th>\n",
              "      <th>59</th>\n",
              "      <th>60</th>\n",
              "      <th>61</th>\n",
              "      <th>62</th>\n",
              "      <th>63</th>\n",
              "      <th>target</th>\n",
              "    </tr>\n",
              "  </thead>\n",
              "  <tbody>\n",
              "    <tr>\n",
              "      <th>0</th>\n",
              "      <td>0.0</td>\n",
              "      <td>0.0</td>\n",
              "      <td>5.0</td>\n",
              "      <td>13.0</td>\n",
              "      <td>9.0</td>\n",
              "      <td>1.0</td>\n",
              "      <td>0.0</td>\n",
              "      <td>0.0</td>\n",
              "      <td>0.0</td>\n",
              "      <td>0.0</td>\n",
              "      <td>13.0</td>\n",
              "      <td>15.0</td>\n",
              "      <td>10.0</td>\n",
              "      <td>15.0</td>\n",
              "      <td>5.0</td>\n",
              "      <td>0.0</td>\n",
              "      <td>0.0</td>\n",
              "      <td>3.0</td>\n",
              "      <td>15.0</td>\n",
              "      <td>2.0</td>\n",
              "      <td>0.0</td>\n",
              "      <td>11.0</td>\n",
              "      <td>8.0</td>\n",
              "      <td>0.0</td>\n",
              "      <td>0.0</td>\n",
              "      <td>4.0</td>\n",
              "      <td>12.0</td>\n",
              "      <td>0.0</td>\n",
              "      <td>0.0</td>\n",
              "      <td>8.0</td>\n",
              "      <td>8.0</td>\n",
              "      <td>0.0</td>\n",
              "      <td>0.0</td>\n",
              "      <td>5.0</td>\n",
              "      <td>8.0</td>\n",
              "      <td>0.0</td>\n",
              "      <td>0.0</td>\n",
              "      <td>9.0</td>\n",
              "      <td>8.0</td>\n",
              "      <td>0.0</td>\n",
              "      <td>0.0</td>\n",
              "      <td>4.0</td>\n",
              "      <td>11.0</td>\n",
              "      <td>0.0</td>\n",
              "      <td>1.0</td>\n",
              "      <td>12.0</td>\n",
              "      <td>7.0</td>\n",
              "      <td>0.0</td>\n",
              "      <td>0.0</td>\n",
              "      <td>2.0</td>\n",
              "      <td>14.0</td>\n",
              "      <td>5.0</td>\n",
              "      <td>10.0</td>\n",
              "      <td>12.0</td>\n",
              "      <td>0.0</td>\n",
              "      <td>0.0</td>\n",
              "      <td>0.0</td>\n",
              "      <td>0.0</td>\n",
              "      <td>6.0</td>\n",
              "      <td>13.0</td>\n",
              "      <td>10.0</td>\n",
              "      <td>0.0</td>\n",
              "      <td>0.0</td>\n",
              "      <td>0.0</td>\n",
              "      <td>0</td>\n",
              "    </tr>\n",
              "    <tr>\n",
              "      <th>1</th>\n",
              "      <td>0.0</td>\n",
              "      <td>0.0</td>\n",
              "      <td>0.0</td>\n",
              "      <td>12.0</td>\n",
              "      <td>13.0</td>\n",
              "      <td>5.0</td>\n",
              "      <td>0.0</td>\n",
              "      <td>0.0</td>\n",
              "      <td>0.0</td>\n",
              "      <td>0.0</td>\n",
              "      <td>0.0</td>\n",
              "      <td>11.0</td>\n",
              "      <td>16.0</td>\n",
              "      <td>9.0</td>\n",
              "      <td>0.0</td>\n",
              "      <td>0.0</td>\n",
              "      <td>0.0</td>\n",
              "      <td>0.0</td>\n",
              "      <td>3.0</td>\n",
              "      <td>15.0</td>\n",
              "      <td>16.0</td>\n",
              "      <td>6.0</td>\n",
              "      <td>0.0</td>\n",
              "      <td>0.0</td>\n",
              "      <td>0.0</td>\n",
              "      <td>7.0</td>\n",
              "      <td>15.0</td>\n",
              "      <td>16.0</td>\n",
              "      <td>16.0</td>\n",
              "      <td>2.0</td>\n",
              "      <td>0.0</td>\n",
              "      <td>0.0</td>\n",
              "      <td>0.0</td>\n",
              "      <td>0.0</td>\n",
              "      <td>1.0</td>\n",
              "      <td>16.0</td>\n",
              "      <td>16.0</td>\n",
              "      <td>3.0</td>\n",
              "      <td>0.0</td>\n",
              "      <td>0.0</td>\n",
              "      <td>0.0</td>\n",
              "      <td>0.0</td>\n",
              "      <td>1.0</td>\n",
              "      <td>16.0</td>\n",
              "      <td>16.0</td>\n",
              "      <td>6.0</td>\n",
              "      <td>0.0</td>\n",
              "      <td>0.0</td>\n",
              "      <td>0.0</td>\n",
              "      <td>0.0</td>\n",
              "      <td>1.0</td>\n",
              "      <td>16.0</td>\n",
              "      <td>16.0</td>\n",
              "      <td>6.0</td>\n",
              "      <td>0.0</td>\n",
              "      <td>0.0</td>\n",
              "      <td>0.0</td>\n",
              "      <td>0.0</td>\n",
              "      <td>0.0</td>\n",
              "      <td>11.0</td>\n",
              "      <td>16.0</td>\n",
              "      <td>10.0</td>\n",
              "      <td>0.0</td>\n",
              "      <td>0.0</td>\n",
              "      <td>1</td>\n",
              "    </tr>\n",
              "    <tr>\n",
              "      <th>2</th>\n",
              "      <td>0.0</td>\n",
              "      <td>0.0</td>\n",
              "      <td>0.0</td>\n",
              "      <td>4.0</td>\n",
              "      <td>15.0</td>\n",
              "      <td>12.0</td>\n",
              "      <td>0.0</td>\n",
              "      <td>0.0</td>\n",
              "      <td>0.0</td>\n",
              "      <td>0.0</td>\n",
              "      <td>3.0</td>\n",
              "      <td>16.0</td>\n",
              "      <td>15.0</td>\n",
              "      <td>14.0</td>\n",
              "      <td>0.0</td>\n",
              "      <td>0.0</td>\n",
              "      <td>0.0</td>\n",
              "      <td>0.0</td>\n",
              "      <td>8.0</td>\n",
              "      <td>13.0</td>\n",
              "      <td>8.0</td>\n",
              "      <td>16.0</td>\n",
              "      <td>0.0</td>\n",
              "      <td>0.0</td>\n",
              "      <td>0.0</td>\n",
              "      <td>0.0</td>\n",
              "      <td>1.0</td>\n",
              "      <td>6.0</td>\n",
              "      <td>15.0</td>\n",
              "      <td>11.0</td>\n",
              "      <td>0.0</td>\n",
              "      <td>0.0</td>\n",
              "      <td>0.0</td>\n",
              "      <td>1.0</td>\n",
              "      <td>0.0</td>\n",
              "      <td>13.0</td>\n",
              "      <td>15.0</td>\n",
              "      <td>1.0</td>\n",
              "      <td>0.0</td>\n",
              "      <td>0.0</td>\n",
              "      <td>0.0</td>\n",
              "      <td>9.0</td>\n",
              "      <td>16.0</td>\n",
              "      <td>16.0</td>\n",
              "      <td>5.0</td>\n",
              "      <td>0.0</td>\n",
              "      <td>0.0</td>\n",
              "      <td>0.0</td>\n",
              "      <td>0.0</td>\n",
              "      <td>3.0</td>\n",
              "      <td>13.0</td>\n",
              "      <td>16.0</td>\n",
              "      <td>16.0</td>\n",
              "      <td>11.0</td>\n",
              "      <td>5.0</td>\n",
              "      <td>0.0</td>\n",
              "      <td>0.0</td>\n",
              "      <td>0.0</td>\n",
              "      <td>0.0</td>\n",
              "      <td>3.0</td>\n",
              "      <td>11.0</td>\n",
              "      <td>16.0</td>\n",
              "      <td>9.0</td>\n",
              "      <td>0.0</td>\n",
              "      <td>2</td>\n",
              "    </tr>\n",
              "    <tr>\n",
              "      <th>3</th>\n",
              "      <td>0.0</td>\n",
              "      <td>0.0</td>\n",
              "      <td>7.0</td>\n",
              "      <td>15.0</td>\n",
              "      <td>13.0</td>\n",
              "      <td>1.0</td>\n",
              "      <td>0.0</td>\n",
              "      <td>0.0</td>\n",
              "      <td>0.0</td>\n",
              "      <td>8.0</td>\n",
              "      <td>13.0</td>\n",
              "      <td>6.0</td>\n",
              "      <td>15.0</td>\n",
              "      <td>4.0</td>\n",
              "      <td>0.0</td>\n",
              "      <td>0.0</td>\n",
              "      <td>0.0</td>\n",
              "      <td>2.0</td>\n",
              "      <td>1.0</td>\n",
              "      <td>13.0</td>\n",
              "      <td>13.0</td>\n",
              "      <td>0.0</td>\n",
              "      <td>0.0</td>\n",
              "      <td>0.0</td>\n",
              "      <td>0.0</td>\n",
              "      <td>0.0</td>\n",
              "      <td>2.0</td>\n",
              "      <td>15.0</td>\n",
              "      <td>11.0</td>\n",
              "      <td>1.0</td>\n",
              "      <td>0.0</td>\n",
              "      <td>0.0</td>\n",
              "      <td>0.0</td>\n",
              "      <td>0.0</td>\n",
              "      <td>0.0</td>\n",
              "      <td>1.0</td>\n",
              "      <td>12.0</td>\n",
              "      <td>12.0</td>\n",
              "      <td>1.0</td>\n",
              "      <td>0.0</td>\n",
              "      <td>0.0</td>\n",
              "      <td>0.0</td>\n",
              "      <td>0.0</td>\n",
              "      <td>0.0</td>\n",
              "      <td>1.0</td>\n",
              "      <td>10.0</td>\n",
              "      <td>8.0</td>\n",
              "      <td>0.0</td>\n",
              "      <td>0.0</td>\n",
              "      <td>0.0</td>\n",
              "      <td>8.0</td>\n",
              "      <td>4.0</td>\n",
              "      <td>5.0</td>\n",
              "      <td>14.0</td>\n",
              "      <td>9.0</td>\n",
              "      <td>0.0</td>\n",
              "      <td>0.0</td>\n",
              "      <td>0.0</td>\n",
              "      <td>7.0</td>\n",
              "      <td>13.0</td>\n",
              "      <td>13.0</td>\n",
              "      <td>9.0</td>\n",
              "      <td>0.0</td>\n",
              "      <td>0.0</td>\n",
              "      <td>3</td>\n",
              "    </tr>\n",
              "    <tr>\n",
              "      <th>4</th>\n",
              "      <td>0.0</td>\n",
              "      <td>0.0</td>\n",
              "      <td>0.0</td>\n",
              "      <td>1.0</td>\n",
              "      <td>11.0</td>\n",
              "      <td>0.0</td>\n",
              "      <td>0.0</td>\n",
              "      <td>0.0</td>\n",
              "      <td>0.0</td>\n",
              "      <td>0.0</td>\n",
              "      <td>0.0</td>\n",
              "      <td>7.0</td>\n",
              "      <td>8.0</td>\n",
              "      <td>0.0</td>\n",
              "      <td>0.0</td>\n",
              "      <td>0.0</td>\n",
              "      <td>0.0</td>\n",
              "      <td>0.0</td>\n",
              "      <td>1.0</td>\n",
              "      <td>13.0</td>\n",
              "      <td>6.0</td>\n",
              "      <td>2.0</td>\n",
              "      <td>2.0</td>\n",
              "      <td>0.0</td>\n",
              "      <td>0.0</td>\n",
              "      <td>0.0</td>\n",
              "      <td>7.0</td>\n",
              "      <td>15.0</td>\n",
              "      <td>0.0</td>\n",
              "      <td>9.0</td>\n",
              "      <td>8.0</td>\n",
              "      <td>0.0</td>\n",
              "      <td>0.0</td>\n",
              "      <td>0.0</td>\n",
              "      <td>16.0</td>\n",
              "      <td>10.0</td>\n",
              "      <td>0.0</td>\n",
              "      <td>16.0</td>\n",
              "      <td>6.0</td>\n",
              "      <td>0.0</td>\n",
              "      <td>0.0</td>\n",
              "      <td>4.0</td>\n",
              "      <td>15.0</td>\n",
              "      <td>16.0</td>\n",
              "      <td>13.0</td>\n",
              "      <td>16.0</td>\n",
              "      <td>0.0</td>\n",
              "      <td>0.0</td>\n",
              "      <td>0.0</td>\n",
              "      <td>0.0</td>\n",
              "      <td>0.0</td>\n",
              "      <td>3.0</td>\n",
              "      <td>15.0</td>\n",
              "      <td>10.0</td>\n",
              "      <td>0.0</td>\n",
              "      <td>0.0</td>\n",
              "      <td>0.0</td>\n",
              "      <td>0.0</td>\n",
              "      <td>0.0</td>\n",
              "      <td>2.0</td>\n",
              "      <td>16.0</td>\n",
              "      <td>4.0</td>\n",
              "      <td>0.0</td>\n",
              "      <td>0.0</td>\n",
              "      <td>4</td>\n",
              "    </tr>\n",
              "    <tr>\n",
              "      <th>...</th>\n",
              "      <td>...</td>\n",
              "      <td>...</td>\n",
              "      <td>...</td>\n",
              "      <td>...</td>\n",
              "      <td>...</td>\n",
              "      <td>...</td>\n",
              "      <td>...</td>\n",
              "      <td>...</td>\n",
              "      <td>...</td>\n",
              "      <td>...</td>\n",
              "      <td>...</td>\n",
              "      <td>...</td>\n",
              "      <td>...</td>\n",
              "      <td>...</td>\n",
              "      <td>...</td>\n",
              "      <td>...</td>\n",
              "      <td>...</td>\n",
              "      <td>...</td>\n",
              "      <td>...</td>\n",
              "      <td>...</td>\n",
              "      <td>...</td>\n",
              "      <td>...</td>\n",
              "      <td>...</td>\n",
              "      <td>...</td>\n",
              "      <td>...</td>\n",
              "      <td>...</td>\n",
              "      <td>...</td>\n",
              "      <td>...</td>\n",
              "      <td>...</td>\n",
              "      <td>...</td>\n",
              "      <td>...</td>\n",
              "      <td>...</td>\n",
              "      <td>...</td>\n",
              "      <td>...</td>\n",
              "      <td>...</td>\n",
              "      <td>...</td>\n",
              "      <td>...</td>\n",
              "      <td>...</td>\n",
              "      <td>...</td>\n",
              "      <td>...</td>\n",
              "      <td>...</td>\n",
              "      <td>...</td>\n",
              "      <td>...</td>\n",
              "      <td>...</td>\n",
              "      <td>...</td>\n",
              "      <td>...</td>\n",
              "      <td>...</td>\n",
              "      <td>...</td>\n",
              "      <td>...</td>\n",
              "      <td>...</td>\n",
              "      <td>...</td>\n",
              "      <td>...</td>\n",
              "      <td>...</td>\n",
              "      <td>...</td>\n",
              "      <td>...</td>\n",
              "      <td>...</td>\n",
              "      <td>...</td>\n",
              "      <td>...</td>\n",
              "      <td>...</td>\n",
              "      <td>...</td>\n",
              "      <td>...</td>\n",
              "      <td>...</td>\n",
              "      <td>...</td>\n",
              "      <td>...</td>\n",
              "      <td>...</td>\n",
              "    </tr>\n",
              "    <tr>\n",
              "      <th>1792</th>\n",
              "      <td>0.0</td>\n",
              "      <td>0.0</td>\n",
              "      <td>4.0</td>\n",
              "      <td>10.0</td>\n",
              "      <td>13.0</td>\n",
              "      <td>6.0</td>\n",
              "      <td>0.0</td>\n",
              "      <td>0.0</td>\n",
              "      <td>0.0</td>\n",
              "      <td>1.0</td>\n",
              "      <td>16.0</td>\n",
              "      <td>14.0</td>\n",
              "      <td>12.0</td>\n",
              "      <td>16.0</td>\n",
              "      <td>3.0</td>\n",
              "      <td>0.0</td>\n",
              "      <td>0.0</td>\n",
              "      <td>4.0</td>\n",
              "      <td>16.0</td>\n",
              "      <td>6.0</td>\n",
              "      <td>3.0</td>\n",
              "      <td>16.0</td>\n",
              "      <td>4.0</td>\n",
              "      <td>0.0</td>\n",
              "      <td>0.0</td>\n",
              "      <td>0.0</td>\n",
              "      <td>12.0</td>\n",
              "      <td>16.0</td>\n",
              "      <td>16.0</td>\n",
              "      <td>16.0</td>\n",
              "      <td>5.0</td>\n",
              "      <td>0.0</td>\n",
              "      <td>0.0</td>\n",
              "      <td>0.0</td>\n",
              "      <td>0.0</td>\n",
              "      <td>4.0</td>\n",
              "      <td>4.0</td>\n",
              "      <td>16.0</td>\n",
              "      <td>8.0</td>\n",
              "      <td>0.0</td>\n",
              "      <td>0.0</td>\n",
              "      <td>0.0</td>\n",
              "      <td>0.0</td>\n",
              "      <td>0.0</td>\n",
              "      <td>0.0</td>\n",
              "      <td>15.0</td>\n",
              "      <td>5.0</td>\n",
              "      <td>0.0</td>\n",
              "      <td>0.0</td>\n",
              "      <td>0.0</td>\n",
              "      <td>5.0</td>\n",
              "      <td>7.0</td>\n",
              "      <td>7.0</td>\n",
              "      <td>16.0</td>\n",
              "      <td>4.0</td>\n",
              "      <td>0.0</td>\n",
              "      <td>0.0</td>\n",
              "      <td>0.0</td>\n",
              "      <td>2.0</td>\n",
              "      <td>14.0</td>\n",
              "      <td>15.0</td>\n",
              "      <td>9.0</td>\n",
              "      <td>0.0</td>\n",
              "      <td>0.0</td>\n",
              "      <td>9</td>\n",
              "    </tr>\n",
              "    <tr>\n",
              "      <th>1793</th>\n",
              "      <td>0.0</td>\n",
              "      <td>0.0</td>\n",
              "      <td>6.0</td>\n",
              "      <td>16.0</td>\n",
              "      <td>13.0</td>\n",
              "      <td>11.0</td>\n",
              "      <td>1.0</td>\n",
              "      <td>0.0</td>\n",
              "      <td>0.0</td>\n",
              "      <td>0.0</td>\n",
              "      <td>16.0</td>\n",
              "      <td>15.0</td>\n",
              "      <td>12.0</td>\n",
              "      <td>16.0</td>\n",
              "      <td>1.0</td>\n",
              "      <td>0.0</td>\n",
              "      <td>0.0</td>\n",
              "      <td>3.0</td>\n",
              "      <td>16.0</td>\n",
              "      <td>7.0</td>\n",
              "      <td>0.0</td>\n",
              "      <td>13.0</td>\n",
              "      <td>6.0</td>\n",
              "      <td>0.0</td>\n",
              "      <td>0.0</td>\n",
              "      <td>4.0</td>\n",
              "      <td>16.0</td>\n",
              "      <td>0.0</td>\n",
              "      <td>0.0</td>\n",
              "      <td>10.0</td>\n",
              "      <td>8.0</td>\n",
              "      <td>0.0</td>\n",
              "      <td>0.0</td>\n",
              "      <td>8.0</td>\n",
              "      <td>16.0</td>\n",
              "      <td>0.0</td>\n",
              "      <td>0.0</td>\n",
              "      <td>14.0</td>\n",
              "      <td>6.0</td>\n",
              "      <td>0.0</td>\n",
              "      <td>0.0</td>\n",
              "      <td>5.0</td>\n",
              "      <td>16.0</td>\n",
              "      <td>7.0</td>\n",
              "      <td>9.0</td>\n",
              "      <td>16.0</td>\n",
              "      <td>5.0</td>\n",
              "      <td>0.0</td>\n",
              "      <td>0.0</td>\n",
              "      <td>1.0</td>\n",
              "      <td>15.0</td>\n",
              "      <td>16.0</td>\n",
              "      <td>16.0</td>\n",
              "      <td>16.0</td>\n",
              "      <td>1.0</td>\n",
              "      <td>0.0</td>\n",
              "      <td>0.0</td>\n",
              "      <td>0.0</td>\n",
              "      <td>6.0</td>\n",
              "      <td>16.0</td>\n",
              "      <td>14.0</td>\n",
              "      <td>6.0</td>\n",
              "      <td>0.0</td>\n",
              "      <td>0.0</td>\n",
              "      <td>0</td>\n",
              "    </tr>\n",
              "    <tr>\n",
              "      <th>1794</th>\n",
              "      <td>0.0</td>\n",
              "      <td>0.0</td>\n",
              "      <td>1.0</td>\n",
              "      <td>11.0</td>\n",
              "      <td>15.0</td>\n",
              "      <td>1.0</td>\n",
              "      <td>0.0</td>\n",
              "      <td>0.0</td>\n",
              "      <td>0.0</td>\n",
              "      <td>0.0</td>\n",
              "      <td>13.0</td>\n",
              "      <td>16.0</td>\n",
              "      <td>8.0</td>\n",
              "      <td>2.0</td>\n",
              "      <td>1.0</td>\n",
              "      <td>0.0</td>\n",
              "      <td>0.0</td>\n",
              "      <td>0.0</td>\n",
              "      <td>16.0</td>\n",
              "      <td>15.0</td>\n",
              "      <td>10.0</td>\n",
              "      <td>16.0</td>\n",
              "      <td>5.0</td>\n",
              "      <td>0.0</td>\n",
              "      <td>0.0</td>\n",
              "      <td>0.0</td>\n",
              "      <td>8.0</td>\n",
              "      <td>16.0</td>\n",
              "      <td>16.0</td>\n",
              "      <td>7.0</td>\n",
              "      <td>0.0</td>\n",
              "      <td>0.0</td>\n",
              "      <td>0.0</td>\n",
              "      <td>0.0</td>\n",
              "      <td>9.0</td>\n",
              "      <td>16.0</td>\n",
              "      <td>16.0</td>\n",
              "      <td>4.0</td>\n",
              "      <td>0.0</td>\n",
              "      <td>0.0</td>\n",
              "      <td>0.0</td>\n",
              "      <td>0.0</td>\n",
              "      <td>16.0</td>\n",
              "      <td>14.0</td>\n",
              "      <td>16.0</td>\n",
              "      <td>15.0</td>\n",
              "      <td>0.0</td>\n",
              "      <td>0.0</td>\n",
              "      <td>0.0</td>\n",
              "      <td>0.0</td>\n",
              "      <td>15.0</td>\n",
              "      <td>15.0</td>\n",
              "      <td>15.0</td>\n",
              "      <td>16.0</td>\n",
              "      <td>0.0</td>\n",
              "      <td>0.0</td>\n",
              "      <td>0.0</td>\n",
              "      <td>0.0</td>\n",
              "      <td>2.0</td>\n",
              "      <td>9.0</td>\n",
              "      <td>13.0</td>\n",
              "      <td>6.0</td>\n",
              "      <td>0.0</td>\n",
              "      <td>0.0</td>\n",
              "      <td>8</td>\n",
              "    </tr>\n",
              "    <tr>\n",
              "      <th>1795</th>\n",
              "      <td>0.0</td>\n",
              "      <td>0.0</td>\n",
              "      <td>2.0</td>\n",
              "      <td>10.0</td>\n",
              "      <td>7.0</td>\n",
              "      <td>0.0</td>\n",
              "      <td>0.0</td>\n",
              "      <td>0.0</td>\n",
              "      <td>0.0</td>\n",
              "      <td>0.0</td>\n",
              "      <td>14.0</td>\n",
              "      <td>16.0</td>\n",
              "      <td>16.0</td>\n",
              "      <td>15.0</td>\n",
              "      <td>1.0</td>\n",
              "      <td>0.0</td>\n",
              "      <td>0.0</td>\n",
              "      <td>4.0</td>\n",
              "      <td>16.0</td>\n",
              "      <td>7.0</td>\n",
              "      <td>3.0</td>\n",
              "      <td>16.0</td>\n",
              "      <td>7.0</td>\n",
              "      <td>0.0</td>\n",
              "      <td>0.0</td>\n",
              "      <td>5.0</td>\n",
              "      <td>16.0</td>\n",
              "      <td>10.0</td>\n",
              "      <td>7.0</td>\n",
              "      <td>16.0</td>\n",
              "      <td>4.0</td>\n",
              "      <td>0.0</td>\n",
              "      <td>0.0</td>\n",
              "      <td>0.0</td>\n",
              "      <td>5.0</td>\n",
              "      <td>14.0</td>\n",
              "      <td>14.0</td>\n",
              "      <td>16.0</td>\n",
              "      <td>4.0</td>\n",
              "      <td>0.0</td>\n",
              "      <td>0.0</td>\n",
              "      <td>0.0</td>\n",
              "      <td>0.0</td>\n",
              "      <td>0.0</td>\n",
              "      <td>0.0</td>\n",
              "      <td>16.0</td>\n",
              "      <td>2.0</td>\n",
              "      <td>0.0</td>\n",
              "      <td>0.0</td>\n",
              "      <td>0.0</td>\n",
              "      <td>4.0</td>\n",
              "      <td>7.0</td>\n",
              "      <td>7.0</td>\n",
              "      <td>16.0</td>\n",
              "      <td>2.0</td>\n",
              "      <td>0.0</td>\n",
              "      <td>0.0</td>\n",
              "      <td>0.0</td>\n",
              "      <td>5.0</td>\n",
              "      <td>12.0</td>\n",
              "      <td>16.0</td>\n",
              "      <td>12.0</td>\n",
              "      <td>0.0</td>\n",
              "      <td>0.0</td>\n",
              "      <td>9</td>\n",
              "    </tr>\n",
              "    <tr>\n",
              "      <th>1796</th>\n",
              "      <td>0.0</td>\n",
              "      <td>0.0</td>\n",
              "      <td>10.0</td>\n",
              "      <td>14.0</td>\n",
              "      <td>8.0</td>\n",
              "      <td>1.0</td>\n",
              "      <td>0.0</td>\n",
              "      <td>0.0</td>\n",
              "      <td>0.0</td>\n",
              "      <td>2.0</td>\n",
              "      <td>16.0</td>\n",
              "      <td>14.0</td>\n",
              "      <td>6.0</td>\n",
              "      <td>1.0</td>\n",
              "      <td>0.0</td>\n",
              "      <td>0.0</td>\n",
              "      <td>0.0</td>\n",
              "      <td>0.0</td>\n",
              "      <td>15.0</td>\n",
              "      <td>15.0</td>\n",
              "      <td>8.0</td>\n",
              "      <td>15.0</td>\n",
              "      <td>0.0</td>\n",
              "      <td>0.0</td>\n",
              "      <td>0.0</td>\n",
              "      <td>0.0</td>\n",
              "      <td>5.0</td>\n",
              "      <td>16.0</td>\n",
              "      <td>16.0</td>\n",
              "      <td>10.0</td>\n",
              "      <td>0.0</td>\n",
              "      <td>0.0</td>\n",
              "      <td>0.0</td>\n",
              "      <td>0.0</td>\n",
              "      <td>12.0</td>\n",
              "      <td>15.0</td>\n",
              "      <td>15.0</td>\n",
              "      <td>12.0</td>\n",
              "      <td>0.0</td>\n",
              "      <td>0.0</td>\n",
              "      <td>0.0</td>\n",
              "      <td>4.0</td>\n",
              "      <td>16.0</td>\n",
              "      <td>6.0</td>\n",
              "      <td>4.0</td>\n",
              "      <td>16.0</td>\n",
              "      <td>6.0</td>\n",
              "      <td>0.0</td>\n",
              "      <td>0.0</td>\n",
              "      <td>8.0</td>\n",
              "      <td>16.0</td>\n",
              "      <td>10.0</td>\n",
              "      <td>8.0</td>\n",
              "      <td>16.0</td>\n",
              "      <td>8.0</td>\n",
              "      <td>0.0</td>\n",
              "      <td>0.0</td>\n",
              "      <td>1.0</td>\n",
              "      <td>8.0</td>\n",
              "      <td>12.0</td>\n",
              "      <td>14.0</td>\n",
              "      <td>12.0</td>\n",
              "      <td>1.0</td>\n",
              "      <td>0.0</td>\n",
              "      <td>8</td>\n",
              "    </tr>\n",
              "  </tbody>\n",
              "</table>\n",
              "<p>1797 rows × 65 columns</p>\n",
              "</div>"
            ],
            "text/plain": [
              "        0    1     2     3     4     5  ...    59    60    61   62   63  target\n",
              "0     0.0  0.0   5.0  13.0   9.0   1.0  ...  13.0  10.0   0.0  0.0  0.0       0\n",
              "1     0.0  0.0   0.0  12.0  13.0   5.0  ...  11.0  16.0  10.0  0.0  0.0       1\n",
              "2     0.0  0.0   0.0   4.0  15.0  12.0  ...   3.0  11.0  16.0  9.0  0.0       2\n",
              "3     0.0  0.0   7.0  15.0  13.0   1.0  ...  13.0  13.0   9.0  0.0  0.0       3\n",
              "4     0.0  0.0   0.0   1.0  11.0   0.0  ...   2.0  16.0   4.0  0.0  0.0       4\n",
              "...   ...  ...   ...   ...   ...   ...  ...   ...   ...   ...  ...  ...     ...\n",
              "1792  0.0  0.0   4.0  10.0  13.0   6.0  ...  14.0  15.0   9.0  0.0  0.0       9\n",
              "1793  0.0  0.0   6.0  16.0  13.0  11.0  ...  16.0  14.0   6.0  0.0  0.0       0\n",
              "1794  0.0  0.0   1.0  11.0  15.0   1.0  ...   9.0  13.0   6.0  0.0  0.0       8\n",
              "1795  0.0  0.0   2.0  10.0   7.0   0.0  ...  12.0  16.0  12.0  0.0  0.0       9\n",
              "1796  0.0  0.0  10.0  14.0   8.0   1.0  ...  12.0  14.0  12.0  1.0  0.0       8\n",
              "\n",
              "[1797 rows x 65 columns]"
            ]
          },
          "metadata": {},
          "execution_count": 70
        }
      ]
    },
    {
      "cell_type": "code",
      "metadata": {
        "id": "yRDJEK9zisJh"
      },
      "source": [
        "# methode 03 : Complétion par l'algorithme des k plus proches voisins"
      ],
      "execution_count": null,
      "outputs": []
    }
  ]
}