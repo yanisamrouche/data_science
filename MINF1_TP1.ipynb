{
  "nbformat": 4,
  "nbformat_minor": 0,
  "metadata": {
    "colab": {
      "name": "MINF1_TP1.ipynb",
      "provenance": [],
      "collapsed_sections": [],
      "include_colab_link": true
    },
    "kernelspec": {
      "display_name": "Python 3",
      "language": "python",
      "name": "python3"
    },
    "language_info": {
      "codemirror_mode": {
        "name": "ipython",
        "version": 3
      },
      "file_extension": ".py",
      "mimetype": "text/x-python",
      "name": "python",
      "nbconvert_exporter": "python",
      "pygments_lexer": "ipython3",
      "version": "3.8.8"
    }
  },
  "cells": [
    {
      "cell_type": "markdown",
      "metadata": {
        "id": "view-in-github",
        "colab_type": "text"
      },
      "source": [
        "<a href=\"https://colab.research.google.com/github/yanisamrouche/data_science/blob/main/MINF1_TP1.ipynb\" target=\"_parent\"><img src=\"https://colab.research.google.com/assets/colab-badge.svg\" alt=\"Open In Colab\"/></a>"
      ]
    },
    {
      "cell_type": "markdown",
      "metadata": {
        "id": "7HDpECWMH0tB"
      },
      "source": [
        "# Introduction à la Science de Données M1 Informatique AMU 2021/22\n",
        "# TP1 - Prise en main de python, pandas, et de Scikit-Learn\n",
        "\n",
        "## 1. Python\n",
        "\n",
        "Python est un langage de programmation simple, qui peut être interprété dans un shell (terminal) ou via une interface comme celle-ci (on peut même éventuellement compiler du code python). Le plus souvent, nous allons travailler avec des Jupyter Notebook comme celui-ci dans ce cours. Le principe est le suivant : il y a des cellules dans lequel on tape du code (ou du texte, comme ici - double-clicker ici pour voir le code de cette cellule). Un fois le code écrit, on lance la cellule avec le bouton \"Exécuter\" (ou \"Run\"), en haut au milieu, et le code s'exécute ! Top, non ? \n",
        "\n",
        "On essaie ? *Exécuter* cette cellule pour lui redonner son apparence initiale si vous avez double-clické dessus, puis exécuter la suivante."
      ]
    },
    {
      "cell_type": "code",
      "metadata": {
        "id": "-zuNGqREH0tM",
        "colab": {
          "base_uri": "https://localhost:8080/"
        },
        "outputId": "494be512-e15e-4058-ec43-add937087faf"
      },
      "source": [
        "print(\"Hello world!\")"
      ],
      "execution_count": null,
      "outputs": [
        {
          "output_type": "stream",
          "name": "stdout",
          "text": [
            "Hello world!\n",
            "4\n"
          ]
        }
      ]
    },
    {
      "cell_type": "markdown",
      "metadata": {
        "id": "k5pwGwCJH0tg"
      },
      "source": [
        "### Variables et types\n",
        "Vous devez donc avoir compris que *exécuter* une cellule de code affiche le résultat en dessous.\n",
        "\n",
        "On peut écrire du code python comme si on utilisait une calculette (avec des variables). Même si on fera rapidement des choses plus évoluées, on commence par ça (vous pouvez modifier le contenu des cellule et les exécuter autant de fois que vous voulez) :"
      ]
    },
    {
      "cell_type": "code",
      "metadata": {
        "id": "zWIKwVrKH0tj",
        "colab": {
          "base_uri": "https://localhost:8080/"
        },
        "outputId": "c2c78663-50ef-40e9-ce80-4f05362d79ce"
      },
      "source": [
        "2"
      ],
      "execution_count": null,
      "outputs": [
        {
          "output_type": "execute_result",
          "data": {
            "text/plain": [
              "2"
            ]
          },
          "metadata": {},
          "execution_count": 3
        }
      ]
    },
    {
      "cell_type": "code",
      "metadata": {
        "id": "-Ic0fUiDH0ts",
        "colab": {
          "base_uri": "https://localhost:8080/"
        },
        "outputId": "3e3fd8e0-7729-4948-bc09-fe3a164fb155"
      },
      "source": [
        "2*2"
      ],
      "execution_count": null,
      "outputs": [
        {
          "output_type": "execute_result",
          "data": {
            "text/plain": [
              "4"
            ]
          },
          "metadata": {},
          "execution_count": 4
        }
      ]
    },
    {
      "cell_type": "code",
      "metadata": {
        "id": "60MSgLvUH0t2"
      },
      "source": [
        "a = 2"
      ],
      "execution_count": null,
      "outputs": []
    },
    {
      "cell_type": "code",
      "metadata": {
        "id": "QPLcgb-bH0t8",
        "colab": {
          "base_uri": "https://localhost:8080/"
        },
        "outputId": "9262c542-1a17-4aeb-92ad-c0288198cc6c"
      },
      "source": [
        "a*3"
      ],
      "execution_count": null,
      "outputs": [
        {
          "output_type": "execute_result",
          "data": {
            "text/plain": [
              "6"
            ]
          },
          "metadata": {},
          "execution_count": 8
        }
      ]
    },
    {
      "cell_type": "code",
      "metadata": {
        "id": "R_xhR0ZNH0uB",
        "colab": {
          "base_uri": "https://localhost:8080/"
        },
        "outputId": "01dde3b2-b90d-4552-ac26-4a813c17dd1e"
      },
      "source": [
        "type(a)"
      ],
      "execution_count": null,
      "outputs": [
        {
          "output_type": "execute_result",
          "data": {
            "text/plain": [
              "int"
            ]
          },
          "metadata": {},
          "execution_count": 9
        }
      ]
    },
    {
      "cell_type": "code",
      "metadata": {
        "id": "vQEUCdX3H0uH",
        "colab": {
          "base_uri": "https://localhost:8080/"
        },
        "outputId": "d59931b1-a994-437d-ec81-299781fbb1b6"
      },
      "source": [
        "type(a*0.5)"
      ],
      "execution_count": null,
      "outputs": [
        {
          "output_type": "execute_result",
          "data": {
            "text/plain": [
              "float"
            ]
          },
          "metadata": {},
          "execution_count": 10
        }
      ]
    },
    {
      "cell_type": "code",
      "metadata": {
        "id": "upv0QMflH0uR"
      },
      "source": [
        "b = a*3"
      ],
      "execution_count": null,
      "outputs": []
    },
    {
      "cell_type": "code",
      "metadata": {
        "id": "irMp9BEYH0ud",
        "colab": {
          "base_uri": "https://localhost:8080/"
        },
        "outputId": "550a86a6-383f-4f15-fbdc-3f41200feafa"
      },
      "source": [
        "b"
      ],
      "execution_count": null,
      "outputs": [
        {
          "output_type": "execute_result",
          "data": {
            "text/plain": [
              "6"
            ]
          },
          "metadata": {},
          "execution_count": 12
        }
      ]
    },
    {
      "cell_type": "code",
      "metadata": {
        "id": "TUTZnND_H0up",
        "colab": {
          "base_uri": "https://localhost:8080/"
        },
        "outputId": "13ec9a5e-5d17-408b-f96c-650b7b6d1acc"
      },
      "source": [
        "print(b)"
      ],
      "execution_count": null,
      "outputs": [
        {
          "output_type": "stream",
          "name": "stdout",
          "text": [
            "6\n"
          ]
        }
      ]
    },
    {
      "cell_type": "code",
      "metadata": {
        "id": "stbBh87OH0uw",
        "colab": {
          "base_uri": "https://localhost:8080/"
        },
        "outputId": "5621b35b-017a-4c70-a9c8-370ff850d744"
      },
      "source": [
        "c, d = 3, 4\n",
        "b = 4*c\n",
        "print(a, b, c, d, b/4, \"Vous suivez ?\")"
      ],
      "execution_count": null,
      "outputs": [
        {
          "output_type": "stream",
          "name": "stdout",
          "text": [
            "2 12 3 4 3.0 Vous suivez ?\n"
          ]
        }
      ]
    },
    {
      "cell_type": "code",
      "metadata": {
        "id": "hOBBV_QQH0u5",
        "colab": {
          "base_uri": "https://localhost:8080/"
        },
        "outputId": "1ce33055-906f-404c-dde7-51e2dbfcc1a0"
      },
      "source": [
        "print(\"Avant : \", a)\n",
        "a += 1\n",
        "print(\"Après : \", a)"
      ],
      "execution_count": null,
      "outputs": [
        {
          "output_type": "stream",
          "name": "stdout",
          "text": [
            "Avant :  3\n",
            "Après :  4\n"
          ]
        }
      ]
    },
    {
      "cell_type": "code",
      "metadata": {
        "id": "Cu6afqmFH0vB",
        "colab": {
          "base_uri": "https://localhost:8080/"
        },
        "outputId": "41a2f03e-d65e-481d-9974-2079e8d7b70f"
      },
      "source": [
        "print(2+2)\n",
        "print(\"2\"+\"2\")"
      ],
      "execution_count": null,
      "outputs": [
        {
          "output_type": "stream",
          "name": "stdout",
          "text": [
            "4\n",
            "22\n"
          ]
        }
      ]
    },
    {
      "cell_type": "code",
      "metadata": {
        "id": "0d6Dh7LmH0vH",
        "colab": {
          "base_uri": "https://localhost:8080/",
          "height": 167
        },
        "outputId": "95d7a2cc-ae74-462c-8eaa-6d5641e8b442"
      },
      "source": [
        "print(2+\"2\")"
      ],
      "execution_count": null,
      "outputs": [
        {
          "output_type": "error",
          "ename": "TypeError",
          "evalue": "ignored",
          "traceback": [
            "\u001b[0;31m---------------------------------------------------------------------------\u001b[0m",
            "\u001b[0;31mTypeError\u001b[0m                                 Traceback (most recent call last)",
            "\u001b[0;32m<ipython-input-20-db53bd892eed>\u001b[0m in \u001b[0;36m<module>\u001b[0;34m()\u001b[0m\n\u001b[0;32m----> 1\u001b[0;31m \u001b[0mprint\u001b[0m\u001b[0;34m(\u001b[0m\u001b[0;36m2\u001b[0m\u001b[0;34m+\u001b[0m\u001b[0;34m\"2\"\u001b[0m\u001b[0;34m)\u001b[0m\u001b[0;34m\u001b[0m\u001b[0;34m\u001b[0m\u001b[0m\n\u001b[0m",
            "\u001b[0;31mTypeError\u001b[0m: unsupported operand type(s) for +: 'int' and 'str'"
          ]
        }
      ]
    },
    {
      "cell_type": "markdown",
      "metadata": {
        "id": "d0KS6mhdH0vN"
      },
      "source": [
        "Un type particulier (et central) : les **listes**"
      ]
    },
    {
      "cell_type": "code",
      "metadata": {
        "id": "HKx5S9dWH0vP",
        "colab": {
          "base_uri": "https://localhost:8080/"
        },
        "outputId": "ada5674b-6c2e-42ab-ad3b-731321712708"
      },
      "source": [
        "li = [0, 1, 2]    # Definition d'une liste en extension\n",
        "\n",
        "print(type(li))\n",
        "print(len(li))\n",
        "print(li[0])\n",
        "\n",
        "print(\"Plus technique :\")\n",
        "print(li[-1])  # En partant de la fin\n",
        "print(li[len(li)-1])\n",
        "print(li[:2])  # Un morceau contenant le début jusqu'à l'élément indexé par 2 NON inclus\n",
        "print(li[1:])  # Un morceau contenant la fin à partir de l'élément indexé par 1 inclus\n",
        "print(li[:])\n",
        "print(li)"
      ],
      "execution_count": null,
      "outputs": [
        {
          "output_type": "stream",
          "name": "stdout",
          "text": [
            "<class 'list'>\n",
            "3\n",
            "0\n",
            "Plus technique :\n",
            "2\n",
            "2\n",
            "[0, 1]\n",
            "[1, 2]\n",
            "[0, 1, 2]\n",
            "[0, 1, 2]\n"
          ]
        }
      ]
    },
    {
      "cell_type": "code",
      "metadata": {
        "id": "VzoIFKBkH0vU",
        "colab": {
          "base_uri": "https://localhost:8080/"
        },
        "outputId": "c1aa4fd0-de15-4ecc-a734-e67d34c05d3f"
      },
      "source": [
        "print(li)\n",
        "li[0] = 42\n",
        "li.append(\"éléments de différent types\")\n",
        "print(li)"
      ],
      "execution_count": null,
      "outputs": [
        {
          "output_type": "stream",
          "name": "stdout",
          "text": [
            "[0, 1, 2]\n",
            "[42, 1, 2, 'éléments de différent types']\n"
          ]
        }
      ]
    },
    {
      "cell_type": "markdown",
      "metadata": {
        "id": "r9cAzqLMH0ve"
      },
      "source": [
        "### Structures de controle\n",
        "Comme tout langage de programmation, on peut utiliser des structures de controle en python, comme des boucles ou des conditionnelles. Et comme les autres langages, cela fonctionne par blocs : qu'est-ce qui s'exécute si le *if* est vrai ? Qu'est-ce qui s'exécute de toute façon ? Qu'est-ce qui est dans la boucle ? etc.\n",
        "\n",
        "La plupart des langages de programmation que vous connaissez matérialisent les blocs par des caractères spéciaux, souvent une accolade *{* pour le commencer et une autre *}* pour le fermer. Ce n'est pas le cas de python : ce langage matérialise les blocs graphiquement, par des espaces. Il faut 4 espaces pour marquer un bloc:"
      ]
    },
    {
      "cell_type": "code",
      "metadata": {
        "id": "Apuv2F5DH0vi",
        "colab": {
          "base_uri": "https://localhost:8080/"
        },
        "outputId": "38a5438d-6a2f-4d3b-c443-5f7d7bea60a4"
      },
      "source": [
        "print(\"On n'est pas dans le if\")     # Ceci est un commentaire\n",
        "if True:\n",
        "    print(\"On est dans le if\")\n",
        "    print(\"Là encore\")\n",
        "print(\"Là on n'y est plus\")"
      ],
      "execution_count": null,
      "outputs": [
        {
          "output_type": "stream",
          "name": "stdout",
          "text": [
            "On n'est pas dans le if\n",
            "On est dans le if\n",
            "Là encore\n",
            "Là on n'y est plus\n"
          ]
        }
      ]
    },
    {
      "cell_type": "markdown",
      "metadata": {
        "id": "Jh7HcIYpH0vp"
      },
      "source": [
        "Et c'est pareil pour les boucles:"
      ]
    },
    {
      "cell_type": "code",
      "metadata": {
        "id": "ws6gZyCrH0vq",
        "colab": {
          "base_uri": "https://localhost:8080/"
        },
        "outputId": "8b08475e-3803-46e5-fdc8-7afc8b501ea1"
      },
      "source": [
        "print(\"Avant la boucle\")\n",
        "for i in range(0, 11):\n",
        "    print(\"Tour de boucle numéro\", i)\n",
        "print(\"Après la boucle\")"
      ],
      "execution_count": null,
      "outputs": [
        {
          "output_type": "stream",
          "name": "stdout",
          "text": [
            "Avant la boucle\n",
            "Tour de boucle numéro 0\n",
            "Tour de boucle numéro 1\n",
            "Tour de boucle numéro 2\n",
            "Tour de boucle numéro 3\n",
            "Tour de boucle numéro 4\n",
            "Tour de boucle numéro 5\n",
            "Tour de boucle numéro 6\n",
            "Tour de boucle numéro 7\n",
            "Tour de boucle numéro 8\n",
            "Tour de boucle numéro 9\n",
            "Tour de boucle numéro 10\n",
            "Après la boucle\n"
          ]
        }
      ]
    },
    {
      "cell_type": "markdown",
      "metadata": {
        "id": "vX6wRT3jH0v2"
      },
      "source": [
        "##### Boucle et liste\n",
        "On peut remplir des listes avec des boucles:"
      ]
    },
    {
      "cell_type": "code",
      "metadata": {
        "id": "xMuf3fqjH0v3",
        "colab": {
          "base_uri": "https://localhost:8080/"
        },
        "outputId": "0b10ca6e-a102-4b56-c2df-7e428666bf8d"
      },
      "source": [
        "li = []\n",
        "for i in range(10):\n",
        "    li.append(i)\n",
        "print(li)"
      ],
      "execution_count": null,
      "outputs": [
        {
          "output_type": "stream",
          "name": "stdout",
          "text": [
            "[0, 1, 2, 3, 4, 5, 6, 7, 8, 9]\n"
          ]
        }
      ]
    },
    {
      "cell_type": "markdown",
      "metadata": {
        "id": "FEob5PvDH0v-"
      },
      "source": [
        "(Mais en fait on n'a même pas besoin de boucle explicite !!!!!) :"
      ]
    },
    {
      "cell_type": "code",
      "metadata": {
        "id": "iFf_JCXUH0wC",
        "colab": {
          "base_uri": "https://localhost:8080/"
        },
        "outputId": "b0fe9b22-8763-4bab-9a90-54bcfa55a0ee"
      },
      "source": [
        "li = [i*2 for i in range(10)]\n",
        "print(li)"
      ],
      "execution_count": null,
      "outputs": [
        {
          "output_type": "stream",
          "name": "stdout",
          "text": [
            "[0, 1, 2, 3, 4, 5, 6, 7, 8, 9]\n"
          ]
        }
      ]
    },
    {
      "cell_type": "markdown",
      "metadata": {
        "id": "UwxQAlndH0wL"
      },
      "source": [
        "##### Combinaison\n",
        "Bien entendu, c'est récursif : on peut mettre des blocs dans des blocs qui contiennent des blocks, etc.\n",
        "\n",
        "**Question** Alors, que fait le code ci-dessous ? Que valent a et b à la fin ? "
      ]
    },
    {
      "cell_type": "code",
      "metadata": {
        "id": "fHOiyJpwH0wN",
        "colab": {
          "base_uri": "https://localhost:8080/"
        },
        "outputId": "09cf846a-69b1-45c4-deaf-6e8a5b30555c"
      },
      "source": [
        "a, b = 0, 0\n",
        "for i in range(10):\n",
        "    if a % 2 == 0:\n",
        "        a+=i\n",
        "        print(a)\n",
        "        if b < 5:\n",
        "            a-=i\n",
        "        else:\n",
        "            b+=i\n",
        "    else:\n",
        "        b-=i\n",
        "print(a,b)"
      ],
      "execution_count": null,
      "outputs": [
        {
          "output_type": "stream",
          "name": "stdout",
          "text": [
            "0\n",
            "1\n",
            "2\n",
            "3\n",
            "4\n",
            "5\n",
            "6\n",
            "7\n",
            "8\n",
            "9\n",
            "0 0\n"
          ]
        }
      ]
    },
    {
      "cell_type": "markdown",
      "metadata": {
        "id": "fW4gf7YnH0wY"
      },
      "source": [
        "#### A vous !\n",
        "**Question** Insérez 1 cellule ci-dessous (cliquez ici puis utilisez le menu du haut...). Puis écrivez y le code qui calcule et affiche la somme des 10 premiers entiers au carré."
      ]
    },
    {
      "cell_type": "code",
      "metadata": {
        "colab": {
          "base_uri": "https://localhost:8080/"
        },
        "id": "Rzo75GuA_cCl",
        "outputId": "47d454da-5b07-43f9-ef03-e039cfc1304d"
      },
      "source": [
        "s = 0\n",
        "for i in range(1,11):\n",
        "  c = i*i\n",
        "  print(c)\n",
        "  s+= c\n",
        "print(\"la somme des 10 premiers entiers au carré :\", s)\n"
      ],
      "execution_count": null,
      "outputs": [
        {
          "output_type": "stream",
          "name": "stdout",
          "text": [
            "1\n",
            "4\n",
            "9\n",
            "16\n",
            "25\n",
            "36\n",
            "49\n",
            "64\n",
            "81\n",
            "100\n",
            "la somme des 10 premiers entiers au carré : 385\n"
          ]
        }
      ]
    },
    {
      "cell_type": "markdown",
      "metadata": {
        "id": "Db5MLZ_TH0wZ"
      },
      "source": [
        "**Question** Dans la cellule suivante, écrire un code comprenant 1 boucle et 1 conditionelle qui tire un nombre au hasard entre 1 et 100 et qui laisse 10 chances à l'utilisateur pour trouver ce nombre. On utilisera une bibliothèque (on dit *module* en python) qui génère des nombres aléatoires en l'important:"
      ]
    },
    {
      "cell_type": "code",
      "metadata": {
        "id": "wi2Qfar_H0wa",
        "colab": {
          "base_uri": "https://localhost:8080/"
        },
        "outputId": "2e86d295-0c3f-47f4-dd5c-5d5b1c0d403a"
      },
      "source": [
        "import random   # On importe la librairie\n",
        "a_trouver = random.randint(0,100)    # On on génère alétoirement un nombre\n",
        "\n",
        "print(\"chance num : \", 1)\n",
        "mon_nombre = input(\"Entrer un nombre: \") # On demande à rentrer un nombre\n",
        "for i in range(9):\n",
        "  if(int(mon_nombre) == a_trouver):\n",
        "    print(\"Bravo ! ! !\")\n",
        "    break\n",
        "  else:\n",
        "    if(int(mon_nombre) > a_trouver):\n",
        "      print(\"plus grand\")\n",
        "    else:\n",
        "      print(\"plus petit\")\n",
        "    print(\"chance num : \",i+2)\n",
        "    mon_nombre = input(\"Entrer un nombre: \")\n",
        "\n",
        "print(a_trouver, mon_nombre)\n",
        "# A vous de jouer !"
      ],
      "execution_count": null,
      "outputs": [
        {
          "output_type": "stream",
          "name": "stdout",
          "text": [
            "chance num :  1\n",
            "Entrer un nombre: 50\n",
            "plus grand\n",
            "chance num :  2\n",
            "Entrer un nombre: 30\n",
            "plus petit\n",
            "chance num :  3\n",
            "Entrer un nombre: 40\n",
            "plus grand\n",
            "chance num :  4\n",
            "Entrer un nombre: 35\n",
            "plus grand\n",
            "chance num :  5\n",
            "Entrer un nombre: 33\n",
            "plus grand\n",
            "chance num :  6\n",
            "Entrer un nombre: 32\n",
            "plus grand\n",
            "chance num :  7\n",
            "Entrer un nombre: 31\n",
            "Bravo ! ! !\n",
            "31 31\n"
          ]
        }
      ]
    },
    {
      "cell_type": "markdown",
      "metadata": {
        "id": "QQ5qhjrkH0wi"
      },
      "source": [
        "### Fonctions\n",
        "Bien entendu, il est possible de définir et d'utiliser des fonctions en python:"
      ]
    },
    {
      "cell_type": "code",
      "metadata": {
        "id": "jLKlsxU9H0wj"
      },
      "source": [
        "def carre(x):\n",
        "    return x*x"
      ],
      "execution_count": null,
      "outputs": []
    },
    {
      "cell_type": "code",
      "metadata": {
        "id": "K7BKTsPvH0wr",
        "colab": {
          "base_uri": "https://localhost:8080/"
        },
        "outputId": "93937c7f-44c4-4c0f-b1f8-2b628e57b7ff"
      },
      "source": [
        "carre(2)"
      ],
      "execution_count": null,
      "outputs": [
        {
          "output_type": "execute_result",
          "data": {
            "text/plain": [
              "4"
            ]
          },
          "metadata": {},
          "execution_count": 62
        }
      ]
    },
    {
      "cell_type": "markdown",
      "metadata": {
        "id": "6irEAB32H0wv"
      },
      "source": [
        "Et on peut même renvoyer plusieurs valeurs:"
      ]
    },
    {
      "cell_type": "code",
      "metadata": {
        "id": "Fu0XSRNzH0wx",
        "colab": {
          "base_uri": "https://localhost:8080/"
        },
        "outputId": "5d94e246-eeaa-4790-d1d5-3529523e744f"
      },
      "source": [
        "def trois_suivants(x):\n",
        "    return (x+1, x+2, x+3)\n",
        "S = trois_suivants(5)\n",
        "print(S)\n",
        "print(S[1])"
      ],
      "execution_count": null,
      "outputs": [
        {
          "output_type": "stream",
          "name": "stdout",
          "text": [
            "(6, 7, 8)\n",
            "7\n"
          ]
        }
      ]
    },
    {
      "cell_type": "markdown",
      "metadata": {
        "id": "09xb5GHBH0w6"
      },
      "source": [
        "Attention, un tuple (comme le triplet que retourne cette fonction) n'est pas mutable: il contient une ou des valeurs qui ne sont pas modifiables. "
      ]
    },
    {
      "cell_type": "code",
      "metadata": {
        "id": "UftmCrHPH0w7",
        "colab": {
          "base_uri": "https://localhost:8080/",
          "height": 167
        },
        "outputId": "98ce48b8-6ac9-46f7-85b1-3abecb9a4446"
      },
      "source": [
        "S[1]=3   # Ceci va donc donner un erreur !"
      ],
      "execution_count": null,
      "outputs": [
        {
          "output_type": "error",
          "ename": "TypeError",
          "evalue": "ignored",
          "traceback": [
            "\u001b[0;31m---------------------------------------------------------------------------\u001b[0m",
            "\u001b[0;31mTypeError\u001b[0m                                 Traceback (most recent call last)",
            "\u001b[0;32m<ipython-input-64-3b221297ced0>\u001b[0m in \u001b[0;36m<module>\u001b[0;34m()\u001b[0m\n\u001b[0;32m----> 1\u001b[0;31m \u001b[0mS\u001b[0m\u001b[0;34m[\u001b[0m\u001b[0;36m1\u001b[0m\u001b[0;34m]\u001b[0m\u001b[0;34m=\u001b[0m\u001b[0;36m3\u001b[0m   \u001b[0;31m# Ceci va donc donner un erreur !\u001b[0m\u001b[0;34m\u001b[0m\u001b[0;34m\u001b[0m\u001b[0m\n\u001b[0m",
            "\u001b[0;31mTypeError\u001b[0m: 'tuple' object does not support item assignment"
          ]
        }
      ]
    },
    {
      "cell_type": "markdown",
      "metadata": {
        "id": "7W_gAjnNH0xG"
      },
      "source": [
        "Si vous voulez modifier les valeurs, il faut faire une liste:"
      ]
    },
    {
      "cell_type": "code",
      "metadata": {
        "id": "bIhbEqbvH0xH",
        "colab": {
          "base_uri": "https://localhost:8080/"
        },
        "outputId": "2343e883-43d6-4426-d7b0-503050fe279a"
      },
      "source": [
        "L = list(S)\n",
        "print(L)\n",
        "L[1] = 3\n",
        "print(L)\n",
        "print(S)"
      ],
      "execution_count": null,
      "outputs": [
        {
          "output_type": "stream",
          "name": "stdout",
          "text": [
            "[6, 7, 8]\n",
            "[6, 3, 8]\n",
            "(6, 7, 8)\n"
          ]
        }
      ]
    },
    {
      "cell_type": "markdown",
      "metadata": {
        "id": "BOesqxEpH0xK"
      },
      "source": [
        "Ou alors, vous récuperez les valeurs de la fonction dans des variables séparées :"
      ]
    },
    {
      "cell_type": "code",
      "metadata": {
        "id": "6NRZCj-5H0xL",
        "colab": {
          "base_uri": "https://localhost:8080/"
        },
        "outputId": "b0686d99-dfa9-4f2c-8ed5-82c24bd3ca96"
      },
      "source": [
        "x_1, x_2, x_3 = trois_suivants(42)\n",
        "print(x_1, x_2, x_3)\n",
        "x_1 = 24\n",
        "print(x_1)"
      ],
      "execution_count": null,
      "outputs": [
        {
          "output_type": "stream",
          "name": "stdout",
          "text": [
            "43 44 45\n",
            "24\n"
          ]
        }
      ]
    },
    {
      "cell_type": "markdown",
      "metadata": {
        "id": "FMjdW9AqH0xN"
      },
      "source": [
        "## 2. Scikit-Learn\n",
        "Scikit-learn est un logiciel écrit en Python, qui nécessite l'installation préalable du langage  Python et des librairies  *NumPy* et  *SciPy* (pour le calcul scientifique), dans des versions qui doivent vérifier certaines contraintes de compatibilité. Sur votre machine personnelle, le plus simple est d'installer une distribution de Python complète, comme Anaconda (https://docs.anaconda.com/anaconda/install/), qui comprend la plupart des librairies courantes développées en Python, dont les trois citées plus haut. Sur les PC de la salle, tout est normalement installé...\n",
        "\n",
        "Le site officiel du logiciel  Scikit-learn est :  http://scikit-learn.org/stable/index.html \n",
        "\n",
        "La documentation en ligne est complète, et devra être consultée chaque fois que nécessaire :\n",
        " \thttp://scikit-learn.org/stable/documentation.html \n",
        "    \n",
        "Des tutoriaux sont disponibles a l'adresse suivante :\n",
        " \thttp://scikit-learn.org/stable/tutorial/index.html\n",
        "\n",
        "### Jeux de données en Scikit-Learn\n",
        "\n",
        "Un certain nombre de jeux de données sont disponibles dans scikit-learn. Il est également possible de générer des données artificielles ou de récupérer des données externes (on fera ça dans les prochains TPs).\n",
        "\n",
        "Documentation relative au chargement de jeux de données :\n",
        "\thttp://scikit-learn.org/stable/datasets/ \n",
        "\n",
        "Les jeux de données disponibles dans scikit-learn sont : iris, boston, diabetes, digits, linnerud, sample images, 20newsgroups.\n",
        "Chacun de ces jeux de données se récupère à l'aide de la commande load_nom-jeu qu'il faut dans un premier temps charger. Par exemple, pour récupérer le jeu iris :"
      ]
    },
    {
      "cell_type": "code",
      "metadata": {
        "id": "KGE3DxB1H0xO",
        "colab": {
          "base_uri": "https://localhost:8080/"
        },
        "outputId": "3b2c20bf-7c89-4662-e0da-4b27e603b347"
      },
      "source": [
        "from sklearn.datasets import load_iris  #importation de la commande\n",
        "irisData = load_iris()\n",
        "print(irisData.DESCR)"
      ],
      "execution_count": null,
      "outputs": [
        {
          "output_type": "stream",
          "name": "stdout",
          "text": [
            ".. _iris_dataset:\n",
            "\n",
            "Iris plants dataset\n",
            "--------------------\n",
            "\n",
            "**Data Set Characteristics:**\n",
            "\n",
            "    :Number of Instances: 150 (50 in each of three classes)\n",
            "    :Number of Attributes: 4 numeric, predictive attributes and the class\n",
            "    :Attribute Information:\n",
            "        - sepal length in cm\n",
            "        - sepal width in cm\n",
            "        - petal length in cm\n",
            "        - petal width in cm\n",
            "        - class:\n",
            "                - Iris-Setosa\n",
            "                - Iris-Versicolour\n",
            "                - Iris-Virginica\n",
            "                \n",
            "    :Summary Statistics:\n",
            "\n",
            "    ============== ==== ==== ======= ===== ====================\n",
            "                    Min  Max   Mean    SD   Class Correlation\n",
            "    ============== ==== ==== ======= ===== ====================\n",
            "    sepal length:   4.3  7.9   5.84   0.83    0.7826\n",
            "    sepal width:    2.0  4.4   3.05   0.43   -0.4194\n",
            "    petal length:   1.0  6.9   3.76   1.76    0.9490  (high!)\n",
            "    petal width:    0.1  2.5   1.20   0.76    0.9565  (high!)\n",
            "    ============== ==== ==== ======= ===== ====================\n",
            "\n",
            "    :Missing Attribute Values: None\n",
            "    :Class Distribution: 33.3% for each of 3 classes.\n",
            "    :Creator: R.A. Fisher\n",
            "    :Donor: Michael Marshall (MARSHALL%PLU@io.arc.nasa.gov)\n",
            "    :Date: July, 1988\n",
            "\n",
            "The famous Iris database, first used by Sir R.A. Fisher. The dataset is taken\n",
            "from Fisher's paper. Note that it's the same as in R, but not as in the UCI\n",
            "Machine Learning Repository, which has two wrong data points.\n",
            "\n",
            "This is perhaps the best known database to be found in the\n",
            "pattern recognition literature.  Fisher's paper is a classic in the field and\n",
            "is referenced frequently to this day.  (See Duda & Hart, for example.)  The\n",
            "data set contains 3 classes of 50 instances each, where each class refers to a\n",
            "type of iris plant.  One class is linearly separable from the other 2; the\n",
            "latter are NOT linearly separable from each other.\n",
            "\n",
            ".. topic:: References\n",
            "\n",
            "   - Fisher, R.A. \"The use of multiple measurements in taxonomic problems\"\n",
            "     Annual Eugenics, 7, Part II, 179-188 (1936); also in \"Contributions to\n",
            "     Mathematical Statistics\" (John Wiley, NY, 1950).\n",
            "   - Duda, R.O., & Hart, P.E. (1973) Pattern Classification and Scene Analysis.\n",
            "     (Q327.D83) John Wiley & Sons.  ISBN 0-471-22361-1.  See page 218.\n",
            "   - Dasarathy, B.V. (1980) \"Nosing Around the Neighborhood: A New System\n",
            "     Structure and Classification Rule for Recognition in Partially Exposed\n",
            "     Environments\".  IEEE Transactions on Pattern Analysis and Machine\n",
            "     Intelligence, Vol. PAMI-2, No. 1, 67-71.\n",
            "   - Gates, G.W. (1972) \"The Reduced Nearest Neighbor Rule\".  IEEE Transactions\n",
            "     on Information Theory, May 1972, 431-433.\n",
            "   - See also: 1988 MLC Proceedings, 54-64.  Cheeseman et al\"s AUTOCLASS II\n",
            "     conceptual clustering system finds 3 classes in the data.\n",
            "   - Many, many more ...\n"
          ]
        }
      ]
    },
    {
      "cell_type": "markdown",
      "metadata": {
        "id": "qhM6j0I2H0xQ"
      },
      "source": [
        "On se retrouve alors avec une variable qui contient le jeu de données (ici on l'a appelé *irisData*)\n",
        "\n",
        "Les variables des jeux de données comprennent un certain nombres d'attributs parmi (tous ne sont pas toujours définis) : data, target, target_names, feature_names, DESCR :\n",
        "- *.data* est un tableau de dimensions *(n,m)*. Chacune des *n* lignes correspond à une donnée, chacune des *m* colonnes à un attribut \n",
        "- *.target* stocke les classes (étiquettes/label) de chaque instance (dans le cas supervisé) : c'est un vecteur de taille *n* dont la première valeur est la classe de la donnée de la première ligne de la matrice .data, la deuxième valeur est la classe de la deuxième ligne, etc.\n",
        "- *.target_names* contient le nom des classes\n",
        "- *.feature_names* contient le nom des attributs\n",
        "- *.DESCR* est un texte décrivant le jeu de données."
      ]
    },
    {
      "cell_type": "code",
      "metadata": {
        "id": "TdZWSqHiH0xT",
        "colab": {
          "base_uri": "https://localhost:8080/"
        },
        "outputId": "e902893a-0bf5-46fe-f6a7-ca509a879ae3"
      },
      "source": [
        "irisData.data"
      ],
      "execution_count": null,
      "outputs": [
        {
          "output_type": "execute_result",
          "data": {
            "text/plain": [
              "array([[5.1, 3.5, 1.4, 0.2],\n",
              "       [4.9, 3. , 1.4, 0.2],\n",
              "       [4.7, 3.2, 1.3, 0.2],\n",
              "       [4.6, 3.1, 1.5, 0.2],\n",
              "       [5. , 3.6, 1.4, 0.2],\n",
              "       [5.4, 3.9, 1.7, 0.4],\n",
              "       [4.6, 3.4, 1.4, 0.3],\n",
              "       [5. , 3.4, 1.5, 0.2],\n",
              "       [4.4, 2.9, 1.4, 0.2],\n",
              "       [4.9, 3.1, 1.5, 0.1],\n",
              "       [5.4, 3.7, 1.5, 0.2],\n",
              "       [4.8, 3.4, 1.6, 0.2],\n",
              "       [4.8, 3. , 1.4, 0.1],\n",
              "       [4.3, 3. , 1.1, 0.1],\n",
              "       [5.8, 4. , 1.2, 0.2],\n",
              "       [5.7, 4.4, 1.5, 0.4],\n",
              "       [5.4, 3.9, 1.3, 0.4],\n",
              "       [5.1, 3.5, 1.4, 0.3],\n",
              "       [5.7, 3.8, 1.7, 0.3],\n",
              "       [5.1, 3.8, 1.5, 0.3],\n",
              "       [5.4, 3.4, 1.7, 0.2],\n",
              "       [5.1, 3.7, 1.5, 0.4],\n",
              "       [4.6, 3.6, 1. , 0.2],\n",
              "       [5.1, 3.3, 1.7, 0.5],\n",
              "       [4.8, 3.4, 1.9, 0.2],\n",
              "       [5. , 3. , 1.6, 0.2],\n",
              "       [5. , 3.4, 1.6, 0.4],\n",
              "       [5.2, 3.5, 1.5, 0.2],\n",
              "       [5.2, 3.4, 1.4, 0.2],\n",
              "       [4.7, 3.2, 1.6, 0.2],\n",
              "       [4.8, 3.1, 1.6, 0.2],\n",
              "       [5.4, 3.4, 1.5, 0.4],\n",
              "       [5.2, 4.1, 1.5, 0.1],\n",
              "       [5.5, 4.2, 1.4, 0.2],\n",
              "       [4.9, 3.1, 1.5, 0.2],\n",
              "       [5. , 3.2, 1.2, 0.2],\n",
              "       [5.5, 3.5, 1.3, 0.2],\n",
              "       [4.9, 3.6, 1.4, 0.1],\n",
              "       [4.4, 3. , 1.3, 0.2],\n",
              "       [5.1, 3.4, 1.5, 0.2],\n",
              "       [5. , 3.5, 1.3, 0.3],\n",
              "       [4.5, 2.3, 1.3, 0.3],\n",
              "       [4.4, 3.2, 1.3, 0.2],\n",
              "       [5. , 3.5, 1.6, 0.6],\n",
              "       [5.1, 3.8, 1.9, 0.4],\n",
              "       [4.8, 3. , 1.4, 0.3],\n",
              "       [5.1, 3.8, 1.6, 0.2],\n",
              "       [4.6, 3.2, 1.4, 0.2],\n",
              "       [5.3, 3.7, 1.5, 0.2],\n",
              "       [5. , 3.3, 1.4, 0.2],\n",
              "       [7. , 3.2, 4.7, 1.4],\n",
              "       [6.4, 3.2, 4.5, 1.5],\n",
              "       [6.9, 3.1, 4.9, 1.5],\n",
              "       [5.5, 2.3, 4. , 1.3],\n",
              "       [6.5, 2.8, 4.6, 1.5],\n",
              "       [5.7, 2.8, 4.5, 1.3],\n",
              "       [6.3, 3.3, 4.7, 1.6],\n",
              "       [4.9, 2.4, 3.3, 1. ],\n",
              "       [6.6, 2.9, 4.6, 1.3],\n",
              "       [5.2, 2.7, 3.9, 1.4],\n",
              "       [5. , 2. , 3.5, 1. ],\n",
              "       [5.9, 3. , 4.2, 1.5],\n",
              "       [6. , 2.2, 4. , 1. ],\n",
              "       [6.1, 2.9, 4.7, 1.4],\n",
              "       [5.6, 2.9, 3.6, 1.3],\n",
              "       [6.7, 3.1, 4.4, 1.4],\n",
              "       [5.6, 3. , 4.5, 1.5],\n",
              "       [5.8, 2.7, 4.1, 1. ],\n",
              "       [6.2, 2.2, 4.5, 1.5],\n",
              "       [5.6, 2.5, 3.9, 1.1],\n",
              "       [5.9, 3.2, 4.8, 1.8],\n",
              "       [6.1, 2.8, 4. , 1.3],\n",
              "       [6.3, 2.5, 4.9, 1.5],\n",
              "       [6.1, 2.8, 4.7, 1.2],\n",
              "       [6.4, 2.9, 4.3, 1.3],\n",
              "       [6.6, 3. , 4.4, 1.4],\n",
              "       [6.8, 2.8, 4.8, 1.4],\n",
              "       [6.7, 3. , 5. , 1.7],\n",
              "       [6. , 2.9, 4.5, 1.5],\n",
              "       [5.7, 2.6, 3.5, 1. ],\n",
              "       [5.5, 2.4, 3.8, 1.1],\n",
              "       [5.5, 2.4, 3.7, 1. ],\n",
              "       [5.8, 2.7, 3.9, 1.2],\n",
              "       [6. , 2.7, 5.1, 1.6],\n",
              "       [5.4, 3. , 4.5, 1.5],\n",
              "       [6. , 3.4, 4.5, 1.6],\n",
              "       [6.7, 3.1, 4.7, 1.5],\n",
              "       [6.3, 2.3, 4.4, 1.3],\n",
              "       [5.6, 3. , 4.1, 1.3],\n",
              "       [5.5, 2.5, 4. , 1.3],\n",
              "       [5.5, 2.6, 4.4, 1.2],\n",
              "       [6.1, 3. , 4.6, 1.4],\n",
              "       [5.8, 2.6, 4. , 1.2],\n",
              "       [5. , 2.3, 3.3, 1. ],\n",
              "       [5.6, 2.7, 4.2, 1.3],\n",
              "       [5.7, 3. , 4.2, 1.2],\n",
              "       [5.7, 2.9, 4.2, 1.3],\n",
              "       [6.2, 2.9, 4.3, 1.3],\n",
              "       [5.1, 2.5, 3. , 1.1],\n",
              "       [5.7, 2.8, 4.1, 1.3],\n",
              "       [6.3, 3.3, 6. , 2.5],\n",
              "       [5.8, 2.7, 5.1, 1.9],\n",
              "       [7.1, 3. , 5.9, 2.1],\n",
              "       [6.3, 2.9, 5.6, 1.8],\n",
              "       [6.5, 3. , 5.8, 2.2],\n",
              "       [7.6, 3. , 6.6, 2.1],\n",
              "       [4.9, 2.5, 4.5, 1.7],\n",
              "       [7.3, 2.9, 6.3, 1.8],\n",
              "       [6.7, 2.5, 5.8, 1.8],\n",
              "       [7.2, 3.6, 6.1, 2.5],\n",
              "       [6.5, 3.2, 5.1, 2. ],\n",
              "       [6.4, 2.7, 5.3, 1.9],\n",
              "       [6.8, 3. , 5.5, 2.1],\n",
              "       [5.7, 2.5, 5. , 2. ],\n",
              "       [5.8, 2.8, 5.1, 2.4],\n",
              "       [6.4, 3.2, 5.3, 2.3],\n",
              "       [6.5, 3. , 5.5, 1.8],\n",
              "       [7.7, 3.8, 6.7, 2.2],\n",
              "       [7.7, 2.6, 6.9, 2.3],\n",
              "       [6. , 2.2, 5. , 1.5],\n",
              "       [6.9, 3.2, 5.7, 2.3],\n",
              "       [5.6, 2.8, 4.9, 2. ],\n",
              "       [7.7, 2.8, 6.7, 2. ],\n",
              "       [6.3, 2.7, 4.9, 1.8],\n",
              "       [6.7, 3.3, 5.7, 2.1],\n",
              "       [7.2, 3.2, 6. , 1.8],\n",
              "       [6.2, 2.8, 4.8, 1.8],\n",
              "       [6.1, 3. , 4.9, 1.8],\n",
              "       [6.4, 2.8, 5.6, 2.1],\n",
              "       [7.2, 3. , 5.8, 1.6],\n",
              "       [7.4, 2.8, 6.1, 1.9],\n",
              "       [7.9, 3.8, 6.4, 2. ],\n",
              "       [6.4, 2.8, 5.6, 2.2],\n",
              "       [6.3, 2.8, 5.1, 1.5],\n",
              "       [6.1, 2.6, 5.6, 1.4],\n",
              "       [7.7, 3. , 6.1, 2.3],\n",
              "       [6.3, 3.4, 5.6, 2.4],\n",
              "       [6.4, 3.1, 5.5, 1.8],\n",
              "       [6. , 3. , 4.8, 1.8],\n",
              "       [6.9, 3.1, 5.4, 2.1],\n",
              "       [6.7, 3.1, 5.6, 2.4],\n",
              "       [6.9, 3.1, 5.1, 2.3],\n",
              "       [5.8, 2.7, 5.1, 1.9],\n",
              "       [6.8, 3.2, 5.9, 2.3],\n",
              "       [6.7, 3.3, 5.7, 2.5],\n",
              "       [6.7, 3. , 5.2, 2.3],\n",
              "       [6.3, 2.5, 5. , 1.9],\n",
              "       [6.5, 3. , 5.2, 2. ],\n",
              "       [6.2, 3.4, 5.4, 2.3],\n",
              "       [5.9, 3. , 5.1, 1.8]])"
            ]
          },
          "metadata": {},
          "execution_count": 72
        }
      ]
    },
    {
      "cell_type": "code",
      "metadata": {
        "id": "OXkitLY6H0xU",
        "colab": {
          "base_uri": "https://localhost:8080/"
        },
        "outputId": "b085e2b6-b7a8-45a6-cfea-c4ec5dfd297a"
      },
      "source": [
        "irisData.target"
      ],
      "execution_count": null,
      "outputs": [
        {
          "output_type": "execute_result",
          "data": {
            "text/plain": [
              "array([0, 0, 0, 0, 0, 0, 0, 0, 0, 0, 0, 0, 0, 0, 0, 0, 0, 0, 0, 0, 0, 0,\n",
              "       0, 0, 0, 0, 0, 0, 0, 0, 0, 0, 0, 0, 0, 0, 0, 0, 0, 0, 0, 0, 0, 0,\n",
              "       0, 0, 0, 0, 0, 0, 1, 1, 1, 1, 1, 1, 1, 1, 1, 1, 1, 1, 1, 1, 1, 1,\n",
              "       1, 1, 1, 1, 1, 1, 1, 1, 1, 1, 1, 1, 1, 1, 1, 1, 1, 1, 1, 1, 1, 1,\n",
              "       1, 1, 1, 1, 1, 1, 1, 1, 1, 1, 1, 1, 2, 2, 2, 2, 2, 2, 2, 2, 2, 2,\n",
              "       2, 2, 2, 2, 2, 2, 2, 2, 2, 2, 2, 2, 2, 2, 2, 2, 2, 2, 2, 2, 2, 2,\n",
              "       2, 2, 2, 2, 2, 2, 2, 2, 2, 2, 2, 2, 2, 2, 2, 2, 2, 2])"
            ]
          },
          "metadata": {},
          "execution_count": 80
        }
      ]
    },
    {
      "cell_type": "code",
      "metadata": {
        "id": "ZwU_r-XwH0xZ",
        "colab": {
          "base_uri": "https://localhost:8080/"
        },
        "outputId": "4bffd4d8-be01-4d62-813d-7fc67029515d"
      },
      "source": [
        "print(irisData.target_names)\n",
        "print(irisData.feature_names)"
      ],
      "execution_count": null,
      "outputs": [
        {
          "output_type": "stream",
          "name": "stdout",
          "text": [
            "['setosa' 'versicolor' 'virginica']\n",
            "['sepal length (cm)', 'sepal width (cm)', 'petal length (cm)', 'petal width (cm)']\n"
          ]
        }
      ]
    },
    {
      "cell_type": "markdown",
      "metadata": {
        "id": "G0IU_jmpH0xc"
      },
      "source": [
        "Noter que le type de tous ces éléments est *array*, un type très utile et central en python pour nous (en fait, le vrai type est s'appelle *ndarray* qui est un type propre à numpy : faites type(irisData.target) par exemple pour vous en assurer : il ne faut pas toujours croire ce que le notebook affiche !)"
      ]
    },
    {
      "cell_type": "markdown",
      "metadata": {
        "id": "Safe4zN-H0xd"
      },
      "source": [
        "##### Le jeu de données Iris (Fisher, 1936)\n",
        "Iris est un ensemble (=jeu) de données introduit en 1936 par R. Fisher comme un exemple d'analyse discriminante. Cet ensemble contient 150 exemples de critères observés sur 3 espèces différentes d'iris de Gaspésie (Setosa, Versicolor, Verginica). Chaque exemple est composé de quatre attributs (longueur et largeur des sépales en cm, longueur et largeur des pétales en cm) et d'une classe (l'espèce).\n",
        "\n",
        "**Question.** Exécutez **une à une** les commandes suivantes et comprenez ce qu'elles réalisent (vous aurez à les réutiliser)."
      ]
    },
    {
      "cell_type": "code",
      "metadata": {
        "id": "FHIaHRZKH0xi",
        "colab": {
          "base_uri": "https://localhost:8080/"
        },
        "outputId": "4c68c0a6-e683-4524-c58f-7ed0929eb054"
      },
      "source": [
        "print(len(irisData.data))\n",
        "print(\"-------------------------------\")\n",
        "print(irisData.target_names[0])\n",
        "print(\"-------------------------------\")\n",
        "print(irisData.target_names[2])\n",
        "print(\"-------------------------------\")\n",
        "print(irisData.target_names[-1])\n",
        "print(\"-------------------------------\")\n",
        "print(irisData.target_names[len(irisData.target_names)-1])\n",
        "print(\"-------------------------------\")\n",
        "print(irisData.data.shape)\n",
        "print(\"-------------------------------\")\n",
        "print(irisData.data[0])\n",
        "print(\"-------------------------------\")\n",
        "print(irisData.data[0][1])\n",
        "print(irisData.data[0,1])\n",
        "print(\"-------------------------------\")\n",
        "print(irisData.data[:,1])    # Celle-ci, il faut vraiment la comprendre !\n",
        "print(\"-------------------------------\")\n",
        "print(irisData.data[irisData.target==0])    # Et celle-ci aussi !!!\n",
        "print(\"-------------------------------\")\n",
        "print(irisData.data[:][1])  # pourquoi n'a-t-on pas le même résultat qu'avec [:,1] ?\n",
        "print(\"-------------------------------\")\n",
        "print(irisData.data[:,1])    # Celle-ci, il faut vraiment la comprendre !\n"
      ],
      "execution_count": null,
      "outputs": [
        {
          "output_type": "stream",
          "name": "stdout",
          "text": [
            "150\n",
            "-------------------------------\n",
            "setosa\n",
            "-------------------------------\n",
            "virginica\n",
            "-------------------------------\n",
            "virginica\n",
            "-------------------------------\n",
            "virginica\n",
            "-------------------------------\n",
            "(150, 4)\n",
            "-------------------------------\n",
            "[5.1 3.5 1.4 0.2]\n",
            "-------------------------------\n",
            "3.5\n",
            "3.5\n",
            "-------------------------------\n",
            "[3.5 3.  3.2 3.1 3.6 3.9 3.4 3.4 2.9 3.1 3.7 3.4 3.  3.  4.  4.4 3.9 3.5\n",
            " 3.8 3.8 3.4 3.7 3.6 3.3 3.4 3.  3.4 3.5 3.4 3.2 3.1 3.4 4.1 4.2 3.1 3.2\n",
            " 3.5 3.6 3.  3.4 3.5 2.3 3.2 3.5 3.8 3.  3.8 3.2 3.7 3.3 3.2 3.2 3.1 2.3\n",
            " 2.8 2.8 3.3 2.4 2.9 2.7 2.  3.  2.2 2.9 2.9 3.1 3.  2.7 2.2 2.5 3.2 2.8\n",
            " 2.5 2.8 2.9 3.  2.8 3.  2.9 2.6 2.4 2.4 2.7 2.7 3.  3.4 3.1 2.3 3.  2.5\n",
            " 2.6 3.  2.6 2.3 2.7 3.  2.9 2.9 2.5 2.8 3.3 2.7 3.  2.9 3.  3.  2.5 2.9\n",
            " 2.5 3.6 3.2 2.7 3.  2.5 2.8 3.2 3.  3.8 2.6 2.2 3.2 2.8 2.8 2.7 3.3 3.2\n",
            " 2.8 3.  2.8 3.  2.8 3.8 2.8 2.8 2.6 3.  3.4 3.1 3.  3.1 3.1 3.1 2.7 3.2\n",
            " 3.3 3.  2.5 3.  3.4 3. ]\n",
            "-------------------------------\n",
            "[[5.1 3.5 1.4 0.2]\n",
            " [4.9 3.  1.4 0.2]\n",
            " [4.7 3.2 1.3 0.2]\n",
            " [4.6 3.1 1.5 0.2]\n",
            " [5.  3.6 1.4 0.2]\n",
            " [5.4 3.9 1.7 0.4]\n",
            " [4.6 3.4 1.4 0.3]\n",
            " [5.  3.4 1.5 0.2]\n",
            " [4.4 2.9 1.4 0.2]\n",
            " [4.9 3.1 1.5 0.1]\n",
            " [5.4 3.7 1.5 0.2]\n",
            " [4.8 3.4 1.6 0.2]\n",
            " [4.8 3.  1.4 0.1]\n",
            " [4.3 3.  1.1 0.1]\n",
            " [5.8 4.  1.2 0.2]\n",
            " [5.7 4.4 1.5 0.4]\n",
            " [5.4 3.9 1.3 0.4]\n",
            " [5.1 3.5 1.4 0.3]\n",
            " [5.7 3.8 1.7 0.3]\n",
            " [5.1 3.8 1.5 0.3]\n",
            " [5.4 3.4 1.7 0.2]\n",
            " [5.1 3.7 1.5 0.4]\n",
            " [4.6 3.6 1.  0.2]\n",
            " [5.1 3.3 1.7 0.5]\n",
            " [4.8 3.4 1.9 0.2]\n",
            " [5.  3.  1.6 0.2]\n",
            " [5.  3.4 1.6 0.4]\n",
            " [5.2 3.5 1.5 0.2]\n",
            " [5.2 3.4 1.4 0.2]\n",
            " [4.7 3.2 1.6 0.2]\n",
            " [4.8 3.1 1.6 0.2]\n",
            " [5.4 3.4 1.5 0.4]\n",
            " [5.2 4.1 1.5 0.1]\n",
            " [5.5 4.2 1.4 0.2]\n",
            " [4.9 3.1 1.5 0.2]\n",
            " [5.  3.2 1.2 0.2]\n",
            " [5.5 3.5 1.3 0.2]\n",
            " [4.9 3.6 1.4 0.1]\n",
            " [4.4 3.  1.3 0.2]\n",
            " [5.1 3.4 1.5 0.2]\n",
            " [5.  3.5 1.3 0.3]\n",
            " [4.5 2.3 1.3 0.3]\n",
            " [4.4 3.2 1.3 0.2]\n",
            " [5.  3.5 1.6 0.6]\n",
            " [5.1 3.8 1.9 0.4]\n",
            " [4.8 3.  1.4 0.3]\n",
            " [5.1 3.8 1.6 0.2]\n",
            " [4.6 3.2 1.4 0.2]\n",
            " [5.3 3.7 1.5 0.2]\n",
            " [5.  3.3 1.4 0.2]]\n",
            "-------------------------------\n",
            "[4.9 3.  1.4 0.2]\n",
            "-------------------------------\n",
            "[3.5 3.  3.2 3.1 3.6 3.9 3.4 3.4 2.9 3.1 3.7 3.4 3.  3.  4.  4.4 3.9 3.5\n",
            " 3.8 3.8 3.4 3.7 3.6 3.3 3.4 3.  3.4 3.5 3.4 3.2 3.1 3.4 4.1 4.2 3.1 3.2\n",
            " 3.5 3.6 3.  3.4 3.5 2.3 3.2 3.5 3.8 3.  3.8 3.2 3.7 3.3 3.2 3.2 3.1 2.3\n",
            " 2.8 2.8 3.3 2.4 2.9 2.7 2.  3.  2.2 2.9 2.9 3.1 3.  2.7 2.2 2.5 3.2 2.8\n",
            " 2.5 2.8 2.9 3.  2.8 3.  2.9 2.6 2.4 2.4 2.7 2.7 3.  3.4 3.1 2.3 3.  2.5\n",
            " 2.6 3.  2.6 2.3 2.7 3.  2.9 2.9 2.5 2.8 3.3 2.7 3.  2.9 3.  3.  2.5 2.9\n",
            " 2.5 3.6 3.2 2.7 3.  2.5 2.8 3.2 3.  3.8 2.6 2.2 3.2 2.8 2.8 2.7 3.3 3.2\n",
            " 2.8 3.  2.8 3.  2.8 3.8 2.8 2.8 2.6 3.  3.4 3.1 3.  3.1 3.1 3.1 2.7 3.2\n",
            " 3.3 3.  2.5 3.  3.4 3. ]\n"
          ]
        }
      ]
    },
    {
      "cell_type": "markdown",
      "metadata": {
        "id": "0yI3SusIH0xn"
      },
      "source": [
        "Vous avez eu une erreur ? Pourquoi ? Refléchissez...\n",
        "\n",
        "Et assurez vous de tester toutes les lignes, quite à créer de nouvelles cellules (ou à mettre en commentaire les lignes déjà testées, ou qui génèrent des erreurs)"
      ]
    },
    {
      "cell_type": "markdown",
      "metadata": {
        "id": "SEFjsCJUH0xo"
      },
      "source": [
        "##### Visualiser les données\n",
        "Scikit-Learn  intègre la librairie matplotlib  (http://matplotlib.org/) qui propose de très nombreuses primitives permettant de faire des dessins, et la librairie pylab, qui intègre les librairies NumPy, SciPy  et Matplotlib .\n",
        "\n",
        "Exécutez les commandes suivantes et comprenez ce qu'elles réalisent :"
      ]
    },
    {
      "cell_type": "code",
      "metadata": {
        "id": "6DGx0G1SH0xq",
        "colab": {
          "base_uri": "https://localhost:8080/",
          "height": 268
        },
        "outputId": "c9b1e43e-5f52-44cb-d635-3dd5f036aafd"
      },
      "source": [
        "%matplotlib inline     \n",
        "# Commande uniquement Notebook : permet l'affichage des courbes\n",
        "import matplotlib.pyplot as plt        \n",
        "#permet d'importer 'pyplot' et de remplacer son nom par 'plt'\n",
        "X = irisData.data\n",
        "Color = irisData.target\n",
        "abscisse = 0\n",
        "ordonnee = 1\n",
        "\n",
        "plt.scatter(X[:, abscisse], X[:, ordonnee], c=Color)   \n",
        "# Définition des abscisses et des ordonnées, ainsi que de la couleur\n",
        "plt.show()    \n",
        "# Affichage de la courbe"
      ],
      "execution_count": null,
      "outputs": [
        {
          "output_type": "display_data",
          "data": {
            "image/png": "[encoded data removed]",
            "text/plain": [
              "<Figure size 432x288 with 1 Axes>"
            ]
          },
          "metadata": {
            "needs_background": "light"
          }
        }
      ]
    },
    {
      "cell_type": "markdown",
      "metadata": {
        "id": "knCEqH8DH0x1"
      },
      "source": [
        "C'est bien mais pas super : il manque de l'information pour être une vraie courbe. On améliore :"
      ]
    },
    {
      "cell_type": "code",
      "metadata": {
        "id": "MieZPNfeH0x2",
        "colab": {
          "base_uri": "https://localhost:8080/",
          "height": 295
        },
        "outputId": "e7db1a83-ab69-4650-c9cf-fba22687d7be"
      },
      "source": [
        "plt.xlabel(irisData.feature_names[abscisse])    # Nomage de l'axe des abscisses\n",
        "plt.ylabel(irisData.feature_names[ordonnee])    # Nomage de l'axe des ordonnées   \n",
        "plt.title(\"Données Iris - Dimensions des sépales uniquement\") # Et il faut un tritre\n",
        "\n",
        "plt.scatter(X[:, abscisse], X[:, ordonnee], c=Color)   # Re-éfinition des abscisses, ordonnées, et couleurs\n",
        "plt.show()\n"
      ],
      "execution_count": null,
      "outputs": [
        {
          "output_type": "display_data",
          "data": {
            "image/png": "[encoded data removed]",
            "text/plain": [
              "<Figure size 432x288 with 1 Axes>"
            ]
          },
          "metadata": {
            "needs_background": "light"
          }
        }
      ]
    },
    {
      "cell_type": "markdown",
      "metadata": {
        "id": "LyVDdnW1H0x8"
      },
      "source": [
        "ça commence à ressembler à quelque chose, non ? Reste 2 petits problèmes : il manque la légende pour expliquer le code couleur, et les couleurs ne sont pas très belles (ça c'est une question de goût, mais quand même). Voilà un façon (un peu différente) d'y remédier :"
      ]
    },
    {
      "cell_type": "code",
      "metadata": {
        "id": "u-7semNOH0x9",
        "colab": {
          "base_uri": "https://localhost:8080/",
          "height": 295
        },
        "outputId": "46440839-0f6c-461c-dac7-05eeda85867f"
      },
      "source": [
        "y = irisData.target\n",
        "colors=[\"red\",\"green\",\"blue\"]\n",
        "differentes_target = set(irisData.target)    # Enlève les doublons\n",
        "for i in differentes_target:\n",
        "\tplt.scatter(X[y==i][:, abscisse],X[y==i][:,ordonnee],color=colors[i], label=irisData.target_names[i])\n",
        "plt.legend()\n",
        "plt.xlabel(irisData.feature_names[abscisse])\n",
        "plt.ylabel(irisData.feature_names[ordonnee])\n",
        "plt.title(\"Données Iris - dimensions des sépales uniquement\")\n",
        "plt.show()"
      ],
      "execution_count": null,
      "outputs": [
        {
          "output_type": "display_data",
          "data": {
            "image/png": "[encoded data removed]",
            "text/plain": [
              "<Figure size 432x288 with 1 Axes>"
            ]
          },
          "metadata": {
            "needs_background": "light"
          }
        }
      ]
    },
    {
      "cell_type": "markdown",
      "metadata": {
        "id": "PHKRGAP0H0yB"
      },
      "source": [
        "**Question.** Les données iris sont décrites par 4 attributs. Il y a 6 en 2 dimensions manières d'en regarder 2. En modifiant le code ci-dessus, déterminez visuellement le couple d'attributs qui semble le mieux a même de séparer clairement les exemples des 3 classes d'iris."
      ]
    },
    {
      "cell_type": "code",
      "metadata": {
        "id": "nDRnfz_vH0yD",
        "colab": {
          "base_uri": "https://localhost:8080/",
          "height": 295
        },
        "outputId": "bc9207f7-a740-4d43-cc8b-ec15e55241ba"
      },
      "source": [
        "# A vous\n",
        "y = irisData.target\n",
        "colors=[\"red\",\"green\",\"blue\"]\n",
        "differentes_target = set(irisData.target)    # Enlève les doublons\n",
        "for i in differentes_target:\n",
        "\t#plt.scatter(X[y==i][:, abscisse],X[y==i][:,ordonnee],color=colors[i], label=irisData.target_names[i])\n",
        "  plt.scatter(X[y==i][:, 2],X[y==i][:, 3],color=colors[i], label=irisData.target_names[i])\n",
        "plt.legend()\n",
        "plt.xlabel(irisData.feature_names[2])\n",
        "plt.ylabel(irisData.feature_names[3])\n",
        "plt.title(\"Données Iris - dimensions des pétales uniquement\")\n",
        "plt.show()\n"
      ],
      "execution_count": null,
      "outputs": [
        {
          "output_type": "display_data",
          "data": {
            "image/png": "[encoded data removed]",
            "text/plain": [
              "<Figure size 432x288 with 1 Axes>"
            ]
          },
          "metadata": {
            "needs_background": "light"
          }
        }
      ]
    },
    {
      "cell_type": "markdown",
      "metadata": {
        "id": "tIRdxF14H0yF"
      },
      "source": [
        "##### Extraire des statistiques des données\n",
        "Un autre type de données est très utile : les dictionnaires. Alors qu'une liste est indéxée par des entiers positifs, un dictionnaire peut être indexé par (presque) tout :"
      ]
    },
    {
      "cell_type": "code",
      "metadata": {
        "id": "nkHo1lzjH0yH",
        "colab": {
          "base_uri": "https://localhost:8080/",
          "height": 254
        },
        "outputId": "9cbf4f85-949d-406f-f66a-2c7e7d4645a8"
      },
      "source": [
        "d = {}    # Création d'un dictionnaire vide\n",
        "d = {\"film\":[\"Ready Player One\", \"Magnolia\"], \"duree\": [120, 90], 42:[\"et\", \"oui\"] }\n",
        "print(d[\"film\"])\n",
        "print(\"Les clés : \", d.keys())\n",
        "print(\"Les clés : \", len(d.keys()))\n",
        "print(\"Les valeurs : \", d.values())\n",
        "d[\"film\"].append(\"Les valseuses\")\n",
        "d[\"Annee\"]=2018\n",
        "print(\"A la fin : \", d)"
      ],
      "execution_count": null,
      "outputs": [
        {
          "output_type": "stream",
          "name": "stdout",
          "text": [
            "['Ready Player One', 'Magnolia']\n"
          ]
        },
        {
          "output_type": "error",
          "ename": "TypeError",
          "evalue": "ignored",
          "traceback": [
            "\u001b[0;31m---------------------------------------------------------------------------\u001b[0m",
            "\u001b[0;31mTypeError\u001b[0m                                 Traceback (most recent call last)",
            "\u001b[0;32m<ipython-input-123-7c4cef613393>\u001b[0m in \u001b[0;36m<module>\u001b[0;34m()\u001b[0m\n\u001b[1;32m      2\u001b[0m \u001b[0md\u001b[0m \u001b[0;34m=\u001b[0m \u001b[0;34m{\u001b[0m\u001b[0;34m\"film\"\u001b[0m\u001b[0;34m:\u001b[0m\u001b[0;34m[\u001b[0m\u001b[0;34m\"Ready Player One\"\u001b[0m\u001b[0;34m,\u001b[0m \u001b[0;34m\"Magnolia\"\u001b[0m\u001b[0;34m]\u001b[0m\u001b[0;34m,\u001b[0m \u001b[0;34m\"duree\"\u001b[0m\u001b[0;34m:\u001b[0m \u001b[0;34m[\u001b[0m\u001b[0;36m120\u001b[0m\u001b[0;34m,\u001b[0m \u001b[0;36m90\u001b[0m\u001b[0;34m]\u001b[0m\u001b[0;34m,\u001b[0m \u001b[0;36m42\u001b[0m\u001b[0;34m:\u001b[0m\u001b[0;34m[\u001b[0m\u001b[0;34m\"et\"\u001b[0m\u001b[0;34m,\u001b[0m \u001b[0;34m\"oui\"\u001b[0m\u001b[0;34m]\u001b[0m \u001b[0;34m}\u001b[0m\u001b[0;34m\u001b[0m\u001b[0;34m\u001b[0m\u001b[0m\n\u001b[1;32m      3\u001b[0m \u001b[0mprint\u001b[0m\u001b[0;34m(\u001b[0m\u001b[0md\u001b[0m\u001b[0;34m[\u001b[0m\u001b[0;34m\"film\"\u001b[0m\u001b[0;34m]\u001b[0m\u001b[0;34m)\u001b[0m\u001b[0;34m\u001b[0m\u001b[0;34m\u001b[0m\u001b[0m\n\u001b[0;32m----> 4\u001b[0;31m \u001b[0mprint\u001b[0m\u001b[0;34m(\u001b[0m\u001b[0;34m\"Les clés : \"\u001b[0m\u001b[0;34m,\u001b[0m \u001b[0md\u001b[0m\u001b[0;34m.\u001b[0m\u001b[0mkeys\u001b[0m\u001b[0;34m(\u001b[0m\u001b[0;34m)\u001b[0m\u001b[0;34m[\u001b[0m\u001b[0;36m0\u001b[0m\u001b[0;34m]\u001b[0m\u001b[0;34m)\u001b[0m\u001b[0;34m\u001b[0m\u001b[0;34m\u001b[0m\u001b[0m\n\u001b[0m\u001b[1;32m      5\u001b[0m \u001b[0mprint\u001b[0m\u001b[0;34m(\u001b[0m\u001b[0;34m\"Les clés : \"\u001b[0m\u001b[0;34m,\u001b[0m \u001b[0mlen\u001b[0m\u001b[0;34m(\u001b[0m\u001b[0md\u001b[0m\u001b[0;34m.\u001b[0m\u001b[0mkeys\u001b[0m\u001b[0;34m(\u001b[0m\u001b[0;34m)\u001b[0m\u001b[0;34m)\u001b[0m\u001b[0;34m)\u001b[0m\u001b[0;34m\u001b[0m\u001b[0;34m\u001b[0m\u001b[0m\n\u001b[1;32m      6\u001b[0m \u001b[0mprint\u001b[0m\u001b[0;34m(\u001b[0m\u001b[0;34m\"Les valeurs : \"\u001b[0m\u001b[0;34m,\u001b[0m \u001b[0md\u001b[0m\u001b[0;34m.\u001b[0m\u001b[0mvalues\u001b[0m\u001b[0;34m(\u001b[0m\u001b[0;34m)\u001b[0m\u001b[0;34m)\u001b[0m\u001b[0;34m\u001b[0m\u001b[0;34m\u001b[0m\u001b[0m\n",
            "\u001b[0;31mTypeError\u001b[0m: 'dict_keys' object is not subscriptable"
          ]
        }
      ]
    },
    {
      "cell_type": "markdown",
      "metadata": {
        "id": "uBFz8-O-H0yI"
      },
      "source": [
        "**Question.** En lisant les données une par une, remplir un dictionnaire *dico* dont les clés sont : \"petal_length\", \"petal_width\", \"sepal_length\", \"sepal_width\""
      ]
    },
    {
      "cell_type": "code",
      "metadata": {
        "id": "HJCiePktH0yJ",
        "colab": {
          "base_uri": "https://localhost:8080/"
        },
        "outputId": "b5f18cd6-15f6-4b54-e4bc-2e72fd146cac"
      },
      "source": [
        "# A vous\n",
        "dico = {}\n",
        "sepal_length_value = irisData.data[:,0]\n",
        "sepal_width_value = irisData.data[:,1]\n",
        "petal_length_value = irisData.data[:,2]\n",
        "petal_width_value = irisData.data[:,3]\n",
        "dico = {\"sepal_length\": sepal_length_value , \"sepal_width\": sepal_width_value,\"petal_length\": petal_length_value, \"petal_width\":petal_width_value}\n",
        "print(dico)"
      ],
      "execution_count": null,
      "outputs": [
        {
          "output_type": "stream",
          "name": "stdout",
          "text": [
            "{'sepal_length': array([5.1, 4.9, 4.7, 4.6, 5. , 5.4, 4.6, 5. , 4.4, 4.9, 5.4, 4.8, 4.8,\n",
            "       4.3, 5.8, 5.7, 5.4, 5.1, 5.7, 5.1, 5.4, 5.1, 4.6, 5.1, 4.8, 5. ,\n",
            "       5. , 5.2, 5.2, 4.7, 4.8, 5.4, 5.2, 5.5, 4.9, 5. , 5.5, 4.9, 4.4,\n",
            "       5.1, 5. , 4.5, 4.4, 5. , 5.1, 4.8, 5.1, 4.6, 5.3, 5. , 7. , 6.4,\n",
            "       6.9, 5.5, 6.5, 5.7, 6.3, 4.9, 6.6, 5.2, 5. , 5.9, 6. , 6.1, 5.6,\n",
            "       6.7, 5.6, 5.8, 6.2, 5.6, 5.9, 6.1, 6.3, 6.1, 6.4, 6.6, 6.8, 6.7,\n",
            "       6. , 5.7, 5.5, 5.5, 5.8, 6. , 5.4, 6. , 6.7, 6.3, 5.6, 5.5, 5.5,\n",
            "       6.1, 5.8, 5. , 5.6, 5.7, 5.7, 6.2, 5.1, 5.7, 6.3, 5.8, 7.1, 6.3,\n",
            "       6.5, 7.6, 4.9, 7.3, 6.7, 7.2, 6.5, 6.4, 6.8, 5.7, 5.8, 6.4, 6.5,\n",
            "       7.7, 7.7, 6. , 6.9, 5.6, 7.7, 6.3, 6.7, 7.2, 6.2, 6.1, 6.4, 7.2,\n",
            "       7.4, 7.9, 6.4, 6.3, 6.1, 7.7, 6.3, 6.4, 6. , 6.9, 6.7, 6.9, 5.8,\n",
            "       6.8, 6.7, 6.7, 6.3, 6.5, 6.2, 5.9]), 'sepal_width': array([3.5, 3. , 3.2, 3.1, 3.6, 3.9, 3.4, 3.4, 2.9, 3.1, 3.7, 3.4, 3. ,\n",
            "       3. , 4. , 4.4, 3.9, 3.5, 3.8, 3.8, 3.4, 3.7, 3.6, 3.3, 3.4, 3. ,\n",
            "       3.4, 3.5, 3.4, 3.2, 3.1, 3.4, 4.1, 4.2, 3.1, 3.2, 3.5, 3.6, 3. ,\n",
            "       3.4, 3.5, 2.3, 3.2, 3.5, 3.8, 3. , 3.8, 3.2, 3.7, 3.3, 3.2, 3.2,\n",
            "       3.1, 2.3, 2.8, 2.8, 3.3, 2.4, 2.9, 2.7, 2. , 3. , 2.2, 2.9, 2.9,\n",
            "       3.1, 3. , 2.7, 2.2, 2.5, 3.2, 2.8, 2.5, 2.8, 2.9, 3. , 2.8, 3. ,\n",
            "       2.9, 2.6, 2.4, 2.4, 2.7, 2.7, 3. , 3.4, 3.1, 2.3, 3. , 2.5, 2.6,\n",
            "       3. , 2.6, 2.3, 2.7, 3. , 2.9, 2.9, 2.5, 2.8, 3.3, 2.7, 3. , 2.9,\n",
            "       3. , 3. , 2.5, 2.9, 2.5, 3.6, 3.2, 2.7, 3. , 2.5, 2.8, 3.2, 3. ,\n",
            "       3.8, 2.6, 2.2, 3.2, 2.8, 2.8, 2.7, 3.3, 3.2, 2.8, 3. , 2.8, 3. ,\n",
            "       2.8, 3.8, 2.8, 2.8, 2.6, 3. , 3.4, 3.1, 3. , 3.1, 3.1, 3.1, 2.7,\n",
            "       3.2, 3.3, 3. , 2.5, 3. , 3.4, 3. ]), 'petal_length': array([1.4, 1.4, 1.3, 1.5, 1.4, 1.7, 1.4, 1.5, 1.4, 1.5, 1.5, 1.6, 1.4,\n",
            "       1.1, 1.2, 1.5, 1.3, 1.4, 1.7, 1.5, 1.7, 1.5, 1. , 1.7, 1.9, 1.6,\n",
            "       1.6, 1.5, 1.4, 1.6, 1.6, 1.5, 1.5, 1.4, 1.5, 1.2, 1.3, 1.4, 1.3,\n",
            "       1.5, 1.3, 1.3, 1.3, 1.6, 1.9, 1.4, 1.6, 1.4, 1.5, 1.4, 4.7, 4.5,\n",
            "       4.9, 4. , 4.6, 4.5, 4.7, 3.3, 4.6, 3.9, 3.5, 4.2, 4. , 4.7, 3.6,\n",
            "       4.4, 4.5, 4.1, 4.5, 3.9, 4.8, 4. , 4.9, 4.7, 4.3, 4.4, 4.8, 5. ,\n",
            "       4.5, 3.5, 3.8, 3.7, 3.9, 5.1, 4.5, 4.5, 4.7, 4.4, 4.1, 4. , 4.4,\n",
            "       4.6, 4. , 3.3, 4.2, 4.2, 4.2, 4.3, 3. , 4.1, 6. , 5.1, 5.9, 5.6,\n",
            "       5.8, 6.6, 4.5, 6.3, 5.8, 6.1, 5.1, 5.3, 5.5, 5. , 5.1, 5.3, 5.5,\n",
            "       6.7, 6.9, 5. , 5.7, 4.9, 6.7, 4.9, 5.7, 6. , 4.8, 4.9, 5.6, 5.8,\n",
            "       6.1, 6.4, 5.6, 5.1, 5.6, 6.1, 5.6, 5.5, 4.8, 5.4, 5.6, 5.1, 5.1,\n",
            "       5.9, 5.7, 5.2, 5. , 5.2, 5.4, 5.1]), 'petal_width': array([0.2, 0.2, 0.2, 0.2, 0.2, 0.4, 0.3, 0.2, 0.2, 0.1, 0.2, 0.2, 0.1,\n",
            "       0.1, 0.2, 0.4, 0.4, 0.3, 0.3, 0.3, 0.2, 0.4, 0.2, 0.5, 0.2, 0.2,\n",
            "       0.4, 0.2, 0.2, 0.2, 0.2, 0.4, 0.1, 0.2, 0.2, 0.2, 0.2, 0.1, 0.2,\n",
            "       0.2, 0.3, 0.3, 0.2, 0.6, 0.4, 0.3, 0.2, 0.2, 0.2, 0.2, 1.4, 1.5,\n",
            "       1.5, 1.3, 1.5, 1.3, 1.6, 1. , 1.3, 1.4, 1. , 1.5, 1. , 1.4, 1.3,\n",
            "       1.4, 1.5, 1. , 1.5, 1.1, 1.8, 1.3, 1.5, 1.2, 1.3, 1.4, 1.4, 1.7,\n",
            "       1.5, 1. , 1.1, 1. , 1.2, 1.6, 1.5, 1.6, 1.5, 1.3, 1.3, 1.3, 1.2,\n",
            "       1.4, 1.2, 1. , 1.3, 1.2, 1.3, 1.3, 1.1, 1.3, 2.5, 1.9, 2.1, 1.8,\n",
            "       2.2, 2.1, 1.7, 1.8, 1.8, 2.5, 2. , 1.9, 2.1, 2. , 2.4, 2.3, 1.8,\n",
            "       2.2, 2.3, 1.5, 2.3, 2. , 2. , 1.8, 2.1, 1.8, 1.8, 1.8, 2.1, 1.6,\n",
            "       1.9, 2. , 2.2, 1.5, 1.4, 2.3, 2.4, 1.8, 1.8, 2.1, 2.4, 2.3, 1.9,\n",
            "       2.3, 2.5, 2.3, 1.9, 2. , 2.3, 1.8])}\n"
          ]
        }
      ]
    },
    {
      "cell_type": "markdown",
      "metadata": {
        "id": "-cRc9ADcH0yL"
      },
      "source": [
        "**Question.** Ecrire une fonction display_stat qui prend en entrée un dictionnaire avec les clés de la question précédente et renvoie les statistiques 'moyenne', 'valeur max', 'valeur min', et 'déviation standard' pour chacun des 4 attributs. Ces fonctions sont toutes déjà définies dans le module numpy. Le résultat pourra se présenter sous la forme d'un tableau (pas aussi beau, là c'est du markdown):\n",
        "\n",
        "| Attribut | min | max | moyenne | std |\n",
        "| --- | --- | --- | --- | --- |\n",
        "| sepal_length | 4.30 | 7.90 | 5.84 | 0.83 |\n",
        "| sepal_width | 2.00 |4.40 | 3.05 | 0.43 |\n",
        "| petal_length | 1.00 | 6.90 | 3.76 | 1.76 |\n",
        "| petal_width | 0.10 | 1.20 | 0.76 | 1.00 |\n",
        "\n",
        "   sepal length: 4.3  7.9   5.84  0.83    0.7826   \n",
        "    sepal width: 2.0  4.4   3.05  0.43   -0.4194\n",
        "   petal length: 1.0  6.9   3.76  1.76    0.9490  (high!)\n",
        "    petal width: 0.1  2.5   1.20  0.76    0.9565  (high!)\n"
      ]
    },
    {
      "cell_type": "code",
      "metadata": {
        "id": "gq6BaF8UH0yM",
        "colab": {
          "base_uri": "https://localhost:8080/"
        },
        "outputId": "222f27e7-f76f-4124-e8e6-45a25bf4108b"
      },
      "source": [
        "import numpy as np\n",
        "# A vous (sans utiliser pandas vu en cours!)\n",
        "def display_stat(dico):\n",
        "  matrice = np.ndarray(shape=(4,4))\n",
        "  i = 0\n",
        "  for attribut in dico.keys():\n",
        "    matrice[i] = [dico[attribut].min(), dico[attribut].max(), dico[attribut].mean(), dico[attribut].std()]\n",
        "    i = i + 1\n",
        "  return matrice\n",
        "display_stat(dico) \n"
      ],
      "execution_count": null,
      "outputs": [
        {
          "output_type": "execute_result",
          "data": {
            "text/plain": [
              "array([[4.3       , 7.9       , 5.84333333, 0.82530129],\n",
              "       [2.        , 4.4       , 3.05733333, 0.43441097],\n",
              "       [1.        , 6.9       , 3.758     , 1.75940407],\n",
              "       [0.1       , 2.5       , 1.19933333, 0.75969263]])"
            ]
          },
          "metadata": {},
          "execution_count": 158
        }
      ]
    },
    {
      "cell_type": "markdown",
      "metadata": {
        "id": "Klbj_dFtH0yP"
      },
      "source": [
        "**Question.** Utiliser cette fonction sur les données pour chacune des classes. Pour cela, il pourrait être utile de créer un dictionnaire par classe..."
      ]
    },
    {
      "cell_type": "code",
      "metadata": {
        "id": "8zS6moYdH0yQ",
        "colab": {
          "base_uri": "https://localhost:8080/"
        },
        "outputId": "154ce62b-2858-4765-ad2c-71cac239009a"
      },
      "source": [
        "# A vous\n",
        "data_class0 = irisData.data[irisData.target==0]\n",
        "data_class1 = irisData.data[irisData.target==1]\n",
        "data_class2 = irisData.data[irisData.target==2]\n",
        "dico_0 = {\"sepal_length\": data_class0[0], \"sepal_width\":data_class0[1],\"petal_length\": data_class0[2], \"petal_width\":data_class0[3]}\n",
        "dico_1 = {\"sepal_length\": data_class1[0], \"sepal_width\":data_class1[1],\"petal_length\": data_class1[2], \"petal_width\":data_class1[3]}\n",
        "dico_2 = {\"sepal_length\": data_class2[0], \"sepal_width\":data_class2[1],\"petal_length\": data_class2[2], \"petal_width\":data_class2[3]}\n",
        "print(display_stat(dico_0))\n",
        "print(display_stat(dico_1))\n",
        "print(display_stat(dico_2))"
      ],
      "execution_count": null,
      "outputs": [
        {
          "output_type": "stream",
          "name": "stdout",
          "text": [
            "[[0.2        5.1        2.55       1.88745861]\n",
            " [0.2        4.9        2.375      1.76405074]\n",
            " [0.2        4.7        2.35       1.72988439]\n",
            " [0.2        4.6        2.35       1.65604952]]\n",
            "[[1.4        7.         4.075      2.0535031 ]\n",
            " [1.5        6.4        3.9        1.79304211]\n",
            " [1.5        6.9        4.1        2.01494417]\n",
            " [1.3        5.5        3.275      1.6068214 ]]\n",
            "[[2.5        6.3        4.525      1.65283847]\n",
            " [1.9        5.8        3.875      1.61922049]\n",
            " [2.1        7.1        4.525      2.04496332]\n",
            " [1.8        6.3        4.15       1.85809042]]\n"
          ]
        }
      ]
    },
    {
      "cell_type": "markdown",
      "metadata": {
        "id": "6ZRpkMLe7LJn"
      },
      "source": [
        "## 3. sklearn et Pandas fonctionnent ensemble"
      ]
    },
    {
      "cell_type": "markdown",
      "metadata": {
        "id": "qJz9rIZX7LJn"
      },
      "source": [
        "En réalité, les quelques lignes de code données en cours utilisent la librairie pandas, compatible avec numpy. Pandas est un outil de référence en science des données, et doit être connu en sciences des données. \n",
        "Nous allons voir rapidement ici, comment passer de l'un à l'autre.\n",
        "\n",
        "Un DataFrame pandas est la structure de base pour stocker tout ce qui est nécessaire dans un jeu de données. La différence majeure avec un jeu de données sklearn est que target et features de sklearn sont toutes des séries dans pandas (des colonnes, des variables). Cela provient du fait que pandas est plus issu de la science statistique des données que par l'apprentissage automatique. A part cela, ces structures utilisent largement les structures classes/objets et dictionnaires.\n",
        "\n",
        "Voyons comment passer d'un jeu de données sklearn à un jeu de données pandas."
      ]
    },
    {
      "cell_type": "code",
      "metadata": {
        "id": "CHpkdCDp7LJo"
      },
      "source": [
        "import pandas as pd\n",
        "irisData = load_iris()\n",
        "irisdf = pd.DataFrame(data = np.c_[irisData['data'], irisData['target']],\n",
        "                      columns = irisData['feature_names'] + ['target'])\n",
        "irisdf"
      ],
      "execution_count": null,
      "outputs": []
    },
    {
      "cell_type": "markdown",
      "metadata": {
        "id": "EOmLZluj7LJo"
      },
      "source": [
        "La conversion inverse est plus délicate, car nous devons identifier et spécifier la target d'un dataset sklearn."
      ]
    },
    {
      "cell_type": "code",
      "metadata": {
        "id": "dzuPbAN57LJo"
      },
      "source": [
        "# A vous"
      ],
      "execution_count": null,
      "outputs": []
    },
    {
      "cell_type": "markdown",
      "metadata": {
        "id": "WXkhXIZCl8YW"
      },
      "source": [
        "## 4. ACP\n",
        "\n",
        "Nous allons maintenant s'intéresser à la méthode ACP pour la réduction de dimension et la visualisation. Pour cela, nous allons utiliser le jeu de données de chiffrs manuscriptes `digits`.\n",
        "\n",
        " ![img](https://www.tensorflow.org/images/MNIST.png)"
      ]
    },
    {
      "cell_type": "markdown",
      "metadata": {
        "id": "KlbXp2fcrDUc"
      },
      "source": [
        "Le jeu de données `digits` est aussi disponible dans scikit-learn. Téléchargez le jeu de données `digits`.\n",
        "\n"
      ]
    },
    {
      "cell_type": "code",
      "metadata": {
        "id": "3Uy4ii_kl_uB"
      },
      "source": [
        "from sklearn.datasets import load_digits\n",
        "digits = load_digits()\n"
      ],
      "execution_count": null,
      "outputs": []
    },
    {
      "cell_type": "markdown",
      "metadata": {
        "id": "0eg7c94Ms7iY"
      },
      "source": [
        "Affichez la taille du jeu de données."
      ]
    },
    {
      "cell_type": "code",
      "metadata": {
        "id": "aKN8PZbutDZZ"
      },
      "source": [
        "digits.data.shape"
      ],
      "execution_count": null,
      "outputs": []
    },
    {
      "cell_type": "markdown",
      "metadata": {
        "id": "1Rd34e16tKHV"
      },
      "source": [
        "Le jeu de données contient 1797 données. Chaque donnée est un vecteur de 64 valeurs. Ces valeurs correspondent aux pixels d'une image de taille $8 \\times 8$. Affichons quelques données."
      ]
    },
    {
      "cell_type": "code",
      "metadata": {
        "id": "ay3Ojdf1uFBv"
      },
      "source": [
        "import matplotlib.pyplot as plt\n",
        "from itertools import product\n",
        "\n",
        "images = digits.images.astype(np.int_)\n",
        "print(images.shape)\n",
        "\n",
        "n_rows = 8\n",
        "n_cols = 8\n",
        "\n",
        "fig, ax = plt.subplots(nrows=n_rows, ncols=n_cols, figsize=(10, 10))\n",
        "for i, j in product(range(n_rows), range(n_cols)):\n",
        "    k = n_cols * i + j\n",
        "    image = images[k,0:8,0:8]\n",
        "    ax[i, j].imshow(image, cmap='binary', interpolation='none')\n",
        "    ax[i, j].axis('off')\n",
        "\n",
        "plt.show()\n",
        "plt.close()\n"
      ],
      "execution_count": null,
      "outputs": []
    },
    {
      "cell_type": "markdown",
      "metadata": {
        "id": "y5hV_XyuyKIi"
      },
      "source": [
        "Nous allons maintenant projeter les données dans un espace dans un espace de plus petite dimension utilisant l'ACP. Nous pouvons par exemple les projeter dans un espace de dimension 2. C'est à dire que nous allons transformer chaque donnée de dimension 64 en une donnée de dimension 2."
      ]
    },
    {
      "cell_type": "code",
      "metadata": {
        "id": "iE5JqZzTynhr"
      },
      "source": [
        "from sklearn import decomposition\n",
        "pca = decomposition.PCA(2)  # projection de dim 64 à dim 2\n",
        "donnees_projetes = pca.fit_transform(digits.data)\n",
        "print(digits.data.shape)\n",
        "print(donnees_projetes.shape)"
      ],
      "execution_count": null,
      "outputs": []
    },
    {
      "cell_type": "markdown",
      "metadata": {
        "id": "h0EIsyEUzQJq"
      },
      "source": [
        "Nous pouvons donc afficher les données projetées dans un graphique 2D."
      ]
    },
    {
      "cell_type": "code",
      "metadata": {
        "id": "YC0L1auwzbvV"
      },
      "source": [
        "plt.figure(figsize=(10, 6))\n",
        "plt.scatter(donnees_projetes[:, 0], donnees_projetes[:, 1], c=digits.target, edgecolor='none', alpha=0.5,\n",
        "            cmap=plt.cm.get_cmap('nipy_spectral', 10))\n",
        "plt.xlabel('composante 1')\n",
        "plt.ylabel('composante 2')\n",
        "plt.colorbar();"
      ],
      "execution_count": null,
      "outputs": []
    },
    {
      "cell_type": "markdown",
      "metadata": {
        "id": "jyBus-8k1HFS"
      },
      "source": [
        "Analyser librement le résultat obtenu au regard d'une tâche de classification. Par exemple, est-il possible d'identifier les frontières entre les 10 classes de chiffres ? Quelles sont les plus grosses confusions entre chiffres ?"
      ]
    },
    {
      "cell_type": "markdown",
      "metadata": {
        "id": "7XBvAOHS7LJt"
      },
      "source": [
        "Refaire cette ACP mais en ne conservant les 3 premières composantes principales, et visualiser la transformation des données dans le nouvel espace obtenu. Commenter au regard de l'espace 2D précédent."
      ]
    },
    {
      "cell_type": "code",
      "metadata": {
        "id": "Gyvs8MD97LJt"
      },
      "source": [
        "# a vous"
      ],
      "execution_count": null,
      "outputs": []
    },
    {
      "cell_type": "markdown",
      "metadata": {
        "id": "IxxMJ6xz7LJu"
      },
      "source": [
        "## 5. Données manquantes"
      ]
    },
    {
      "cell_type": "markdown",
      "metadata": {
        "id": "TVxTI_n17LJu"
      },
      "source": [
        "Ci-après, nous modifions le jeu de données digits en éliminant de façon aléatoire des valeurs de colonnes pour certaines valeurs de colonnes dans certains exemples. Cette élimination revient à changer la valeur concernée vers la valeur \"Not a Number\" (`math.nan`)"
      ]
    },
    {
      "cell_type": "code",
      "metadata": {
        "id": "S1aG76UE7LJu"
      },
      "source": [
        "import numpy as np\n",
        "from sklearn.datasets import load_digits\n",
        "import random\n",
        "import math\n",
        "digits = load_digits()\n",
        "miss_digits = digits\n",
        "nbmissingvalues = random.randint(1000,2000)\n",
        "for imissingvalue in range(nbmissingvalues):\n",
        "    lig = random.randint(0,1763)\n",
        "    col = random.randint(0,63)\n",
        "    miss_digits.data[lig,col] = math.nan"
      ],
      "execution_count": null,
      "outputs": []
    },
    {
      "cell_type": "markdown",
      "metadata": {
        "id": "WRERPAAM7LJv"
      },
      "source": [
        "Combien de valeurs sont manquantes globalement ? Combien de valeurs sont manquantes, colonne par colonne~? "
      ]
    },
    {
      "cell_type": "code",
      "metadata": {
        "id": "ou3lIp337LJv"
      },
      "source": [
        "# a vous"
      ],
      "execution_count": null,
      "outputs": []
    },
    {
      "cell_type": "markdown",
      "metadata": {
        "id": "PwGLFuI87LJv"
      },
      "source": [
        "On veut maintenant comparer trois méthodes pour compléter ces valeurs manquantes:\n",
        "\n",
        "1. Complétion stationnaire (valeur la plus fréquante pour cette colonne)\n",
        "2. Complétion par combinaison linéaire (moyenne des valeurs de cette colonne pour la classe de l'exemple concerné)\n",
        "3. Complétion par l'algorithme des $k$ plus proches voisins\n",
        "\n",
        "Pour mesurer la qualité de chaque méthode, nous calculons le score d'écart moyen au carré $e_m$ pour chaque méthode $m$. Pour chaque ligne $i$ et colonne $j$, soit $\\acute{x_{i,j}}$ la valeur imputée par $m$  à la variable $x_{i,j}$ qui était manquante. Alors nous avons $$e_m = \\sum_{i,j} (x_{i,j}-\\acute{x_{i,j}})^2$$\n",
        "Plus $e_m$ est petit, meilleure est la méthode $m$.\n",
        "\n",
        "(Notons que dans le cas de cet exercice, nous avons dans `digits` les vraies valeurs qui manquent dans `miss\\_digits`, mais en général nous ne pouvons pas puisque les valeurs manquent. Ici, l'objectif est de comparer lmes méthodes. Nous verrons dans d'autres TPs comment choisir la meilleure méthode dans le cas général).\n",
        "\n",
        "L'objectif de cet exercice est de réaliser ces trois méthodes, soit en les codant, soit en récupérant ce qui existe dans `sklearn` ou dans `pandas` (mais alors il faut être capable de lire la documentation). \n",
        "\n",
        "Indiquer le(s) programme(s) permettant de compléter les valeurs manquantes selon les trois méthodes ci-dessus, et les ordonner de la meilleure à la moins bonne. "
      ]
    },
    {
      "cell_type": "code",
      "metadata": {
        "id": "Ti8ySwwy7LJv"
      },
      "source": [
        "# a vous"
      ],
      "execution_count": null,
      "outputs": []
    }
  ]
}