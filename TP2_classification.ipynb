{
  "nbformat": 4,
  "nbformat_minor": 0,
  "metadata": {
    "colab": {
      "name": "TP2_classification.ipynb",
      "provenance": [],
      "collapsed_sections": [],
      "toc_visible": true,
      "include_colab_link": true
    },
    "kernelspec": {
      "display_name": "Python 3",
      "language": "python",
      "name": "python3"
    },
    "language_info": {
      "codemirror_mode": {
        "name": "ipython",
        "version": 3
      },
      "file_extension": ".py",
      "mimetype": "text/x-python",
      "name": "python",
      "nbconvert_exporter": "python",
      "pygments_lexer": "ipython3",
      "version": "3.8.8"
    }
  },
  "cells": [
    {
      "cell_type": "markdown",
      "metadata": {
        "id": "view-in-github",
        "colab_type": "text"
      },
      "source": [
        "<a href=\"https://colab.research.google.com/github/yanisamrouche/data_science/blob/main/TP2_classification.ipynb\" target=\"_parent\"><img src=\"https://colab.research.google.com/assets/colab-badge.svg\" alt=\"Open In Colab\"/></a>"
      ]
    },
    {
      "cell_type": "markdown",
      "metadata": {
        "id": "9k8hIyfX4Qij"
      },
      "source": [
        "# Introduction à la Science de Données\n",
        "# TP2 -  Classification par les $k$ plus proches voisins\n"
      ]
    },
    {
      "cell_type": "markdown",
      "metadata": {
        "id": "0yXXV12YKxT-"
      },
      "source": [
        ""
      ]
    },
    {
      "cell_type": "markdown",
      "metadata": {
        "id": "lTccv7A74Qin"
      },
      "source": [
        "La documentation Scikit-learn sur les $k$ plus proches voisins se trouve ici: http://scikit-learn.org/stable/modules/neighbors.html\n"
      ]
    },
    {
      "cell_type": "markdown",
      "metadata": {
        "id": "CrhO5HxvJ31F"
      },
      "source": [
        "Avant de commencer, vérifiez les versions des paquets Python:"
      ]
    },
    {
      "cell_type": "code",
      "metadata": {
        "colab": {
          "base_uri": "https://localhost:8080/"
        },
        "id": "3FsMuz2xKDhz",
        "outputId": "5b5c2628-a9e1-4e3d-8d46-2166ab5d656a"
      },
      "source": [
        "import sys\n",
        "import numpy as np # importation du package numérique\n",
        "import matplotlib\n",
        "import sklearn\n",
        "\n",
        "print('python: {} (version 3 obligatoire)'.format(sys.version))\n",
        "print('numpy: {} (version conseillée mais pas obligatoire:)'.format(np.__version__))\n",
        "print('matplotlib: {} (version conseillée mais pas obligatoire: 3.0.0 au moins)'.format(matplotlib.__version__))\n",
        "print('scikit-learn: {} (version conseillée mais pas obligatoire: 0.19 au moins)'.format(sklearn.__version__))"
      ],
      "execution_count": 2,
      "outputs": [
        {
          "output_type": "stream",
          "name": "stdout",
          "text": [
            "python: 3.7.12 (default, Sep 10 2021, 00:21:48) \n",
            "[GCC 7.5.0] (version 3 obligatoire)\n",
            "numpy: 1.19.5 (version conseillée mais pas obligatoire:)\n",
            "matplotlib: 3.2.2 (version conseillée mais pas obligatoire: 3.0.0 au moins)\n",
            "scikit-learn: 0.22.2.post1 (version conseillée mais pas obligatoire: 0.19 au moins)\n"
          ]
        }
      ]
    },
    {
      "cell_type": "markdown",
      "metadata": {
        "id": "ikb9OxL9MsVj"
      },
      "source": [
        "Une version récente de Matplotlib est particulièrement souhaitable pour que l'affichage des images se fasse correctement, sans \"lissage\"."
      ]
    },
    {
      "cell_type": "markdown",
      "metadata": {
        "id": "_oWf2JPjfcbX"
      },
      "source": [
        "## Données *digits*\n",
        "Dans la première partie de ce TP, nous allons utiliser des données déjà présentes dans scikit-learn, à l'image des données Iris du premier TP.\n",
        "\n",
        "Ces données sont très connues en apprentissage, sous le noms de MNIST. Elles sont composées d'images de chiffres manuscrits à une résolution de 8*8. En scikit-learn, elles se nomment digits : "
      ]
    },
    {
      "cell_type": "code",
      "metadata": {
        "id": "ZdPIwHd0gNA-"
      },
      "source": [
        "from sklearn.datasets import load_digits\n",
        "\n",
        "digitsData=load_digits() # jeu de données digits\n",
        "X=digitsData.data # les exemples, un array numpy, chaque élément est aussi un array\n",
        "y=digitsData.target # les classes"
      ],
      "execution_count": 3,
      "outputs": []
    },
    {
      "cell_type": "markdown",
      "metadata": {
        "id": "7sIgf8FP9UMj"
      },
      "source": [
        "On peut regarder quelques informations :"
      ]
    },
    {
      "cell_type": "code",
      "metadata": {
        "colab": {
          "base_uri": "https://localhost:8080/"
        },
        "id": "PJ_o58ap9dBH",
        "outputId": "62e4d0c7-489c-41b8-e665-8f882d525b80"
      },
      "source": [
        "print(X.dtype, X.shape)\n",
        "print(y.dtype, y.shape)"
      ],
      "execution_count": 4,
      "outputs": [
        {
          "output_type": "stream",
          "name": "stdout",
          "text": [
            "float64 (1797, 64)\n",
            "int64 (1797,)\n"
          ]
        }
      ]
    },
    {
      "cell_type": "markdown",
      "metadata": {
        "id": "TPTbrn1niFXe"
      },
      "source": [
        "Chaque donnée est donc une image de 8 pixels par 8 pixels, en niveau de gris (256 nuances possibles), stockée sous la forme d'un vecteur de dimension 64 comme une ligne de la matrice X (il y a 1797 images) et avec la valeur de la classe associée stockée dans un vecteur Y à part (comme pour Iris). Mais on peut quand même regarder l'image initiale :\n",
        "\n",
        "\n"
      ]
    },
    {
      "cell_type": "code",
      "metadata": {
        "colab": {
          "base_uri": "https://localhost:8080/",
          "height": 509
        },
        "id": "TDLOkUoZinAj",
        "outputId": "85c56aa0-b733-4402-f5a0-ea13942ceb71"
      },
      "source": [
        "import matplotlib.pyplot as plt  # le package de visualisation\n",
        "# la ligne spéciale pour que le notebook affiche comme il faut :\n",
        "%matplotlib inline  \n",
        "ix=65\n",
        "donnee = X[ix,:] # on récupère une ligne, donc une donnée\n",
        "classe = y[ix]   # et sa classe\n",
        "print(\"Le vecteur de l'image d'indice 42 : \", donnee)\n",
        "\n",
        "image = np.reshape(donnee,(8,8)) # on met les 8 morceaux de taille 8 du vecteur les uns en dessous des autres\n",
        "print(image) # on affiche la matrice de pixels\n",
        "plt.imshow(image) # on affiche l'image qui lui correspond\n",
        "plt.title('Donnee numero %i, de la classe %i \\n' % (ix, classe), fontsize = 16) # avec un titre\n",
        "plt.show()"
      ],
      "execution_count": 5,
      "outputs": [
        {
          "output_type": "stream",
          "name": "stdout",
          "text": [
            "Le vecteur de l'image d'indice 42 :  [ 0.  0.  0.  9. 10.  0.  0.  0.  0.  0.  7. 16.  7.  0.  0.  0.  0.  0.\n",
            " 13. 13.  1.  0.  0.  0.  0.  0. 15.  7.  0.  0.  0.  0.  0.  4. 16. 15.\n",
            " 12.  7.  0.  0.  0.  2. 16. 12.  4. 11. 10.  0.  0.  0.  8. 14.  5.  9.\n",
            " 14.  0.  0.  0.  0.  6. 12. 14.  9.  0.]\n",
            "[[ 0.  0.  0.  9. 10.  0.  0.  0.]\n",
            " [ 0.  0.  7. 16.  7.  0.  0.  0.]\n",
            " [ 0.  0. 13. 13.  1.  0.  0.  0.]\n",
            " [ 0.  0. 15.  7.  0.  0.  0.  0.]\n",
            " [ 0.  4. 16. 15. 12.  7.  0.  0.]\n",
            " [ 0.  2. 16. 12.  4. 11. 10.  0.]\n",
            " [ 0.  0.  8. 14.  5.  9. 14.  0.]\n",
            " [ 0.  0.  0.  6. 12. 14.  9.  0.]]\n"
          ]
        },
        {
          "output_type": "display_data",
          "data": {
            "image/png": "[encoded data removed]",
            "text/plain": [
              "<Figure size 432x288 with 1 Axes>"
            ]
          },
          "metadata": {
            "needs_background": "light"
          }
        }
      ]
    },
    {
      "cell_type": "markdown",
      "metadata": {
        "id": "GvoCa-lMppar"
      },
      "source": [
        "On peut faire des affichages plus intéressant, exemple sur les 5 premières données :"
      ]
    },
    {
      "cell_type": "code",
      "metadata": {
        "colab": {
          "base_uri": "https://localhost:8080/",
          "height": 469
        },
        "id": "23nNOIYy7h1K",
        "outputId": "c142c009-f3ad-437f-eb7e-9ffaddb7aedb"
      },
      "source": [
        "plt.figure(figsize=(16,4))\n",
        "for index in range(5):\n",
        "    image = X[index, :]\n",
        "    classe = y[index]\n",
        "    plt.subplot(1, 5, index + 1)\n",
        "    plt.imshow(np.reshape(image, (8,8)), cmap=plt.cm.gray)\n",
        "    plt.title('Classe : %i\\n' % classe, fontsize = 18)\n",
        "plt.show()\n",
        "    \n",
        "plt.figure(figsize=(16,4))\n",
        "for index in range(5):\n",
        "    image = X[42+index, :]\n",
        "    classe = y[42+index]\n",
        "    plt.subplot(1, 5, index + 1)\n",
        "    plt.imshow(np.reshape(image, (8,8)), cmap=\"copper\")\n",
        "    plt.title('Classe : %i\\n' % classe, fontsize = 18)  \n",
        "plt.show()"
      ],
      "execution_count": 6,
      "outputs": [
        {
          "output_type": "display_data",
          "data": {
            "image/png": "[encoded data removed]",
            "text/plain": [
              "<Figure size 1152x288 with 5 Axes>"
            ]
          },
          "metadata": {
            "needs_background": "light"
          }
        },
        {
          "output_type": "display_data",
          "data": {
            "image/png": "[encoded data removed]",
            "text/plain": [
              "<Figure size 1152x288 with 5 Axes>"
            ]
          },
          "metadata": {
            "needs_background": "light"
          }
        }
      ]
    },
    {
      "cell_type": "markdown",
      "metadata": {
        "id": "Ci58h2vz4Qiq"
      },
      "source": [
        "## Création et entraînement d'un classifieur"
      ]
    },
    {
      "cell_type": "markdown",
      "metadata": {
        "id": "efNARzTG4Qiv"
      },
      "source": [
        "Notre objectif est maintenant d'apprendre, sur la base d'un échantillon d'images \"chiffres\", un classifieur capable de prédire le chiffre qui correspond à une nouvelle image. Nous allons utiliser la méthode des $k$-plus proches voisins pour cet apprentissage. Elle est implémentée dans un package appelé neighbors. Examinons la série d'instructions suivante:"
      ]
    },
    {
      "cell_type": "code",
      "metadata": {
        "id": "NyjLe8Ai4Qiy",
        "colab": {
          "base_uri": "https://localhost:8080/"
        },
        "outputId": "269860fb-c664-4b07-933f-cb27b53ec680"
      },
      "source": [
        "from sklearn import neighbors as nn # importation du package d'algorithmes travaillant sur les points voisins\n",
        "help(nn.KNeighborsClassifier) # que fait cette instruction qui sera très utile par la suite?"
      ],
      "execution_count": 7,
      "outputs": [
        {
          "output_type": "stream",
          "name": "stdout",
          "text": [
            "Help on class KNeighborsClassifier in module sklearn.neighbors._classification:\n",
            "\n",
            "class KNeighborsClassifier(sklearn.neighbors._base.NeighborsBase, sklearn.neighbors._base.KNeighborsMixin, sklearn.neighbors._base.SupervisedIntegerMixin, sklearn.base.ClassifierMixin)\n",
            " |  KNeighborsClassifier(n_neighbors=5, weights='uniform', algorithm='auto', leaf_size=30, p=2, metric='minkowski', metric_params=None, n_jobs=None, **kwargs)\n",
            " |  \n",
            " |  Classifier implementing the k-nearest neighbors vote.\n",
            " |  \n",
            " |  Read more in the :ref:`User Guide <classification>`.\n",
            " |  \n",
            " |  Parameters\n",
            " |  ----------\n",
            " |  n_neighbors : int, optional (default = 5)\n",
            " |      Number of neighbors to use by default for :meth:`kneighbors` queries.\n",
            " |  \n",
            " |  weights : str or callable, optional (default = 'uniform')\n",
            " |      weight function used in prediction.  Possible values:\n",
            " |  \n",
            " |      - 'uniform' : uniform weights.  All points in each neighborhood\n",
            " |        are weighted equally.\n",
            " |      - 'distance' : weight points by the inverse of their distance.\n",
            " |        in this case, closer neighbors of a query point will have a\n",
            " |        greater influence than neighbors which are further away.\n",
            " |      - [callable] : a user-defined function which accepts an\n",
            " |        array of distances, and returns an array of the same shape\n",
            " |        containing the weights.\n",
            " |  \n",
            " |  algorithm : {'auto', 'ball_tree', 'kd_tree', 'brute'}, optional\n",
            " |      Algorithm used to compute the nearest neighbors:\n",
            " |  \n",
            " |      - 'ball_tree' will use :class:`BallTree`\n",
            " |      - 'kd_tree' will use :class:`KDTree`\n",
            " |      - 'brute' will use a brute-force search.\n",
            " |      - 'auto' will attempt to decide the most appropriate algorithm\n",
            " |        based on the values passed to :meth:`fit` method.\n",
            " |  \n",
            " |      Note: fitting on sparse input will override the setting of\n",
            " |      this parameter, using brute force.\n",
            " |  \n",
            " |  leaf_size : int, optional (default = 30)\n",
            " |      Leaf size passed to BallTree or KDTree.  This can affect the\n",
            " |      speed of the construction and query, as well as the memory\n",
            " |      required to store the tree.  The optimal value depends on the\n",
            " |      nature of the problem.\n",
            " |  \n",
            " |  p : integer, optional (default = 2)\n",
            " |      Power parameter for the Minkowski metric. When p = 1, this is\n",
            " |      equivalent to using manhattan_distance (l1), and euclidean_distance\n",
            " |      (l2) for p = 2. For arbitrary p, minkowski_distance (l_p) is used.\n",
            " |  \n",
            " |  metric : string or callable, default 'minkowski'\n",
            " |      the distance metric to use for the tree.  The default metric is\n",
            " |      minkowski, and with p=2 is equivalent to the standard Euclidean\n",
            " |      metric. See the documentation of the DistanceMetric class for a\n",
            " |      list of available metrics.\n",
            " |      If metric is \"precomputed\", X is assumed to be a distance matrix and\n",
            " |      must be square during fit. X may be a :term:`Glossary <sparse graph>`,\n",
            " |      in which case only \"nonzero\" elements may be considered neighbors.\n",
            " |  \n",
            " |  metric_params : dict, optional (default = None)\n",
            " |      Additional keyword arguments for the metric function.\n",
            " |  \n",
            " |  n_jobs : int or None, optional (default=None)\n",
            " |      The number of parallel jobs to run for neighbors search.\n",
            " |      ``None`` means 1 unless in a :obj:`joblib.parallel_backend` context.\n",
            " |      ``-1`` means using all processors. See :term:`Glossary <n_jobs>`\n",
            " |      for more details.\n",
            " |      Doesn't affect :meth:`fit` method.\n",
            " |  \n",
            " |  Attributes\n",
            " |  ----------\n",
            " |  classes_ : array of shape (n_classes,)\n",
            " |      Class labels known to the classifier\n",
            " |  \n",
            " |  effective_metric_ : string or callble\n",
            " |      The distance metric used. It will be same as the `metric` parameter\n",
            " |      or a synonym of it, e.g. 'euclidean' if the `metric` parameter set to\n",
            " |      'minkowski' and `p` parameter set to 2.\n",
            " |  \n",
            " |  effective_metric_params_ : dict\n",
            " |      Additional keyword arguments for the metric function. For most metrics\n",
            " |      will be same with `metric_params` parameter, but may also contain the\n",
            " |      `p` parameter value if the `effective_metric_` attribute is set to\n",
            " |      'minkowski'.\n",
            " |  \n",
            " |  outputs_2d_ : bool\n",
            " |      False when `y`'s shape is (n_samples, ) or (n_samples, 1) during fit\n",
            " |      otherwise True.\n",
            " |  \n",
            " |  Examples\n",
            " |  --------\n",
            " |  >>> X = [[0], [1], [2], [3]]\n",
            " |  >>> y = [0, 0, 1, 1]\n",
            " |  >>> from sklearn.neighbors import KNeighborsClassifier\n",
            " |  >>> neigh = KNeighborsClassifier(n_neighbors=3)\n",
            " |  >>> neigh.fit(X, y)\n",
            " |  KNeighborsClassifier(...)\n",
            " |  >>> print(neigh.predict([[1.1]]))\n",
            " |  [0]\n",
            " |  >>> print(neigh.predict_proba([[0.9]]))\n",
            " |  [[0.66666667 0.33333333]]\n",
            " |  \n",
            " |  See also\n",
            " |  --------\n",
            " |  RadiusNeighborsClassifier\n",
            " |  KNeighborsRegressor\n",
            " |  RadiusNeighborsRegressor\n",
            " |  NearestNeighbors\n",
            " |  \n",
            " |  Notes\n",
            " |  -----\n",
            " |  See :ref:`Nearest Neighbors <neighbors>` in the online documentation\n",
            " |  for a discussion of the choice of ``algorithm`` and ``leaf_size``.\n",
            " |  \n",
            " |  .. warning::\n",
            " |  \n",
            " |     Regarding the Nearest Neighbors algorithms, if it is found that two\n",
            " |     neighbors, neighbor `k+1` and `k`, have identical distances\n",
            " |     but different labels, the results will depend on the ordering of the\n",
            " |     training data.\n",
            " |  \n",
            " |  https://en.wikipedia.org/wiki/K-nearest_neighbor_algorithm\n",
            " |  \n",
            " |  Method resolution order:\n",
            " |      KNeighborsClassifier\n",
            " |      sklearn.neighbors._base.NeighborsBase\n",
            " |      sklearn.base.MultiOutputMixin\n",
            " |      sklearn.base.BaseEstimator\n",
            " |      sklearn.neighbors._base.KNeighborsMixin\n",
            " |      sklearn.neighbors._base.SupervisedIntegerMixin\n",
            " |      sklearn.base.ClassifierMixin\n",
            " |      builtins.object\n",
            " |  \n",
            " |  Methods defined here:\n",
            " |  \n",
            " |  __init__(self, n_neighbors=5, weights='uniform', algorithm='auto', leaf_size=30, p=2, metric='minkowski', metric_params=None, n_jobs=None, **kwargs)\n",
            " |      Initialize self.  See help(type(self)) for accurate signature.\n",
            " |  \n",
            " |  predict(self, X)\n",
            " |      Predict the class labels for the provided data.\n",
            " |      \n",
            " |      Parameters\n",
            " |      ----------\n",
            " |      X : array-like, shape (n_queries, n_features),                 or (n_queries, n_indexed) if metric == 'precomputed'\n",
            " |          Test samples.\n",
            " |      \n",
            " |      Returns\n",
            " |      -------\n",
            " |      y : array of shape [n_queries] or [n_queries, n_outputs]\n",
            " |          Class labels for each data sample.\n",
            " |  \n",
            " |  predict_proba(self, X)\n",
            " |      Return probability estimates for the test data X.\n",
            " |      \n",
            " |      Parameters\n",
            " |      ----------\n",
            " |      X : array-like, shape (n_queries, n_features),                 or (n_queries, n_indexed) if metric == 'precomputed'\n",
            " |          Test samples.\n",
            " |      \n",
            " |      Returns\n",
            " |      -------\n",
            " |      p : array of shape = [n_queries, n_classes], or a list of n_outputs\n",
            " |          of such arrays if n_outputs > 1.\n",
            " |          The class probabilities of the input samples. Classes are ordered\n",
            " |          by lexicographic order.\n",
            " |  \n",
            " |  ----------------------------------------------------------------------\n",
            " |  Data and other attributes defined here:\n",
            " |  \n",
            " |  __abstractmethods__ = frozenset()\n",
            " |  \n",
            " |  ----------------------------------------------------------------------\n",
            " |  Data descriptors inherited from sklearn.base.MultiOutputMixin:\n",
            " |  \n",
            " |  __dict__\n",
            " |      dictionary for instance variables (if defined)\n",
            " |  \n",
            " |  __weakref__\n",
            " |      list of weak references to the object (if defined)\n",
            " |  \n",
            " |  ----------------------------------------------------------------------\n",
            " |  Methods inherited from sklearn.base.BaseEstimator:\n",
            " |  \n",
            " |  __getstate__(self)\n",
            " |  \n",
            " |  __repr__(self, N_CHAR_MAX=700)\n",
            " |      Return repr(self).\n",
            " |  \n",
            " |  __setstate__(self, state)\n",
            " |  \n",
            " |  get_params(self, deep=True)\n",
            " |      Get parameters for this estimator.\n",
            " |      \n",
            " |      Parameters\n",
            " |      ----------\n",
            " |      deep : bool, default=True\n",
            " |          If True, will return the parameters for this estimator and\n",
            " |          contained subobjects that are estimators.\n",
            " |      \n",
            " |      Returns\n",
            " |      -------\n",
            " |      params : mapping of string to any\n",
            " |          Parameter names mapped to their values.\n",
            " |  \n",
            " |  set_params(self, **params)\n",
            " |      Set the parameters of this estimator.\n",
            " |      \n",
            " |      The method works on simple estimators as well as on nested objects\n",
            " |      (such as pipelines). The latter have parameters of the form\n",
            " |      ``<component>__<parameter>`` so that it's possible to update each\n",
            " |      component of a nested object.\n",
            " |      \n",
            " |      Parameters\n",
            " |      ----------\n",
            " |      **params : dict\n",
            " |          Estimator parameters.\n",
            " |      \n",
            " |      Returns\n",
            " |      -------\n",
            " |      self : object\n",
            " |          Estimator instance.\n",
            " |  \n",
            " |  ----------------------------------------------------------------------\n",
            " |  Methods inherited from sklearn.neighbors._base.KNeighborsMixin:\n",
            " |  \n",
            " |  kneighbors(self, X=None, n_neighbors=None, return_distance=True)\n",
            " |      Finds the K-neighbors of a point.\n",
            " |      Returns indices of and distances to the neighbors of each point.\n",
            " |      \n",
            " |      Parameters\n",
            " |      ----------\n",
            " |      X : array-like, shape (n_queries, n_features),                 or (n_queries, n_indexed) if metric == 'precomputed'\n",
            " |          The query point or points.\n",
            " |          If not provided, neighbors of each indexed point are returned.\n",
            " |          In this case, the query point is not considered its own neighbor.\n",
            " |      \n",
            " |      n_neighbors : int\n",
            " |          Number of neighbors to get (default is the value\n",
            " |          passed to the constructor).\n",
            " |      \n",
            " |      return_distance : boolean, optional. Defaults to True.\n",
            " |          If False, distances will not be returned\n",
            " |      \n",
            " |      Returns\n",
            " |      -------\n",
            " |      neigh_dist : array, shape (n_queries, n_neighbors)\n",
            " |          Array representing the lengths to points, only present if\n",
            " |          return_distance=True\n",
            " |      \n",
            " |      neigh_ind : array, shape (n_queries, n_neighbors)\n",
            " |          Indices of the nearest points in the population matrix.\n",
            " |      \n",
            " |      Examples\n",
            " |      --------\n",
            " |      In the following example, we construct a NearestNeighbors\n",
            " |      class from an array representing our data set and ask who's\n",
            " |      the closest point to [1,1,1]\n",
            " |      \n",
            " |      >>> samples = [[0., 0., 0.], [0., .5, 0.], [1., 1., .5]]\n",
            " |      >>> from sklearn.neighbors import NearestNeighbors\n",
            " |      >>> neigh = NearestNeighbors(n_neighbors=1)\n",
            " |      >>> neigh.fit(samples)\n",
            " |      NearestNeighbors(n_neighbors=1)\n",
            " |      >>> print(neigh.kneighbors([[1., 1., 1.]]))\n",
            " |      (array([[0.5]]), array([[2]]))\n",
            " |      \n",
            " |      As you can see, it returns [[0.5]], and [[2]], which means that the\n",
            " |      element is at distance 0.5 and is the third element of samples\n",
            " |      (indexes start at 0). You can also query for multiple points:\n",
            " |      \n",
            " |      >>> X = [[0., 1., 0.], [1., 0., 1.]]\n",
            " |      >>> neigh.kneighbors(X, return_distance=False)\n",
            " |      array([[1],\n",
            " |             [2]]...)\n",
            " |  \n",
            " |  kneighbors_graph(self, X=None, n_neighbors=None, mode='connectivity')\n",
            " |      Computes the (weighted) graph of k-Neighbors for points in X\n",
            " |      \n",
            " |      Parameters\n",
            " |      ----------\n",
            " |      X : array-like, shape (n_queries, n_features),                 or (n_queries, n_indexed) if metric == 'precomputed'\n",
            " |          The query point or points.\n",
            " |          If not provided, neighbors of each indexed point are returned.\n",
            " |          In this case, the query point is not considered its own neighbor.\n",
            " |      \n",
            " |      n_neighbors : int\n",
            " |          Number of neighbors for each sample.\n",
            " |          (default is value passed to the constructor).\n",
            " |      \n",
            " |      mode : {'connectivity', 'distance'}, optional\n",
            " |          Type of returned matrix: 'connectivity' will return the\n",
            " |          connectivity matrix with ones and zeros, in 'distance' the\n",
            " |          edges are Euclidean distance between points.\n",
            " |      \n",
            " |      Returns\n",
            " |      -------\n",
            " |      A : sparse graph in CSR format, shape = [n_queries, n_samples_fit]\n",
            " |          n_samples_fit is the number of samples in the fitted data\n",
            " |          A[i, j] is assigned the weight of edge that connects i to j.\n",
            " |      \n",
            " |      Examples\n",
            " |      --------\n",
            " |      >>> X = [[0], [3], [1]]\n",
            " |      >>> from sklearn.neighbors import NearestNeighbors\n",
            " |      >>> neigh = NearestNeighbors(n_neighbors=2)\n",
            " |      >>> neigh.fit(X)\n",
            " |      NearestNeighbors(n_neighbors=2)\n",
            " |      >>> A = neigh.kneighbors_graph(X)\n",
            " |      >>> A.toarray()\n",
            " |      array([[1., 0., 1.],\n",
            " |             [0., 1., 1.],\n",
            " |             [1., 0., 1.]])\n",
            " |      \n",
            " |      See also\n",
            " |      --------\n",
            " |      NearestNeighbors.radius_neighbors_graph\n",
            " |  \n",
            " |  ----------------------------------------------------------------------\n",
            " |  Methods inherited from sklearn.neighbors._base.SupervisedIntegerMixin:\n",
            " |  \n",
            " |  fit(self, X, y)\n",
            " |      Fit the model using X as training data and y as target values\n",
            " |      \n",
            " |      Parameters\n",
            " |      ----------\n",
            " |      X : {array-like, sparse matrix, BallTree, KDTree}\n",
            " |          Training data. If array or matrix, shape [n_samples, n_features],\n",
            " |          or [n_samples, n_samples] if metric='precomputed'.\n",
            " |      \n",
            " |      y : {array-like, sparse matrix}\n",
            " |          Target values of shape = [n_samples] or [n_samples, n_outputs]\n",
            " |  \n",
            " |  ----------------------------------------------------------------------\n",
            " |  Methods inherited from sklearn.base.ClassifierMixin:\n",
            " |  \n",
            " |  score(self, X, y, sample_weight=None)\n",
            " |      Return the mean accuracy on the given test data and labels.\n",
            " |      \n",
            " |      In multi-label classification, this is the subset accuracy\n",
            " |      which is a harsh metric since you require for each sample that\n",
            " |      each label set be correctly predicted.\n",
            " |      \n",
            " |      Parameters\n",
            " |      ----------\n",
            " |      X : array-like of shape (n_samples, n_features)\n",
            " |          Test samples.\n",
            " |      \n",
            " |      y : array-like of shape (n_samples,) or (n_samples, n_outputs)\n",
            " |          True labels for X.\n",
            " |      \n",
            " |      sample_weight : array-like of shape (n_samples,), default=None\n",
            " |          Sample weights.\n",
            " |      \n",
            " |      Returns\n",
            " |      -------\n",
            " |      score : float\n",
            " |          Mean accuracy of self.predict(X) wrt. y.\n",
            "\n"
          ]
        }
      ]
    },
    {
      "cell_type": "markdown",
      "metadata": {
        "id": "EHnrWhos4Qi9"
      },
      "source": [
        "Sympa, non ? Ce type d'instruction est utilisable pour toute classe de Python. \n",
        "\n",
        "Continuons l'exploration des $k$ plus proches voisins. Dans la série d'instructions suivante, on indique comment un classifieur peut être appris à partir de données étiquetées, et comment réaliser la prédiction sur un nouvel exemple."
      ]
    },
    {
      "cell_type": "markdown",
      "metadata": {
        "id": "OOZ0WxXZ4QjO"
      },
      "source": [
        "Les fonctions *predict* et *fit* existent **pour tous les classifieurs** disponibles dans scikit-learn.\n",
        "\n",
        "On note ici la syntaxe de la fonction predict: on lui passe en réalité un tableau d'exemples (ici, un tableau avec un seul exemple constitué de 64 attributs), et elle renvoit un tableau contenant la classe prédite pour chaque exemple du tableau en paramètre. Evidemment, dans les tableaux en entrée et en sortie, les indices des classes prédites correspondent aux indices des exemples en entrée ! \n",
        "\n",
        "Ainsi, lorsque l'on sait que l'on n'applique predict qu'à un seul exemple, une sélection finale [0] comme ci-après renvoit la première (et la seule) composante du tableau de résultat. "
      ]
    },
    {
      "cell_type": "code",
      "metadata": {
        "colab": {
          "base_uri": "https://localhost:8080/"
        },
        "id": "abQTK7Mm4QjH",
        "outputId": "a6d4b56c-99c5-4bf2-fa1d-232bb98e1545"
      },
      "source": [
        "nb_voisins = 15 # on fixe le nombre de voisins, à partir de 2 et au max le nombre d'exemples dans le jeu de données\n",
        "clf = nn.KNeighborsClassifier(nb_voisins) \n",
        "# ci-dessus, création d'un classifieur: la variable clf est un \"objet\" classifieur, vide pour l'instant \n",
        "#print(clf) # le classifieur est vide pour l'instant, il n'a pas été entraîné sur des données\n",
        "clf.fit(X, y) # entraînement du classifieur clf sur les données étiquetées\n",
        "nouvel_ex = X[50, :]  # On extrait la 50e image\n",
        "print('prédiction pour le nouvel exemple: ',\n",
        "      clf.predict(nouvel_ex.reshape(1,-1))) # prédiction du modèle appris sur la description d'une image aléatoire"
      ],
      "execution_count": 8,
      "outputs": [
        {
          "output_type": "stream",
          "name": "stdout",
          "text": [
            "prédiction pour le nouvel exemple:  [2]\n"
          ]
        }
      ]
    },
    {
      "cell_type": "code",
      "metadata": {
        "colab": {
          "base_uri": "https://localhost:8080/"
        },
        "id": "9zal_50w4QjR",
        "outputId": "b23ae8dc-356b-4abb-b4bb-46761298c873"
      },
      "source": [
        "print('prédiction pour le nouvel exemple: ', clf.predict(nouvel_ex.reshape(1,-1))[0])"
      ],
      "execution_count": 9,
      "outputs": [
        {
          "output_type": "stream",
          "name": "stdout",
          "text": [
            "prédiction pour le nouvel exemple:  2\n"
          ]
        }
      ]
    },
    {
      "cell_type": "markdown",
      "metadata": {
        "id": "FymLN7OV4Qja"
      },
      "source": [
        "Pour certains types de classifieurs, on peut même récupérer la probabilité que le classifieur attribue à l'appartenance de l'exemple à chaque classe possible. La fonction *predict_proba* fonctionne comme la fonction *predict*, sauf que le tableau en sortie contient, pour chaque exemple du tableau en entrée, un tableau de probabilité de la même taille que le nombre de classes."
      ]
    },
    {
      "cell_type": "code",
      "metadata": {
        "colab": {
          "base_uri": "https://localhost:8080/"
        },
        "id": "Lnzq5Zut4Qjf",
        "scrolled": true,
        "outputId": "785aff74-783c-41f0-c438-b1c58410bc73"
      },
      "source": [
        "autre_ex = X[123, :] # on génère un autre exemple en prenant une autre image\n",
        "print(clf.predict_proba(nouvel_ex.reshape(1,-1))[0]) # probabilité d'appartenance à chaque classe pour ce chiffre\n",
        "print(clf.predict_proba(autre_ex.reshape(1,-1))[0]) # idem pour un autre exemple"
      ],
      "execution_count": 10,
      "outputs": [
        {
          "output_type": "stream",
          "name": "stdout",
          "text": [
            "[0.  0.  0.8 0.  0.  0.  0.  0.  0.2 0. ]\n",
            "[0.         0.46666667 0.         0.         0.         0.\n",
            " 0.         0.         0.53333333 0.        ]\n"
          ]
        }
      ]
    },
    {
      "cell_type": "markdown",
      "metadata": {
        "id": "SJgdW_NF4Qjn"
      },
      "source": [
        "A votre avis, quelle classe sera attribuée au deuxième exemple, et pourquoi ? Indiquez ci-après l'instruction à exécuter pour vérifier. "
      ]
    },
    {
      "cell_type": "code",
      "metadata": {
        "id": "xwmb39cy4Qjs",
        "colab": {
          "base_uri": "https://localhost:8080/"
        },
        "outputId": "d3c8342c-25d0-4440-ba6d-bde23c09ac0c"
      },
      "source": [
        "# a vous\n",
        "print('prédiction pour le nouvel exemple: ',\n",
        "      clf.predict(autre_ex.reshape(1,-1))) # prédiction du modèle appris sur la description d'une image aléatoire\n"
      ],
      "execution_count": 11,
      "outputs": [
        {
          "output_type": "stream",
          "name": "stdout",
          "text": [
            "prédiction pour le nouvel exemple:  [8]\n"
          ]
        }
      ]
    },
    {
      "cell_type": "markdown",
      "metadata": {
        "id": "WsSaiAzO4Qj9"
      },
      "source": [
        "Une première façon d'évaluer la qualité d'un classifieur est de le tester sur les exemples qui ont servi à l'apprendre. On utilise du coup la même fonction *predict*, appliquée au tableau des exemples d'apprentissage. "
      ]
    },
    {
      "cell_type": "code",
      "metadata": {
        "colab": {
          "base_uri": "https://localhost:8080/"
        },
        "id": "at1QD73r4Qj_",
        "outputId": "5cfba212-e76d-494e-f07d-e1aaf050d61c"
      },
      "source": [
        "f_X = clf.predict(X) # vecteur des classes prédites pour chaque exemple de l'ensemble d'apprentissage\n",
        "print(f_X)\n",
        "X[f_X!=y].shape\n",
        "#print(X[f_X!=y]) # le tableau d'exemples pour lesquels la prédiction a été mauvaise"
      ],
      "execution_count": 12,
      "outputs": [
        {
          "output_type": "stream",
          "name": "stdout",
          "text": [
            "[0 1 2 ... 8 9 8]\n"
          ]
        },
        {
          "output_type": "execute_result",
          "data": {
            "text/plain": [
              "(26, 64)"
            ]
          },
          "metadata": {},
          "execution_count": 12
        }
      ]
    },
    {
      "cell_type": "markdown",
      "metadata": {
        "id": "QkfXE6dx4QkF"
      },
      "source": [
        "Pour vous rendre compte de l'origine possible des erreurs de prédiction, faites une boucle sur toutes les images pour lesquelles la prédiction est erronnée en affichant à chaque fois l'image 8x8 avec dans le titre l'indice de l'image, la classe originale et la classe prédite (pour cela, on peut utiliser la fonction *numpy.argwhere* avec un peu de jugeotte)."
      ]
    },
    {
      "cell_type": "code",
      "metadata": {
        "colab": {
          "base_uri": "https://localhost:8080/",
          "height": 1000
        },
        "id": "ZATD9txd4QkJ",
        "outputId": "bba4841f-8bd0-452a-86fc-64002f267088"
      },
      "source": [
        "table_x =X[f_X!=y]\n",
        "faux_X = np.argwhere(f_X!=y)\n",
        "for i in (faux_X): \n",
        "    image = np.reshape(X[i,:],(8,8)) # on met les 8 morceaux de taille 8 du vecteur les uns en dessous des autres\n",
        "    print(image) # on affiche la matrice de pixels\n",
        "    plt.imshow(image) # on affiche l'image qui lui correspond\n",
        "    plt.title(' classe prédite %i, classe réel %i \\n' % (f_X[i],y[i]), fontsize = 16) # avec un titre\n",
        "    plt.show()\n",
        "\n",
        "\n",
        "  "
      ],
      "execution_count": 13,
      "outputs": [
        {
          "output_type": "stream",
          "name": "stdout",
          "text": [
            "[[ 0.  0. 12. 10.  0.  0.  0.  0.]\n",
            " [ 0.  0. 14. 16. 16. 14.  0.  0.]\n",
            " [ 0.  0. 13. 16. 15. 10.  1.  0.]\n",
            " [ 0.  0. 11. 16. 16.  7.  0.  0.]\n",
            " [ 0.  0.  0.  4.  7. 16.  7.  0.]\n",
            " [ 0.  0.  0.  0.  4. 16.  9.  0.]\n",
            " [ 0.  0.  5.  4. 12. 16.  4.  0.]\n",
            " [ 0.  0.  9. 16. 16. 10.  0.  0.]]\n"
          ]
        },
        {
          "output_type": "display_data",
          "data": {
            "image/png": "[encoded data removed]",
            "text/plain": [
              "<Figure size 432x288 with 1 Axes>"
            ]
          },
          "metadata": {
            "needs_background": "light"
          }
        },
        {
          "output_type": "stream",
          "name": "stdout",
          "text": [
            "[[ 0.  0.  6. 12. 13.  6.  0.  0.]\n",
            " [ 0.  6. 16.  9. 12. 16.  2.  0.]\n",
            " [ 0.  7. 16.  9. 15. 13.  0.  0.]\n",
            " [ 0.  0. 11. 15. 16.  4.  0.  0.]\n",
            " [ 0.  0.  0. 12. 10.  0.  0.  0.]\n",
            " [ 0.  0.  3. 16.  4.  0.  0.  0.]\n",
            " [ 0.  0.  1. 16.  2.  0.  0.  0.]\n",
            " [ 0.  0.  6. 11.  0.  0.  0.  0.]]\n"
          ]
        },
        {
          "output_type": "display_data",
          "data": {
            "image/png": "[encoded data removed]",
            "text/plain": [
              "<Figure size 432x288 with 1 Axes>"
            ]
          },
          "metadata": {
            "needs_background": "light"
          }
        },
        {
          "output_type": "stream",
          "name": "stdout",
          "text": [
            "[[ 0.  0.  0.  0. 11. 15.  4.  0.]\n",
            " [ 0.  0.  0.  3. 16. 16. 12.  0.]\n",
            " [ 0.  0.  0.  8. 14. 16. 12.  0.]\n",
            " [ 0.  0.  0.  5. 10. 16.  6.  0.]\n",
            " [ 0.  1.  7. 11. 16. 13.  0.  0.]\n",
            " [ 0.  9. 16. 16. 14.  1.  0.  0.]\n",
            " [ 0.  3.  8. 14. 16.  9.  0.  0.]\n",
            " [ 0.  0.  0.  1. 11. 16. 12.  0.]]\n"
          ]
        },
        {
          "output_type": "display_data",
          "data": {
            "image/png": "[encoded data removed]",
            "text/plain": [
              "<Figure size 432x288 with 1 Axes>"
            ]
          },
          "metadata": {
            "needs_background": "light"
          }
        },
        {
          "output_type": "stream",
          "name": "stdout",
          "text": [
            "[[ 0.  0.  0.  9. 16.  4.  0.  0.]\n",
            " [ 0.  1.  9. 16. 13.  2.  0.  0.]\n",
            " [ 0. 14. 16. 14.  8.  0.  0.  0.]\n",
            " [ 1. 15. 15.  5. 16.  9.  0.  0.]\n",
            " [ 0.  5. 16. 16. 16.  8.  0.  0.]\n",
            " [ 0.  0.  2. 13. 16.  1.  0.  0.]\n",
            " [ 0.  0.  0. 11. 13.  0.  0.  0.]\n",
            " [ 0.  0.  0. 11. 13.  0.  0.  0.]]\n"
          ]
        },
        {
          "output_type": "display_data",
          "data": {
            "image/png": "[encoded data removed]",
            "text/plain": [
              "<Figure size 432x288 with 1 Axes>"
            ]
          },
          "metadata": {
            "needs_background": "light"
          }
        },
        {
          "output_type": "stream",
          "name": "stdout",
          "text": [
            "[[ 0.  0.  7. 13. 15.  5.  0.  0.]\n",
            " [ 0.  0.  8. 16. 16. 12.  0.  0.]\n",
            " [ 0.  0.  7. 16. 15.  3.  0.  0.]\n",
            " [ 0.  0.  6. 16.  5.  0.  0.  0.]\n",
            " [ 0.  0.  5. 16.  2.  0.  0.  0.]\n",
            " [ 0.  0.  8. 16.  6.  0.  0.  0.]\n",
            " [ 0.  0. 12. 12. 13.  0.  0.  0.]\n",
            " [ 0.  0.  5. 13. 10.  0.  0.  0.]]\n"
          ]
        },
        {
          "output_type": "display_data",
          "data": {
            "image/png": "[encoded data removed]",
            "text/plain": [
              "<Figure size 432x288 with 1 Axes>"
            ]
          },
          "metadata": {
            "needs_background": "light"
          }
        },
        {
          "output_type": "stream",
          "name": "stdout",
          "text": [
            "[[ 0.  0.  2. 13.  4.  0.  0.  0.]\n",
            " [ 0.  0.  8. 14. 11.  0.  0.  0.]\n",
            " [ 0.  0. 10.  6. 14.  5.  2.  0.]\n",
            " [ 0.  0.  2. 14. 12. 14.  0.  0.]\n",
            " [ 0.  0.  1. 15. 13.  2.  0.  0.]\n",
            " [ 0.  0. 11. 13. 14.  1.  0.  0.]\n",
            " [ 0.  0. 13.  8. 10.  4.  0.  0.]\n",
            " [ 0.  0.  2. 11. 16.  7.  0.  0.]]\n"
          ]
        },
        {
          "output_type": "display_data",
          "data": {
            "image/png": "[encoded data removed]",
            "text/plain": [
              "<Figure size 432x288 with 1 Axes>"
            ]
          },
          "metadata": {
            "needs_background": "light"
          }
        },
        {
          "output_type": "stream",
          "name": "stdout",
          "text": [
            "[[ 0.  0.  4. 11. 14.  4.  0.  0.]\n",
            " [ 0.  5. 13.  4.  9.  7.  0.  0.]\n",
            " [ 0.  7. 10. 10. 13.  2.  0.  0.]\n",
            " [ 0.  1.  9. 16. 15.  2.  0.  0.]\n",
            " [ 0.  0.  8.  7.  9. 12.  0.  0.]\n",
            " [ 0.  0. 12.  0.  1. 14.  5.  0.]\n",
            " [ 0.  0. 11.  6.  0.  7.  8.  0.]\n",
            " [ 0.  0.  2. 15. 16. 15.  4.  0.]]\n"
          ]
        },
        {
          "output_type": "display_data",
          "data": {
            "image/png": "[encoded data removed]",
            "text/plain": [
              "<Figure size 432x288 with 1 Axes>"
            ]
          },
          "metadata": {
            "needs_background": "light"
          }
        },
        {
          "output_type": "stream",
          "name": "stdout",
          "text": [
            "[[ 0.  0. 11. 10. 12. 14. 11.  0.]\n",
            " [ 0.  0. 16. 16. 16. 16.  7.  0.]\n",
            " [ 0.  1. 16. 16. 16. 12.  0.  0.]\n",
            " [ 0.  1.  5.  2. 11. 15.  0.  0.]\n",
            " [ 0.  0.  1.  0.  2. 16.  0.  0.]\n",
            " [ 0.  3. 12.  0.  3. 15.  0.  0.]\n",
            " [ 0.  6. 15.  8. 13. 11.  0.  0.]\n",
            " [ 0.  0.  9. 14.  9.  2.  0.  0.]]\n"
          ]
        },
        {
          "output_type": "display_data",
          "data": {
            "image/png": "[encoded data removed]",
            "text/plain": [
              "<Figure size 432x288 with 1 Axes>"
            ]
          },
          "metadata": {
            "needs_background": "light"
          }
        },
        {
          "output_type": "stream",
          "name": "stdout",
          "text": [
            "[[ 0.  0.  0. 11. 16. 12.  1.  0.]\n",
            " [ 0.  0.  5. 16. 10. 16.  4.  0.]\n",
            " [ 0.  2. 15. 10.  0.  8.  1.  0.]\n",
            " [ 0.  5. 16.  9.  1.  0.  0.  0.]\n",
            " [ 0.  8. 16. 16.  9.  0.  0.  0.]\n",
            " [ 0.  2. 16. 10. 16.  6.  0.  0.]\n",
            " [ 0.  0. 11. 16. 16.  7.  0.  0.]\n",
            " [ 0.  0.  1.  8. 13.  0.  0.  0.]]\n"
          ]
        },
        {
          "output_type": "display_data",
          "data": {
            "image/png": "[encoded data removed]",
            "text/plain": [
              "<Figure size 432x288 with 1 Axes>"
            ]
          },
          "metadata": {
            "needs_background": "light"
          }
        },
        {
          "output_type": "stream",
          "name": "stdout",
          "text": [
            "[[ 0.  0.  2. 10. 16. 11.  1.  0.]\n",
            " [ 0.  0. 13. 13. 10. 16.  8.  0.]\n",
            " [ 0.  4. 14.  1.  8. 14.  1.  0.]\n",
            " [ 0.  4. 15. 12. 15.  8.  0.  0.]\n",
            " [ 0.  0.  6.  7. 14.  5.  0.  0.]\n",
            " [ 0.  1.  2.  0. 12.  5.  0.  0.]\n",
            " [ 0.  8. 15.  6. 13.  4.  0.  0.]\n",
            " [ 0.  0.  5. 11. 16.  3.  0.  0.]]\n"
          ]
        },
        {
          "output_type": "display_data",
          "data": {
            "image/png": "[encoded data removed]",
            "text/plain": [
              "<Figure size 432x288 with 1 Axes>"
            ]
          },
          "metadata": {
            "needs_background": "light"
          }
        },
        {
          "output_type": "stream",
          "name": "stdout",
          "text": [
            "[[ 0.  0.  0.  1. 12. 16. 14.  0.]\n",
            " [ 0.  0.  3. 14. 13. 15. 13.  0.]\n",
            " [ 0.  4. 16. 15. 13. 16.  4.  0.]\n",
            " [ 0.  3. 16. 16. 16. 16.  3.  0.]\n",
            " [ 0.  0.  7.  7. 14. 14.  0.  0.]\n",
            " [ 0.  0.  0.  0. 12. 11.  0.  0.]\n",
            " [ 0.  0.  0.  0. 13. 10.  0.  0.]\n",
            " [ 0.  0.  0.  0. 13. 12.  0.  0.]]\n"
          ]
        },
        {
          "output_type": "display_data",
          "data": {
            "image/png": "[encoded data removed]",
            "text/plain": [
              "<Figure size 432x288 with 1 Axes>"
            ]
          },
          "metadata": {
            "needs_background": "light"
          }
        },
        {
          "output_type": "stream",
          "name": "stdout",
          "text": [
            "[[ 0.  0.  1. 14.  8.  8.  1.  0.]\n",
            " [ 0.  0. 10. 13.  8. 16.  1.  0.]\n",
            " [ 0.  2. 16.  4. 10. 11.  0.  0.]\n",
            " [ 0.  7. 15.  6. 14. 16. 13.  0.]\n",
            " [ 0.  3. 16. 16. 15.  9.  2.  0.]\n",
            " [ 0.  0.  3. 11.  9.  0.  0.  0.]\n",
            " [ 0.  0.  0. 12.  4.  0.  0.  0.]\n",
            " [ 0.  0.  0. 12.  0.  0.  0.  0.]]\n"
          ]
        },
        {
          "output_type": "display_data",
          "data": {
            "image/png": "[encoded data removed]",
            "text/plain": [
              "<Figure size 432x288 with 1 Axes>"
            ]
          },
          "metadata": {
            "needs_background": "light"
          }
        },
        {
          "output_type": "stream",
          "name": "stdout",
          "text": [
            "[[ 0.  0.  0.  2. 15.  5.  0.  0.]\n",
            " [ 0.  0.  2.  4. 10. 12.  0.  0.]\n",
            " [ 0.  3. 15. 14. 10.  8.  0.  0.]\n",
            " [ 0.  8. 15.  1. 11.  4.  0.  0.]\n",
            " [ 0.  1.  8. 15. 16.  0.  0.  0.]\n",
            " [ 0.  0.  0.  6. 16. 12.  1.  0.]\n",
            " [ 0.  0.  0.  4. 14. 15.  4.  0.]\n",
            " [ 0.  0.  0.  2. 14. 11.  0.  0.]]\n"
          ]
        },
        {
          "output_type": "display_data",
          "data": {
            "image/png": "[encoded data removed]",
            "text/plain": [
              "<Figure size 432x288 with 1 Axes>"
            ]
          },
          "metadata": {
            "needs_background": "light"
          }
        },
        {
          "output_type": "stream",
          "name": "stdout",
          "text": [
            "[[ 0.  0.  4. 12. 16. 16.  4.  0.]\n",
            " [ 0.  0.  9.  7.  4. 14. 12.  0.]\n",
            " [ 0.  0.  0.  0.  0. 11. 14.  0.]\n",
            " [ 0.  0.  0.  0.  3. 16.  6.  0.]\n",
            " [ 0.  0.  0.  1. 13.  6.  0.  0.]\n",
            " [ 0.  0.  1. 12.  8.  0.  0.  0.]\n",
            " [ 0.  0.  6. 16.  9.  5.  0.  0.]\n",
            " [ 0.  0.  3. 12. 13.  9.  0.  0.]]\n"
          ]
        },
        {
          "output_type": "display_data",
          "data": {
            "image/png": "[encoded data removed]",
            "text/plain": [
              "<Figure size 432x288 with 1 Axes>"
            ]
          },
          "metadata": {
            "needs_background": "light"
          }
        },
        {
          "output_type": "stream",
          "name": "stdout",
          "text": [
            "[[ 0.  0.  6. 14. 16.  5.  0.  0.]\n",
            " [ 0.  2. 16. 16. 16.  7.  0.  0.]\n",
            " [ 0.  2. 15. 16. 15.  2.  0.  0.]\n",
            " [ 0.  0.  6. 16. 15.  7.  0.  0.]\n",
            " [ 0.  0. 14. 10.  6. 16.  3.  0.]\n",
            " [ 0.  1. 16.  3.  0. 16.  7.  0.]\n",
            " [ 0.  0. 10. 11. 11. 15.  3.  0.]\n",
            " [ 0.  0.  3. 14. 16.  6.  0.  0.]]\n"
          ]
        },
        {
          "output_type": "display_data",
          "data": {
            "image/png": "[encoded data removed]",
            "text/plain": [
              "<Figure size 432x288 with 1 Axes>"
            ]
          },
          "metadata": {
            "needs_background": "light"
          }
        },
        {
          "output_type": "stream",
          "name": "stdout",
          "text": [
            "[[ 0.  0.  2.  8.  7.  0.  0.  0.]\n",
            " [ 0.  0.  6. 15. 16.  2.  0.  0.]\n",
            " [ 0.  6. 15. 11. 16.  4.  0.  0.]\n",
            " [ 0.  5. 16. 10. 16.  1.  0.  0.]\n",
            " [ 0.  2. 15. 16. 13.  0.  0.  0.]\n",
            " [ 0.  0.  2. 16. 12.  9.  3.  0.]\n",
            " [ 0.  0.  4. 14.  0. 12. 14.  1.]\n",
            " [ 0.  0.  1. 12. 10.  7.  0.  0.]]\n"
          ]
        },
        {
          "output_type": "display_data",
          "data": {
            "image/png": "[encoded data removed]",
            "text/plain": [
              "<Figure size 432x288 with 1 Axes>"
            ]
          },
          "metadata": {
            "needs_background": "light"
          }
        },
        {
          "output_type": "stream",
          "name": "stdout",
          "text": [
            "[[ 0.  0.  3. 11. 14. 12.  3.  0.]\n",
            " [ 0.  2. 13. 10.  4. 10. 12.  0.]\n",
            " [ 0.  2. 11.  2.  0.  9.  9.  0.]\n",
            " [ 0.  0.  0.  3. 10. 10.  1.  0.]\n",
            " [ 0.  0.  7. 16. 16.  2.  0.  0.]\n",
            " [ 0.  0.  3.  0. 14.  3.  0.  0.]\n",
            " [ 0.  0.  0.  1. 13.  2.  0.  0.]\n",
            " [ 0.  3.  7. 14.  5.  0.  0.  0.]]\n"
          ]
        },
        {
          "output_type": "display_data",
          "data": {
            "image/png": "[encoded data removed]",
            "text/plain": [
              "<Figure size 432x288 with 1 Axes>"
            ]
          },
          "metadata": {
            "needs_background": "light"
          }
        },
        {
          "output_type": "stream",
          "name": "stdout",
          "text": [
            "[[ 0.  0.  4.  9. 13. 13.  0.  0.]\n",
            " [ 0.  1. 13. 15.  6.  2.  0.  0.]\n",
            " [ 0.  0.  9.  7.  0.  0.  0.  0.]\n",
            " [ 0.  0. 13.  3.  4.  0.  0.  0.]\n",
            " [ 0.  2. 16. 16. 16.  8.  0.  0.]\n",
            " [ 0.  2. 11.  3.  0. 10.  4.  0.]\n",
            " [ 0.  0.  2.  5.  4. 15.  1.  0.]\n",
            " [ 0.  0.  3. 12. 14.  8.  0.  0.]]\n"
          ]
        },
        {
          "output_type": "display_data",
          "data": {
            "image/png": "[encoded data removed]",
            "text/plain": [
              "<Figure size 432x288 with 1 Axes>"
            ]
          },
          "metadata": {
            "needs_background": "light"
          }
        },
        {
          "output_type": "stream",
          "name": "stdout",
          "text": [
            "[[ 0.  0.  1.  8. 13.  1.  0.  0.]\n",
            " [ 0.  0.  6. 16. 16.  9.  0.  0.]\n",
            " [ 0.  1. 15. 16. 16. 10.  0.  0.]\n",
            " [ 0.  6. 15. 14.  6.  0.  0.  0.]\n",
            " [ 0.  3.  7.  6.  6.  0.  0.  0.]\n",
            " [ 0.  1. 10.  2. 11.  0.  0.  0.]\n",
            " [ 0.  0.  4. 11. 13.  2.  0.  0.]\n",
            " [ 0.  0.  0.  5. 12.  5.  0.  0.]]\n"
          ]
        },
        {
          "output_type": "display_data",
          "data": {
            "image/png": "[encoded data removed]",
            "text/plain": [
              "<Figure size 432x288 with 1 Axes>"
            ]
          },
          "metadata": {
            "needs_background": "light"
          }
        },
        {
          "output_type": "stream",
          "name": "stdout",
          "text": [
            "[[ 0.  0.  6. 14. 16. 15.  1.  0.]\n",
            " [ 0.  9. 16. 12.  9. 16.  3.  0.]\n",
            " [ 0. 12. 16. 11. 14. 13.  0.  0.]\n",
            " [ 0.  7. 15. 16. 14.  0.  0.  0.]\n",
            " [ 0.  0.  2.  8. 16.  5.  0.  0.]\n",
            " [ 0.  0.  0.  6. 16.  4.  0.  0.]\n",
            " [ 0.  0.  2. 13. 12.  0.  0.  0.]\n",
            " [ 0.  0.  9. 16.  1.  0.  0.  0.]]\n"
          ]
        },
        {
          "output_type": "display_data",
          "data": {
            "image/png": "[encoded data removed]",
            "text/plain": [
              "<Figure size 432x288 with 1 Axes>"
            ]
          },
          "metadata": {
            "needs_background": "light"
          }
        },
        {
          "output_type": "stream",
          "name": "stdout",
          "text": [
            "[[ 0.  0. 10. 14.  0.  0.  0.  0.]\n",
            " [ 0.  1. 16.  7.  1.  7.  0.  0.]\n",
            " [ 0.  0. 15.  7. 12. 16.  2.  0.]\n",
            " [ 0.  0. 10. 16. 16.  4.  0.  0.]\n",
            " [ 0.  0.  0.  9. 14.  0.  0.  0.]\n",
            " [ 0.  0.  0. 14. 10.  0.  0.  0.]\n",
            " [ 0.  0.  5. 16.  2.  0.  0.  0.]\n",
            " [ 0.  0. 11. 12.  0.  0.  0.  0.]]\n"
          ]
        },
        {
          "output_type": "display_data",
          "data": {
            "image/png": "[encoded data removed]",
            "text/plain": [
              "<Figure size 432x288 with 1 Axes>"
            ]
          },
          "metadata": {
            "needs_background": "light"
          }
        },
        {
          "output_type": "stream",
          "name": "stdout",
          "text": [
            "[[ 0.  0.  7. 16. 16.  8.  0.  0.]\n",
            " [ 0.  0. 14. 12. 11. 14.  0.  0.]\n",
            " [ 0.  0. 11. 15. 16. 12.  0.  0.]\n",
            " [ 0.  0.  5. 15. 15.  4.  0.  0.]\n",
            " [ 0.  0.  0.  3. 12. 14.  0.  0.]\n",
            " [ 0.  1. 10.  0.  7. 15.  0.  0.]\n",
            " [ 0.  1. 14.  6. 13. 12.  0.  0.]\n",
            " [ 0.  0.  7. 16. 16. 11.  0.  0.]]\n"
          ]
        },
        {
          "output_type": "display_data",
          "data": {
            "image/png": "[encoded data removed]",
            "text/plain": [
              "<Figure size 432x288 with 1 Axes>"
            ]
          },
          "metadata": {
            "needs_background": "light"
          }
        },
        {
          "output_type": "stream",
          "name": "stdout",
          "text": [
            "[[ 0.  0. 11.  7.  0.  0.  0.  0.]\n",
            " [ 0.  5. 16.  3.  2. 14.  3.  0.]\n",
            " [ 0.  9. 15.  0. 12. 15.  0.  0.]\n",
            " [ 0.  6. 16. 15. 16.  5.  0.  0.]\n",
            " [ 0.  0.  6. 15. 11.  0.  0.  0.]\n",
            " [ 0.  0.  1. 16.  4.  0.  0.  0.]\n",
            " [ 0.  0.  9. 12.  0.  0.  0.  0.]\n",
            " [ 0.  0. 13. 10.  0.  0.  0.  0.]]\n"
          ]
        },
        {
          "output_type": "display_data",
          "data": {
            "image/png": "[encoded data removed]",
            "text/plain": [
              "<Figure size 432x288 with 1 Axes>"
            ]
          },
          "metadata": {
            "needs_background": "light"
          }
        },
        {
          "output_type": "stream",
          "name": "stdout",
          "text": [
            "[[ 0.  0.  7. 15. 16. 12.  0.  0.]\n",
            " [ 0. 12. 16. 11. 16. 13.  0.  0.]\n",
            " [ 0. 15. 16. 16. 14.  5.  0.  0.]\n",
            " [ 0.  8. 16. 12.  0.  0.  0.  0.]\n",
            " [ 0.  0.  2. 12.  9.  0.  0.  0.]\n",
            " [ 0.  0.  0.  9. 13.  0.  0.  0.]\n",
            " [ 0.  0.  2. 16.  8.  0.  0.  0.]\n",
            " [ 0.  0. 10. 12.  1.  0.  0.  0.]]\n"
          ]
        },
        {
          "output_type": "display_data",
          "data": {
            "image/png": "[encoded data removed]",
            "text/plain": [
              "<Figure size 432x288 with 1 Axes>"
            ]
          },
          "metadata": {
            "needs_background": "light"
          }
        },
        {
          "output_type": "stream",
          "name": "stdout",
          "text": [
            "[[ 0.  1.  7. 13. 16. 13.  0.  0.]\n",
            " [ 0.  7. 16. 16. 16. 14.  0.  0.]\n",
            " [ 0.  1.  7. 16. 10.  1.  0.  0.]\n",
            " [ 0.  1. 16. 15.  0.  0.  0.  0.]\n",
            " [ 0.  0.  8. 15. 14.  3.  0.  0.]\n",
            " [ 0.  0.  0.  1. 14. 15.  3.  0.]\n",
            " [ 0.  0.  1.  5. 13. 16.  7.  0.]\n",
            " [ 0.  0.  8. 15. 10.  6.  0.  0.]]\n"
          ]
        },
        {
          "output_type": "display_data",
          "data": {
            "image/png": "[encoded data removed]",
            "text/plain": [
              "<Figure size 432x288 with 1 Axes>"
            ]
          },
          "metadata": {
            "needs_background": "light"
          }
        },
        {
          "output_type": "stream",
          "name": "stdout",
          "text": [
            "[[ 0.  0.  5. 12.  8.  0.  1.  0.]\n",
            " [ 0.  0. 11. 16.  5. 13.  6.  0.]\n",
            " [ 0.  0.  2. 15. 16. 12.  1.  0.]\n",
            " [ 0.  0.  0. 10. 16.  6.  0.  0.]\n",
            " [ 0.  0.  1. 15. 16.  7.  0.  0.]\n",
            " [ 0.  0.  8. 16. 16. 11.  0.  0.]\n",
            " [ 0.  0. 11. 16. 16.  9.  0.  0.]\n",
            " [ 0.  0.  6. 12. 12.  3.  0.  0.]]\n"
          ]
        },
        {
          "output_type": "display_data",
          "data": {
            "image/png": "[encoded data removed]",
            "text/plain": [
              "<Figure size 432x288 with 1 Axes>"
            ]
          },
          "metadata": {
            "needs_background": "light"
          }
        }
      ]
    },
    {
      "cell_type": "markdown",
      "metadata": {
        "id": "C7n9FWWs4QkV"
      },
      "source": [
        "Chaque classifieur possède une fonction score, qui permet de comparer les prédictions d'un ensemble d'exemples $X$ pour lesquelles on connaît les étiquettes $y$ : la fonction calcule le taux de bonne classifications. "
      ]
    },
    {
      "cell_type": "code",
      "metadata": {
        "id": "UJsi-fuG4QkY",
        "colab": {
          "base_uri": "https://localhost:8080/"
        },
        "outputId": "cc9e5e96-c740-4284-d29a-2dc47e886b75"
      },
      "source": [
        "print('taux de bonne classification', clf.score(X,y)) # taux de bonne classification du modèle sur l'ensemble d'apprentissage: fonction score"
      ],
      "execution_count": 14,
      "outputs": [
        {
          "output_type": "stream",
          "name": "stdout",
          "text": [
            "taux de bonne classification 0.9855314412910406\n"
          ]
        }
      ]
    },
    {
      "cell_type": "markdown",
      "metadata": {
        "id": "c2I8C2sn4Qkd"
      },
      "source": [
        "On la détourne facilement pour obtenir le taux d'erreur: faites le (vous devez obtenir 0.01446855...)!"
      ]
    },
    {
      "cell_type": "code",
      "metadata": {
        "id": "Z3kjUGxv4Qki",
        "colab": {
          "base_uri": "https://localhost:8080/"
        },
        "outputId": "e95daa33-412c-4ca1-93d6-913a6771ace6"
      },
      "source": [
        "# a vous\n",
        "print('taux d erreur', 1-clf.score(X,y))"
      ],
      "execution_count": 23,
      "outputs": [
        {
          "output_type": "stream",
          "name": "stdout",
          "text": [
            "taux d erreur 0.014468558708959356\n"
          ]
        }
      ]
    },
    {
      "cell_type": "markdown",
      "metadata": {
        "id": "ag7_Jwgr4Qk6"
      },
      "source": [
        "## Variation du nombre de voisins"
      ]
    },
    {
      "cell_type": "markdown",
      "metadata": {
        "id": "0GE1r3Yq4Qk7"
      },
      "source": [
        "L'algorithme des $k$-plus proches voisins fonctionne avec plusieurs hyper-paramètres (paramètres de l'agorithme, pas du modèle appris): la valeur de $k$ est un de ces paramètres. Réalisez un programme qui fait varier cet hyper-paramètres dans un intervalle comprenant des valeurs entre 1 et 15, et stocker l'évolution de l'erreur d'apprentissage (celle calculée sur l'échantillon d'apprentissage), puis en réaliser une courbe avec en abscisse les valeurs de k, et en ordonnées les erreurs.\n",
        "\n",
        "On peut utiliser pour ce faire la fonction de construction d'un tableau *numpy.arange* (cf documentation), la fonction *len(X)* qui renvoit la taille d'un tableau à une dimension. Pour la courbe, on utilisera simplement *plot(abs, ord)* du package *pyplot* de *matplotlib*, comme vue au premier TP."
      ]
    },
    {
      "cell_type": "code",
      "metadata": {
        "id": "RK49MqBj4Qk9",
        "colab": {
          "base_uri": "https://localhost:8080/",
          "height": 282
        },
        "outputId": "fa4df28b-8d8c-4334-910d-c940325c2b7c"
      },
      "source": [
        "# a vous\n",
        "\n",
        "max_neighbors = 15\n",
        "t_err = []\n",
        "n = []\n",
        "\n",
        "for i in range(max_neighbors):\n",
        "  n.append(i+1)\n",
        "  cl = nn.KNeighborsClassifier(i+1)\n",
        "  cl.fit(X, y)\n",
        "  taux_err = 1 - cl.score(X, y)\n",
        "  t_err.append(taux_err)\n",
        "print(n)\n",
        "plt.plot(n,t_err)  \n",
        "plt.show()\n",
        "\n"
      ],
      "execution_count": 36,
      "outputs": [
        {
          "output_type": "stream",
          "name": "stdout",
          "text": [
            "[1, 2, 3, 4, 5, 6, 7, 8, 9, 10, 11, 12, 13, 14, 15]\n"
          ]
        },
        {
          "output_type": "display_data",
          "data": {
            "image/png": "[encoded data removed]",
            "text/plain": [
              "<Figure size 432x288 with 1 Axes>"
            ]
          },
          "metadata": {
            "needs_background": "light"
          }
        }
      ]
    },
    {
      "cell_type": "markdown",
      "metadata": {
        "id": "1FKPvlY14QlQ"
      },
      "source": [
        "Qu'observez-vous ? A quelle valeur de k atteint-on un meilleur classifieur ? Quelle est globalement, sur ce jeu de données, l'influence de $k$? Que se passe-t-il exactement pour $k=1$?"
      ]
    },
    {
      "cell_type": "markdown",
      "metadata": {
        "id": "f6bMmcGP4QlR"
      },
      "source": [
        "## Evaluation de l'erreur réelle du classifieur appris "
      ]
    },
    {
      "cell_type": "markdown",
      "metadata": {
        "id": "v8h8dMnM4QlT"
      },
      "source": [
        "Lorsque le score du classifieur appris est évalué sur l'ensemble d'apprentissage, il est en général sur-estimé (pourquoi ?) et donc, très peu fiable. La meilleure méthode pour évaluer un classifieur consiste à calculer son score sur un échantillon test, indépendant de l'échantillon d'apprentissage mais généré dans les mêmes\n",
        "conditions. Lorsqu'on dispose d'un seul ensemble d'exemples (comme c'est le cas de *digits*, il faut donc:\n",
        "\n",
        "* répartir les données en un sous-ensemble d'apprentissage et un sous-ensemble test,\n",
        "* entrainer un classifieur sur l'ensemble d'apprentissage \n",
        "* évaluer ce classifieur sur l'ensemble test (on a ici une évaluation de l'erreur réelle, qui reste instable puisque dépend du découpage effectué)\n",
        "\n",
        "Si les données sont peu nombreuses, comme c'est le cas pour le jeu de données *digits*, cette évaluation risque d'être pessimiste (avez-vous une idée de pourquoi ? Si oui, expliquez, sinon réfléchissez!).\n",
        "\n",
        "Scikit-learn vient avec toute une panoplie d'outils pour évaluer cette erreur. Pour l'instant, nous n'utiliserons que la fonction qui permet de diviser un échantillon en deux parties (attributs et classes): c'est la fonction *train_test_split* du package *model_selection*, que nous appliquons ci-après sur Iris (nous ne printons que les trois premiers exemples de chaque sous-échantillon, avec leurs étiquettes):\n"
      ]
    },
    {
      "cell_type": "code",
      "metadata": {
        "id": "n_FJ2xiw4QlT",
        "colab": {
          "base_uri": "https://localhost:8080/"
        },
        "outputId": "92477597-0727-405e-b5e1-f47dee7e1f2d"
      },
      "source": [
        "from sklearn.model_selection import train_test_split\n",
        "# production de deux sous-échantillon\n",
        "Xtrain, Xtest, ytrain, ytest = train_test_split(X,y,test_size=0.25, random_state=42) \n",
        "print(Xtrain[:3,:], ytrain[:3])\n",
        "print(Xtest[:3,:], ytest[:3])"
      ],
      "execution_count": 17,
      "outputs": [
        {
          "output_type": "stream",
          "name": "stdout",
          "text": [
            "[[ 0.  0.  2. 15. 15. 16. 11.  0.  0.  0.  8. 16. 11.  3.  0.  0.  0.  0.\n",
            "  13.  9.  0.  0.  0.  0.  0.  5. 16.  3.  9. 11.  3.  0.  0. 10. 15. 15.\n",
            "  16. 16. 11.  0.  0.  6. 16. 10.  7. 16.  5.  0.  0.  0.  3.  4. 15.  8.\n",
            "   0.  0.  0.  0.  4. 15.  7.  0.  0.  0.]\n",
            " [ 0.  5. 16. 15.  3.  0.  0.  0.  0. 11. 14. 11. 11.  0.  0.  0.  0.  8.\n",
            "  11.  4. 16.  0.  0.  0.  0.  0.  0.  4. 13.  0.  0.  0.  0.  0.  0.  8.\n",
            "  12.  0.  0.  0.  0.  0.  0. 13.  9.  5.  1.  0.  0.  1. 11. 16. 16. 16.\n",
            "  10.  0.  0.  5. 16. 14.  8.  6.  1.  0.]\n",
            " [ 0.  0.  4. 13.  8.  0.  0.  0.  0.  0. 13. 16. 15.  7.  0.  0.  0.  3.\n",
            "  16.  9.  6. 15.  6.  0.  0.  8. 14.  0.  0.  4.  8.  0.  0.  8. 12.  0.\n",
            "   0.  4.  8.  0.  0.  4. 12.  0.  0. 11.  6.  0.  0.  0. 14. 10. 12. 14.\n",
            "   1.  0.  0.  0.  7. 15. 11.  2.  0.  0.]] [5 2 0]\n",
            "[[ 0.  0.  0.  7. 12.  0.  0.  0.  0.  0.  4. 16.  8.  0.  0.  0.  0.  0.\n",
            "  12. 11.  0.  0.  0.  0.  0.  0. 15. 10.  8.  6.  1.  0.  0.  0. 15. 16.\n",
            "   8. 10.  8.  0.  0.  0. 14.  7.  0.  0. 12.  0.  0.  0.  8. 11.  0.  5.\n",
            "  16.  2.  0.  0.  0.  9. 14. 14.  5.  0.]\n",
            " [ 0.  0. 11. 16.  8.  0.  0.  0.  0.  6. 16. 11. 13.  9.  0.  0.  0.  7.\n",
            "  16.  0.  9. 16.  0.  0.  0.  2. 15. 12. 16. 16.  3.  0.  0.  0.  5.  7.\n",
            "   7. 16.  4.  0.  0.  0.  0.  0.  5. 16.  5.  0.  0.  0.  3.  7. 16. 11.\n",
            "   0.  0.  0.  0. 13. 16. 11.  1.  0.  0.]\n",
            " [ 0.  0.  8. 15. 12.  4.  0.  0.  0.  5. 14.  4. 11.  7.  0.  0.  0.  0.\n",
            "   0.  1. 14.  3.  0.  0.  0.  0.  2. 15. 14.  1.  0.  0.  0.  0.  0.  8.\n",
            "  13. 11.  0.  0.  0.  0.  0.  0.  0. 13.  5.  0.  0.  0. 12.  2.  3. 12.\n",
            "   7.  0.  0.  0. 13. 16. 15.  8.  0.  0.]] [6 9 3]\n"
          ]
        }
      ]
    },
    {
      "cell_type": "markdown",
      "metadata": {
        "id": "56FteqCq4QlZ"
      },
      "source": [
        "Ici, nous produisons un découpage dans lequel l'ensemble d'apprentissage représente 75% de l'échantillon initial, et l'échantillon de test représente 25% des données initiales.\n",
        "\n",
        "En vous inspirant de ce mode de découpage, écrire une séquence d'instructions permettant de séparer *digits* en deux parties égales, d'apprendre un 3-plus proches voisins sur le premier sous-échantillon, et de le tester sur le second: vous obtenez une **estimation** de l'erreur réelle. Obtenez-vous la même erreur que celle d'apprentissage mesurée précédemment ?"
      ]
    },
    {
      "cell_type": "code",
      "metadata": {
        "id": "b8kQdGIU4QlZ",
        "colab": {
          "base_uri": "https://localhost:8080/"
        },
        "outputId": "078cf086-5378-4d52-c847-28555382d0ee"
      },
      "source": [
        "# a vous\n",
        "X_train, X_test, y_train, y_test = train_test_split(X,y,test_size=0.50, random_state=42) \n",
        "c = nn.KNeighborsClassifier(3)\n",
        "c.fit(X_train, y_train)\n",
        "t_err = 1 - c.score(X_test, y_test)\n",
        "print(t_err)"
      ],
      "execution_count": 37,
      "outputs": [
        {
          "output_type": "stream",
          "name": "stdout",
          "text": [
            "0.013348164627363768\n"
          ]
        }
      ]
    },
    {
      "cell_type": "markdown",
      "metadata": {
        "id": "6f608IhM4Qlo"
      },
      "source": [
        "Faites maintenant à nouveau varier $k$, et pour chaque valeur, indiquez l'erreur réelle estimée sur la base d'un train_test_split de 70%, 30% ; tracer la courbe. Observez-bien les différences de valeurs des erreurs d'apprentissage et réelle: pourquoi sont-elles différentes ? Que constatez-vous ?"
      ]
    },
    {
      "cell_type": "code",
      "metadata": {
        "id": "4T5bH6HG4Qlp",
        "colab": {
          "base_uri": "https://localhost:8080/",
          "height": 269
        },
        "outputId": "dda16b04-49b5-4357-e85e-4d9a26545ab8"
      },
      "source": [
        "# a vous\n",
        "max_neighbors = 15\n",
        "t_err_ = []\n",
        "v = []\n",
        "X_train, X_test, y_train, y_test = train_test_split(X,y,test_size=0.30, random_state=42) \n",
        "for i in range(max_neighbors):\n",
        "  v.append(i+1)\n",
        "  c = nn.KNeighborsClassifier(i+1)\n",
        "  c.fit(X_train, y_train)\n",
        "  taux_err = 1 - c.score(X_test, y_test)\n",
        "  t_err_.append(taux_err)\n",
        "plt.plot(n,t_err_)\n",
        "plt.show()"
      ],
      "execution_count": 38,
      "outputs": [
        {
          "output_type": "display_data",
          "data": {
            "image/png": "[encoded data removed]",
            "text/plain": [
              "<Figure size 432x288 with 1 Axes>"
            ]
          },
          "metadata": {
            "needs_background": "light"
          }
        }
      ]
    },
    {
      "cell_type": "markdown",
      "metadata": {
        "id": "BtuiGNxH4Ql8"
      },
      "source": [
        "## Variation autour de la métrique"
      ]
    },
    {
      "cell_type": "markdown",
      "metadata": {
        "id": "fpHiq-m24Ql9"
      },
      "source": [
        "Au delà du nombre de voisins, un autre hyper-paramètre est la métrique utilisée pour calculer la distance entre les exemples. Par défaut, la distance de Minkowski est utilisée, avec le paramètre $p=2$ qui indique que nous considérons la distance euclidienne. Avec $p=1$, nous aurions la distance de manhattan, et de façon générale, avec p>0, la distance utilisée est $l_p$ :\n",
        "\n",
        "$$l_p(x, x')=(\\sum_{i=1}^n |x_i - x'_i|^p)^{\\frac{1}{p}}$$\n",
        "\n",
        "Ecrire un programme permettant de faire varier la distance utilisée pour évaluer son impact sur les performances, en faisant aussi varier $k$. Tracez les 3 courbes sur un même plot (cf. doc de *plot* pour voir comment faire), une pour chaque valeur de $p$ parmi ${1,2,5}$."
      ]
    },
    {
      "cell_type": "code",
      "metadata": {
        "id": "AtpJAvCs4QmA",
        "colab": {
          "base_uri": "https://localhost:8080/",
          "height": 265
        },
        "outputId": "65da6863-e0d8-4b3a-82be-2c678335a4d0"
      },
      "source": [
        "# a vous\n",
        "max_neighbors = 15\n",
        "t_err_ = []\n",
        "v = []\n",
        "P = [1, 2, 5]\n",
        "X_train, X_test, y_train, y_test = train_test_split(X,y,test_size=0.30, random_state=42) \n",
        "for p in P:\n",
        "  for i in range(max_neighbors):\n",
        "    k = i+1\n",
        "    v.append(k)\n",
        "    c = nn.KNeighborsClassifier(k, p=p)\n",
        "    c.fit(X_train, y_train)\n",
        "    taux_err = 1 - c.score(X_test, y_test)\n",
        "    t_err_.append(taux_err)\n",
        "  if(p == 1):  \n",
        "    plt.plot(n,t_err_, \"-r\", label=\"p1\")\n",
        "  if(p == 2):\n",
        "    plt.plot(n,t_err_, \"-b\", label=\"p2\")\n",
        "  if(p == 5):\n",
        "    plt.plot(n,t_err_, \"-g\", label=\"p5\")\n",
        "  t_err_.clear()\n",
        "plt.legend()\n",
        "plt.show()\n",
        " "
      ],
      "execution_count": 54,
      "outputs": [
        {
          "output_type": "display_data",
          "data": {
            "image/png": "[encoded data removed]",
            "text/plain": [
              "<Figure size 432x288 with 1 Axes>"
            ]
          },
          "metadata": {
            "needs_background": "light"
          }
        }
      ]
    },
    {
      "cell_type": "markdown",
      "metadata": {
        "id": "H51kYh9bXV34"
      },
      "source": [
        "## Matrice de confusion\n",
        "Maintenant que vous avez sélectionné les meilleurs valeurs de $k$ et $p$, vous pouvez analyser plus finement les performances de votre meilleur classifieur. Pour cela, construisez la matrice de confusion, de taille $10 \\times 10$, dans laquelle l'éléments $(i,j)$ correspond au nombre de fois qu'un exemple d'étiquette $i$ a été prédit avec une étiquette $j$. Quelles sont les confusions fréquentes?"
      ]
    },
    {
      "cell_type": "code",
      "metadata": {
        "id": "vMCdxKu8YKMn",
        "colab": {
          "base_uri": "https://localhost:8080/"
        },
        "outputId": "dc885005-f1b9-423a-8f41-b8bcc5ac73c5"
      },
      "source": [
        "# a vous\n",
        "from sklearn.metrics import confusion_matrix\n",
        "X_train, X_test, y_train, y_test = train_test_split(X,y,test_size=0.30, random_state=42) \n",
        "c = nn.KNeighborsClassifier(6, p=2)\n",
        "c.fit(X_train, y_train)\n",
        "y_pred = c.predict(X_test)\n",
        "confusion_matrix(y_test, y_pred)"
      ],
      "execution_count": 57,
      "outputs": [
        {
          "output_type": "execute_result",
          "data": {
            "text/plain": [
              "array([[53,  0,  0,  0,  0,  0,  0,  0,  0,  0],\n",
              "       [ 0, 50,  0,  0,  0,  0,  0,  0,  0,  0],\n",
              "       [ 0,  0, 47,  0,  0,  0,  0,  0,  0,  0],\n",
              "       [ 0,  0,  0, 54,  0,  0,  0,  0,  0,  0],\n",
              "       [ 0,  0,  0,  0, 60,  0,  0,  0,  0,  0],\n",
              "       [ 0,  0,  0,  0,  0, 66,  0,  0,  0,  0],\n",
              "       [ 0,  0,  0,  0,  0,  0, 53,  0,  0,  0],\n",
              "       [ 0,  0,  0,  0,  0,  0,  0, 55,  0,  0],\n",
              "       [ 0,  0,  0,  0,  0,  0,  0,  0, 43,  0],\n",
              "       [ 0,  0,  0,  1,  1,  1,  0,  0,  0, 56]])"
            ]
          },
          "metadata": {},
          "execution_count": 57
        }
      ]
    },
    {
      "cell_type": "markdown",
      "metadata": {
        "id": "xIBW2C-kYNXD"
      },
      "source": [
        "Optionnel.\n",
        "Une manipulation intéressante à faire consiste à retourner les images en leur faisant subir une rotation à 180º: de cette façon, les 6 ressemblent ensuite à des 9 et vice-versa, les 0 restent des 0, et les autres chiffres donnent parfois des caractères indéfinis. Faites des essais sur quelques exemples en les affichant pour trouver comment retourner une image, puis appliquez un k-NN ainsi: apprenez sur tout l'ensemble d'images originales, testez sur l'ensemble de toutes les images retournées, affichez la matrice de confusion pour voir dans quelle mesure les 6 sont reconnus comme des 9 et observez d'autres phénomènes."
      ]
    },
    {
      "cell_type": "code",
      "metadata": {
        "id": "qrEovoChYL-5"
      },
      "source": [
        "# a vous\n"
      ],
      "execution_count": null,
      "outputs": []
    }
  ]
}