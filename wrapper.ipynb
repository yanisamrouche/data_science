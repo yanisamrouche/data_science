{
  "nbformat": 4,
  "nbformat_minor": 0,
  "metadata": {
    "colab": {
      "name": "wrapper.ipynb",
      "provenance": [],
      "collapsed_sections": [],
      "include_colab_link": true
    },
    "kernelspec": {
      "name": "python3",
      "display_name": "Python 3"
    },
    "language_info": {
      "name": "python"
    }
  },
  "cells": [
    {
      "cell_type": "markdown",
      "metadata": {
        "id": "view-in-github",
        "colab_type": "text"
      },
      "source": [
        "<a href=\"https://colab.research.google.com/github/yanisamrouche/data_science/blob/main/wrapper.ipynb\" target=\"_parent\"><img src=\"https://colab.research.google.com/assets/colab-badge.svg\" alt=\"Open In Colab\"/></a>"
      ]
    },
    {
      "cell_type": "markdown",
      "source": [
        "# Intégration de données TP1 : Wrapper modulaire\n",
        "AMROUCHE Yanis <br> OULD-CHIBANI Abdessettar\n",
        "## Description de Jeu de Données:\n",
        "Les fichiers utilisés décrivent le nombre de personnes ayant reçu au moins une\n",
        "dose ou complètement vaccinées.\n",
        "\n",
        "Les données issues du système d’information Vaccin Covid permettent de\n",
        "dénombrer en temps quasi réel (J-1), le nombre de personnes ayant reçu une\n",
        "injection de vaccin anti-covid en tenant compte du nombre de doses reçues, du\n",
        "vaccin, et du niveau géographique (national, régional et départemental). Les\n",
        "données sont disponibles par lieu de vaccination.\n",
        "\n",
        "Les 3 fichiers Utilisés sont :\n",
        "* vacsi-tot-v-dep-2022-01-12-19h06.csv\n",
        "* vacsi-tot-v-reg-2022-01-12-19h06.csv\n",
        "* vacsi-tot-v-fra-2022-01-12-19h06.csv\n",
        "\n",
        "## Description du scénario applicatif:\n",
        "### Propagation de vaccin:\n",
        "Une association médicale souhaite évaluer la situation de l’épidémie au\n",
        "département de Bouches-du-Rhône. En premier il évalue le nombre total de\n",
        "vaccinés dans toute la France, après elle compare la distribution de ce nombre de\n",
        "vaccinés en nombre de doses dans chaque région, puis on compare la distribution\n",
        "de nombre total de vaccinés dans les différents départements de la région\n",
        "Provence-Alpes-Côte d'Azur"
      ],
      "metadata": {
        "id": "6nY1UqPHV8Kh"
      }
    },
    {
      "cell_type": "code",
      "execution_count": null,
      "metadata": {
        "id": "9ouDrUohBFPE"
      },
      "outputs": [],
      "source": [
        "#méthode pour parser un fichier CSV ===> list (colonne)\n",
        "import pandas as pd\n",
        "import numpy as np\n",
        "def read_csv(filename):\n",
        "    df = pd.read_csv(filename, sep=\";\")\n",
        "    columns = df.columns\n",
        "    columns = columns.to_numpy()\n",
        "    df.loc[0] = columns\n",
        "    array = df.to_numpy()\n",
        "    print(array)\n",
        "    return array\n",
        "read_csv(\"vacsi-tot-v-dep-2022-01-12-19h06.csv\")\n",
        "    "
      ]
    },
    {
      "cell_type": "code",
      "source": [
        "def create_table(tablename, fields):\n",
        "  #creation\n",
        "  sqlQuery = \"CREATE TABLE IF NOT EXISTS {}\".format(tablename)\n",
        "  sqlQuery += \" (\"\n",
        "  for i in fields[0]:\n",
        "    sqlQuery += \"'{}', \".format(i)\n",
        "  sqlQuery = sqlQuery[:-2] + \");\"\n",
        "  #insertion\n",
        "  for x in fields[1:len(fields)]:\n",
        "    values = \"(\"\n",
        "    for data in x:\n",
        "      values += \"'{}', \".format(data)\n",
        "    values = values[:-2]\n",
        "    values += \")\"  \n",
        "    sqlQuery += \"\\nINSERT INTO {} VALUES {};\".format(tablename, values)\n",
        "  return sqlQuery\n",
        "fields = read_csv(\"vacsi-tot-v-dep-2022-01-12-19h06.csv\")\n",
        "create_table(\"table\", fields)"
      ],
      "metadata": {
        "id": "CXelGcH1BXOa"
      },
      "execution_count": null,
      "outputs": []
    },
    {
      "cell_type": "code",
      "source": [
        "def create_wrapper(tablename, filename, output):\n",
        "  data = create_table(tablename, read_csv(filename))\n",
        "  file_ = open(output, \"w\")\n",
        "  file_.write(data)\n",
        "  file_.close()\n",
        "  print(\"{}\".format(output))\n",
        "create_wrapper(\"vaccin\", \"vacsi-tot-v-dep-2022-01-12-19h06.csv\", \"vaccinDEP\")\n",
        "create_wrapper(\"vaccin\", \"vacsi-tot-v-reg-2022-01-12-19h06.csv\", \"vaccinREG\")\n",
        "create_wrapper(\"vaccin\", \"vacsi-tot-v-fra-2022-01-12-19h06.csv\", \"vaccinFRA\")"
      ],
      "metadata": {
        "id": "OfGPyAVFNU1P"
      },
      "execution_count": null,
      "outputs": []
    },
    {
      "cell_type": "markdown",
      "source": [
        "# Les vues\n",
        "0 : Tous vaccins\n",
        "\n",
        "1 : Pfizer/BioNTech\n",
        "\n",
        "2 : Moderna\n",
        "\n",
        "3 : AstraZeneka\n",
        "\n",
        "4 : Janssen\n",
        "\n",
        "# creation de la vues : les departements avec total vaccin pfizer:\n",
        "```sql\n",
        "DROP VIEW IF EXISTS vaccinPfizer ;\n",
        "CREATE VIEW vaccinPfizer AS\n",
        "SELECT VFR.vaccin, VDEP.dep, VDEP.n_tot_dose1, VDEP.n_tot_dose2, VDEP.n_tot_dose3, VDEP.n_tot_rappel \n",
        "FROM vaccinFR VFR, vaccinDEP VDEP\n",
        "WHERE VFR.vaccin = VDEP.vaccin AND VDEP.vaccin = 1;\n",
        "```\n",
        "# creation de la vues : les departements avec total vaccin Moderna\n",
        "```sql\n",
        "DROP VIEW IF EXISTS vaccinModerna ;\n",
        "CREATE VIEW vaccinModerna AS\n",
        "SELECT VFR.vaccin, VDEP.dep, VDEP.n_tot_dose1, VDEP.n_tot_dose2, VDEP.n_tot_dose3, VDEP.n_tot_rappel \n",
        "FROM vaccinFR VFR, vaccinDEP VDEP\n",
        "WHERE VFR.vaccin = VDEP.vaccin AND VDEP.vaccin = 2;\n",
        "```\n",
        "# creation de la vues : les departements avec total vaccin AstraZeneka\n",
        "```sql\n",
        "DROP VIEW IF EXISTS vaccinAstraZ ;\n",
        "CREATE VIEW vaccinAstraZ AS\n",
        "SELECT VFR.vaccin, VDEP.dep, VDEP.n_tot_dose1, VDEP.n_tot_dose2, VDEP.n_tot_dose3, VDEP.n_tot_rappel \n",
        "FROM vaccinFR VFR, vaccinDEP VDEP\n",
        "WHERE VFR.vaccin = VDEP.vaccin AND VDEP.vaccin = 3;\n",
        "```\n",
        "# creation de la vues : total vaccins dans la région 93 : Provence-Alpes-Côte d’Azur \n",
        "```sql\n",
        "DROP VIEW IF EXISTS vaccinREG93 ;\n",
        "CREATE VIEW vaccinREG93 AS\n",
        "SELECT VFR.vaccin, VREG.reg, VREG.n_tot_dose1, VREG.n_tot_dose2, VREG.n_tot_dose3, VREG.n_tot_rappel \n",
        "FROM vaccinFR VFR, vaccinREG VREG\n",
        "WHERE VFR.vaccin = VREG.vaccin AND VREG.reg = 93;\n",
        "```\n",
        "# creation de la vues : total vaccins dans le département 13 : Bouches-du-Rhône\n",
        "```sql\n",
        "CREATE VIEW vaccinDEP13 AS\n",
        "SELECT VFR.vaccin, VDEP.dep, VDEP.n_tot_dose1, VDEP.n_tot_dose2, VDEP.n_tot_dose3, VDEP.n_tot_rappel \n",
        "FROM vaccinFR VFR, vaccinDEP VDEP\n",
        "WHERE VFR.vaccin = VDEP.vaccin AND VDEP.dep = 13;\n",
        "```"
      ],
      "metadata": {
        "id": "3v_kYgFxQnWF"
      }
    }
  ]
}