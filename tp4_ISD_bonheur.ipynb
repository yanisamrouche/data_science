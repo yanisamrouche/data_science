{
  "nbformat": 4,
  "nbformat_minor": 0,
  "metadata": {
    "colab": {
      "name": "tp4_ISD_bonheur.ipynb",
      "provenance": [],
      "collapsed_sections": [],
      "include_colab_link": true
    },
    "kernelspec": {
      "display_name": "Python 3",
      "language": "python",
      "name": "python3"
    },
    "language_info": {
      "codemirror_mode": {
        "name": "ipython",
        "version": 3
      },
      "file_extension": ".py",
      "mimetype": "text/x-python",
      "name": "python",
      "nbconvert_exporter": "python",
      "pygments_lexer": "ipython3",
      "version": "3.8.8"
    }
  },
  "cells": [
    {
      "cell_type": "markdown",
      "metadata": {
        "id": "view-in-github",
        "colab_type": "text"
      },
      "source": [
        "<a href=\"https://colab.research.google.com/github/yanisamrouche/data_science/blob/main/tp4_ISD_bonheur.ipynb\" target=\"_parent\"><img src=\"https://colab.research.google.com/assets/colab-badge.svg\" alt=\"Open In Colab\"/></a>"
      ]
    },
    {
      "cell_type": "markdown",
      "metadata": {
        "id": "Th6KMiyZfOd1"
      },
      "source": [
        "# Introduction à la Science de Données\n",
        "# TP4 - Clustering et visualisation\n",
        "\n",
        "Ce TP s'intéresse au clustering. Les données viennent d'une compétition kaggle sur le [niveau de bonheur dans le monde](https://www.kaggle.com/unsdsn/world-happiness) (si, si, ...)\n",
        "\n",
        "## Indice de Bonheur\n",
        "Dans un premier temps, il faut récupérer les données stockées dans le fichier \"bonheur.csv\". Comme d'habitude, on commence par regarder les données et leur description statistique :"
      ]
    },
    {
      "cell_type": "code",
      "metadata": {
        "colab": {
          "base_uri": "https://localhost:8080/",
          "height": 300
        },
        "id": "w5v_kpBbfOeL",
        "outputId": "d284805d-edd3-48ff-eada-1a6acbe5034e"
      },
      "source": [
        "import pandas as pd\n",
        "donnees = pd.read_csv(\"bonheur.csv\")\n",
        "donnees.describe()\n"
      ],
      "execution_count": 143,
      "outputs": [
        {
          "output_type": "execute_result",
          "data": {
            "text/html": [
              "<div>\n",
              "<style scoped>\n",
              "    .dataframe tbody tr th:only-of-type {\n",
              "        vertical-align: middle;\n",
              "    }\n",
              "\n",
              "    .dataframe tbody tr th {\n",
              "        vertical-align: top;\n",
              "    }\n",
              "\n",
              "    .dataframe thead th {\n",
              "        text-align: right;\n",
              "    }\n",
              "</style>\n",
              "<table border=\"1\" class=\"dataframe\">\n",
              "  <thead>\n",
              "    <tr style=\"text-align: right;\">\n",
              "      <th></th>\n",
              "      <th>Happiness.Rank</th>\n",
              "      <th>Happiness.Score</th>\n",
              "      <th>Whisker.high</th>\n",
              "      <th>Whisker.low</th>\n",
              "      <th>Economy..GDP.per.Capita.</th>\n",
              "      <th>Family</th>\n",
              "      <th>Health..Life.Expectancy.</th>\n",
              "      <th>Freedom</th>\n",
              "      <th>Generosity</th>\n",
              "      <th>Trust..Government.Corruption.</th>\n",
              "      <th>Dystopia.Residual</th>\n",
              "    </tr>\n",
              "  </thead>\n",
              "  <tbody>\n",
              "    <tr>\n",
              "      <th>count</th>\n",
              "      <td>155.000000</td>\n",
              "      <td>155.000000</td>\n",
              "      <td>155.000000</td>\n",
              "      <td>155.000000</td>\n",
              "      <td>155.000000</td>\n",
              "      <td>155.000000</td>\n",
              "      <td>155.000000</td>\n",
              "      <td>155.000000</td>\n",
              "      <td>155.000000</td>\n",
              "      <td>155.000000</td>\n",
              "      <td>155.000000</td>\n",
              "    </tr>\n",
              "    <tr>\n",
              "      <th>mean</th>\n",
              "      <td>78.000000</td>\n",
              "      <td>5.354019</td>\n",
              "      <td>5.452326</td>\n",
              "      <td>5.255713</td>\n",
              "      <td>0.984718</td>\n",
              "      <td>1.188898</td>\n",
              "      <td>0.551341</td>\n",
              "      <td>0.408786</td>\n",
              "      <td>0.246883</td>\n",
              "      <td>0.123120</td>\n",
              "      <td>1.850238</td>\n",
              "    </tr>\n",
              "    <tr>\n",
              "      <th>std</th>\n",
              "      <td>44.888751</td>\n",
              "      <td>1.131230</td>\n",
              "      <td>1.118542</td>\n",
              "      <td>1.145030</td>\n",
              "      <td>0.420793</td>\n",
              "      <td>0.287263</td>\n",
              "      <td>0.237073</td>\n",
              "      <td>0.149997</td>\n",
              "      <td>0.134780</td>\n",
              "      <td>0.101661</td>\n",
              "      <td>0.500028</td>\n",
              "    </tr>\n",
              "    <tr>\n",
              "      <th>min</th>\n",
              "      <td>1.000000</td>\n",
              "      <td>2.693000</td>\n",
              "      <td>2.864884</td>\n",
              "      <td>2.521116</td>\n",
              "      <td>0.000000</td>\n",
              "      <td>0.000000</td>\n",
              "      <td>0.000000</td>\n",
              "      <td>0.000000</td>\n",
              "      <td>0.000000</td>\n",
              "      <td>0.000000</td>\n",
              "      <td>0.377914</td>\n",
              "    </tr>\n",
              "    <tr>\n",
              "      <th>25%</th>\n",
              "      <td>39.500000</td>\n",
              "      <td>4.505500</td>\n",
              "      <td>4.608172</td>\n",
              "      <td>4.374955</td>\n",
              "      <td>0.663371</td>\n",
              "      <td>1.042635</td>\n",
              "      <td>0.369866</td>\n",
              "      <td>0.303677</td>\n",
              "      <td>0.154106</td>\n",
              "      <td>0.057271</td>\n",
              "      <td>1.591291</td>\n",
              "    </tr>\n",
              "    <tr>\n",
              "      <th>50%</th>\n",
              "      <td>78.000000</td>\n",
              "      <td>5.279000</td>\n",
              "      <td>5.370032</td>\n",
              "      <td>5.193152</td>\n",
              "      <td>1.064578</td>\n",
              "      <td>1.253918</td>\n",
              "      <td>0.606042</td>\n",
              "      <td>0.437454</td>\n",
              "      <td>0.231538</td>\n",
              "      <td>0.089848</td>\n",
              "      <td>1.832910</td>\n",
              "    </tr>\n",
              "    <tr>\n",
              "      <th>75%</th>\n",
              "      <td>116.500000</td>\n",
              "      <td>6.101500</td>\n",
              "      <td>6.194600</td>\n",
              "      <td>6.006527</td>\n",
              "      <td>1.318027</td>\n",
              "      <td>1.414316</td>\n",
              "      <td>0.723008</td>\n",
              "      <td>0.516561</td>\n",
              "      <td>0.323762</td>\n",
              "      <td>0.153296</td>\n",
              "      <td>2.144654</td>\n",
              "    </tr>\n",
              "    <tr>\n",
              "      <th>max</th>\n",
              "      <td>155.000000</td>\n",
              "      <td>7.537000</td>\n",
              "      <td>7.622030</td>\n",
              "      <td>7.479556</td>\n",
              "      <td>1.870766</td>\n",
              "      <td>1.610574</td>\n",
              "      <td>0.949492</td>\n",
              "      <td>0.658249</td>\n",
              "      <td>0.838075</td>\n",
              "      <td>0.464308</td>\n",
              "      <td>3.117485</td>\n",
              "    </tr>\n",
              "  </tbody>\n",
              "</table>\n",
              "</div>"
            ],
            "text/plain": [
              "       Happiness.Rank  ...  Dystopia.Residual\n",
              "count      155.000000  ...         155.000000\n",
              "mean        78.000000  ...           1.850238\n",
              "std         44.888751  ...           0.500028\n",
              "min          1.000000  ...           0.377914\n",
              "25%         39.500000  ...           1.591291\n",
              "50%         78.000000  ...           1.832910\n",
              "75%        116.500000  ...           2.144654\n",
              "max        155.000000  ...           3.117485\n",
              "\n",
              "[8 rows x 11 columns]"
            ]
          },
          "metadata": {},
          "execution_count": 143
        }
      ]
    },
    {
      "cell_type": "markdown",
      "metadata": {
        "id": "qjiCDDEsfOeU"
      },
      "source": [
        "Le but initial de cette compétition était de prédire le *score de bonheur* (colonne *Happiness.Score*) en fonction des autres (sauf celle du *classement de bonheur*, *Happiness.Rank*).\n",
        "\n",
        "Nous allons prendre une approche différente et travailler à regrouper les données en clusters et voir quelle information en tirer.\n",
        "\n",
        "La première chose à faire est de créer une variable $Clean$ qui ne contient que les colonnes utiles.\n",
        "\n",
        "**Question.** Supprimer les colonnes *Happiness.Rank*, *Whisker.high*, et *Whisker.low* et stocker le résultat dans une dataframe s'appellant *Clean*."
      ]
    },
    {
      "cell_type": "code",
      "metadata": {
        "colab": {
          "base_uri": "https://localhost:8080/",
          "height": 300
        },
        "id": "ErxO6TI8fOeW",
        "outputId": "6c29dead-428f-4733-e9a8-487a7bea8220"
      },
      "source": [
        "# A vous\n",
        "columns = ['Happiness.Rank', 'Whisker.high', 'Whisker.low']\n",
        "Clean = donnees.drop(columns, axis=1)\n",
        "Clean.describe()\n"
      ],
      "execution_count": null,
      "outputs": [
        {
          "output_type": "execute_result",
          "data": {
            "text/html": [
              "<div>\n",
              "<style scoped>\n",
              "    .dataframe tbody tr th:only-of-type {\n",
              "        vertical-align: middle;\n",
              "    }\n",
              "\n",
              "    .dataframe tbody tr th {\n",
              "        vertical-align: top;\n",
              "    }\n",
              "\n",
              "    .dataframe thead th {\n",
              "        text-align: right;\n",
              "    }\n",
              "</style>\n",
              "<table border=\"1\" class=\"dataframe\">\n",
              "  <thead>\n",
              "    <tr style=\"text-align: right;\">\n",
              "      <th></th>\n",
              "      <th>Happiness.Score</th>\n",
              "      <th>Economy..GDP.per.Capita.</th>\n",
              "      <th>Family</th>\n",
              "      <th>Health..Life.Expectancy.</th>\n",
              "      <th>Freedom</th>\n",
              "      <th>Generosity</th>\n",
              "      <th>Trust..Government.Corruption.</th>\n",
              "      <th>Dystopia.Residual</th>\n",
              "    </tr>\n",
              "  </thead>\n",
              "  <tbody>\n",
              "    <tr>\n",
              "      <th>count</th>\n",
              "      <td>155.000000</td>\n",
              "      <td>155.000000</td>\n",
              "      <td>155.000000</td>\n",
              "      <td>155.000000</td>\n",
              "      <td>155.000000</td>\n",
              "      <td>155.000000</td>\n",
              "      <td>155.000000</td>\n",
              "      <td>155.000000</td>\n",
              "    </tr>\n",
              "    <tr>\n",
              "      <th>mean</th>\n",
              "      <td>5.354019</td>\n",
              "      <td>0.984718</td>\n",
              "      <td>1.188898</td>\n",
              "      <td>0.551341</td>\n",
              "      <td>0.408786</td>\n",
              "      <td>0.246883</td>\n",
              "      <td>0.123120</td>\n",
              "      <td>1.850238</td>\n",
              "    </tr>\n",
              "    <tr>\n",
              "      <th>std</th>\n",
              "      <td>1.131230</td>\n",
              "      <td>0.420793</td>\n",
              "      <td>0.287263</td>\n",
              "      <td>0.237073</td>\n",
              "      <td>0.149997</td>\n",
              "      <td>0.134780</td>\n",
              "      <td>0.101661</td>\n",
              "      <td>0.500028</td>\n",
              "    </tr>\n",
              "    <tr>\n",
              "      <th>min</th>\n",
              "      <td>2.693000</td>\n",
              "      <td>0.000000</td>\n",
              "      <td>0.000000</td>\n",
              "      <td>0.000000</td>\n",
              "      <td>0.000000</td>\n",
              "      <td>0.000000</td>\n",
              "      <td>0.000000</td>\n",
              "      <td>0.377914</td>\n",
              "    </tr>\n",
              "    <tr>\n",
              "      <th>25%</th>\n",
              "      <td>4.505500</td>\n",
              "      <td>0.663371</td>\n",
              "      <td>1.042635</td>\n",
              "      <td>0.369866</td>\n",
              "      <td>0.303677</td>\n",
              "      <td>0.154106</td>\n",
              "      <td>0.057271</td>\n",
              "      <td>1.591291</td>\n",
              "    </tr>\n",
              "    <tr>\n",
              "      <th>50%</th>\n",
              "      <td>5.279000</td>\n",
              "      <td>1.064578</td>\n",
              "      <td>1.253918</td>\n",
              "      <td>0.606042</td>\n",
              "      <td>0.437454</td>\n",
              "      <td>0.231538</td>\n",
              "      <td>0.089848</td>\n",
              "      <td>1.832910</td>\n",
              "    </tr>\n",
              "    <tr>\n",
              "      <th>75%</th>\n",
              "      <td>6.101500</td>\n",
              "      <td>1.318027</td>\n",
              "      <td>1.414316</td>\n",
              "      <td>0.723008</td>\n",
              "      <td>0.516561</td>\n",
              "      <td>0.323762</td>\n",
              "      <td>0.153296</td>\n",
              "      <td>2.144654</td>\n",
              "    </tr>\n",
              "    <tr>\n",
              "      <th>max</th>\n",
              "      <td>7.537000</td>\n",
              "      <td>1.870766</td>\n",
              "      <td>1.610574</td>\n",
              "      <td>0.949492</td>\n",
              "      <td>0.658249</td>\n",
              "      <td>0.838075</td>\n",
              "      <td>0.464308</td>\n",
              "      <td>3.117485</td>\n",
              "    </tr>\n",
              "  </tbody>\n",
              "</table>\n",
              "</div>"
            ],
            "text/plain": [
              "       Happiness.Score  ...  Dystopia.Residual\n",
              "count       155.000000  ...         155.000000\n",
              "mean          5.354019  ...           1.850238\n",
              "std           1.131230  ...           0.500028\n",
              "min           2.693000  ...           0.377914\n",
              "25%           4.505500  ...           1.591291\n",
              "50%           5.279000  ...           1.832910\n",
              "75%           6.101500  ...           2.144654\n",
              "max           7.537000  ...           3.117485\n",
              "\n",
              "[8 rows x 8 columns]"
            ]
          },
          "metadata": {},
          "execution_count": 94
        }
      ]
    },
    {
      "cell_type": "markdown",
      "metadata": {
        "id": "dUCki_d6fOej"
      },
      "source": [
        "On commence par regarder les corrélations entre les 8 attributs restants et le score de bonheur :"
      ]
    },
    {
      "cell_type": "code",
      "metadata": {
        "colab": {
          "base_uri": "https://localhost:8080/",
          "height": 695
        },
        "id": "eScL6OpJfOel",
        "outputId": "a8ac4b7c-57f1-4062-fc6c-08bdb17bdd22"
      },
      "source": [
        "cor = Clean.corr() # calcul de la matrice de correlation \n",
        "\n",
        "\n",
        "import matplotlib.pyplot as plt\n",
        "%matplotlib inline\n",
        "\n",
        "plt.matshow(cor)\n",
        "plt.xticks(range(len(cor.columns)), cor.columns, rotation=90)\n",
        "plt.yticks(range(len(cor.columns)), cor.columns)"
      ],
      "execution_count": null,
      "outputs": [
        {
          "output_type": "execute_result",
          "data": {
            "text/plain": [
              "([<matplotlib.axis.YTick at 0x7f7bc4291990>,\n",
              "  <matplotlib.axis.YTick at 0x7f7bc41a83d0>,\n",
              "  <matplotlib.axis.YTick at 0x7f7bc4316110>,\n",
              "  <matplotlib.axis.YTick at 0x7f7bc40c7910>,\n",
              "  <matplotlib.axis.YTick at 0x7f7bc40c7e50>,\n",
              "  <matplotlib.axis.YTick at 0x7f7bc40bfd90>,\n",
              "  <matplotlib.axis.YTick at 0x7f7bc40b98d0>,\n",
              "  <matplotlib.axis.YTick at 0x7f7bc40cc410>],\n",
              " [Text(0, 0, 'Happiness.Score'),\n",
              "  Text(0, 0, 'Economy..GDP.per.Capita.'),\n",
              "  Text(0, 0, 'Family'),\n",
              "  Text(0, 0, 'Health..Life.Expectancy.'),\n",
              "  Text(0, 0, 'Freedom'),\n",
              "  Text(0, 0, 'Generosity'),\n",
              "  Text(0, 0, 'Trust..Government.Corruption.'),\n",
              "  Text(0, 0, 'Dystopia.Residual')])"
            ]
          },
          "metadata": {},
          "execution_count": 95
        },
        {
          "output_type": "display_data",
          "data": {
            "image/png": "[encoded data removed]",
            "text/plain": [
              "<Figure size 288x288 with 1 Axes>"
            ]
          },
          "metadata": {
            "needs_background": "light"
          }
        }
      ]
    },
    {
      "cell_type": "markdown",
      "metadata": {
        "id": "QcwQj49WfOew"
      },
      "source": [
        "**Question** Quelles sont les colonnes les plus corrélées ? Quelle(s) colonne(s)semble(nt) le(s) plus corrélée(s) au score de bonheur ? Quelle(s) est/sont celle(s) qui le sont le moins ?"
      ]
    },
    {
      "cell_type": "markdown",
      "metadata": {
        "id": "rttZJpMHpG6c"
      },
      "source": [
        "## Associer des étiquettes à des intervalles de bonheur\n",
        "\n",
        "Si nous séparions le happiness score en quatre percentiles, nous pourrions attribuer une étiquette àchaque pays correspondant à ce happiness score ('très malheureux', 'malheureux', 'heureux' et 'très heureux' donc sur une échelle de 1 à 4 (ou de 0 à 3...).\n",
        "\n",
        "Calculer les 4 percentiles sur la base de toutes les données, créer un dictionnaire qui, à chaque percentile, associe son intitulé : appelons cela des classes de bonheur. Créer et calculer, enfin, un vecteur ``B1'' de taille le nombre de données (pays = lignes), qui indique pour chaque pays le numéro de sa classe en fonction de son appartenance au percentile associé, en fonction donc de son score de happiness."
      ]
    },
    {
      "cell_type": "code",
      "metadata": {
        "id": "d1uiHN4apG6d",
        "colab": {
          "base_uri": "https://localhost:8080/"
        },
        "outputId": "66f77d87-a63d-41e1-f89f-e595d45ce628"
      },
      "source": [
        "# a vous\n",
        "import numpy as np\n",
        "percentile1 = np.percentile(Clean['Happiness.Score'], 25)\n",
        "percentile2 = np.percentile(Clean['Happiness.Score'], 50)\n",
        "percentile3 = np.percentile(Clean['Happiness.Score'], 75)\n",
        "percentile4 = np.percentile(Clean['Happiness.Score'], 100)\n",
        "dico = {'très malheureux': percentile1,'malheureux': percentile2, 'heureux': percentile3,'très heureux': percentile4}\n",
        "quart = 0\n",
        "demi = 0\n",
        "trois_demi = 0\n",
        "one = 0\n",
        "array = []\n",
        "for ligne in Clean['Happiness.Score']:\n",
        "    if(ligne<=percentile1):\n",
        "        quart  = quart+1\n",
        "        array.append(0)\n",
        "    if(ligne>=percentile1 and ligne<=percentile2):\n",
        "        demi = demi+1\n",
        "        array.append(1)\n",
        "    if(ligne>percentile2 and ligne<=percentile3):\n",
        "        trois_demi = trois_demi+1\n",
        "        array.append(2)\n",
        "    if(ligne>percentile3):\n",
        "        one = one+1\n",
        "        array.append(3)\n",
        "print(array)\n",
        "print(len(array))"
      ],
      "execution_count": null,
      "outputs": [
        {
          "output_type": "stream",
          "name": "stdout",
          "text": [
            "[3, 3, 3, 3, 3, 3, 3, 3, 3, 3, 3, 3, 3, 3, 3, 3, 3, 3, 3, 3, 3, 3, 3, 3, 3, 3, 3, 3, 3, 3, 3, 3, 3, 3, 3, 3, 3, 3, 3, 2, 2, 2, 2, 2, 2, 2, 2, 2, 2, 2, 2, 2, 2, 2, 2, 2, 2, 2, 2, 2, 2, 2, 2, 2, 2, 2, 2, 2, 2, 2, 2, 2, 2, 2, 2, 2, 2, 1, 1, 1, 1, 1, 1, 1, 1, 1, 1, 1, 1, 1, 1, 1, 1, 1, 1, 1, 1, 1, 1, 1, 1, 1, 1, 1, 1, 1, 1, 1, 1, 1, 1, 1, 1, 1, 1, 1, 0, 0, 0, 0, 0, 0, 0, 0, 0, 0, 0, 0, 0, 0, 0, 0, 0, 0, 0, 0, 0, 0, 0, 0, 0, 0, 0, 0, 0, 0, 0, 0, 0, 0, 0, 0, 0, 0, 0]\n",
            "155\n"
          ]
        }
      ]
    },
    {
      "cell_type": "markdown",
      "metadata": {
        "id": "V-w4VueopG6e"
      },
      "source": [
        "Représenter, sous forme graphique de votre choix (réflechissez avant de coder !), l'attribution des classes aux pays."
      ]
    },
    {
      "cell_type": "code",
      "metadata": {
        "id": "MNxVbxw2pG6f"
      },
      "source": [
        "# a vous"
      ],
      "execution_count": null,
      "outputs": []
    },
    {
      "cell_type": "markdown",
      "metadata": {
        "id": "gglUPZHtfOfZ"
      },
      "source": [
        "## Clustering (partie à rendre, jusqu'à stabilité)\n",
        "\n",
        "Nous cherchons maintenant à voir si, étant données les colonnes (variables) disponibles, mais sans le score de bonheur (happiness score) dans l'apprentissage, nous pouvons approcher la classification faite et visualisée ci-avant sur la base du happiness score. Autrement dit, nous cherchons à vérifier dans quelle mesure ce score de bonheur est issu des autres variables observées. Pour cela, nous allons utiliser l'algorithme de classification non-supervisée, $k$-moyennes, qui ne considérera pas du tout le score de bonheur (puisque d'une certaine manière c'est ce que nous cherchons à retrouver).\n",
        "\n",
        "En scikit-learn, l'algorithme des kmeans est géré par la classe *sklearn.cluster.KMeans* dont la [documentation](https://scikit-learn.org/stable/modules/generated/sklearn.cluster.KMeans.html) peu s'avérer très utile.\n",
        "\n",
        "**Question.**\n",
        "1. Stocker dans une variable *X* les 7 attributs descriptifs (on enlève Happiness Score que nous allons essayer de retrouver à l'intérieur des clusters)\n",
        "2. Réaliser un clustering à l'aide de l'algorithme des k-means sur l'ensemble de ces données, avec un *k* raisonable.\n",
        "3. Représenter visuellement l'attribution de chaque classe à chaque pays.\n",
        "4. Au regard de l'objectif présenté, analyser et comparer **visuellement** le résultat précédent qui était basé uniquement sur les percentiles liés à l'indice de bonheur (*Happiness.Score*) qui n'a pas servi au clustering. "
      ]
    },
    {
      "cell_type": "code",
      "metadata": {
        "id": "Svg56ZzZpG6i",
        "colab": {
          "base_uri": "https://localhost:8080/",
          "height": 279
        },
        "outputId": "ffb7a009-a2bb-4608-adc7-0579de42284a"
      },
      "source": [
        "# A vous\n",
        "from sklearn.cluster import KMeans\n",
        "import matplotlib.pyplot as plt\n",
        "#Stocker dans X les 7 attributs descriptifs\n",
        "X = Clean.drop(['Country','Happiness.Score'], axis=1);\n",
        "X = X.to_numpy()\n",
        "#réalisation d'un clustering\n",
        "kmeans = KMeans(n_clusters=4, random_state=0).fit(X)\n",
        "class_0, class_1, class_2, class_3 = 0,0,0,0\n",
        "for i in kmeans.labels_:\n",
        "  if (i==0):\n",
        "    class_0 +=1\n",
        "  if (i==1):\n",
        "    class_1 +=1\n",
        "  if (i==2):\n",
        "    class_2 +=1\n",
        "  if (i==3):\n",
        "    class_3 +=1\n",
        " # x-coordinates of left sides of bars\n",
        "left = [0,1,2,3]\n",
        " \n",
        "# heights of bars\n",
        "height = [class_0,class_1,class_2,class_3]\n",
        " \n",
        "# labels for bars\n",
        "tick_label = ['very-sad', 'sad', 'happy', 'very-happy']\n",
        " \n",
        "# plotting a bar chart\n",
        "plt.bar(left, height, tick_label = tick_label,\n",
        "        width = 0.8, color = ['red', 'grey','purple','orange'])\n",
        " \n",
        "# naming the x-axis\n",
        "plt.xlabel('happiness')\n",
        "# naming the y-axis\n",
        "plt.ylabel('countries')\n",
        "\n",
        " \n",
        "# function to show the plot\n",
        "plt.show()"
      ],
      "execution_count": null,
      "outputs": [
        {
          "output_type": "display_data",
          "data": {
            "image/png": "[encoded data removed]",
            "text/plain": [
              "<Figure size 432x288 with 1 Axes>"
            ]
          },
          "metadata": {
            "needs_background": "light"
          }
        }
      ]
    },
    {
      "cell_type": "markdown",
      "metadata": {
        "id": "_gmRkFrTMo2s"
      },
      "source": [
        "### Evaluation de la qualité\n",
        "\n",
        "Pour évaluer **quantitativement** la qualité d'un clustering, l'analyse **visuelle** précédente ne suffit plus : nous devons quantifier la qualité du clustering en se basant sur des mesures adéqautes. \n",
        "\n",
        "Q1.  Nous savons (depuis le cours) que nous devons regarder les distances intra-classes et inter-classes. Mais avant de faire cela, nous ne pouvons  pas nous empêcher de regarder en détail ce que donne notre clustering à l'aide de la partie supervisée des données (avouez que ce serait dommage, non ? C'est déjà ce que nous avions abordé avec nos percentiles sur l'indice du bonheur, maintenant nous allons nous basé sur le rang de bonheur !).\n",
        "\n",
        "L'idée est donc la suivante : puisque l'on connaît le classement de chaque pays (colonne *Happiness.rank* initialement présente dans les données), on peut regarder pays par pays et regarder combien sont dans la bonne classe (ou dans la mauvaise). On va considérer qu'un pays est dans la bonne classe si le précédent dans le classement et le suivant sont **tous les deux** dans la même classe que lui ; il est dans la mauvaise classe sinon."
      ]
    },
    {
      "cell_type": "code",
      "metadata": {
        "id": "sFmpLYU7SiVi",
        "colab": {
          "base_uri": "https://localhost:8080/"
        },
        "outputId": "cd1a5652-cc93-46f5-9b32-080d4e58df21"
      },
      "source": [
        "# A vous\n",
        "array = kmeans.labels_\n",
        "err = []\n",
        "for i in range(1,len(array)-2):\n",
        "  if(array[i] != array[i-1] or array[i] != array[i+1]):\n",
        "    err.append(array[i])\n",
        "print(err)\n",
        "print(\"le nombre de pays dans la mauvaise classe : \", len(err))\n",
        "print(\"le nombre de pays dans la bonne classe : \", len(array) - len(err))"
      ],
      "execution_count": null,
      "outputs": [
        {
          "output_type": "stream",
          "name": "stdout",
          "text": [
            "[1, 3, 3, 1, 1, 3, 1, 3, 1, 3, 3, 2, 1, 1, 3, 1, 1, 2, 3, 1, 1, 3, 3, 1, 1, 3, 2, 1, 3, 1, 1, 3, 1, 3, 1, 1, 2, 1, 1, 2, 1, 1, 2, 1, 1, 2, 1, 1, 3, 2, 1, 1, 3, 1, 2, 1, 1, 2, 1, 0, 2, 3, 2, 3, 0, 2, 2, 0, 2, 2, 1, 0, 2, 2, 3, 0, 2, 2, 0, 2, 0, 0, 2, 0, 0, 2, 2, 0, 2, 2, 0, 0, 2, 0, 0, 2, 0, 0, 2, 0, 0, 2, 0, 0, 2, 2]\n",
            "le nombre de pays dans la mauvaise classe :  106\n",
            "le nombre de pays dans la bonne classe :  49\n"
          ]
        }
      ]
    },
    {
      "cell_type": "markdown",
      "metadata": {
        "id": "iq1RmzK2ViDY"
      },
      "source": [
        "Q2. Cette façon de faire n'est toutefois pas satisfaisante : d'abord elle repose sur l'utilisation d'une information \"supervisée\" ce qui n'est pas possible normalement~; ensuite parce que nous ne savons pas comment le score est calculé : les différents critères sont sans doute pondérés pour l'obtenir. \n",
        "\n",
        "L'idée ici est de regarder dans un premier temps la distance moyenne des éléments dans chacun des clusters (calcul de l'homogénéité de chaque cluster -- appelée aussi intra-classes). En déduire l'homogénéité moyenne du clustering obtenu. "
      ]
    },
    {
      "cell_type": "code",
      "metadata": {
        "id": "h1aC6Q8-_Wz5"
      },
      "source": [
        "import numpy as np\n",
        "def get_cluster_index(num_cluster, labels):\n",
        "  return np.where(labels==num_cluster)[0]\n",
        " "
      ],
      "execution_count": null,
      "outputs": []
    },
    {
      "cell_type": "code",
      "metadata": {
        "id": "ssQYC4IRAzkQ"
      },
      "source": [
        "def get_Bary_Center(num_cluster, labels):\n",
        "  indexs = get_cluster_index(num_cluster, labels)\n",
        "  m = np.array(X[indexs[0]])\n",
        "  for i in range(1,len(indexs)-1):\n",
        "    m = m+np.array(X[indexs[i]])\n",
        "  return np.array(m)/len(indexs)"
      ],
      "execution_count": null,
      "outputs": []
    },
    {
      "cell_type": "code",
      "metadata": {
        "colab": {
          "base_uri": "https://localhost:8080/"
        },
        "id": "n_6NkT4mmgc4",
        "outputId": "5d282b46-9b68-4081-faa9-1dd7183b6a96"
      },
      "source": [
        "print(kmeans.cluster_centers_[0])\n",
        "print(\"----------------------------\")\n",
        "print(get_Bary_Center(0,kmeans.labels_))"
      ],
      "execution_count": null,
      "outputs": [
        {
          "output_type": "stream",
          "name": "stdout",
          "text": [
            "[0.45201849 0.91108697 0.26249626 0.3174509  0.23983232 0.09091954\n",
            " 1.81087018]\n",
            "----------------------------\n",
            "[0.45201849 0.91108697 0.26200224 0.31032348 0.23244083 0.08943098\n",
            " 1.75650163]\n"
          ]
        }
      ]
    },
    {
      "cell_type": "code",
      "metadata": {
        "id": "g5I6NuTcHCz8",
        "colab": {
          "base_uri": "https://localhost:8080/"
        },
        "outputId": "66c07bf3-a51e-4f02-d644-ef90f855e55c"
      },
      "source": [
        "def homogenite(k_means ,num_cluster, labels):\n",
        " # bary_center = get_Bary_Center(num_cluster, labels)\n",
        "  bary_center = k_means.cluster_centers_[num_cluster]\n",
        "  indexs = get_cluster_index(num_cluster, labels)\n",
        "  h = np.sqrt(np.sum(np.square(np.array(X[indexs[0]])-bary_center)))\n",
        "  for i in range(1,len(indexs)-1):\n",
        "    h = h + np.sqrt(np.sum(np.square(np.array(X[indexs[i]])-bary_center)))\n",
        "  return np.array(h)/len(indexs)\n",
        "homogenite(kmeans, 0, kmeans.labels_)"
      ],
      "execution_count": null,
      "outputs": [
        {
          "output_type": "execute_result",
          "data": {
            "text/plain": [
              "0.4290046518309173"
            ]
          },
          "metadata": {},
          "execution_count": 103
        }
      ]
    },
    {
      "cell_type": "code",
      "metadata": {
        "colab": {
          "base_uri": "https://localhost:8080/"
        },
        "id": "AiW7n4KAKWQ2",
        "outputId": "4b61e4db-f2c0-42c7-9a66-2fbde1fa0b70"
      },
      "source": [
        "scores = []\n",
        "for i in range(4):\n",
        " s = homogenite(kmeans, i, kmeans.labels_)\n",
        " scores.append(s)\n",
        "print(np.array(scores).mean())"
      ],
      "execution_count": null,
      "outputs": [
        {
          "output_type": "stream",
          "name": "stdout",
          "text": [
            "0.4561462178994642\n"
          ]
        }
      ]
    },
    {
      "cell_type": "code",
      "metadata": {
        "colab": {
          "base_uri": "https://localhost:8080/"
        },
        "id": "VngNkzkRKo4b",
        "outputId": "884cf878-c32b-4dca-b615-b06cef1694b5"
      },
      "source": [
        "def mean_dispersion(k_means, n_cl):\n",
        "  mean = []\n",
        "  for i in range(n_cl):\n",
        "    mean.append(homogenite(k_means,i, k_means.labels_))\n",
        "  return np.array(mean).mean()\n",
        "mean_dispersion(kmeans, 4)"
      ],
      "execution_count": null,
      "outputs": [
        {
          "output_type": "execute_result",
          "data": {
            "text/plain": [
              "0.4561462178994642"
            ]
          },
          "metadata": {},
          "execution_count": 105
        }
      ]
    },
    {
      "cell_type": "markdown",
      "metadata": {
        "id": "tebqRQ_2OlUP"
      },
      "source": [
        ""
      ]
    },
    {
      "cell_type": "markdown",
      "metadata": {
        "id": "Om7H0yRecbPn"
      },
      "source": [
        "Q3. Il faut maintenant calculer la distance entre cluster (séparabilité). Pour cela, une façon de faire est de calculer le barycentre de chacun des cluster, puis de calculer la distance entre chacun de ces centre de gravité deux par deux. Il est possible que vous trouviez dans la documentation une façon de récupérer les coordonnées des barycentre directement à partir du classifieur (on dit ça, on dit rien). Calculer ainsi la séparabilité entre chaque couple de cluster, et terminer par le score global de séparabilité du clustering."
      ]
    },
    {
      "cell_type": "code",
      "metadata": {
        "id": "R4QTOnwjNkD5"
      },
      "source": [
        "def ecart(k_means, num_cluster1, num_cluster2):\n",
        "  #dist = np.sqrt(np.sum(np.square(np.array(get_Bary_Center(num_cluster1, kmeans.labels_)) - np.array(get_Bary_Center(num_cluster2, kmeans.labels_)))))\n",
        "  dist = np.sqrt(np.sum(np.square(np.array(k_means.cluster_centers_[num_cluster1]) - np.array(k_means.cluster_centers_[num_cluster2]))))\n",
        "  return dist"
      ],
      "execution_count": null,
      "outputs": []
    },
    {
      "cell_type": "code",
      "metadata": {
        "colab": {
          "base_uri": "https://localhost:8080/"
        },
        "id": "be8SxTXEPhSW",
        "outputId": "fc756097-bd70-4598-a9ae-f827de5b88fc"
      },
      "source": [
        "def mean_ecart(k_means, k):\n",
        "  ec = 0\n",
        "  for i in range(k):\n",
        "    for j in range(i+1,k):\n",
        "      ec = ec + ecart(k_means,i,j)\n",
        "  return 2*ec/(k*(k-1))\n",
        "print(mean_ecart(kmeans, 4))"
      ],
      "execution_count": null,
      "outputs": [
        {
          "output_type": "stream",
          "name": "stdout",
          "text": [
            "1.038845444947256\n"
          ]
        }
      ]
    },
    {
      "cell_type": "markdown",
      "metadata": {
        "id": "pMgwISJrpG6l"
      },
      "source": [
        "Q4. Calculer maintenant le score de silhouette de chaque donnée de l'échantillon. Quelle est la proportion de silhouettes négatives ? Qu'est-ce que cela signifie ?"
      ]
    },
    {
      "cell_type": "code",
      "metadata": {
        "id": "TDmicMGSpG6l"
      },
      "source": [
        "def a(x, num_cluster, labels):\n",
        "  indexs = get_cluster_index(num_cluster, labels)\n",
        "  d = 0\n",
        "  for i in range(1,len(indesx)-1):\n",
        "    d = d + ecart(x,i)\n",
        "  return (1/(len(indexs)-1))*d"
      ],
      "execution_count": null,
      "outputs": []
    },
    {
      "cell_type": "code",
      "metadata": {
        "id": "JSXESlpVg5U2"
      },
      "source": [
        "def b(x, num_cluster, labels, nbr_cl):\n",
        "  distances = []\n",
        "  for i in range(nbr_cl):\n",
        "    if(i != num_cluster):\n",
        "      d = 0\n",
        "      indexs = get_cluster_index(i, labels)\n",
        "      for j in range(1,len(indesx)-1):\n",
        "        d = d + ecart(x,j)\n",
        "      d = d/(len(indexs))\n",
        "      distances.append(d)\n",
        "  return np.min(distances)"
      ],
      "execution_count": null,
      "outputs": []
    },
    {
      "cell_type": "code",
      "metadata": {
        "id": "Uch4mJkmma1m"
      },
      "source": [
        "def s(x, num_cluster, nbr_cl,labels):\n",
        "  b = b(x,num_cluster,labels, nbr_cl)\n",
        "  a = a(x,num_cluster,labels)\n",
        "  if(b>a):\n",
        "    return (b-a)/b\n",
        "  else:\n",
        "    return (b-a)/a"
      ],
      "execution_count": null,
      "outputs": []
    },
    {
      "cell_type": "code",
      "metadata": {
        "colab": {
          "base_uri": "https://localhost:8080/"
        },
        "id": "YAe2EjPMnyQx",
        "outputId": "2bbd5f0a-a50c-41cb-bb55-698358eb4cc4"
      },
      "source": [
        "from sklearn import metrics\n",
        "metrics.silhouette_score(X, kmeans.labels_, metric='euclidean')"
      ],
      "execution_count": null,
      "outputs": [
        {
          "output_type": "execute_result",
          "data": {
            "text/plain": [
              "0.29400994040930944"
            ]
          },
          "metadata": {},
          "execution_count": 120
        }
      ]
    },
    {
      "cell_type": "code",
      "metadata": {
        "colab": {
          "base_uri": "https://localhost:8080/"
        },
        "id": "hxWhODAsPQN3",
        "outputId": "6aa65a35-6d10-4f33-f477-5dcdc9d36d85"
      },
      "source": [
        "from sklearn import metrics\n",
        "proportion_négatives = 0;\n",
        "array_samples = metrics.silhouette_samples(X,kmeans.labels_, metric='euclidean')\n",
        "for i in array_samples:\n",
        "  if(i < 0):\n",
        "    proportion_négatives+=1\n",
        "print(\"la proportion de silhouettes négatives est : \", proportion_négatives)\n",
        "print(\"la proportion de silhouettes positives est : \", len(kmeans.labels_) - proportion_négatives)"
      ],
      "execution_count": null,
      "outputs": [
        {
          "output_type": "stream",
          "name": "stdout",
          "text": [
            "la proportion de silhouettes négatives est :  10\n",
            "la proportion de silhouettes positives est :  145\n",
            "ration pos/nég :  15.5\n"
          ]
        }
      ]
    },
    {
      "cell_type": "markdown",
      "metadata": {
        "id": "unaBwYojk_BW"
      },
      "source": [
        "Q5. Refaire les Q2, Q3 et Q4 pour d'autres valeurs de 𝑘 (par exemple 𝑘=2,5,10) : Quel 𝑘\n",
        "vous semble meilleur ?\n"
      ]
    },
    {
      "cell_type": "code",
      "metadata": {
        "id": "Mhh-BeW4pG6n",
        "colab": {
          "base_uri": "https://localhost:8080/"
        },
        "outputId": "cf56baf2-b547-4a83-f11f-d113ad9d8da1"
      },
      "source": [
        "# A vous\n",
        "X_ = Clean.drop(['Country','Happiness.Score'], axis=1);\n",
        "X_ = X_.to_numpy()\n",
        "K = [2, 5, 10]\n",
        "results = []\n",
        "for k in K:\n",
        "  print(\"pour k=\",k)\n",
        "  kmeans_ = KMeans(n_clusters=k, random_state=0).fit(X_)\n",
        "  print(\"l'homogénéité moyenne du clustering obtenu, séparabilité du clustering, le score de silhouette\")\n",
        "  Q2 = mean_dispersion(kmeans_,k)\n",
        "  results.append(Q2)\n",
        "  Q3 = mean_ecart(kmeans_,k)\n",
        "  results.append(Q3)\n",
        "  Q4 = metrics.silhouette_score(X_, kmeans_.labels_, metric='euclidean')\n",
        "  results.append(Q4)\n",
        "  print(results)\n",
        "  results.clear()\n",
        "  print(\"-----------------------------------------------------------------------------------------------------\")\n",
        "\n",
        "\n",
        "\n"
      ],
      "execution_count": null,
      "outputs": [
        {
          "output_type": "stream",
          "name": "stdout",
          "text": [
            "pour k= 2\n",
            "l'homogénéité moyenne du clustering obtenu, séparabilité du clustering, le score de silhouette\n",
            "[0.5741781951862396, 0.9104689706126621, 0.311966726579304]\n",
            "-----------------------------------------------------------------------------------------------------\n",
            "pour k= 5\n",
            "l'homogénéité moyenne du clustering obtenu, séparabilité du clustering, le score de silhouette\n",
            "[0.42682212127405855, 1.1040808645140816, 0.27230847001252706]\n",
            "-----------------------------------------------------------------------------------------------------\n",
            "pour k= 10\n",
            "l'homogénéité moyenne du clustering obtenu, séparabilité du clustering, le score de silhouette\n",
            "[0.3289975059476, 1.079681972112643, 0.2208874284572433]\n",
            "-----------------------------------------------------------------------------------------------------\n"
          ]
        }
      ]
    },
    {
      "cell_type": "markdown",
      "metadata": {
        "id": "bC8HOj7mcsjH"
      },
      "source": [
        "Q6. Finalement, nous pouvons regarder chacun des pays que nous avions noté comme \"mal classé\" en Q1, et regarder leur distance avec chacun des barycentres. Est-ce que ces pays se trouve à une distance presque égale à 2 (ou plus) barycentre ? Qu'est-ce que cela nous apprend sur la façon de calculer le score de bonheur ?"
      ]
    },
    {
      "cell_type": "code",
      "metadata": {
        "id": "MhItesSadUA5"
      },
      "source": [
        "# A vous\n"
      ],
      "execution_count": null,
      "outputs": []
    },
    {
      "cell_type": "markdown",
      "metadata": {
        "id": "cIAK4uInpG6o"
      },
      "source": [
        "### Etude de la stabilité\n",
        "\n",
        "Nous pouvons étudier la stabilité d'un algorithme de clustering pour un échantillon donné en observant la variation des mesures de qualité ci-avant, en fonction de la variation de l'échantillon et/ou de l'initialisation. Ici, nous proposons d'étudier cette stabilité en procédant comme suit:\n",
        "\n",
        "Répéter 20 fois (avec le meilleur $k$ trouvé précédemment):\n",
        "1. Prendre 80% de l'échantillon initial\n",
        "2. Lancer l'algorithmede clustering \n",
        "3. Calculer homogénéité $H$, séparabilité $S$, l'indice de Davis-Bouldin ($D_b$) et la proportion de silhouettes négatives ($F$)\n",
        "\n",
        "Puis, pour chaque mesure de qualité, un diagramme de Tukey indiquant médiane et quartiles. Conclure sur la stabilité des $k$-moyennes sur le clustering de cet échantillon."
      ]
    },
    {
      "cell_type": "code",
      "metadata": {
        "id": "HY39Qh3zpG6o",
        "colab": {
          "base_uri": "https://localhost:8080/"
        },
        "outputId": "b14ef882-dd56-4adb-8db4-5e2dab7746af"
      },
      "source": [
        "# A vous\n",
        "H = []\n",
        "S = []\n",
        "D = []\n",
        "F = []\n"
      ],
      "execution_count": 149,
      "outputs": [
        {
          "output_type": "stream",
          "name": "stdout",
          "text": [
            "[['Norway' 1 7.537000179290769 ... 0.36201223731041 0.31596383452415505\n",
            "  2.27702665328979]\n",
            " ['Denmark' 2 7.52199983596802 ... 0.3552804887294771 0.40077006816863997\n",
            "  2.31370735168457]\n",
            " ['Iceland' 3 7.50400018692017 ... 0.47554022073745705\n",
            "  0.15352655947208402 2.32271528244019]\n",
            " ...\n",
            " ['Tanzania' 153 3.34899997711182 ... 0.354256361722946\n",
            "  0.0660351067781448 0.621130466461182]\n",
            " ['Burundi' 154 2.90499997138977 ... 0.20443518459796897\n",
            "  0.0841479450464249 1.68302416801453]\n",
            " ['Central African Republic' 155 2.69300007820129 ... 0.280876487493515\n",
            "  0.0565650761127472 2.06600475311279]]\n",
            "[[1.00000000e+00 7.53700018e+00 7.59444482e+00 ... 3.62012237e-01\n",
            "  3.15963835e-01 2.27702665e+00]\n",
            " [2.00000000e+00 7.52199984e+00 7.58172806e+00 ... 3.55280489e-01\n",
            "  4.00770068e-01 2.31370735e+00]\n",
            " [3.00000000e+00 7.50400019e+00 7.62203047e+00 ... 4.75540221e-01\n",
            "  1.53526559e-01 2.32271528e+00]\n",
            " ...\n",
            " [1.53000000e+02 3.34899998e+00 3.46142976e+00 ... 3.54256362e-01\n",
            "  6.60351068e-02 6.21130466e-01]\n",
            " [1.54000000e+02 2.90499997e+00 3.07469033e+00 ... 2.04435185e-01\n",
            "  8.41479450e-02 1.68302417e+00]\n",
            " [1.55000000e+02 2.69300008e+00 2.86488427e+00 ... 2.80876487e-01\n",
            "  5.65650761e-02 2.06600475e+00]]\n"
          ]
        }
      ]
    },
    {
      "cell_type": "markdown",
      "metadata": {
        "id": "R9l7Q4AwpG6p"
      },
      "source": [
        "__Pour les plus curieu-ses-x__\n",
        "\n",
        "Faire une recherche sur l'indice de Rand permettant de mesure la stabilité d'un algorithme de clustering, et appliquer cette technique à l'étude du clustering précédent. Indiquer la source de documentation retenue. Conclure au regard de la technique précédente."
      ]
    },
    {
      "cell_type": "code",
      "metadata": {
        "id": "k01tLFr1pG6p"
      },
      "source": [
        "# A vous"
      ],
      "execution_count": null,
      "outputs": []
    },
    {
      "cell_type": "markdown",
      "metadata": {
        "id": "o3R5gtxapG6p"
      },
      "source": [
        "## Conclusion\n",
        "\n",
        "L'indice de bonheur est-il plutôt fondé sur les autres variables descriptives, ou sur le rang de bonheur ? Dans le premier cas, que signifie ce \"rang\" dans les données ? Dans le second cas, comment score et rang de bonheur sont-ils corrélés ?"
      ]
    },
    {
      "cell_type": "code",
      "metadata": {
        "id": "ZPYh65GvpG6q"
      },
      "source": [
        "# A vous : code et texte libre bienvenus"
      ],
      "execution_count": null,
      "outputs": []
    }
  ]
}