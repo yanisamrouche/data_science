{
  "nbformat": 4,
  "nbformat_minor": 0,
  "metadata": {
    "colab": {
      "name": "TD03_ISD.ipynb",
      "provenance": [],
      "authorship_tag": "ABX9TyO+o0CLW+4eUZ4bzWMAAgaG",
      "include_colab_link": true
    },
    "kernelspec": {
      "name": "python3",
      "display_name": "Python 3"
    },
    "language_info": {
      "name": "python"
    }
  },
  "cells": [
    {
      "cell_type": "markdown",
      "metadata": {
        "id": "view-in-github",
        "colab_type": "text"
      },
      "source": [
        "<a href=\"https://colab.research.google.com/github/yanisamrouche/data_science/blob/main/TD03_ISD.ipynb\" target=\"_parent\"><img src=\"https://colab.research.google.com/assets/colab-badge.svg\" alt=\"Open In Colab\"/></a>"
      ]
    },
    {
      "cell_type": "code",
      "metadata": {
        "colab": {
          "base_uri": "https://localhost:8080/"
        },
        "id": "nsJGyQaj3nDc",
        "outputId": "0587e798-f3d4-4d4f-f1b5-b5c8ac8005f2"
      },
      "source": [
        "#1    Intervalle de confiance pour l’erreur estim ́ee d’un classifieur\n",
        "\n",
        "# 1) g ́en`ere 100 000 exemples au moyen de la commande\n",
        "from sklearn.datasets import make_classification\n",
        "X,Y=make_classification(n_samples=100000,n_informative=15,n_features=20,n_classes=3)\n",
        "print(X)\n",
        "print(len(X))\n",
        "print(\"--------------------------------\")\n",
        "print(Y)\n",
        "print(len(Y))\n"
      ],
      "execution_count": null,
      "outputs": [
        {
          "output_type": "stream",
          "name": "stdout",
          "text": [
            "[[ 0.20431043 -3.37720364 -1.53687215 ...  2.14497157  1.41709673\n",
            "  -3.1430269 ]\n",
            " [ 0.8811295  -1.58369735 -0.55150964 ...  2.78875317 -0.18032806\n",
            "  -3.6413765 ]\n",
            " [ 0.61296304 -1.35397752 -1.85480124 ...  0.86214874 -1.50840974\n",
            "   2.37954971]\n",
            " ...\n",
            " [-1.71620727  0.16943823  0.99911889 ... -5.03771369  1.3567622\n",
            "   0.56274083]\n",
            " [-0.72647585 -0.99798991 -2.0695093  ... -3.47005343 -0.42998554\n",
            "   0.24017629]\n",
            " [-0.80243535 -3.65250343 -7.79592204 ...  1.77463551  0.24154229\n",
            "  -3.28828263]]\n",
            "100000\n",
            "--------------------------------\n",
            "[0 1 2 ... 0 0 2]\n",
            "100000\n"
          ]
        }
      ]
    },
    {
      "cell_type": "code",
      "metadata": {
        "colab": {
          "base_uri": "https://localhost:8080/"
        },
        "id": "vxZetKfe5xcY",
        "outputId": "6b7030a0-edec-4b95-e17f-ae6cee96c5b1"
      },
      "source": [
        "# 2) en pr ́el`eve un sous- ́echantillon X2, Y2contenant 95 000 exemple\n",
        "from sklearn.model_selection import train_test_split\n",
        "X_2, X_1, Y_2, Y_1 = train_test_split(X, Y, test_size=0.05, random_state=42)\n",
        "print(\"X_2 : \",len(X_2),\"- Y_2 : \",len(Y_2))\n",
        "print(\"X_1 : \",len(X_1),\"- Y_1 : \",len(Y_1))\n"
      ],
      "execution_count": null,
      "outputs": [
        {
          "output_type": "stream",
          "name": "stdout",
          "text": [
            "X_2 :  95000 - Y_2 :  95000\n",
            "X_1 :  5000 - Y_1 :  5000\n"
          ]
        }
      ]
    },
    {
      "cell_type": "code",
      "metadata": {
        "colab": {
          "base_uri": "https://localhost:8080/"
        },
        "id": "zXOH5r4h7som",
        "outputId": "b5b56783-a962-45dc-950d-fc7285a43385"
      },
      "source": [
        "# 3) ́epartit X1, Y1 en un  ́echantillon d’apprentissage Xapp, Yapp contenant 4000 exemples et un ́echantillon test Xtest, Ytest contenant 1000 exemples\n",
        "X_app, X_test, Y_app, Y_test = train_test_split(X_1, Y_1, test_size=0.20, random_state=42)\n",
        "print(\"(X_app, Y_app) : \",(len(X_app),len(Y_app)))\n",
        "print(\"(X_test, Y_test) : \",(len(X_test),len(Y_test)))"
      ],
      "execution_count": null,
      "outputs": [
        {
          "output_type": "stream",
          "name": "stdout",
          "text": [
            "(X_app, Y_app) :  (4000, 4000)\n",
            "(X_test, Y_test) :  (1000, 1000)\n"
          ]
        }
      ]
    },
    {
      "cell_type": "code",
      "metadata": {
        "colab": {
          "base_uri": "https://localhost:8080/"
        },
        "id": "JF_Clkpz9RGt",
        "outputId": "02e80b34-f0a7-44a2-af9e-6343b974b7c0"
      },
      "source": [
        "# 4) entraine un arbre de d ́ecision (param`etres par d ́efaut) surnXapp, Yappet l’ ́evalue surXtest,Ytest: soitel’erreur estim ́ee\n",
        "from sklearn.tree import DecisionTreeClassifier\n",
        "clf_tree = DecisionTreeClassifier()\n",
        "clf_tree.fit(X_app, Y_app) \n",
        "score = clf_tree.score(X_test, Y_test)\n",
        "erreur = 1 - score\n",
        "print(\"l’erreur estimée\",erreur)"
      ],
      "execution_count": null,
      "outputs": [
        {
          "output_type": "stream",
          "name": "stdout",
          "text": [
            "l’erreur estimée 0.29000000000000004\n"
          ]
        }
      ]
    },
    {
      "cell_type": "code",
      "metadata": {
        "colab": {
          "base_uri": "https://localhost:8080/"
        },
        "id": "zd8tCHGs-zRL",
        "outputId": "dfb391f7-45aa-4701-d9ba-2f85d5651041"
      },
      "source": [
        "#affiche l’intervalle de confiance I`a 95% autour de e\n",
        "from math import *\n",
        "N = len(X_test)\n",
        "fraction = (erreur*(1 - erreur))/N\n",
        "ecart = 1.96*sqrt(fraction)\n",
        "left = (erreur-ecart)\n",
        "right = (erreur+ecart)\n",
        "print(\"l'intervalle de confiance I à 95% : [ \",left,\" , \",right,\" ]\")"
      ],
      "execution_count": null,
      "outputs": [
        {
          "output_type": "stream",
          "name": "stdout",
          "text": [
            "l'intervalle de confiance I à 95% : [  0.2618755366273417  ,  0.3181244633726584  ]\n"
          ]
        }
      ]
    },
    {
      "cell_type": "code",
      "metadata": {
        "colab": {
          "base_uri": "https://localhost:8080/"
        },
        "id": "81aO7QZSAxPr",
        "outputId": "5f64a255-3616-4396-d1af-7e86cea55705"
      },
      "source": [
        "# erreur estimée f du classifieur calculée sur X_2,Y_2\n",
        "X_2_app, X_2_test, Y_2_app, Y_2_test = train_test_split(X_2, Y_2, test_size=0.20, random_state=42)\n",
        "print(\"(X_2_app, Y_2_app) : \",(len(X_2_app),len(Y_2_app)))\n",
        "print(\"(X_2_test, Y_2_test) : \",(len(X_2_test),len(Y_2_test)))"
      ],
      "execution_count": null,
      "outputs": [
        {
          "output_type": "stream",
          "name": "stdout",
          "text": [
            "(X_2_app, Y_2_app) :  (76000, 76000)\n",
            "(X_2_test, Y_2_test) :  (19000, 19000)\n"
          ]
        }
      ]
    },
    {
      "cell_type": "code",
      "metadata": {
        "colab": {
          "base_uri": "https://localhost:8080/"
        },
        "id": "Pm8DXFj4BujV",
        "outputId": "5bfd9dad-f057-48c2-8948-3d28f465c6c6"
      },
      "source": [
        "from sklearn.tree import DecisionTreeClassifier\n",
        "clf_tree2 = DecisionTreeClassifier()\n",
        "clf_tree2.fit(X_2_app, Y_2_app) \n",
        "score2 = clf_tree2.score(X_2_test, Y_2_test)\n",
        "erreur2 = 1 - score2\n",
        "print(\"l’erreur estimée\",erreur2)"
      ],
      "execution_count": null,
      "outputs": [
        {
          "output_type": "stream",
          "name": "stdout",
          "text": [
            "l’erreur estimée 0.17152631578947364\n"
          ]
        }
      ]
    },
    {
      "cell_type": "code",
      "metadata": {
        "colab": {
          "base_uri": "https://localhost:8080/"
        },
        "id": "gSNDhJXmDR7s",
        "outputId": "afd40e40-2439-45e1-bfa0-bb4cd0e40b6a"
      },
      "source": [
        "n = 0\n",
        "clf_ = DecisionTreeClassifier()\n",
        "for i in range(100):\n",
        "  X_2, X_1, Y_2, Y_1 = train_test_split(X, Y, test_size=0.05, random_state=i)\n",
        "  X_app, X_test, Y_app, Y_test = train_test_split(X_1, Y_1, test_size=0.20, random_state=i)\n",
        "  clf_.fit(X_app, Y_app) \n",
        "  score_ = clf_.score(X_test, Y_test)\n",
        "  erreur_ = 1 - score_\n",
        "  N = len(X_test)\n",
        "  fraction = (erreur_*(1 - erreur_))/N\n",
        "  ecart = 1.96*sqrt(fraction)\n",
        "  left = (erreur_-ecart)\n",
        "  right = (erreur_+ecart)\n",
        "  e2 = 1-clf_.score(X_2,Y_2)\n",
        "  if(not(e2>= left and e2 <= right)):\n",
        "    n += 1\n",
        "print(\"nombre de fois ou f n'appartient pas à I : \",n)\n"
      ],
      "execution_count": null,
      "outputs": [
        {
          "output_type": "stream",
          "name": "stdout",
          "text": [
            "nombre de fois ou f n'appartient pas à I :  5\n"
          ]
        }
      ]
    },
    {
      "cell_type": "code",
      "metadata": {
        "id": "67GXaQ5XIXgz"
      },
      "source": [
        "# 2    Test de McNemar\n",
        "# Repartissez les donn ́ees en un ensemble d’apprentissage et un ensemble test,\n",
        "from sklearn.datasets import load_digits\n",
        "digits = load_digits()\n",
        "X = digits.data\n",
        "y = digits.target\n",
        "X_train, X_test, y_train, y_test = train_test_split(X,y, test_size=0.20)"
      ],
      "execution_count": null,
      "outputs": []
    },
    {
      "cell_type": "code",
      "metadata": {
        "colab": {
          "base_uri": "https://localhost:8080/"
        },
        "id": "pb-LLpJnPy2l",
        "outputId": "5e75a6ef-f3e4-4510-8322-2ff73f91097e"
      },
      "source": [
        "# D ́eterminer, avec une grid-search, le meilleurkpour lesk-plus proches voisins (distance euclidienne)\n",
        "from sklearn.model_selection import GridSearchCV\n",
        "from sklearn.neighbors import KNeighborsClassifier\n",
        "from sklearn import preprocessing\n",
        "tuned_parameters = {'n_neighbors':[3, 5, 7, 9, 11, 13, 15],\n",
        "                    'p':   [0.5, 1, 2, 5, 8, 12]}\n",
        "select_hppmt = GridSearchCV(KNeighborsClassifier(), tuned_parameters, cv=5)\n",
        "select_hppmt.fit(X_train, y_train)\n",
        "print(select_hppmt.best_params_)\n",
        "print(select_hppmt.cv_results_)\n",
        "\n",
        "\n"
      ],
      "execution_count": null,
      "outputs": [
        {
          "output_type": "stream",
          "name": "stdout",
          "text": [
            "{'n_neighbors': 3, 'p': 5}\n",
            "{'mean_fit_time': array([0.00085177, 0.00095701, 0.0012486 , 0.00110126, 0.00101695,\n",
            "       0.00101027, 0.00083318, 0.00123439, 0.00124173, 0.00109429,\n",
            "       0.00101371, 0.00102396, 0.00081673, 0.00095496, 0.00125399,\n",
            "       0.00107641, 0.00101957, 0.00103307, 0.00079241, 0.00095387,\n",
            "       0.00131774, 0.00146513, 0.00110726, 0.00104642, 0.00078354,\n",
            "       0.00096431, 0.00123825, 0.0011631 , 0.00101867, 0.00102119,\n",
            "       0.00077739, 0.00094585, 0.00129495, 0.00117593, 0.00103674,\n",
            "       0.0010314 , 0.00080013, 0.0009757 , 0.00126505, 0.00109482,\n",
            "       0.0010273 , 0.00103059]), 'std_fit_time': array([1.07514313e-04, 1.19450992e-04, 1.18720483e-04, 1.13363660e-04,\n",
            "       9.72280203e-06, 8.71921224e-06, 1.19248536e-04, 5.54700172e-04,\n",
            "       1.04082793e-04, 1.17318358e-04, 1.72805944e-05, 1.72516231e-05,\n",
            "       1.19124440e-04, 1.38329268e-04, 1.23995596e-04, 1.10460169e-04,\n",
            "       1.52651952e-05, 1.20546471e-05, 1.09607179e-04, 1.30386097e-04,\n",
            "       1.45154980e-04, 7.18191534e-04, 1.53451310e-04, 4.36299486e-05,\n",
            "       1.04159137e-04, 1.31226470e-04, 1.15310189e-04, 1.31192505e-04,\n",
            "       9.88054458e-06, 1.75158327e-05, 1.07202135e-04, 1.14724226e-04,\n",
            "       1.37178981e-04, 1.82489599e-04, 2.92781898e-05, 2.78045542e-05,\n",
            "       1.12596692e-04, 1.15178197e-04, 1.12190268e-04, 1.02954984e-04,\n",
            "       2.29270922e-05, 2.89106491e-06]), 'mean_score_time': array([0.        , 0.02589788, 0.0231194 , 1.04630375, 1.03348813,\n",
            "       1.03145795, 0.        , 0.0296762 , 0.02251382, 1.03749318,\n",
            "       1.03161564, 1.03222857, 0.        , 0.0285233 , 0.02278762,\n",
            "       1.03565769, 1.03222265, 1.02971702, 0.        , 0.02747169,\n",
            "       0.02344508, 1.0386302 , 1.03551598, 1.03115115, 0.        ,\n",
            "       0.02804818, 0.02279673, 1.0387331 , 1.02852588, 1.03290162,\n",
            "       0.        , 0.02739549, 0.0230628 , 1.03819337, 1.03374467,\n",
            "       1.03343554, 0.        , 0.02900777, 0.02297249, 1.04149604,\n",
            "       1.03198018, 1.03234262]), 'std_score_time': array([0.00000000e+00, 1.42863069e-03, 2.45221989e-03, 1.91319123e-02,\n",
            "       5.40253214e-03, 3.94505435e-03, 0.00000000e+00, 4.37123921e-03,\n",
            "       9.85785606e-05, 1.36276788e-02, 2.69053632e-03, 3.35062916e-03,\n",
            "       0.00000000e+00, 1.89551770e-03, 3.03698945e-04, 1.42419790e-02,\n",
            "       1.46268772e-03, 2.53508099e-03, 0.00000000e+00, 2.74497704e-04,\n",
            "       5.85504061e-04, 1.27262600e-02, 5.76847801e-03, 2.51891896e-03,\n",
            "       0.00000000e+00, 1.88346778e-03, 2.09397684e-04, 1.49156116e-02,\n",
            "       1.56973489e-03, 3.89342191e-03, 0.00000000e+00, 2.12148973e-04,\n",
            "       3.21716578e-04, 1.41282682e-02, 3.16474328e-03, 6.28547268e-03,\n",
            "       0.00000000e+00, 3.16254720e-03, 2.16086407e-04, 1.52870708e-02,\n",
            "       4.23964648e-03, 1.41984762e-03]), 'param_n_neighbors': masked_array(data=[3, 3, 3, 3, 3, 3, 5, 5, 5, 5, 5, 5, 7, 7, 7, 7, 7, 7,\n",
            "                   9, 9, 9, 9, 9, 9, 11, 11, 11, 11, 11, 11, 13, 13, 13,\n",
            "                   13, 13, 13, 15, 15, 15, 15, 15, 15],\n",
            "             mask=[False, False, False, False, False, False, False, False,\n",
            "                   False, False, False, False, False, False, False, False,\n",
            "                   False, False, False, False, False, False, False, False,\n",
            "                   False, False, False, False, False, False, False, False,\n",
            "                   False, False, False, False, False, False, False, False,\n",
            "                   False, False],\n",
            "       fill_value='?',\n",
            "            dtype=object), 'param_p': masked_array(data=[0.5, 1, 2, 5, 8, 12, 0.5, 1, 2, 5, 8, 12, 0.5, 1, 2, 5,\n",
            "                   8, 12, 0.5, 1, 2, 5, 8, 12, 0.5, 1, 2, 5, 8, 12, 0.5,\n",
            "                   1, 2, 5, 8, 12, 0.5, 1, 2, 5, 8, 12],\n",
            "             mask=[False, False, False, False, False, False, False, False,\n",
            "                   False, False, False, False, False, False, False, False,\n",
            "                   False, False, False, False, False, False, False, False,\n",
            "                   False, False, False, False, False, False, False, False,\n",
            "                   False, False, False, False, False, False, False, False,\n",
            "                   False, False],\n",
            "       fill_value='?',\n",
            "            dtype=object), 'params': [{'n_neighbors': 3, 'p': 0.5}, {'n_neighbors': 3, 'p': 1}, {'n_neighbors': 3, 'p': 2}, {'n_neighbors': 3, 'p': 5}, {'n_neighbors': 3, 'p': 8}, {'n_neighbors': 3, 'p': 12}, {'n_neighbors': 5, 'p': 0.5}, {'n_neighbors': 5, 'p': 1}, {'n_neighbors': 5, 'p': 2}, {'n_neighbors': 5, 'p': 5}, {'n_neighbors': 5, 'p': 8}, {'n_neighbors': 5, 'p': 12}, {'n_neighbors': 7, 'p': 0.5}, {'n_neighbors': 7, 'p': 1}, {'n_neighbors': 7, 'p': 2}, {'n_neighbors': 7, 'p': 5}, {'n_neighbors': 7, 'p': 8}, {'n_neighbors': 7, 'p': 12}, {'n_neighbors': 9, 'p': 0.5}, {'n_neighbors': 9, 'p': 1}, {'n_neighbors': 9, 'p': 2}, {'n_neighbors': 9, 'p': 5}, {'n_neighbors': 9, 'p': 8}, {'n_neighbors': 9, 'p': 12}, {'n_neighbors': 11, 'p': 0.5}, {'n_neighbors': 11, 'p': 1}, {'n_neighbors': 11, 'p': 2}, {'n_neighbors': 11, 'p': 5}, {'n_neighbors': 11, 'p': 8}, {'n_neighbors': 11, 'p': 12}, {'n_neighbors': 13, 'p': 0.5}, {'n_neighbors': 13, 'p': 1}, {'n_neighbors': 13, 'p': 2}, {'n_neighbors': 13, 'p': 5}, {'n_neighbors': 13, 'p': 8}, {'n_neighbors': 13, 'p': 12}, {'n_neighbors': 15, 'p': 0.5}, {'n_neighbors': 15, 'p': 1}, {'n_neighbors': 15, 'p': 2}, {'n_neighbors': 15, 'p': 5}, {'n_neighbors': 15, 'p': 8}, {'n_neighbors': 15, 'p': 12}], 'split0_test_score': array([       nan, 0.97222222, 0.97569444, 0.98263889, 0.98611111,\n",
            "       0.98263889,        nan, 0.97569444, 0.97916667, 0.98263889,\n",
            "       0.97916667, 0.97916667,        nan, 0.97222222, 0.97916667,\n",
            "       0.97916667, 0.97569444, 0.96875   ,        nan, 0.96527778,\n",
            "       0.97569444, 0.97569444, 0.97222222, 0.97916667,        nan,\n",
            "       0.95486111, 0.96875   , 0.97569444, 0.97222222, 0.96180556,\n",
            "              nan, 0.95486111, 0.96527778, 0.97916667, 0.97569444,\n",
            "       0.96875   ,        nan, 0.95486111, 0.96527778, 0.97222222,\n",
            "       0.96527778, 0.96875   ]), 'split1_test_score': array([       nan, 0.97916667, 0.98263889, 0.98611111, 0.98611111,\n",
            "       0.97916667,        nan, 0.97222222, 0.97916667, 0.98263889,\n",
            "       0.97569444, 0.97222222,        nan, 0.96180556, 0.97916667,\n",
            "       0.98263889, 0.96875   , 0.95833333,        nan, 0.96875   ,\n",
            "       0.96875   , 0.97569444, 0.97222222, 0.96527778,        nan,\n",
            "       0.95486111, 0.97222222, 0.97569444, 0.96527778, 0.95833333,\n",
            "              nan, 0.95138889, 0.97222222, 0.96875   , 0.96527778,\n",
            "       0.96180556,        nan, 0.95138889, 0.96875   , 0.96875   ,\n",
            "       0.96180556, 0.96527778]), 'split2_test_score': array([       nan, 0.97212544, 0.9825784 , 0.9825784 , 0.97560976,\n",
            "       0.97560976,        nan, 0.96864111, 0.97560976, 0.9825784 ,\n",
            "       0.97560976, 0.97212544,        nan, 0.96864111, 0.97909408,\n",
            "       0.97909408, 0.97909408, 0.97560976,        nan, 0.96515679,\n",
            "       0.97560976, 0.97909408, 0.97560976, 0.97212544,        nan,\n",
            "       0.96864111, 0.96515679, 0.97212544, 0.97560976, 0.97212544,\n",
            "              nan, 0.95470383, 0.96515679, 0.96864111, 0.97560976,\n",
            "       0.97560976,        nan, 0.94773519, 0.95818815, 0.96515679,\n",
            "       0.96864111, 0.97560976]), 'split3_test_score': array([       nan, 0.97560976, 0.99651568, 0.99303136, 0.99651568,\n",
            "       0.99303136,        nan, 0.97560976, 0.98954704, 0.98954704,\n",
            "       0.98606272, 0.98606272,        nan, 0.97909408, 0.98954704,\n",
            "       0.98606272, 0.9825784 , 0.97909408,        nan, 0.97909408,\n",
            "       0.9825784 , 0.98606272, 0.97909408, 0.9825784 ,        nan,\n",
            "       0.96864111, 0.97560976, 0.9825784 , 0.9825784 , 0.97560976,\n",
            "              nan, 0.96864111, 0.97212544, 0.97212544, 0.97212544,\n",
            "       0.97212544,        nan, 0.97560976, 0.97212544, 0.97560976,\n",
            "       0.97909408, 0.97212544]), 'split4_test_score': array([       nan, 0.99651568, 0.9825784 , 0.98606272, 0.97909408,\n",
            "       0.9825784 ,        nan, 0.9825784 , 0.98606272, 0.97909408,\n",
            "       0.97909408, 0.97212544,        nan, 0.97909408, 0.98954704,\n",
            "       0.98954704, 0.98954704, 0.98954704,        nan, 0.97560976,\n",
            "       0.97909408, 0.98606272, 0.98954704, 0.9825784 ,        nan,\n",
            "       0.97560976, 0.98606272, 0.9825784 , 0.96864111, 0.97212544,\n",
            "              nan, 0.96864111, 0.9825784 , 0.97909408, 0.97212544,\n",
            "       0.97212544,        nan, 0.96864111, 0.97909408, 0.97909408,\n",
            "       0.97560976, 0.97212544]), 'mean_test_score': array([       nan, 0.97912795, 0.98400116, 0.98608449, 0.98468835,\n",
            "       0.98260501,        nan, 0.97494919, 0.98191057, 0.98329946,\n",
            "       0.97912553, 0.9763405 ,        nan, 0.97217141, 0.9833043 ,\n",
            "       0.98330188, 0.97913279, 0.97426684,        nan, 0.97077768,\n",
            "       0.97634533, 0.98052168, 0.97773906, 0.97634533,        nan,\n",
            "       0.96452284, 0.9735603 , 0.97773422, 0.97286585, 0.9679999 ,\n",
            "              nan, 0.95964721, 0.97147213, 0.97355546, 0.97216657,\n",
            "       0.97008324,        nan, 0.95964721, 0.96868709, 0.97216657,\n",
            "       0.97008566, 0.97077768]), 'std_test_score': array([       nan, 0.00907124, 0.00680469, 0.00380592, 0.00717845,\n",
            "       0.00582179,        nan, 0.00461356, 0.00510518, 0.00340911,\n",
            "       0.00380159, 0.00556781,        nan, 0.00656907, 0.00509725,\n",
            "       0.00404646, 0.00692755, 0.01042019,        nan, 0.00562967,\n",
            "       0.0045839 , 0.00469145, 0.00642914, 0.00672251,        nan,\n",
            "       0.00828901, 0.00715624, 0.00416442, 0.00596161, 0.00668973,\n",
            "              nan, 0.00744747, 0.00636541, 0.00472123, 0.00378841,\n",
            "       0.00467292,        nan, 0.01066486, 0.00695676, 0.00491241,\n",
            "       0.00640983, 0.00350264]), 'rank_test_score': array([42, 11,  3,  1,  2,  7, 41, 18,  8,  6, 12, 17, 39, 23,  4,  5, 10,\n",
            "       19, 38, 28, 15,  9, 13, 15, 36, 33, 20, 14, 22, 32, 37, 34, 26, 21,\n",
            "       24, 30, 40, 34, 31, 25, 29, 27], dtype=int32)}\n"
          ]
        },
        {
          "output_type": "stream",
          "name": "stderr",
          "text": [
            "/usr/local/lib/python3.7/dist-packages/sklearn/model_selection/_validation.py:372: FitFailedWarning: \n",
            "35 fits failed out of a total of 210.\n",
            "The score on these train-test partitions for these parameters will be set to nan.\n",
            "If these failures are not expected, you can try to debug them by setting error_score='raise'.\n",
            "\n",
            "Below are more details about the failures:\n",
            "--------------------------------------------------------------------------------\n",
            "35 fits failed with the following error:\n",
            "Traceback (most recent call last):\n",
            "  File \"/usr/local/lib/python3.7/dist-packages/sklearn/model_selection/_validation.py\", line 681, in _fit_and_score\n",
            "    estimator.fit(X_train, y_train, **fit_params)\n",
            "  File \"/usr/local/lib/python3.7/dist-packages/sklearn/neighbors/_classification.py\", line 198, in fit\n",
            "    return self._fit(X, y)\n",
            "  File \"/usr/local/lib/python3.7/dist-packages/sklearn/neighbors/_base.py\", line 437, in _fit\n",
            "    self._check_algorithm_metric()\n",
            "  File \"/usr/local/lib/python3.7/dist-packages/sklearn/neighbors/_base.py\", line 395, in _check_algorithm_metric\n",
            "    raise ValueError(\"p must be greater or equal to one for minkowski metric\")\n",
            "ValueError: p must be greater or equal to one for minkowski metric\n",
            "\n",
            "  warnings.warn(some_fits_failed_message, FitFailedWarning)\n",
            "/usr/local/lib/python3.7/dist-packages/sklearn/model_selection/_search.py:972: UserWarning: One or more of the test scores are non-finite: [       nan 0.97912795 0.98400116 0.98608449 0.98468835 0.98260501\n",
            "        nan 0.97494919 0.98191057 0.98329946 0.97912553 0.9763405\n",
            "        nan 0.97217141 0.9833043  0.98330188 0.97913279 0.97426684\n",
            "        nan 0.97077768 0.97634533 0.98052168 0.97773906 0.97634533\n",
            "        nan 0.96452284 0.9735603  0.97773422 0.97286585 0.9679999\n",
            "        nan 0.95964721 0.97147213 0.97355546 0.97216657 0.97008324\n",
            "        nan 0.95964721 0.96868709 0.97216657 0.97008566 0.97077768]\n",
            "  category=UserWarning,\n"
          ]
        }
      ]
    }
  ]
}