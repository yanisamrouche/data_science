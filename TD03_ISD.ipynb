{
  "nbformat": 4,
  "nbformat_minor": 0,
  "metadata": {
    "colab": {
      "name": "TD03_ISD.ipynb",
      "provenance": [],
      "authorship_tag": "ABX9TyNiNFdy3Pjy2LVxv8+E4XDv",
      "include_colab_link": true
    },
    "kernelspec": {
      "name": "python3",
      "display_name": "Python 3"
    },
    "language_info": {
      "name": "python"
    }
  },
  "cells": [
    {
      "cell_type": "markdown",
      "metadata": {
        "id": "view-in-github",
        "colab_type": "text"
      },
      "source": [
        "<a href=\"https://colab.research.google.com/github/yanisamrouche/data_science/blob/main/TD03_ISD.ipynb\" target=\"_parent\"><img src=\"https://colab.research.google.com/assets/colab-badge.svg\" alt=\"Open In Colab\"/></a>"
      ]
    },
    {
      "cell_type": "code",
      "metadata": {
        "colab": {
          "base_uri": "https://localhost:8080/"
        },
        "id": "nsJGyQaj3nDc",
        "outputId": "0587e798-f3d4-4d4f-f1b5-b5c8ac8005f2"
      },
      "source": [
        "#1    Intervalle de confiance pour l’erreur estim ́ee d’un classifieur\n",
        "\n",
        "# 1) g ́en`ere 100 000 exemples au moyen de la commande\n",
        "from sklearn.datasets import make_classification\n",
        "X,Y=make_classification(n_samples=100000,n_informative=15,n_features=20,n_classes=3)\n",
        "print(X)\n",
        "print(len(X))\n",
        "print(\"--------------------------------\")\n",
        "print(Y)\n",
        "print(len(Y))\n"
      ],
      "execution_count": 41,
      "outputs": [
        {
          "output_type": "stream",
          "name": "stdout",
          "text": [
            "[[ 0.20431043 -3.37720364 -1.53687215 ...  2.14497157  1.41709673\n",
            "  -3.1430269 ]\n",
            " [ 0.8811295  -1.58369735 -0.55150964 ...  2.78875317 -0.18032806\n",
            "  -3.6413765 ]\n",
            " [ 0.61296304 -1.35397752 -1.85480124 ...  0.86214874 -1.50840974\n",
            "   2.37954971]\n",
            " ...\n",
            " [-1.71620727  0.16943823  0.99911889 ... -5.03771369  1.3567622\n",
            "   0.56274083]\n",
            " [-0.72647585 -0.99798991 -2.0695093  ... -3.47005343 -0.42998554\n",
            "   0.24017629]\n",
            " [-0.80243535 -3.65250343 -7.79592204 ...  1.77463551  0.24154229\n",
            "  -3.28828263]]\n",
            "100000\n",
            "--------------------------------\n",
            "[0 1 2 ... 0 0 2]\n",
            "100000\n"
          ]
        }
      ]
    },
    {
      "cell_type": "code",
      "metadata": {
        "colab": {
          "base_uri": "https://localhost:8080/"
        },
        "id": "vxZetKfe5xcY",
        "outputId": "6b7030a0-edec-4b95-e17f-ae6cee96c5b1"
      },
      "source": [
        "# 2) en pr ́el`eve un sous- ́echantillon X2, Y2contenant 95 000 exemple\n",
        "from sklearn.model_selection import train_test_split\n",
        "X_2, X_1, Y_2, Y_1 = train_test_split(X, Y, test_size=0.05, random_state=42)\n",
        "print(\"X_2 : \",len(X_2),\"- Y_2 : \",len(Y_2))\n",
        "print(\"X_1 : \",len(X_1),\"- Y_1 : \",len(Y_1))\n"
      ],
      "execution_count": 42,
      "outputs": [
        {
          "output_type": "stream",
          "name": "stdout",
          "text": [
            "X_2 :  95000 - Y_2 :  95000\n",
            "X_1 :  5000 - Y_1 :  5000\n"
          ]
        }
      ]
    },
    {
      "cell_type": "code",
      "metadata": {
        "colab": {
          "base_uri": "https://localhost:8080/"
        },
        "id": "zXOH5r4h7som",
        "outputId": "b5b56783-a962-45dc-950d-fc7285a43385"
      },
      "source": [
        "# 3) ́epartit X1, Y1 en un  ́echantillon d’apprentissage Xapp, Yapp contenant 4000 exemples et un ́echantillon test Xtest, Ytest contenant 1000 exemples\n",
        "X_app, X_test, Y_app, Y_test = train_test_split(X_1, Y_1, test_size=0.20, random_state=42)\n",
        "print(\"(X_app, Y_app) : \",(len(X_app),len(Y_app)))\n",
        "print(\"(X_test, Y_test) : \",(len(X_test),len(Y_test)))"
      ],
      "execution_count": 43,
      "outputs": [
        {
          "output_type": "stream",
          "name": "stdout",
          "text": [
            "(X_app, Y_app) :  (4000, 4000)\n",
            "(X_test, Y_test) :  (1000, 1000)\n"
          ]
        }
      ]
    },
    {
      "cell_type": "code",
      "metadata": {
        "colab": {
          "base_uri": "https://localhost:8080/"
        },
        "id": "JF_Clkpz9RGt",
        "outputId": "02e80b34-f0a7-44a2-af9e-6343b974b7c0"
      },
      "source": [
        "# 4) entraine un arbre de d ́ecision (param`etres par d ́efaut) surnXapp, Yappet l’ ́evalue surXtest,Ytest: soitel’erreur estim ́ee\n",
        "from sklearn.tree import DecisionTreeClassifier\n",
        "clf_tree = DecisionTreeClassifier()\n",
        "clf_tree.fit(X_app, Y_app) \n",
        "score = clf_tree.score(X_test, Y_test)\n",
        "erreur = 1 - score\n",
        "print(\"l’erreur estimée\",erreur)"
      ],
      "execution_count": 44,
      "outputs": [
        {
          "output_type": "stream",
          "name": "stdout",
          "text": [
            "l’erreur estimée 0.29000000000000004\n"
          ]
        }
      ]
    },
    {
      "cell_type": "code",
      "metadata": {
        "colab": {
          "base_uri": "https://localhost:8080/"
        },
        "id": "zd8tCHGs-zRL",
        "outputId": "dfb391f7-45aa-4701-d9ba-2f85d5651041"
      },
      "source": [
        "#affiche l’intervalle de confiance I`a 95% autour de e\n",
        "from math import *\n",
        "N = len(X_test)\n",
        "fraction = (erreur*(1 - erreur))/N\n",
        "ecart = 1.96*sqrt(fraction)\n",
        "left = (erreur-ecart)\n",
        "right = (erreur+ecart)\n",
        "print(\"l'intervalle de confiance I à 95% : [ \",left,\" , \",right,\" ]\")"
      ],
      "execution_count": 45,
      "outputs": [
        {
          "output_type": "stream",
          "name": "stdout",
          "text": [
            "l'intervalle de confiance I à 95% : [  0.2618755366273417  ,  0.3181244633726584  ]\n"
          ]
        }
      ]
    },
    {
      "cell_type": "code",
      "metadata": {
        "colab": {
          "base_uri": "https://localhost:8080/"
        },
        "id": "81aO7QZSAxPr",
        "outputId": "5f64a255-3616-4396-d1af-7e86cea55705"
      },
      "source": [
        "# erreur estimée f du classifieur calculée sur X_2,Y_2\n",
        "X_2_app, X_2_test, Y_2_app, Y_2_test = train_test_split(X_2, Y_2, test_size=0.20, random_state=42)\n",
        "print(\"(X_2_app, Y_2_app) : \",(len(X_2_app),len(Y_2_app)))\n",
        "print(\"(X_2_test, Y_2_test) : \",(len(X_2_test),len(Y_2_test)))"
      ],
      "execution_count": 46,
      "outputs": [
        {
          "output_type": "stream",
          "name": "stdout",
          "text": [
            "(X_2_app, Y_2_app) :  (76000, 76000)\n",
            "(X_2_test, Y_2_test) :  (19000, 19000)\n"
          ]
        }
      ]
    },
    {
      "cell_type": "code",
      "metadata": {
        "colab": {
          "base_uri": "https://localhost:8080/"
        },
        "id": "Pm8DXFj4BujV",
        "outputId": "5bfd9dad-f057-48c2-8948-3d28f465c6c6"
      },
      "source": [
        "from sklearn.tree import DecisionTreeClassifier\n",
        "clf_tree2 = DecisionTreeClassifier()\n",
        "clf_tree2.fit(X_2_app, Y_2_app) \n",
        "score2 = clf_tree2.score(X_2_test, Y_2_test)\n",
        "erreur2 = 1 - score2\n",
        "print(\"l’erreur estimée\",erreur2)"
      ],
      "execution_count": 47,
      "outputs": [
        {
          "output_type": "stream",
          "name": "stdout",
          "text": [
            "l’erreur estimée 0.17152631578947364\n"
          ]
        }
      ]
    },
    {
      "cell_type": "code",
      "metadata": {
        "colab": {
          "base_uri": "https://localhost:8080/"
        },
        "id": "gSNDhJXmDR7s",
        "outputId": "afd40e40-2439-45e1-bfa0-bb4cd0e40b6a"
      },
      "source": [
        "n = 0\n",
        "clf_ = DecisionTreeClassifier()\n",
        "for i in range(100):\n",
        "  X_2, X_1, Y_2, Y_1 = train_test_split(X, Y, test_size=0.05, random_state=i)\n",
        "  X_app, X_test, Y_app, Y_test = train_test_split(X_1, Y_1, test_size=0.20, random_state=i)\n",
        "  clf_.fit(X_app, Y_app) \n",
        "  score_ = clf_.score(X_test, Y_test)\n",
        "  erreur_ = 1 - score_\n",
        "  N = len(X_test)\n",
        "  fraction = (erreur_*(1 - erreur_))/N\n",
        "  ecart = 1.96*sqrt(fraction)\n",
        "  left = (erreur_-ecart)\n",
        "  right = (erreur_+ecart)\n",
        "  e2 = 1-clf_.score(X_2,Y_2)\n",
        "  if(not(e2>= left and e2 <= right)):\n",
        "    n += 1\n",
        "print(\"nombre de fois ou f n'appartient pas à I : \",n)\n"
      ],
      "execution_count": 65,
      "outputs": [
        {
          "output_type": "stream",
          "name": "stdout",
          "text": [
            "nombre de fois ou f n'appartient pas à I :  5\n"
          ]
        }
      ]
    },
    {
      "cell_type": "code",
      "metadata": {
        "id": "67GXaQ5XIXgz"
      },
      "source": [
        "# 2    Test de McNemar\n",
        "# Repartissez les donn ́ees en un ensemble d’apprentissage et un ensemble test,\n",
        "from sklearn.datasets import load_digits\n",
        "digits = load_digits()\n",
        "X = digits.data\n",
        "y = digits.target\n",
        "X_train, X_test, y_train, y_test = train_test_split(X,y, test_size=0.20)"
      ],
      "execution_count": 70,
      "outputs": []
    },
    {
      "cell_type": "code",
      "metadata": {
        "colab": {
          "base_uri": "https://localhost:8080/"
        },
        "id": "pb-LLpJnPy2l",
        "outputId": "111cc196-5eea-40bd-a70e-94dd22e2aba1"
      },
      "source": [
        "# D ́eterminer, avec une grid-search, le meilleurkpour lesk-plus proches voisins (distance euclidienne)\n",
        "from sklearn.model_selection import GridSearchCV\n",
        "from sklearn.neighbors import KNeighborsClassifier\n",
        "from sklearn import preprocessing\n",
        "tuned_parameters = {'n_neighbors':[3, 5, 7, 9, 11, 13, 15]}\n",
        "select_hppmt = GridSearchCV(KNeighborsClassifier(p=2), tuned_parameters, cv=5)\n",
        "select_hppmt.fit(X_train, y_train)\n",
        "print(select_hppmt.best_params_)\n",
        "print(select_hppmt.cv_results_)\n",
        "\n",
        "\n"
      ],
      "execution_count": 75,
      "outputs": [
        {
          "output_type": "stream",
          "name": "stdout",
          "text": [
            "{'n_neighbors': 3}\n",
            "{'mean_fit_time': array([0.00128741, 0.00132074, 0.00135632, 0.00136881, 0.00140605,\n",
            "       0.00141373, 0.00133691]), 'std_fit_time': array([1.82186955e-04, 2.15193603e-05, 3.23517057e-05, 5.45244890e-05,\n",
            "       1.39123613e-04, 1.12383002e-04, 3.34247543e-05]), 'mean_score_time': array([0.02377048, 0.02430511, 0.023737  , 0.02541094, 0.02444301,\n",
            "       0.02620568, 0.02354207]), 'std_score_time': array([0.00269936, 0.00206755, 0.00074146, 0.00197319, 0.00194506,\n",
            "       0.00322643, 0.00018857]), 'param_n_neighbors': masked_array(data=[3, 5, 7, 9, 11, 13, 15],\n",
            "             mask=[False, False, False, False, False, False, False],\n",
            "       fill_value='?',\n",
            "            dtype=object), 'params': [{'n_neighbors': 3}, {'n_neighbors': 5}, {'n_neighbors': 7}, {'n_neighbors': 9}, {'n_neighbors': 11}, {'n_neighbors': 13}, {'n_neighbors': 15}], 'split0_test_score': array([0.96180556, 0.96180556, 0.96875   , 0.96527778, 0.96180556,\n",
            "       0.96180556, 0.95833333]), 'split1_test_score': array([0.96180556, 0.95833333, 0.95833333, 0.95833333, 0.95486111,\n",
            "       0.95138889, 0.95138889]), 'split2_test_score': array([0.97212544, 0.96864111, 0.96167247, 0.95470383, 0.95121951,\n",
            "       0.95121951, 0.93728223]), 'split3_test_score': array([0.97212544, 0.96864111, 0.96515679, 0.95818815, 0.95470383,\n",
            "       0.95818815, 0.96167247]), 'split4_test_score': array([0.9825784 , 0.98606272, 0.97212544, 0.97212544, 0.97212544,\n",
            "       0.97212544, 0.96864111]), 'mean_test_score': array([0.97008808, 0.96869677, 0.96520761, 0.96172571, 0.95894309,\n",
            "       0.95894551, 0.95546361]), 'std_test_score': array([0.00776544, 0.00955481, 0.00490225, 0.00623058, 0.00743311,\n",
            "       0.00773637, 0.01065456]), 'rank_test_score': array([1, 2, 3, 4, 6, 5, 7], dtype=int32)}\n"
          ]
        }
      ]
    }
  ]
}